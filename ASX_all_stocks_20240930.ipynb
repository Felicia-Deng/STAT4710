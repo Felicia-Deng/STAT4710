{
 "cells": [
  {
   "cell_type": "code",
   "execution_count": 2,
   "metadata": {},
   "outputs": [
    {
     "name": "stderr",
     "output_type": "stream",
     "text": [
      "\n",
      "1 Failed download:\n",
      "['ORP.AX']: YFPricesMissingError('$%ticker%: possibly delisted; no price data found  (1d 2024-09-30 -> 2024-10-01)')\n",
      "\n",
      "1 Failed download:\n",
      "['TAL.AX']: YFPricesMissingError('$%ticker%: possibly delisted; no price data found  (1d 2024-09-30 -> 2024-10-01)')\n",
      "\n",
      "1 Failed download:\n",
      "['MKT.AX']: YFPricesMissingError('$%ticker%: possibly delisted; no price data found  (1d 2024-09-30 -> 2024-10-01)')\n",
      "\n",
      "1 Failed download:\n",
      "['VFX.AX']: YFPricesMissingError('$%ticker%: possibly delisted; no price data found  (1d 2024-09-30 -> 2024-10-01)')\n",
      "\n",
      "1 Failed download:\n",
      "['1CG.AX']: JSONDecodeError('Expecting value: line 1 column 1 (char 0)')\n",
      "\n",
      "1 Failed download:\n",
      "['ADX.AX']: JSONDecodeError('Expecting value: line 1 column 1 (char 0)')\n",
      "\n",
      "1 Failed download:\n",
      "['ICE.AX']: JSONDecodeError('Expecting value: line 1 column 1 (char 0)')\n",
      "\n",
      "1 Failed download:\n",
      "['1TT.AX']: YFPricesMissingError('$%ticker%: possibly delisted; no price data found  (1d 2024-09-30 -> 2024-10-01)')\n",
      "\n",
      "1 Failed download:\n",
      "['TX3.AX']: YFPricesMissingError('$%ticker%: possibly delisted; no price data found  (1d 2024-09-30 -> 2024-10-01)')\n",
      "\n",
      "1 Failed download:\n",
      "['ICU.AX']: YFPricesMissingError('$%ticker%: possibly delisted; no price data found  (1d 2024-09-30 -> 2024-10-01)')\n"
     ]
    },
    {
     "name": "stdout",
     "output_type": "stream",
     "text": [
      "Data saved to ASX_2024-09-30_Close_Prices.csv and ASX_2024-09-30_Close_Prices.xlsx.\n"
     ]
    }
   ],
   "source": [
    "import pandas as pd\n",
    "import yfinance as yf\n",
    "\n",
    "# Step 1: Load the stock tickers from ASX_all_stocks.xlsx\n",
    "input_excel = \"ASX_all_stocks.xlsx\"\n",
    "stocks_data = pd.read_excel(input_excel, usecols=[0], names=[\"Stock_Code\"])\n",
    "\n",
    "# Step 2: Fetch 2024-09-30 close prices\n",
    "def fetch_close_price(stock_code, target_date):\n",
    "    \"\"\"Fetch the close price for a stock on a specific date.\"\"\"\n",
    "    try:\n",
    "        data = yf.download(stock_code, start=target_date, end=\"2024-10-01\", progress=False)\n",
    "        return data[\"Close\"].iloc[0] if not data.empty else None\n",
    "    except Exception as e:\n",
    "        print(f\"Error fetching data for {stock_code}: {e}\")\n",
    "        return None\n",
    "\n",
    "target_date = \"2024-09-30\"\n",
    "close_prices = []\n",
    "\n",
    "# Fetch the close price for each stock\n",
    "for stock_code in stocks_data[\"Stock_Code\"]:\n",
    "    price = fetch_close_price(stock_code, target_date)\n",
    "    close_prices.append(price)\n",
    "\n",
    "# Add close prices to the DataFrame\n",
    "stocks_data[\"Close_Price\"] = close_prices\n",
    "\n",
    "# Step 3: Remove rows where Close_Price is 0\n",
    "stocks_data = stocks_data[stocks_data[\"Close_Price\"] != 0]\n",
    "\n",
    "# Step 4: Save to CSV and Excel\n",
    "output_csv = \"ASX_2024-09-30_Close_Prices.csv\"\n",
    "output_excel = \"ASX_2024-09-30_Close_Prices.xlsx\"\n",
    "\n",
    "stocks_data.to_csv(output_csv, index=False)\n",
    "stocks_data.to_excel(output_excel, index=False)\n",
    "\n",
    "print(f\"Data saved to {output_csv} and {output_excel}.\")\n"
   ]
  }
 ],
 "metadata": {
  "kernelspec": {
   "display_name": "base",
   "language": "python",
   "name": "python3"
  },
  "language_info": {
   "codemirror_mode": {
    "name": "ipython",
    "version": 3
   },
   "file_extension": ".py",
   "mimetype": "text/x-python",
   "name": "python",
   "nbconvert_exporter": "python",
   "pygments_lexer": "ipython3",
   "version": "3.12.4"
  }
 },
 "nbformat": 4,
 "nbformat_minor": 2
}
