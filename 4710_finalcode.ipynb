{
 "cells": [
  {
   "cell_type": "markdown",
   "metadata": {},
   "source": [
    "### Scrape the past year's prices (from June 7, 2023, to June 6, 2024) for all stocks in the Australian stock market."
   ]
  },
  {
   "cell_type": "code",
   "execution_count": 1,
   "metadata": {},
   "outputs": [
    {
     "name": "stdout",
     "output_type": "stream",
     "text": [
      "Successfully fetched data for 14D.AX\n",
      "Successfully fetched data for 1AD.AX\n",
      "Successfully fetched data for 1AE.AX\n",
      "Successfully fetched data for 1AI.AX\n",
      "Successfully fetched data for 1CG.AX\n"
     ]
    },
    {
     "name": "stderr",
     "output_type": "stream",
     "text": [
      "$1MC.AX: possibly delisted; no price data found  (1d 2023-06-07 -> 2024-06-06) (Yahoo error = \"Data doesn't exist for startDate = 1686060000, endDate = 1717596000\")\n"
     ]
    },
    {
     "name": "stdout",
     "output_type": "stream",
     "text": [
      "No historical data for stock 1MC.AX\n",
      "Successfully fetched data for 1TT.AX\n",
      "Successfully fetched data for 29M.AX\n",
      "Successfully fetched data for 360.AX\n",
      "Successfully fetched data for 3DA.AX\n",
      "Successfully fetched data for 3DP.AX\n"
     ]
    },
    {
     "ename": "KeyboardInterrupt",
     "evalue": "",
     "output_type": "error",
     "traceback": [
      "\u001b[0;31m---------------------------------------------------------------------------\u001b[0m",
      "\u001b[0;31mKeyboardInterrupt\u001b[0m                         Traceback (most recent call last)",
      "\u001b[1;32m/Users/feliciadeng/4710_t-test_view (1) (1).ipynb 单元格 2\u001b[0m line \u001b[0;36m3\n\u001b[1;32m     <a href='vscode-notebook-cell:/Users/feliciadeng/4710_t-test_view%20%281%29%20%281%29.ipynb#W1sZmlsZQ%3D%3D?line=35'>36</a>\u001b[0m     \u001b[39mif\u001b[39;00m \u001b[39mnot\u001b[39;00m stock_data\u001b[39m.\u001b[39mempty:\n\u001b[1;32m     <a href='vscode-notebook-cell:/Users/feliciadeng/4710_t-test_view%20%281%29%20%281%29.ipynb#W1sZmlsZQ%3D%3D?line=36'>37</a>\u001b[0m         all_data\u001b[39m.\u001b[39mappend(stock_data)\n\u001b[0;32m---> <a href='vscode-notebook-cell:/Users/feliciadeng/4710_t-test_view%20%281%29%20%281%29.ipynb#W1sZmlsZQ%3D%3D?line=37'>38</a>\u001b[0m     time\u001b[39m.\u001b[39msleep(\u001b[39m1\u001b[39m)  \u001b[39m# Limit request frequency to avoid being banned\u001b[39;00m\n\u001b[1;32m     <a href='vscode-notebook-cell:/Users/feliciadeng/4710_t-test_view%20%281%29%20%281%29.ipynb#W1sZmlsZQ%3D%3D?line=39'>40</a>\u001b[0m \u001b[39m# Combine all data and save to CSV file\u001b[39;00m\n\u001b[1;32m     <a href='vscode-notebook-cell:/Users/feliciadeng/4710_t-test_view%20%281%29%20%281%29.ipynb#W1sZmlsZQ%3D%3D?line=40'>41</a>\u001b[0m \u001b[39mif\u001b[39;00m all_data:\n",
      "\u001b[0;31mKeyboardInterrupt\u001b[0m: "
     ]
    }
   ],
   "source": [
    "import pandas as pd\n",
    "import yfinance as yf\n",
    "import time\n",
    "\n",
    "# Load ASX listed companies data\n",
    "file_path = 'ASX_Listed_Companies_25-11-2024_02-49-49_AEDT.csv'\n",
    "asx_companies = pd.read_csv(file_path)\n",
    "\n",
    "# Extract ASX stock codes (add suffix \".AX\" for yfinance fetching)\n",
    "asx_companies['Ticker'] = asx_companies['ASX code'] + \".AX\"\n",
    "\n",
    "# Set time range\n",
    "start_date = \"2023-06-07\"\n",
    "end_date = \"2024-06-06\"\n",
    "\n",
    "# Define function to fetch historical stock prices for a single stock\n",
    "def fetch_stock_data(ticker, start_date, end_date):\n",
    "    try:\n",
    "        stock = yf.Ticker(ticker)\n",
    "        data = stock.history(start=start_date, end=end_date)\n",
    "        if not data.empty:\n",
    "            data['Ticker'] = ticker\n",
    "            print(f\"Successfully fetched data for {ticker}\")\n",
    "            return data\n",
    "        else:\n",
    "            print(f\"No historical data for stock {ticker}\")\n",
    "            return pd.DataFrame()\n",
    "    except Exception as e:\n",
    "        print(f\"Failed to fetch data for {ticker}: {e}\")\n",
    "        return pd.DataFrame()\n",
    "\n",
    "# Fetch data for all stocks\n",
    "all_data = []\n",
    "for ticker in asx_companies['Ticker']:\n",
    "    stock_data = fetch_stock_data(ticker, start_date, end_date)\n",
    "    if not stock_data.empty:\n",
    "        all_data.append(stock_data)\n",
    "    time.sleep(1)  # Limit request frequency to avoid being banned\n",
    "\n",
    "# Combine all data and save to CSV file\n",
    "if all_data:\n",
    "    combined_data = pd.concat(all_data)\n",
    "    combined_data.to_csv(\"ASX_Historical_Prices_2023-06-07_to_2024-06-06.csv\", index=False)\n",
    "    print(\"All stock data has been saved to ASX_Historical_Prices_2023-06-07_to_2024-06-06.csv\")\n",
    "else:\n",
    "    print(\"Failed to fetch any data successfully\")\n"
   ]
  },
  {
   "cell_type": "markdown",
   "metadata": {},
   "source": [
    "### Convert to Excel format, including the columns: \"Stock_Code,\" \"Date,\" \"Price,\" \"52 Weeks range,\" \"52 range top,\" \"%diff,\" and \"1 Year Plot.\""
   ]
  },
  {
   "cell_type": "code",
   "execution_count": null,
   "metadata": {},
   "outputs": [],
   "source": [
    "import pandas as pd\n",
    "from openpyxl import Workbook\n",
    "from openpyxl.drawing.image import Image\n",
    "\n",
    "# Load data file\n",
    "data_path = \"ASX_Historical_Prices_2023-06-07_to_2024-06-06.csv\"\n",
    "historical_data = pd.read_csv(data_path)\n",
    "\n",
    "# Determine the trading date range\n",
    "start_date = pd.Timestamp(\"2023-06-07\")\n",
    "end_date = pd.Timestamp(\"2024-06-06\")\n",
    "date_range = pd.date_range(start=start_date, end=end_date, freq=\"B\")  # Business Days\n",
    "\n",
    "# Get the list of stock tickers\n",
    "tickers = historical_data[\"Ticker\"].unique()\n",
    "\n",
    "# Assign trading dates to each stock (allow records less than 253)\n",
    "all_stocks_data = []\n",
    "for ticker in tickers:\n",
    "    stock_data = historical_data[historical_data[\"Ticker\"] == ticker].reset_index(drop=True)\n",
    "    \n",
    "    # If the record count is less than 253, fill in missing dates\n",
    "    if len(stock_data) <= len(date_range):\n",
    "        stock_data[\"Date\"] = pd.date_range(start=start_date, periods=len(stock_data), freq=\"B\")\n",
    "        all_stocks_data.append(stock_data)\n",
    "    else:\n",
    "        print(f\"The data record count for stock {ticker} exceeds trading days, skipping...\")\n",
    "\n",
    "# Combine all stock data\n",
    "if all_stocks_data:\n",
    "    historical_data_with_dates = pd.concat(all_stocks_data, ignore_index=True)\n",
    "else:\n",
    "    raise ValueError(\"All stock data is incomplete, unable to proceed.\")\n",
    "\n",
    "# Get the Close value for the target date, or fallback to the nearest trading day\n",
    "def get_latest_close(stock_data, target_date):\n",
    "    \"\"\"Get the closing price for the target date, fallback to the nearest valid trading day if missing\"\"\"\n",
    "    if target_date in stock_data[\"Date\"].values:\n",
    "        return stock_data.loc[stock_data[\"Date\"] == target_date, \"Close\"].values[0]\n",
    "    else:\n",
    "        # If the target date has no data, fallback to the most recent trading day\n",
    "        available_data = stock_data[stock_data[\"Date\"] <= target_date]\n",
    "        if not available_data.empty:\n",
    "            return available_data.iloc[-1][\"Close\"]\n",
    "        return None  # Return None if no data is available\n",
    "\n",
    "# Target date and time range\n",
    "target_date = pd.Timestamp(\"2024-06-06\")\n",
    "\n",
    "# Store results\n",
    "results = []\n",
    "\n",
    "# Iterate through each stock to calculate target fields\n",
    "for ticker in tickers:\n",
    "    stock_data = historical_data_with_dates[historical_data_with_dates[\"Ticker\"] == ticker]\n",
    "\n",
    "    # Check if data is available\n",
    "    if stock_data.empty:\n",
    "        print(f\"The data for stock {ticker} is empty, skipping...\")\n",
    "        continue\n",
    "\n",
    "    # Calculate 52 Weeks range and 52 range top\n",
    "    min_price = stock_data[\"Close\"].min()\n",
    "    max_price = stock_data[\"Close\"].max()\n",
    "    \n",
    "    # Get the Close value for the target date\n",
    "    latest_close = get_latest_close(stock_data, target_date)\n",
    "\n",
    "    # Calculate %diff\n",
    "    diff_percentage = None\n",
    "    if latest_close is not None and max_price > 0:\n",
    "        diff_percentage = (latest_close - max_price) / max_price * 100\n",
    "\n",
    "    # Store results\n",
    "    results.append({\n",
    "        \"Stock_Code\": ticker,\n",
    "        \"Date\": target_date.strftime(\"%Y-%m-%d\"),\n",
    "        \"Price\": latest_close,\n",
    "        \"52 Weeks range\": f\"({min_price:.2f}, {max_price:.2f})\",\n",
    "        \"52 range top\": max_price,\n",
    "        \"%diff\": f\"{diff_percentage:.2f}%\" if diff_percentage is not None else \"N/A\"\n",
    "    })\n",
    "\n",
    "# Convert to DataFrame\n",
    "results_df = pd.DataFrame(results)\n",
    "\n",
    "# Directly use pre-generated image paths\n",
    "def get_image_path(ticker):\n",
    "    \"\"\"Return the path to the pre-generated image for the stock\"\"\"\n",
    "    return f\"{ticker}_1_year_plot.png\"\n",
    "\n",
    "# Step 3: Combine data and charts into Excel\n",
    "excel_file = \"ASX_Formatted_Output_With_Images.xlsx\"\n",
    "wb = Workbook()\n",
    "ws = wb.active\n",
    "ws.title = \"ASX Data\"\n",
    "\n",
    "# Write headers\n",
    "columns = [\"Stock_Code\", \"Date\", \"Price\", \"52 Weeks range\", \"52 range top\", \"%diff\", \"1 Year Plot\"]\n",
    "ws.append(columns)\n",
    "\n",
    "# Write data and dynamically adjust image insertion\n",
    "row_index = 2  # Start writing data and images from row 2\n",
    "for _, row in results_df.iterrows():\n",
    "    stock_code = row[\"Stock_Code\"]\n",
    "    excel_row = [\n",
    "        row[\"Stock_Code\"],\n",
    "        row[\"Date\"],\n",
    "        row[\"Price\"],\n",
    "        row[\"52 Weeks range\"],\n",
    "        row[\"52 range top\"],\n",
    "        row[\"%diff\"]\n",
    "    ]\n",
    "    ws.append(excel_row)\n",
    "    \n",
    "    # Add image\n",
    "    chart_path = get_image_path(stock_code)\n",
    "    try:\n",
    "        img = Image(chart_path)\n",
    "        img.anchor = f\"G{row_index}\"  # Insert image into column G, aligned with the current data row\n",
    "        ws.add_image(img)\n",
    "    except FileNotFoundError:\n",
    "        print(f\"Chart file {chart_path} for stock {stock_code} not found, skipping...\")\n",
    "    \n",
    "    row_index += 1  # Move to the next row for both data and images\n",
    "\n",
    "# Save Excel file\n",
    "wb.save(excel_file)\n",
    "print(f\"Excel file saved to {excel_file}\")\n"
   ]
  },
  {
   "cell_type": "markdown",
   "metadata": {},
   "source": [
    "\n",
    "### Scrape the price for 2024-09-30 and merge the data."
   ]
  },
  {
   "cell_type": "code",
   "execution_count": null,
   "metadata": {},
   "outputs": [],
   "source": [
    "import pandas as pd\n",
    "import yfinance as yf\n",
    "\n",
    "# Step 1: Load ASX_Cleaned.xlsx and extract specific columns\n",
    "def extract_start_price(input_file, output_csv):\n",
    "    \"\"\"从Excel中提取Stock_Code和Price列并保存为CSV\"\"\"\n",
    "    asx_data = pd.read_excel(input_file, usecols=[\"Stock_Code\", \"Price\"])\n",
    "    asx_data.to_csv(output_csv, index=False)\n",
    "\n",
    "# Step 2: Fetch End Prices from Yahoo Finance\n",
    "def fetch_end_prices(input_csv, output_csv, output_excel, target_date=\"2024-09-30\"):\n",
    "    \"\"\"从Yahoo Finance爬取股票在目标日期的收盘价，保存为CSV和Excel\"\"\"\n",
    "    # Load start price data\n",
    "    start_price_data = pd.read_csv(input_csv)\n",
    "    stock_codes = start_price_data[\"Stock_Code\"]\n",
    "    \n",
    "    # Initialize a list to store end prices\n",
    "    end_prices = []\n",
    "    \n",
    "    for stock_code in stock_codes:\n",
    "        try:\n",
    "            # Fetch data for the target date\n",
    "            data = yf.download(stock_code, start=target_date, end=\"2024-10-01\", progress=False)\n",
    "            close_price = data[\"Close\"].iloc[0] if not data.empty else None\n",
    "            end_prices.append(close_price)\n",
    "        except Exception as e:\n",
    "            print(f\"Error fetching data for {stock_code}: {e}\")\n",
    "            end_prices.append(None)\n",
    "    \n",
    "    # Add end prices to the DataFrame\n",
    "    start_price_data[\"End_Price\"] = end_prices\n",
    "    \n",
    "    # Remove rows where End_Price is NaN\n",
    "    filtered_data = start_price_data.dropna(subset=[\"End_Price\"])\n",
    "    \n",
    "    # Save to CSV\n",
    "    filtered_data.to_csv(output_csv, index=False)\n",
    "    \n",
    "    # Save to Excel\n",
    "    filtered_data.to_excel(output_excel, index=False)\n",
    "    return filtered_data\n",
    "\n",
    "# Input and output file paths\n",
    "input_excel = \"ASX_Cleaned.xlsx\"\n",
    "start_price_csv = \"200_Start_Price.csv\"\n",
    "end_price_csv = \"200_Start_End_Price.csv\"\n",
    "end_price_excel = \"200_Start_End_Price.xlsx\"\n",
    "\n",
    "# Execute steps\n",
    "extract_start_price(input_excel, start_price_csv)\n",
    "fetch_end_prices(start_price_csv, end_price_csv, end_price_excel)\n"
   ]
  },
  {
   "cell_type": "markdown",
   "metadata": {},
   "source": [
    "### Change the table headers."
   ]
  },
  {
   "cell_type": "code",
   "execution_count": null,
   "metadata": {},
   "outputs": [],
   "source": [
    "import pandas as pd\n",
    "\n",
    "# Load the CSV file\n",
    "input_csv = \"200_Start_End_Price.csv\"\n",
    "data = pd.read_csv(input_csv)\n",
    "\n",
    "# Rename the column 'Price' to 'End_Price'\n",
    "data.rename(columns={\"Price\": \"Start_Price\"}, inplace=True)\n",
    "\n",
    "# Save the updated file\n",
    "data.to_csv(input_csv, index=False)\n",
    "\n",
    "print(f\"Column renamed successfully. Updated file saved as {input_csv}.\")\n"
   ]
  },
  {
   "cell_type": "markdown",
   "metadata": {},
   "source": [
    "### Calculate simple return and log return."
   ]
  },
  {
   "cell_type": "code",
   "execution_count": null,
   "metadata": {},
   "outputs": [],
   "source": [
    "import pandas as pd\n",
    "import numpy as np\n",
    "\n",
    "# Step 1: Load 200_Start_End_Price.csv\n",
    "input_csv = \"200_Start_End_Price.csv\"\n",
    "data = pd.read_csv(input_csv)\n",
    "\n",
    "# Step 2: Calculate Simple Return and Log Return\n",
    "data[\"Simple_Return\"] = (data[\"End_Price\"] - data[\"Start_Price\"]) / data[\"Start_Price\"]\n",
    "data[\"Log_Return\"] = np.log(data[\"End_Price\"] / data[\"Start_Price\"])\n",
    "\n",
    "# Step 3: Save the results to CSV and Excel\n",
    "output_csv = \"200_simple_log_return.csv\"\n",
    "output_excel = \"200_simple_log_return.xlsx\"\n",
    "\n",
    "# Save to CSV\n",
    "data.to_csv(output_csv, index=False)\n",
    "\n",
    "# Save to Excel\n",
    "data.to_excel(output_excel, index=False)\n"
   ]
  },
  {
   "cell_type": "markdown",
   "metadata": {},
   "source": [
    "### Perform a one-sided t-test."
   ]
  },
  {
   "cell_type": "code",
   "execution_count": 3,
   "metadata": {},
   "outputs": [
    {
     "name": "stdout",
     "output_type": "stream",
     "text": [
      "Market Start Price (2024-06-06): 8074.2998046875\n",
      "Market End Price (2024-09-30): 8538.400390625\n",
      "Market Simple Return: 0.057478740839926254\n",
      "Market Log Return: 0.05588752851156739\n",
      "\n",
      "One-Tailed T-Test Results:\n",
      "Simple Return T-Statistic: 2.400446457304651, One-Tailed P-Value: 0.008650397651260484\n",
      "Log Return T-Statistic: 1.3155030439788062, One-Tailed P-Value: 0.09493107254272218\n"
     ]
    },
    {
     "data": {
      "image/png": "[encoded data removed]",
      "text/plain": [
       "<Figure size 640x480 with 1 Axes>"
      ]
     },
     "metadata": {},
     "output_type": "display_data"
    },
    {
     "data": {
      "image/png": "[encoded data removed]",
      "text/plain": [
       "<Figure size 640x480 with 1 Axes>"
      ]
     },
     "metadata": {},
     "output_type": "display_data"
    }
   ],
   "source": [
    "import pandas as pd\n",
    "import numpy as np\n",
    "import yfinance as yf\n",
    "from scipy.stats import ttest_1samp\n",
    "\n",
    "# Step 1: Load stock data\n",
    "stock_data_file = \"200_simple_log_return.csv\"\n",
    "stock_data = pd.read_csv(stock_data_file)\n",
    "\n",
    "# Step 2: Fetch market data (^AORD) from Yahoo Finance\n",
    "def fetch_market_data(ticker, start_date, end_date):\n",
    "    \"\"\"Fetch market data from Yahoo Finance and ensure Close prices are used\"\"\"\n",
    "    data = yf.download(ticker, start=start_date, end=end_date, progress=False)\n",
    "    if \"Close\" not in data.columns:\n",
    "        raise ValueError(\"Close prices are not available in the downloaded data.\")\n",
    "    return data\n",
    "\n",
    "# Fetch ^AORD data\n",
    "market_ticker = \"^AORD\"\n",
    "market_start_date = \"2024-06-06\"\n",
    "market_end_date = \"2024-10-01\"  # Include 2024-09-30 data\n",
    "\n",
    "market_data = fetch_market_data(market_ticker, market_start_date, market_end_date)\n",
    "\n",
    "# Ensure Close prices are extracted for specific dates\n",
    "def get_close_price(data, target_date):\n",
    "    \"\"\"Get the Close price on the target date or the nearest available trading day before it\"\"\"\n",
    "    target_date = pd.Timestamp(target_date)\n",
    "    if target_date in data.index:\n",
    "        return data.loc[target_date, \"Close\"]\n",
    "    else:\n",
    "        available_dates = data.index[data.index <= target_date]\n",
    "        if not available_dates.empty:\n",
    "            closest_date = available_dates[-1]\n",
    "            return data.loc[closest_date, \"Close\"]\n",
    "        else:\n",
    "            raise ValueError(f\"No Close price data available for or before {target_date}.\")\n",
    "\n",
    "# Get start and end Close prices\n",
    "market_start_price = get_close_price(market_data, market_start_date)\n",
    "market_end_price = get_close_price(market_data, market_end_date)\n",
    "\n",
    "# Step 3: Calculate market Simple Return and Log Return\n",
    "market_simple_return = (market_end_price - market_start_price) / market_start_price\n",
    "market_log_return = np.log(market_end_price / market_start_price)\n",
    "\n",
    "# Step 4: Perform one-sample t-test (One-Tailed)\n",
    "# Test for Simple Returns\n",
    "t_stat_simple, p_value_simple = ttest_1samp(stock_data[\"Simple_Return\"], market_simple_return)\n",
    "one_tailed_p_value_simple = p_value_simple / 2 if t_stat_simple > 0 else 1 - (p_value_simple / 2)\n",
    "\n",
    "# Test for Log Returns\n",
    "t_stat_log, p_value_log = ttest_1samp(stock_data[\"Log_Return\"], market_log_return)\n",
    "one_tailed_p_value_log = p_value_log / 2 if t_stat_log > 0 else 1 - (p_value_log / 2)\n",
    "\n",
    "# Step 5: Output results\n",
    "print(\"Market Start Price (2024-06-06):\", market_start_price)\n",
    "print(\"Market End Price (2024-09-30):\", market_end_price)\n",
    "print(\"Market Simple Return:\", market_simple_return)\n",
    "print(\"Market Log Return:\", market_log_return)\n",
    "print(\"\\nOne-Tailed T-Test Results:\")\n",
    "print(f\"Simple Return T-Statistic: {t_stat_simple}, One-Tailed P-Value: {one_tailed_p_value_simple}\")\n",
    "print(f\"Log Return T-Statistic: {t_stat_log}, One-Tailed P-Value: {one_tailed_p_value_log}\")\n",
    "\n",
    "import matplotlib.pyplot as plt\n",
    "from scipy.stats import t\n",
    "\n",
    "# Step 6: Create the P-Value Diagram\n",
    "def plot_p_value_diagram(t_stat, df, p_value, tail=\"right\"):\n",
    "    \"\"\"Plot the p-value diagram with rejection region shaded\"\"\"\n",
    "    # Create an array of t-values for plotting\n",
    "    t_values = np.linspace(-4, 4, 1000)\n",
    "    pdf_values = t.pdf(t_values, df)  # Probability density function (PDF) of the t-distribution\n",
    "\n",
    "    # Plot the t-distribution curve\n",
    "    plt.plot(t_values, pdf_values, label=\"t-distribution\", color='blue')\n",
    "\n",
    "    # Shade the rejection region (gray area)\n",
    "    if tail == \"right\":\n",
    "        plt.fill_between(t_values, pdf_values, where=(t_values >= t_stat), color='gray', alpha=0.5)\n",
    "    else:\n",
    "        plt.fill_between(t_values, pdf_values, where=(t_values <= t_stat), color='gray', alpha=0.5)\n",
    "\n",
    "    # Mark the critical value and the t-statistic\n",
    "    plt.axvline(x=t_stat, color='red', linestyle='--', label=f\"T-statistic = {t_stat:.2f}\")\n",
    "    plt.axvline(x=t.ppf(1 - p_value, df), color='green', linestyle='--', label=\"Critical Value\")\n",
    "\n",
    "    # Add labels and title\n",
    "    plt.title(\"P-Value Diagram for T-Test\")\n",
    "    plt.xlabel(\"T-Statistic\")\n",
    "    plt.ylabel(\"Density\")\n",
    "    plt.legend()\n",
    "\n",
    "    # Show the plot\n",
    "    plt.show()\n",
    "\n",
    "# Degrees of freedom for one-sample t-test\n",
    "df_simple = len(stock_data[\"Simple_Return\"]) - 1\n",
    "df_log = len(stock_data[\"Log_Return\"]) - 1\n",
    "\n",
    "# Plot for Simple Return\n",
    "plot_p_value_diagram(t_stat_simple, df_simple, one_tailed_p_value_simple)\n",
    "\n",
    "# Plot for Log Return\n",
    "plot_p_value_diagram(t_stat_log, df_log, one_tailed_p_value_log)\n",
    "\n"
   ]
  },
  {
   "cell_type": "markdown",
   "metadata": {},
   "source": [
    "Get the weekly ^AORD and weekly average price for the top 200 companies"
   ]
  },
  {
   "cell_type": "code",
   "execution_count": 2,
   "metadata": {},
   "outputs": [
    {
     "name": "stderr",
     "output_type": "stream",
     "text": [
      "[*********************100%***********************]  1 of 1 completed\n"
     ]
    }
   ],
   "source": [
    "import pandas as pd\n",
    "import yfinance as yf\n",
    "import time\n",
    "\n",
    "market_ticker = \"^AORD\"\n",
    "# Create an empty DataFrame to store the data\n",
    "AORD_close_data = pd.DataFrame()\n",
    "\n",
    "start_date = '2024-06-06'\n",
    "end_date = '2024-09-30'\n",
    "# Fetch weekly close data for each stock symbol\n",
    "stock_data = yf.download(market_ticker, start=start_date, end=end_date)\n",
    "AORD_close_data[market_ticker] = stock_data['Close']\n",
    "data = AORD_close_data[market_ticker]\n",
    "\n",
    "data.to_csv(\"AORD_price.csv\", index=False)\n",
    "#print(\"All stock data has been saved to AORD_weekly_price.csv\")"
   ]
  },
  {
   "cell_type": "code",
   "execution_count": 3,
   "metadata": {},
   "outputs": [
    {
     "name": "stderr",
     "output_type": "stream",
     "text": [
      "[*********************100%***********************]  1 of 1 completed\n"
     ]
    },
    {
     "name": "stdout",
     "output_type": "stream",
     "text": [
      "Successfully fetched data for A3D.AX\n"
     ]
    },
    {
     "name": "stderr",
     "output_type": "stream",
     "text": [
      "[*********************100%***********************]  1 of 1 completed\n"
     ]
    },
    {
     "name": "stdout",
     "output_type": "stream",
     "text": [
      "Successfully fetched data for ACP.AX\n"
     ]
    },
    {
     "name": "stderr",
     "output_type": "stream",
     "text": [
      "[*********************100%***********************]  1 of 1 completed\n"
     ]
    },
    {
     "name": "stdout",
     "output_type": "stream",
     "text": [
      "Successfully fetched data for ATR.AX\n"
     ]
    },
    {
     "name": "stderr",
     "output_type": "stream",
     "text": [
      "[*********************100%***********************]  1 of 1 completed\n"
     ]
    },
    {
     "name": "stdout",
     "output_type": "stream",
     "text": [
      "Successfully fetched data for BOL.AX\n"
     ]
    },
    {
     "name": "stderr",
     "output_type": "stream",
     "text": [
      "[*********************100%***********************]  1 of 1 completed\n"
     ]
    },
    {
     "name": "stdout",
     "output_type": "stream",
     "text": [
      "Successfully fetched data for BRE.AX\n"
     ]
    },
    {
     "name": "stderr",
     "output_type": "stream",
     "text": [
      "[*********************100%***********************]  1 of 1 completed\n"
     ]
    },
    {
     "name": "stdout",
     "output_type": "stream",
     "text": [
      "Successfully fetched data for CBA.AX\n"
     ]
    },
    {
     "name": "stderr",
     "output_type": "stream",
     "text": [
      "[*********************100%***********************]  1 of 1 completed\n"
     ]
    },
    {
     "name": "stdout",
     "output_type": "stream",
     "text": [
      "Successfully fetched data for CCO.AX\n"
     ]
    },
    {
     "name": "stderr",
     "output_type": "stream",
     "text": [
      "[*********************100%***********************]  1 of 1 completed\n"
     ]
    },
    {
     "name": "stdout",
     "output_type": "stream",
     "text": [
      "Successfully fetched data for CE1.AX\n"
     ]
    },
    {
     "name": "stderr",
     "output_type": "stream",
     "text": [
      "[*********************100%***********************]  1 of 1 completed\n"
     ]
    },
    {
     "name": "stdout",
     "output_type": "stream",
     "text": [
      "Successfully fetched data for COV.AX\n"
     ]
    },
    {
     "name": "stderr",
     "output_type": "stream",
     "text": [
      "[*********************100%***********************]  1 of 1 completed\n"
     ]
    },
    {
     "name": "stdout",
     "output_type": "stream",
     "text": [
      "Successfully fetched data for DRO.AX\n"
     ]
    },
    {
     "name": "stderr",
     "output_type": "stream",
     "text": [
      "[*********************100%***********************]  1 of 1 completed\n"
     ]
    },
    {
     "name": "stdout",
     "output_type": "stream",
     "text": [
      "Successfully fetched data for DXN.AX\n"
     ]
    },
    {
     "name": "stderr",
     "output_type": "stream",
     "text": [
      "[*********************100%***********************]  1 of 1 completed\n"
     ]
    },
    {
     "name": "stdout",
     "output_type": "stream",
     "text": [
      "Successfully fetched data for EGL.AX\n"
     ]
    },
    {
     "name": "stderr",
     "output_type": "stream",
     "text": [
      "[*********************100%***********************]  1 of 1 completed\n"
     ]
    },
    {
     "name": "stdout",
     "output_type": "stream",
     "text": [
      "Successfully fetched data for EQT.AX\n"
     ]
    },
    {
     "name": "stderr",
     "output_type": "stream",
     "text": [
      "[*********************100%***********************]  1 of 1 completed\n"
     ]
    },
    {
     "name": "stdout",
     "output_type": "stream",
     "text": [
      "Successfully fetched data for EVO.AX\n"
     ]
    },
    {
     "name": "stderr",
     "output_type": "stream",
     "text": [
      "[*********************100%***********************]  1 of 1 completed\n"
     ]
    },
    {
     "name": "stdout",
     "output_type": "stream",
     "text": [
      "Successfully fetched data for FGG.AX\n"
     ]
    },
    {
     "name": "stderr",
     "output_type": "stream",
     "text": [
      "[*********************100%***********************]  1 of 1 completed\n"
     ]
    },
    {
     "name": "stdout",
     "output_type": "stream",
     "text": [
      "Successfully fetched data for FHE.AX\n"
     ]
    },
    {
     "name": "stderr",
     "output_type": "stream",
     "text": [
      "[*********************100%***********************]  1 of 1 completed\n"
     ]
    },
    {
     "name": "stdout",
     "output_type": "stream",
     "text": [
      "Successfully fetched data for FPH.AX\n"
     ]
    },
    {
     "name": "stderr",
     "output_type": "stream",
     "text": [
      "[*********************100%***********************]  1 of 1 completed\n"
     ]
    },
    {
     "name": "stdout",
     "output_type": "stream",
     "text": [
      "Successfully fetched data for FSF.AX\n"
     ]
    },
    {
     "name": "stderr",
     "output_type": "stream",
     "text": [
      "[*********************100%***********************]  1 of 1 completed\n"
     ]
    },
    {
     "name": "stdout",
     "output_type": "stream",
     "text": [
      "Successfully fetched data for GDG.AX\n"
     ]
    },
    {
     "name": "stderr",
     "output_type": "stream",
     "text": [
      "[*********************100%***********************]  1 of 1 completed\n"
     ]
    },
    {
     "name": "stdout",
     "output_type": "stream",
     "text": [
      "Successfully fetched data for GMG.AX\n"
     ]
    },
    {
     "name": "stderr",
     "output_type": "stream",
     "text": [
      "[*********************100%***********************]  1 of 1 completed\n"
     ]
    },
    {
     "name": "stdout",
     "output_type": "stream",
     "text": [
      "Successfully fetched data for GNC.AX\n"
     ]
    },
    {
     "name": "stderr",
     "output_type": "stream",
     "text": [
      "[*********************100%***********************]  1 of 1 completed\n"
     ]
    },
    {
     "name": "stdout",
     "output_type": "stream",
     "text": [
      "Successfully fetched data for HMC.AX\n"
     ]
    },
    {
     "name": "stderr",
     "output_type": "stream",
     "text": [
      "[*********************100%***********************]  1 of 1 completed\n"
     ]
    },
    {
     "name": "stdout",
     "output_type": "stream",
     "text": [
      "Successfully fetched data for HUB.AX\n"
     ]
    },
    {
     "name": "stderr",
     "output_type": "stream",
     "text": [
      "[*********************100%***********************]  1 of 1 completed\n"
     ]
    },
    {
     "name": "stdout",
     "output_type": "stream",
     "text": [
      "Successfully fetched data for HYT.AX\n"
     ]
    },
    {
     "name": "stderr",
     "output_type": "stream",
     "text": [
      "[*********************100%***********************]  1 of 1 completed\n"
     ]
    },
    {
     "name": "stdout",
     "output_type": "stream",
     "text": [
      "Successfully fetched data for IFT.AX\n"
     ]
    },
    {
     "name": "stderr",
     "output_type": "stream",
     "text": [
      "[*********************100%***********************]  1 of 1 completed\n"
     ]
    },
    {
     "name": "stdout",
     "output_type": "stream",
     "text": [
      "Successfully fetched data for JAT.AX\n"
     ]
    },
    {
     "name": "stderr",
     "output_type": "stream",
     "text": [
      "[*********************100%***********************]  1 of 1 completed\n"
     ]
    },
    {
     "name": "stdout",
     "output_type": "stream",
     "text": [
      "Successfully fetched data for LTP.AX\n"
     ]
    },
    {
     "name": "stderr",
     "output_type": "stream",
     "text": [
      "[*********************100%***********************]  1 of 1 completed\n"
     ]
    },
    {
     "name": "stdout",
     "output_type": "stream",
     "text": [
      "Successfully fetched data for MFF.AX\n"
     ]
    },
    {
     "name": "stderr",
     "output_type": "stream",
     "text": [
      "[*********************100%***********************]  1 of 1 completed\n"
     ]
    },
    {
     "name": "stdout",
     "output_type": "stream",
     "text": [
      "Successfully fetched data for MYS.AX\n"
     ]
    },
    {
     "name": "stderr",
     "output_type": "stream",
     "text": [
      "[*********************100%***********************]  1 of 1 completed\n"
     ]
    },
    {
     "name": "stdout",
     "output_type": "stream",
     "text": [
      "Successfully fetched data for NAB.AX\n"
     ]
    },
    {
     "name": "stderr",
     "output_type": "stream",
     "text": [
      "[*********************100%***********************]  1 of 1 completed\n"
     ]
    },
    {
     "name": "stdout",
     "output_type": "stream",
     "text": [
      "Successfully fetched data for NGI.AX\n"
     ]
    },
    {
     "name": "stderr",
     "output_type": "stream",
     "text": [
      "[*********************100%***********************]  1 of 1 completed\n"
     ]
    },
    {
     "name": "stdout",
     "output_type": "stream",
     "text": [
      "Successfully fetched data for OIL.AX\n"
     ]
    },
    {
     "name": "stderr",
     "output_type": "stream",
     "text": [
      "[*********************100%***********************]  1 of 1 completed\n"
     ]
    },
    {
     "name": "stdout",
     "output_type": "stream",
     "text": [
      "Successfully fetched data for PGF.AX\n"
     ]
    },
    {
     "name": "stderr",
     "output_type": "stream",
     "text": [
      "[*********************100%***********************]  1 of 1 completed\n"
     ]
    },
    {
     "name": "stdout",
     "output_type": "stream",
     "text": [
      "Successfully fetched data for PME.AX\n"
     ]
    },
    {
     "name": "stderr",
     "output_type": "stream",
     "text": [
      "[*********************100%***********************]  1 of 1 completed\n"
     ]
    },
    {
     "name": "stdout",
     "output_type": "stream",
     "text": [
      "Successfully fetched data for QUB.AX\n"
     ]
    },
    {
     "name": "stderr",
     "output_type": "stream",
     "text": [
      "[*********************100%***********************]  1 of 1 completed\n"
     ]
    },
    {
     "name": "stdout",
     "output_type": "stream",
     "text": [
      "Successfully fetched data for RC1.AX\n"
     ]
    },
    {
     "name": "stderr",
     "output_type": "stream",
     "text": [
      "[*********************100%***********************]  1 of 1 completed\n"
     ]
    },
    {
     "name": "stdout",
     "output_type": "stream",
     "text": [
      "Successfully fetched data for RPL.AX\n"
     ]
    },
    {
     "name": "stderr",
     "output_type": "stream",
     "text": [
      "[*********************100%***********************]  1 of 1 completed\n"
     ]
    },
    {
     "name": "stdout",
     "output_type": "stream",
     "text": [
      "Successfully fetched data for SUM.AX\n"
     ]
    },
    {
     "name": "stderr",
     "output_type": "stream",
     "text": [
      "[*********************100%***********************]  1 of 1 completed\n"
     ]
    },
    {
     "name": "stdout",
     "output_type": "stream",
     "text": [
      "Successfully fetched data for TNE.AX\n"
     ]
    },
    {
     "name": "stderr",
     "output_type": "stream",
     "text": [
      "[*********************100%***********************]  1 of 1 completed\n"
     ]
    },
    {
     "name": "stdout",
     "output_type": "stream",
     "text": [
      "Successfully fetched data for URW.AX\n"
     ]
    },
    {
     "name": "stderr",
     "output_type": "stream",
     "text": [
      "[*********************100%***********************]  1 of 1 completed\n"
     ]
    },
    {
     "name": "stdout",
     "output_type": "stream",
     "text": [
      "Successfully fetched data for VBC.AX\n"
     ]
    },
    {
     "name": "stderr",
     "output_type": "stream",
     "text": [
      "[*********************100%***********************]  1 of 1 completed\n"
     ]
    },
    {
     "name": "stdout",
     "output_type": "stream",
     "text": [
      "Successfully fetched data for VGL.AX\n"
     ]
    },
    {
     "name": "stderr",
     "output_type": "stream",
     "text": [
      "[*********************100%***********************]  1 of 1 completed\n"
     ]
    },
    {
     "name": "stdout",
     "output_type": "stream",
     "text": [
      "Successfully fetched data for WAA.AX\n"
     ]
    },
    {
     "name": "stderr",
     "output_type": "stream",
     "text": [
      "[*********************100%***********************]  1 of 1 completed\n"
     ]
    },
    {
     "name": "stdout",
     "output_type": "stream",
     "text": [
      "Successfully fetched data for WCN.AX\n"
     ]
    },
    {
     "name": "stderr",
     "output_type": "stream",
     "text": [
      "[*********************100%***********************]  1 of 1 completed\n"
     ]
    },
    {
     "name": "stdout",
     "output_type": "stream",
     "text": [
      "Successfully fetched data for BEN.AX\n"
     ]
    },
    {
     "name": "stderr",
     "output_type": "stream",
     "text": [
      "[*********************100%***********************]  1 of 1 completed\n"
     ]
    },
    {
     "name": "stdout",
     "output_type": "stream",
     "text": [
      "Successfully fetched data for GDC.AX\n"
     ]
    },
    {
     "name": "stderr",
     "output_type": "stream",
     "text": [
      "[*********************100%***********************]  1 of 1 completed\n"
     ]
    },
    {
     "name": "stdout",
     "output_type": "stream",
     "text": [
      "Successfully fetched data for SNL.AX\n"
     ]
    },
    {
     "name": "stderr",
     "output_type": "stream",
     "text": [
      "[*********************100%***********************]  1 of 1 completed\n"
     ]
    },
    {
     "name": "stdout",
     "output_type": "stream",
     "text": [
      "Successfully fetched data for WGB.AX\n"
     ]
    },
    {
     "name": "stderr",
     "output_type": "stream",
     "text": [
      "[*********************100%***********************]  1 of 1 completed\n"
     ]
    },
    {
     "name": "stdout",
     "output_type": "stream",
     "text": [
      "Successfully fetched data for GVF.AX\n"
     ]
    },
    {
     "name": "stderr",
     "output_type": "stream",
     "text": [
      "[*********************100%***********************]  1 of 1 completed\n"
     ]
    },
    {
     "name": "stdout",
     "output_type": "stream",
     "text": [
      "Successfully fetched data for QRI.AX\n"
     ]
    },
    {
     "name": "stderr",
     "output_type": "stream",
     "text": [
      "[*********************100%***********************]  1 of 1 completed\n"
     ]
    },
    {
     "name": "stdout",
     "output_type": "stream",
     "text": [
      "Successfully fetched data for PSQ.AX\n"
     ]
    },
    {
     "name": "stderr",
     "output_type": "stream",
     "text": [
      "[*********************100%***********************]  1 of 1 completed\n"
     ]
    },
    {
     "name": "stdout",
     "output_type": "stream",
     "text": [
      "Successfully fetched data for PXA.AX\n"
     ]
    },
    {
     "name": "stderr",
     "output_type": "stream",
     "text": [
      "[*********************100%***********************]  1 of 1 completed\n"
     ]
    },
    {
     "name": "stdout",
     "output_type": "stream",
     "text": [
      "Successfully fetched data for ALQ.AX\n"
     ]
    },
    {
     "name": "stderr",
     "output_type": "stream",
     "text": [
      "[*********************100%***********************]  1 of 1 completed\n"
     ]
    },
    {
     "name": "stdout",
     "output_type": "stream",
     "text": [
      "Successfully fetched data for TCF.AX\n"
     ]
    },
    {
     "name": "stderr",
     "output_type": "stream",
     "text": [
      "[*********************100%***********************]  1 of 1 completed\n"
     ]
    },
    {
     "name": "stdout",
     "output_type": "stream",
     "text": [
      "Successfully fetched data for DUI.AX\n"
     ]
    },
    {
     "name": "stderr",
     "output_type": "stream",
     "text": [
      "[*********************100%***********************]  1 of 1 completed\n"
     ]
    },
    {
     "name": "stdout",
     "output_type": "stream",
     "text": [
      "Successfully fetched data for ANZ.AX\n"
     ]
    },
    {
     "name": "stderr",
     "output_type": "stream",
     "text": [
      "[*********************100%***********************]  1 of 1 completed\n"
     ]
    },
    {
     "name": "stdout",
     "output_type": "stream",
     "text": [
      "Successfully fetched data for LSF.AX\n"
     ]
    },
    {
     "name": "stderr",
     "output_type": "stream",
     "text": [
      "[*********************100%***********************]  1 of 1 completed\n"
     ]
    },
    {
     "name": "stdout",
     "output_type": "stream",
     "text": [
      "Successfully fetched data for LGI.AX\n"
     ]
    },
    {
     "name": "stderr",
     "output_type": "stream",
     "text": [
      "[*********************100%***********************]  1 of 1 completed\n"
     ]
    },
    {
     "name": "stdout",
     "output_type": "stream",
     "text": [
      "Successfully fetched data for PMC.AX\n"
     ]
    },
    {
     "name": "stderr",
     "output_type": "stream",
     "text": [
      "[*********************100%***********************]  1 of 1 completed\n"
     ]
    },
    {
     "name": "stdout",
     "output_type": "stream",
     "text": [
      "Successfully fetched data for PL8.AX\n"
     ]
    },
    {
     "name": "stderr",
     "output_type": "stream",
     "text": [
      "[*********************100%***********************]  1 of 1 completed\n"
     ]
    },
    {
     "name": "stdout",
     "output_type": "stream",
     "text": [
      "Successfully fetched data for VG1.AX\n"
     ]
    },
    {
     "name": "stderr",
     "output_type": "stream",
     "text": [
      "[*********************100%***********************]  1 of 1 completed\n"
     ]
    },
    {
     "name": "stdout",
     "output_type": "stream",
     "text": [
      "Successfully fetched data for KAT.AX\n"
     ]
    },
    {
     "name": "stderr",
     "output_type": "stream",
     "text": [
      "[*********************100%***********************]  1 of 1 completed\n"
     ]
    },
    {
     "name": "stdout",
     "output_type": "stream",
     "text": [
      "Successfully fetched data for FGX.AX\n"
     ]
    },
    {
     "name": "stderr",
     "output_type": "stream",
     "text": [
      "[*********************100%***********************]  1 of 1 completed\n"
     ]
    },
    {
     "name": "stdout",
     "output_type": "stream",
     "text": [
      "Successfully fetched data for TRA.AX\n"
     ]
    },
    {
     "name": "stderr",
     "output_type": "stream",
     "text": [
      "[*********************100%***********************]  1 of 1 completed\n"
     ]
    },
    {
     "name": "stdout",
     "output_type": "stream",
     "text": [
      "Successfully fetched data for AMC.AX\n"
     ]
    },
    {
     "name": "stderr",
     "output_type": "stream",
     "text": [
      "[*********************100%***********************]  1 of 1 completed\n"
     ]
    },
    {
     "name": "stdout",
     "output_type": "stream",
     "text": [
      "Successfully fetched data for PBH.AX\n"
     ]
    },
    {
     "name": "stderr",
     "output_type": "stream",
     "text": [
      "[*********************100%***********************]  1 of 1 completed\n"
     ]
    },
    {
     "name": "stdout",
     "output_type": "stream",
     "text": [
      "Successfully fetched data for EZZ.AX\n"
     ]
    },
    {
     "name": "stderr",
     "output_type": "stream",
     "text": [
      "[*********************100%***********************]  1 of 1 completed\n"
     ]
    },
    {
     "name": "stdout",
     "output_type": "stream",
     "text": [
      "Successfully fetched data for RG8.AX\n"
     ]
    },
    {
     "name": "stderr",
     "output_type": "stream",
     "text": [
      "[*********************100%***********************]  1 of 1 completed\n"
     ]
    },
    {
     "name": "stdout",
     "output_type": "stream",
     "text": [
      "Successfully fetched data for AUI.AX\n"
     ]
    },
    {
     "name": "stderr",
     "output_type": "stream",
     "text": [
      "[*********************100%***********************]  1 of 1 completed\n"
     ]
    },
    {
     "name": "stdout",
     "output_type": "stream",
     "text": [
      "Successfully fetched data for LCE.AX\n"
     ]
    },
    {
     "name": "stderr",
     "output_type": "stream",
     "text": [
      "[*********************100%***********************]  1 of 1 completed\n"
     ]
    },
    {
     "name": "stdout",
     "output_type": "stream",
     "text": [
      "Successfully fetched data for GCI.AX\n"
     ]
    },
    {
     "name": "stderr",
     "output_type": "stream",
     "text": [
      "[*********************100%***********************]  1 of 1 completed\n"
     ]
    },
    {
     "name": "stdout",
     "output_type": "stream",
     "text": [
      "Successfully fetched data for QBE.AX\n"
     ]
    },
    {
     "name": "stderr",
     "output_type": "stream",
     "text": [
      "[*********************100%***********************]  1 of 1 completed\n"
     ]
    },
    {
     "name": "stdout",
     "output_type": "stream",
     "text": [
      "Successfully fetched data for DJW.AX\n"
     ]
    },
    {
     "name": "stderr",
     "output_type": "stream",
     "text": [
      "[*********************100%***********************]  1 of 1 completed\n"
     ]
    },
    {
     "name": "stdout",
     "output_type": "stream",
     "text": [
      "Successfully fetched data for ELS.AX\n"
     ]
    },
    {
     "name": "stderr",
     "output_type": "stream",
     "text": [
      "[*********************100%***********************]  1 of 1 completed\n"
     ]
    },
    {
     "name": "stdout",
     "output_type": "stream",
     "text": [
      "Successfully fetched data for NWS.AX\n"
     ]
    },
    {
     "name": "stderr",
     "output_type": "stream",
     "text": [
      "[*********************100%***********************]  1 of 1 completed\n"
     ]
    },
    {
     "name": "stdout",
     "output_type": "stream",
     "text": [
      "Successfully fetched data for KSL.AX\n"
     ]
    },
    {
     "name": "stderr",
     "output_type": "stream",
     "text": [
      "[*********************100%***********************]  1 of 1 completed\n"
     ]
    },
    {
     "name": "stdout",
     "output_type": "stream",
     "text": [
      "Successfully fetched data for AIQ.AX\n"
     ]
    },
    {
     "name": "stderr",
     "output_type": "stream",
     "text": [
      "[*********************100%***********************]  1 of 1 completed\n"
     ]
    },
    {
     "name": "stdout",
     "output_type": "stream",
     "text": [
      "Successfully fetched data for IGNDA.AX\n"
     ]
    },
    {
     "name": "stderr",
     "output_type": "stream",
     "text": [
      "[*********************100%***********************]  1 of 1 completed\n"
     ]
    },
    {
     "name": "stdout",
     "output_type": "stream",
     "text": [
      "Successfully fetched data for TDO.AX\n"
     ]
    },
    {
     "name": "stderr",
     "output_type": "stream",
     "text": [
      "[*********************100%***********************]  1 of 1 completed\n"
     ]
    },
    {
     "name": "stdout",
     "output_type": "stream",
     "text": [
      "Successfully fetched data for MQG.AX\n"
     ]
    },
    {
     "name": "stderr",
     "output_type": "stream",
     "text": [
      "[*********************100%***********************]  1 of 1 completed\n"
     ]
    },
    {
     "name": "stdout",
     "output_type": "stream",
     "text": [
      "Successfully fetched data for AAC.AX\n"
     ]
    },
    {
     "name": "stderr",
     "output_type": "stream",
     "text": [
      "[*********************100%***********************]  1 of 1 completed\n"
     ]
    },
    {
     "name": "stdout",
     "output_type": "stream",
     "text": [
      "Successfully fetched data for BGA.AX\n"
     ]
    },
    {
     "name": "stderr",
     "output_type": "stream",
     "text": [
      "[*********************100%***********************]  1 of 1 completed\n"
     ]
    },
    {
     "name": "stdout",
     "output_type": "stream",
     "text": [
      "Successfully fetched data for BWP.AX\n"
     ]
    },
    {
     "name": "stderr",
     "output_type": "stream",
     "text": [
      "[*********************100%***********************]  1 of 1 completed\n"
     ]
    },
    {
     "name": "stdout",
     "output_type": "stream",
     "text": [
      "Successfully fetched data for WAR.AX\n"
     ]
    },
    {
     "name": "stderr",
     "output_type": "stream",
     "text": [
      "[*********************100%***********************]  1 of 1 completed\n"
     ]
    },
    {
     "name": "stdout",
     "output_type": "stream",
     "text": [
      "Successfully fetched data for WBC.AX\n"
     ]
    },
    {
     "name": "stderr",
     "output_type": "stream",
     "text": [
      "[*********************100%***********************]  1 of 1 completed\n"
     ]
    },
    {
     "name": "stdout",
     "output_type": "stream",
     "text": [
      "Successfully fetched data for OFX.AX\n"
     ]
    },
    {
     "name": "stderr",
     "output_type": "stream",
     "text": [
      "[*********************100%***********************]  1 of 1 completed\n"
     ]
    },
    {
     "name": "stdout",
     "output_type": "stream",
     "text": [
      "Successfully fetched data for ALL.AX\n"
     ]
    },
    {
     "name": "stderr",
     "output_type": "stream",
     "text": [
      "[*********************100%***********************]  1 of 1 completed\n"
     ]
    },
    {
     "name": "stdout",
     "output_type": "stream",
     "text": [
      "Successfully fetched data for GFL.AX\n"
     ]
    },
    {
     "name": "stderr",
     "output_type": "stream",
     "text": [
      "[*********************100%***********************]  1 of 1 completed\n"
     ]
    },
    {
     "name": "stdout",
     "output_type": "stream",
     "text": [
      "Successfully fetched data for NXT.AX\n"
     ]
    },
    {
     "name": "stderr",
     "output_type": "stream",
     "text": [
      "[*********************100%***********************]  1 of 1 completed\n"
     ]
    },
    {
     "name": "stdout",
     "output_type": "stream",
     "text": [
      "Successfully fetched data for KKC.AX\n"
     ]
    },
    {
     "name": "stderr",
     "output_type": "stream",
     "text": [
      "[*********************100%***********************]  1 of 1 completed\n"
     ]
    },
    {
     "name": "stdout",
     "output_type": "stream",
     "text": [
      "Successfully fetched data for COS.AX\n"
     ]
    },
    {
     "name": "stderr",
     "output_type": "stream",
     "text": [
      "[*********************100%***********************]  1 of 1 completed\n"
     ]
    },
    {
     "name": "stdout",
     "output_type": "stream",
     "text": [
      "Successfully fetched data for MAH.AX\n"
     ]
    },
    {
     "name": "stderr",
     "output_type": "stream",
     "text": [
      "[*********************100%***********************]  1 of 1 completed\n"
     ]
    },
    {
     "name": "stdout",
     "output_type": "stream",
     "text": [
      "Successfully fetched data for MXT.AX\n"
     ]
    },
    {
     "name": "stderr",
     "output_type": "stream",
     "text": [
      "[*********************100%***********************]  1 of 1 completed\n"
     ]
    },
    {
     "name": "stdout",
     "output_type": "stream",
     "text": [
      "Successfully fetched data for RYD.AX\n"
     ]
    },
    {
     "name": "stderr",
     "output_type": "stream",
     "text": [
      "[*********************100%***********************]  1 of 1 completed\n"
     ]
    },
    {
     "name": "stdout",
     "output_type": "stream",
     "text": [
      "Successfully fetched data for FRI.AX\n"
     ]
    },
    {
     "name": "stderr",
     "output_type": "stream",
     "text": [
      "[*********************100%***********************]  1 of 1 completed\n"
     ]
    },
    {
     "name": "stdout",
     "output_type": "stream",
     "text": [
      "Successfully fetched data for RUL.AX\n"
     ]
    },
    {
     "name": "stderr",
     "output_type": "stream",
     "text": [
      "[*********************100%***********************]  1 of 1 completed\n"
     ]
    },
    {
     "name": "stdout",
     "output_type": "stream",
     "text": [
      "Successfully fetched data for IAG.AX\n"
     ]
    },
    {
     "name": "stderr",
     "output_type": "stream",
     "text": [
      "[*********************100%***********************]  1 of 1 completed\n"
     ]
    },
    {
     "name": "stdout",
     "output_type": "stream",
     "text": [
      "Successfully fetched data for ORG.AX\n"
     ]
    },
    {
     "name": "stderr",
     "output_type": "stream",
     "text": [
      "[*********************100%***********************]  1 of 1 completed\n"
     ]
    },
    {
     "name": "stdout",
     "output_type": "stream",
     "text": [
      "Successfully fetched data for ORI.AX\n"
     ]
    },
    {
     "name": "stderr",
     "output_type": "stream",
     "text": [
      "[*********************100%***********************]  1 of 1 completed\n"
     ]
    },
    {
     "name": "stdout",
     "output_type": "stream",
     "text": [
      "Successfully fetched data for DXI.AX\n"
     ]
    },
    {
     "name": "stderr",
     "output_type": "stream",
     "text": [
      "[*********************100%***********************]  1 of 1 completed\n",
      "/var/folders/mb/34z82c2579x79_xxtnfk70200000gn/T/ipykernel_76375/3456026219.py:21: PerformanceWarning: DataFrame is highly fragmented.  This is usually the result of calling `frame.insert` many times, which has poor performance.  Consider joining all columns at once using pd.concat(axis=1) instead. To get a de-fragmented frame, use `newframe = frame.copy()`\n",
      "  all_data[ticker] = data['Close']\n"
     ]
    },
    {
     "name": "stdout",
     "output_type": "stream",
     "text": [
      "Successfully fetched data for TLX.AX\n"
     ]
    },
    {
     "name": "stderr",
     "output_type": "stream",
     "text": [
      "[*********************100%***********************]  1 of 1 completed\n",
      "/var/folders/mb/34z82c2579x79_xxtnfk70200000gn/T/ipykernel_76375/3456026219.py:21: PerformanceWarning: DataFrame is highly fragmented.  This is usually the result of calling `frame.insert` many times, which has poor performance.  Consider joining all columns at once using pd.concat(axis=1) instead. To get a de-fragmented frame, use `newframe = frame.copy()`\n",
      "  all_data[ticker] = data['Close']\n"
     ]
    },
    {
     "name": "stdout",
     "output_type": "stream",
     "text": [
      "Successfully fetched data for GIB.AX\n"
     ]
    },
    {
     "name": "stderr",
     "output_type": "stream",
     "text": [
      "[*********************100%***********************]  1 of 1 completed\n",
      "/var/folders/mb/34z82c2579x79_xxtnfk70200000gn/T/ipykernel_76375/3456026219.py:21: PerformanceWarning: DataFrame is highly fragmented.  This is usually the result of calling `frame.insert` many times, which has poor performance.  Consider joining all columns at once using pd.concat(axis=1) instead. To get a de-fragmented frame, use `newframe = frame.copy()`\n",
      "  all_data[ticker] = data['Close']\n"
     ]
    },
    {
     "name": "stdout",
     "output_type": "stream",
     "text": [
      "Successfully fetched data for PIC.AX\n"
     ]
    },
    {
     "name": "stderr",
     "output_type": "stream",
     "text": [
      "[*********************100%***********************]  1 of 1 completed\n",
      "/var/folders/mb/34z82c2579x79_xxtnfk70200000gn/T/ipykernel_76375/3456026219.py:21: PerformanceWarning: DataFrame is highly fragmented.  This is usually the result of calling `frame.insert` many times, which has poor performance.  Consider joining all columns at once using pd.concat(axis=1) instead. To get a de-fragmented frame, use `newframe = frame.copy()`\n",
      "  all_data[ticker] = data['Close']\n"
     ]
    },
    {
     "name": "stdout",
     "output_type": "stream",
     "text": [
      "Successfully fetched data for AUB.AX\n"
     ]
    },
    {
     "name": "stderr",
     "output_type": "stream",
     "text": [
      "[*********************100%***********************]  1 of 1 completed\n",
      "/var/folders/mb/34z82c2579x79_xxtnfk70200000gn/T/ipykernel_76375/3456026219.py:21: PerformanceWarning: DataFrame is highly fragmented.  This is usually the result of calling `frame.insert` many times, which has poor performance.  Consider joining all columns at once using pd.concat(axis=1) instead. To get a de-fragmented frame, use `newframe = frame.copy()`\n",
      "  all_data[ticker] = data['Close']\n"
     ]
    },
    {
     "name": "stdout",
     "output_type": "stream",
     "text": [
      "Successfully fetched data for PNR.AX\n"
     ]
    },
    {
     "name": "stderr",
     "output_type": "stream",
     "text": [
      "[*********************100%***********************]  1 of 1 completed\n",
      "/var/folders/mb/34z82c2579x79_xxtnfk70200000gn/T/ipykernel_76375/3456026219.py:21: PerformanceWarning: DataFrame is highly fragmented.  This is usually the result of calling `frame.insert` many times, which has poor performance.  Consider joining all columns at once using pd.concat(axis=1) instead. To get a de-fragmented frame, use `newframe = frame.copy()`\n",
      "  all_data[ticker] = data['Close']\n"
     ]
    },
    {
     "name": "stdout",
     "output_type": "stream",
     "text": [
      "Successfully fetched data for VVA.AX\n"
     ]
    },
    {
     "name": "stderr",
     "output_type": "stream",
     "text": [
      "[*********************100%***********************]  1 of 1 completed\n",
      "/var/folders/mb/34z82c2579x79_xxtnfk70200000gn/T/ipykernel_76375/3456026219.py:21: PerformanceWarning: DataFrame is highly fragmented.  This is usually the result of calling `frame.insert` many times, which has poor performance.  Consider joining all columns at once using pd.concat(axis=1) instead. To get a de-fragmented frame, use `newframe = frame.copy()`\n",
      "  all_data[ticker] = data['Close']\n"
     ]
    },
    {
     "name": "stdout",
     "output_type": "stream",
     "text": [
      "Successfully fetched data for MDR.AX\n"
     ]
    },
    {
     "name": "stderr",
     "output_type": "stream",
     "text": [
      "[*********************100%***********************]  1 of 1 completed\n",
      "/var/folders/mb/34z82c2579x79_xxtnfk70200000gn/T/ipykernel_76375/3456026219.py:21: PerformanceWarning: DataFrame is highly fragmented.  This is usually the result of calling `frame.insert` many times, which has poor performance.  Consider joining all columns at once using pd.concat(axis=1) instead. To get a de-fragmented frame, use `newframe = frame.copy()`\n",
      "  all_data[ticker] = data['Close']\n"
     ]
    },
    {
     "name": "stdout",
     "output_type": "stream",
     "text": [
      "Successfully fetched data for QOR.AX\n"
     ]
    },
    {
     "name": "stderr",
     "output_type": "stream",
     "text": [
      "[*********************100%***********************]  1 of 1 completed\n",
      "/var/folders/mb/34z82c2579x79_xxtnfk70200000gn/T/ipykernel_76375/3456026219.py:21: PerformanceWarning: DataFrame is highly fragmented.  This is usually the result of calling `frame.insert` many times, which has poor performance.  Consider joining all columns at once using pd.concat(axis=1) instead. To get a de-fragmented frame, use `newframe = frame.copy()`\n",
      "  all_data[ticker] = data['Close']\n"
     ]
    },
    {
     "name": "stdout",
     "output_type": "stream",
     "text": [
      "Successfully fetched data for GDI.AX\n"
     ]
    },
    {
     "name": "stderr",
     "output_type": "stream",
     "text": [
      "[*********************100%***********************]  1 of 1 completed\n",
      "/var/folders/mb/34z82c2579x79_xxtnfk70200000gn/T/ipykernel_76375/3456026219.py:21: PerformanceWarning: DataFrame is highly fragmented.  This is usually the result of calling `frame.insert` many times, which has poor performance.  Consider joining all columns at once using pd.concat(axis=1) instead. To get a de-fragmented frame, use `newframe = frame.copy()`\n",
      "  all_data[ticker] = data['Close']\n"
     ]
    },
    {
     "name": "stdout",
     "output_type": "stream",
     "text": [
      "Successfully fetched data for NTU.AX\n"
     ]
    },
    {
     "name": "stderr",
     "output_type": "stream",
     "text": [
      "[*********************100%***********************]  1 of 1 completed\n",
      "/var/folders/mb/34z82c2579x79_xxtnfk70200000gn/T/ipykernel_76375/3456026219.py:21: PerformanceWarning: DataFrame is highly fragmented.  This is usually the result of calling `frame.insert` many times, which has poor performance.  Consider joining all columns at once using pd.concat(axis=1) instead. To get a de-fragmented frame, use `newframe = frame.copy()`\n",
      "  all_data[ticker] = data['Close']\n"
     ]
    },
    {
     "name": "stdout",
     "output_type": "stream",
     "text": [
      "Successfully fetched data for RF1.AX\n"
     ]
    },
    {
     "name": "stderr",
     "output_type": "stream",
     "text": [
      "[*********************100%***********************]  1 of 1 completed\n",
      "/var/folders/mb/34z82c2579x79_xxtnfk70200000gn/T/ipykernel_76375/3456026219.py:21: PerformanceWarning: DataFrame is highly fragmented.  This is usually the result of calling `frame.insert` many times, which has poor performance.  Consider joining all columns at once using pd.concat(axis=1) instead. To get a de-fragmented frame, use `newframe = frame.copy()`\n",
      "  all_data[ticker] = data['Close']\n"
     ]
    },
    {
     "name": "stdout",
     "output_type": "stream",
     "text": [
      "Successfully fetched data for A2M.AX\n"
     ]
    },
    {
     "name": "stderr",
     "output_type": "stream",
     "text": [
      "[*********************100%***********************]  1 of 1 completed\n",
      "/var/folders/mb/34z82c2579x79_xxtnfk70200000gn/T/ipykernel_76375/3456026219.py:21: PerformanceWarning: DataFrame is highly fragmented.  This is usually the result of calling `frame.insert` many times, which has poor performance.  Consider joining all columns at once using pd.concat(axis=1) instead. To get a de-fragmented frame, use `newframe = frame.copy()`\n",
      "  all_data[ticker] = data['Close']\n"
     ]
    },
    {
     "name": "stdout",
     "output_type": "stream",
     "text": [
      "Successfully fetched data for CDP.AX\n"
     ]
    },
    {
     "name": "stderr",
     "output_type": "stream",
     "text": [
      "[*********************100%***********************]  1 of 1 completed\n",
      "/var/folders/mb/34z82c2579x79_xxtnfk70200000gn/T/ipykernel_76375/3456026219.py:21: PerformanceWarning: DataFrame is highly fragmented.  This is usually the result of calling `frame.insert` many times, which has poor performance.  Consider joining all columns at once using pd.concat(axis=1) instead. To get a de-fragmented frame, use `newframe = frame.copy()`\n",
      "  all_data[ticker] = data['Close']\n"
     ]
    },
    {
     "name": "stdout",
     "output_type": "stream",
     "text": [
      "Successfully fetched data for TLC.AX\n"
     ]
    },
    {
     "name": "stderr",
     "output_type": "stream",
     "text": [
      "[*********************100%***********************]  1 of 1 completed\n",
      "/var/folders/mb/34z82c2579x79_xxtnfk70200000gn/T/ipykernel_76375/3456026219.py:21: PerformanceWarning: DataFrame is highly fragmented.  This is usually the result of calling `frame.insert` many times, which has poor performance.  Consider joining all columns at once using pd.concat(axis=1) instead. To get a de-fragmented frame, use `newframe = frame.copy()`\n",
      "  all_data[ticker] = data['Close']\n"
     ]
    },
    {
     "name": "stdout",
     "output_type": "stream",
     "text": [
      "Successfully fetched data for PGC.AX\n"
     ]
    },
    {
     "name": "stderr",
     "output_type": "stream",
     "text": [
      "[*********************100%***********************]  1 of 1 completed\n",
      "/var/folders/mb/34z82c2579x79_xxtnfk70200000gn/T/ipykernel_76375/3456026219.py:21: PerformanceWarning: DataFrame is highly fragmented.  This is usually the result of calling `frame.insert` many times, which has poor performance.  Consider joining all columns at once using pd.concat(axis=1) instead. To get a de-fragmented frame, use `newframe = frame.copy()`\n",
      "  all_data[ticker] = data['Close']\n"
     ]
    },
    {
     "name": "stdout",
     "output_type": "stream",
     "text": [
      "Successfully fetched data for SUN.AX\n"
     ]
    },
    {
     "name": "stderr",
     "output_type": "stream",
     "text": [
      "[*********************100%***********************]  1 of 1 completed\n",
      "/var/folders/mb/34z82c2579x79_xxtnfk70200000gn/T/ipykernel_76375/3456026219.py:21: PerformanceWarning: DataFrame is highly fragmented.  This is usually the result of calling `frame.insert` many times, which has poor performance.  Consider joining all columns at once using pd.concat(axis=1) instead. To get a de-fragmented frame, use `newframe = frame.copy()`\n",
      "  all_data[ticker] = data['Close']\n"
     ]
    },
    {
     "name": "stdout",
     "output_type": "stream",
     "text": [
      "Successfully fetched data for GTK.AX\n"
     ]
    },
    {
     "name": "stderr",
     "output_type": "stream",
     "text": [
      "[*********************100%***********************]  1 of 1 completed\n",
      "/var/folders/mb/34z82c2579x79_xxtnfk70200000gn/T/ipykernel_76375/3456026219.py:21: PerformanceWarning: DataFrame is highly fragmented.  This is usually the result of calling `frame.insert` many times, which has poor performance.  Consider joining all columns at once using pd.concat(axis=1) instead. To get a de-fragmented frame, use `newframe = frame.copy()`\n",
      "  all_data[ticker] = data['Close']\n"
     ]
    },
    {
     "name": "stdout",
     "output_type": "stream",
     "text": [
      "Successfully fetched data for CTE.AX\n"
     ]
    },
    {
     "name": "stderr",
     "output_type": "stream",
     "text": [
      "[*********************100%***********************]  1 of 1 completed\n",
      "/var/folders/mb/34z82c2579x79_xxtnfk70200000gn/T/ipykernel_76375/3456026219.py:21: PerformanceWarning: DataFrame is highly fragmented.  This is usually the result of calling `frame.insert` many times, which has poor performance.  Consider joining all columns at once using pd.concat(axis=1) instead. To get a de-fragmented frame, use `newframe = frame.copy()`\n",
      "  all_data[ticker] = data['Close']\n"
     ]
    },
    {
     "name": "stdout",
     "output_type": "stream",
     "text": [
      "Successfully fetched data for WQG.AX\n"
     ]
    },
    {
     "name": "stderr",
     "output_type": "stream",
     "text": [
      "[*********************100%***********************]  1 of 1 completed\n",
      "/var/folders/mb/34z82c2579x79_xxtnfk70200000gn/T/ipykernel_76375/3456026219.py:21: PerformanceWarning: DataFrame is highly fragmented.  This is usually the result of calling `frame.insert` many times, which has poor performance.  Consider joining all columns at once using pd.concat(axis=1) instead. To get a de-fragmented frame, use `newframe = frame.copy()`\n",
      "  all_data[ticker] = data['Close']\n"
     ]
    },
    {
     "name": "stdout",
     "output_type": "stream",
     "text": [
      "Successfully fetched data for CEN.AX\n"
     ]
    },
    {
     "name": "stderr",
     "output_type": "stream",
     "text": [
      "[*********************100%***********************]  1 of 1 completed\n",
      "/var/folders/mb/34z82c2579x79_xxtnfk70200000gn/T/ipykernel_76375/3456026219.py:21: PerformanceWarning: DataFrame is highly fragmented.  This is usually the result of calling `frame.insert` many times, which has poor performance.  Consider joining all columns at once using pd.concat(axis=1) instead. To get a de-fragmented frame, use `newframe = frame.copy()`\n",
      "  all_data[ticker] = data['Close']\n"
     ]
    },
    {
     "name": "stdout",
     "output_type": "stream",
     "text": [
      "Successfully fetched data for WEB.AX\n"
     ]
    },
    {
     "name": "stderr",
     "output_type": "stream",
     "text": [
      "[*********************100%***********************]  1 of 1 completed\n",
      "/var/folders/mb/34z82c2579x79_xxtnfk70200000gn/T/ipykernel_76375/3456026219.py:21: PerformanceWarning: DataFrame is highly fragmented.  This is usually the result of calling `frame.insert` many times, which has poor performance.  Consider joining all columns at once using pd.concat(axis=1) instead. To get a de-fragmented frame, use `newframe = frame.copy()`\n",
      "  all_data[ticker] = data['Close']\n"
     ]
    },
    {
     "name": "stdout",
     "output_type": "stream",
     "text": [
      "Successfully fetched data for HPI.AX\n"
     ]
    },
    {
     "name": "stderr",
     "output_type": "stream",
     "text": [
      "[*********************100%***********************]  1 of 1 completed\n",
      "/var/folders/mb/34z82c2579x79_xxtnfk70200000gn/T/ipykernel_76375/3456026219.py:21: PerformanceWarning: DataFrame is highly fragmented.  This is usually the result of calling `frame.insert` many times, which has poor performance.  Consider joining all columns at once using pd.concat(axis=1) instead. To get a de-fragmented frame, use `newframe = frame.copy()`\n",
      "  all_data[ticker] = data['Close']\n"
     ]
    },
    {
     "name": "stdout",
     "output_type": "stream",
     "text": [
      "Successfully fetched data for CAR.AX\n"
     ]
    },
    {
     "name": "stderr",
     "output_type": "stream",
     "text": [
      "[*********************100%***********************]  1 of 1 completed\n",
      "/var/folders/mb/34z82c2579x79_xxtnfk70200000gn/T/ipykernel_76375/3456026219.py:21: PerformanceWarning: DataFrame is highly fragmented.  This is usually the result of calling `frame.insert` many times, which has poor performance.  Consider joining all columns at once using pd.concat(axis=1) instead. To get a de-fragmented frame, use `newframe = frame.copy()`\n",
      "  all_data[ticker] = data['Close']\n"
     ]
    },
    {
     "name": "stdout",
     "output_type": "stream",
     "text": [
      "Successfully fetched data for TOP.AX\n"
     ]
    },
    {
     "name": "stderr",
     "output_type": "stream",
     "text": [
      "[*********************100%***********************]  1 of 1 completed\n",
      "/var/folders/mb/34z82c2579x79_xxtnfk70200000gn/T/ipykernel_76375/3456026219.py:21: PerformanceWarning: DataFrame is highly fragmented.  This is usually the result of calling `frame.insert` many times, which has poor performance.  Consider joining all columns at once using pd.concat(axis=1) instead. To get a de-fragmented frame, use `newframe = frame.copy()`\n",
      "  all_data[ticker] = data['Close']\n"
     ]
    },
    {
     "name": "stdout",
     "output_type": "stream",
     "text": [
      "Successfully fetched data for CDA.AX\n"
     ]
    },
    {
     "name": "stderr",
     "output_type": "stream",
     "text": [
      "[*********************100%***********************]  1 of 1 completed\n",
      "/var/folders/mb/34z82c2579x79_xxtnfk70200000gn/T/ipykernel_76375/3456026219.py:21: PerformanceWarning: DataFrame is highly fragmented.  This is usually the result of calling `frame.insert` many times, which has poor performance.  Consider joining all columns at once using pd.concat(axis=1) instead. To get a de-fragmented frame, use `newframe = frame.copy()`\n",
      "  all_data[ticker] = data['Close']\n"
     ]
    },
    {
     "name": "stdout",
     "output_type": "stream",
     "text": [
      "Successfully fetched data for DXB.AX\n"
     ]
    },
    {
     "name": "stderr",
     "output_type": "stream",
     "text": [
      "[*********************100%***********************]  1 of 1 completed\n",
      "/var/folders/mb/34z82c2579x79_xxtnfk70200000gn/T/ipykernel_76375/3456026219.py:21: PerformanceWarning: DataFrame is highly fragmented.  This is usually the result of calling `frame.insert` many times, which has poor performance.  Consider joining all columns at once using pd.concat(axis=1) instead. To get a de-fragmented frame, use `newframe = frame.copy()`\n",
      "  all_data[ticker] = data['Close']\n"
     ]
    },
    {
     "name": "stdout",
     "output_type": "stream",
     "text": [
      "Successfully fetched data for SVM.AX\n"
     ]
    },
    {
     "name": "stderr",
     "output_type": "stream",
     "text": [
      "[*********************100%***********************]  1 of 1 completed\n",
      "/var/folders/mb/34z82c2579x79_xxtnfk70200000gn/T/ipykernel_76375/3456026219.py:21: PerformanceWarning: DataFrame is highly fragmented.  This is usually the result of calling `frame.insert` many times, which has poor performance.  Consider joining all columns at once using pd.concat(axis=1) instead. To get a de-fragmented frame, use `newframe = frame.copy()`\n",
      "  all_data[ticker] = data['Close']\n"
     ]
    },
    {
     "name": "stdout",
     "output_type": "stream",
     "text": [
      "Successfully fetched data for S32.AX\n"
     ]
    },
    {
     "name": "stderr",
     "output_type": "stream",
     "text": [
      "[*********************100%***********************]  1 of 1 completed\n",
      "/var/folders/mb/34z82c2579x79_xxtnfk70200000gn/T/ipykernel_76375/3456026219.py:21: PerformanceWarning: DataFrame is highly fragmented.  This is usually the result of calling `frame.insert` many times, which has poor performance.  Consider joining all columns at once using pd.concat(axis=1) instead. To get a de-fragmented frame, use `newframe = frame.copy()`\n",
      "  all_data[ticker] = data['Close']\n"
     ]
    },
    {
     "name": "stdout",
     "output_type": "stream",
     "text": [
      "Successfully fetched data for APZ.AX\n"
     ]
    },
    {
     "name": "stderr",
     "output_type": "stream",
     "text": [
      "[*********************100%***********************]  1 of 1 completed\n",
      "/var/folders/mb/34z82c2579x79_xxtnfk70200000gn/T/ipykernel_76375/3456026219.py:21: PerformanceWarning: DataFrame is highly fragmented.  This is usually the result of calling `frame.insert` many times, which has poor performance.  Consider joining all columns at once using pd.concat(axis=1) instead. To get a de-fragmented frame, use `newframe = frame.copy()`\n",
      "  all_data[ticker] = data['Close']\n"
     ]
    },
    {
     "name": "stdout",
     "output_type": "stream",
     "text": [
      "Successfully fetched data for PNI.AX\n"
     ]
    },
    {
     "name": "stderr",
     "output_type": "stream",
     "text": [
      "[*********************100%***********************]  1 of 1 completed\n",
      "/var/folders/mb/34z82c2579x79_xxtnfk70200000gn/T/ipykernel_76375/3456026219.py:21: PerformanceWarning: DataFrame is highly fragmented.  This is usually the result of calling `frame.insert` many times, which has poor performance.  Consider joining all columns at once using pd.concat(axis=1) instead. To get a de-fragmented frame, use `newframe = frame.copy()`\n",
      "  all_data[ticker] = data['Close']\n"
     ]
    },
    {
     "name": "stdout",
     "output_type": "stream",
     "text": [
      "Successfully fetched data for DBI.AX\n"
     ]
    },
    {
     "name": "stderr",
     "output_type": "stream",
     "text": [
      "[*********************100%***********************]  1 of 1 completed\n",
      "/var/folders/mb/34z82c2579x79_xxtnfk70200000gn/T/ipykernel_76375/3456026219.py:21: PerformanceWarning: DataFrame is highly fragmented.  This is usually the result of calling `frame.insert` many times, which has poor performance.  Consider joining all columns at once using pd.concat(axis=1) instead. To get a de-fragmented frame, use `newframe = frame.copy()`\n",
      "  all_data[ticker] = data['Close']\n"
     ]
    },
    {
     "name": "stdout",
     "output_type": "stream",
     "text": [
      "Successfully fetched data for GNP.AX\n"
     ]
    },
    {
     "name": "stderr",
     "output_type": "stream",
     "text": [
      "[*********************100%***********************]  1 of 1 completed\n",
      "/var/folders/mb/34z82c2579x79_xxtnfk70200000gn/T/ipykernel_76375/3456026219.py:21: PerformanceWarning: DataFrame is highly fragmented.  This is usually the result of calling `frame.insert` many times, which has poor performance.  Consider joining all columns at once using pd.concat(axis=1) instead. To get a de-fragmented frame, use `newframe = frame.copy()`\n",
      "  all_data[ticker] = data['Close']\n"
     ]
    },
    {
     "name": "stdout",
     "output_type": "stream",
     "text": [
      "Successfully fetched data for AMH.AX\n"
     ]
    },
    {
     "name": "stderr",
     "output_type": "stream",
     "text": [
      "[*********************100%***********************]  1 of 1 completed\n",
      "/var/folders/mb/34z82c2579x79_xxtnfk70200000gn/T/ipykernel_76375/3456026219.py:21: PerformanceWarning: DataFrame is highly fragmented.  This is usually the result of calling `frame.insert` many times, which has poor performance.  Consider joining all columns at once using pd.concat(axis=1) instead. To get a de-fragmented frame, use `newframe = frame.copy()`\n",
      "  all_data[ticker] = data['Close']\n"
     ]
    },
    {
     "name": "stdout",
     "output_type": "stream",
     "text": [
      "Successfully fetched data for NWL.AX\n"
     ]
    },
    {
     "name": "stderr",
     "output_type": "stream",
     "text": [
      "[*********************100%***********************]  1 of 1 completed\n",
      "/var/folders/mb/34z82c2579x79_xxtnfk70200000gn/T/ipykernel_76375/3456026219.py:21: PerformanceWarning: DataFrame is highly fragmented.  This is usually the result of calling `frame.insert` many times, which has poor performance.  Consider joining all columns at once using pd.concat(axis=1) instead. To get a de-fragmented frame, use `newframe = frame.copy()`\n",
      "  all_data[ticker] = data['Close']\n"
     ]
    },
    {
     "name": "stdout",
     "output_type": "stream",
     "text": [
      "Successfully fetched data for PNC.AX\n"
     ]
    },
    {
     "name": "stderr",
     "output_type": "stream",
     "text": [
      "[*********************100%***********************]  1 of 1 completed\n",
      "/var/folders/mb/34z82c2579x79_xxtnfk70200000gn/T/ipykernel_76375/3456026219.py:21: PerformanceWarning: DataFrame is highly fragmented.  This is usually the result of calling `frame.insert` many times, which has poor performance.  Consider joining all columns at once using pd.concat(axis=1) instead. To get a de-fragmented frame, use `newframe = frame.copy()`\n",
      "  all_data[ticker] = data['Close']\n"
     ]
    },
    {
     "name": "stdout",
     "output_type": "stream",
     "text": [
      "Successfully fetched data for BGP.AX\n"
     ]
    },
    {
     "name": "stderr",
     "output_type": "stream",
     "text": [
      "[*********************100%***********************]  1 of 1 completed\n",
      "/var/folders/mb/34z82c2579x79_xxtnfk70200000gn/T/ipykernel_76375/3456026219.py:21: PerformanceWarning: DataFrame is highly fragmented.  This is usually the result of calling `frame.insert` many times, which has poor performance.  Consider joining all columns at once using pd.concat(axis=1) instead. To get a de-fragmented frame, use `newframe = frame.copy()`\n",
      "  all_data[ticker] = data['Close']\n"
     ]
    },
    {
     "name": "stdout",
     "output_type": "stream",
     "text": [
      "Successfully fetched data for ARG.AX\n"
     ]
    },
    {
     "name": "stderr",
     "output_type": "stream",
     "text": [
      "[*********************100%***********************]  1 of 1 completed\n",
      "/var/folders/mb/34z82c2579x79_xxtnfk70200000gn/T/ipykernel_76375/3456026219.py:21: PerformanceWarning: DataFrame is highly fragmented.  This is usually the result of calling `frame.insert` many times, which has poor performance.  Consider joining all columns at once using pd.concat(axis=1) instead. To get a de-fragmented frame, use `newframe = frame.copy()`\n",
      "  all_data[ticker] = data['Close']\n"
     ]
    },
    {
     "name": "stdout",
     "output_type": "stream",
     "text": [
      "Successfully fetched data for PRO.AX\n"
     ]
    },
    {
     "name": "stderr",
     "output_type": "stream",
     "text": [
      "[*********************100%***********************]  1 of 1 completed\n",
      "/var/folders/mb/34z82c2579x79_xxtnfk70200000gn/T/ipykernel_76375/3456026219.py:21: PerformanceWarning: DataFrame is highly fragmented.  This is usually the result of calling `frame.insert` many times, which has poor performance.  Consider joining all columns at once using pd.concat(axis=1) instead. To get a de-fragmented frame, use `newframe = frame.copy()`\n",
      "  all_data[ticker] = data['Close']\n"
     ]
    },
    {
     "name": "stdout",
     "output_type": "stream",
     "text": [
      "Successfully fetched data for PEX.AX\n"
     ]
    },
    {
     "name": "stderr",
     "output_type": "stream",
     "text": [
      "[*********************100%***********************]  1 of 1 completed\n",
      "/var/folders/mb/34z82c2579x79_xxtnfk70200000gn/T/ipykernel_76375/3456026219.py:21: PerformanceWarning: DataFrame is highly fragmented.  This is usually the result of calling `frame.insert` many times, which has poor performance.  Consider joining all columns at once using pd.concat(axis=1) instead. To get a de-fragmented frame, use `newframe = frame.copy()`\n",
      "  all_data[ticker] = data['Close']\n"
     ]
    },
    {
     "name": "stdout",
     "output_type": "stream",
     "text": [
      "Successfully fetched data for MOT.AX\n"
     ]
    },
    {
     "name": "stderr",
     "output_type": "stream",
     "text": [
      "[*********************100%***********************]  1 of 1 completed\n",
      "/var/folders/mb/34z82c2579x79_xxtnfk70200000gn/T/ipykernel_76375/3456026219.py:21: PerformanceWarning: DataFrame is highly fragmented.  This is usually the result of calling `frame.insert` many times, which has poor performance.  Consider joining all columns at once using pd.concat(axis=1) instead. To get a de-fragmented frame, use `newframe = frame.copy()`\n",
      "  all_data[ticker] = data['Close']\n"
     ]
    },
    {
     "name": "stdout",
     "output_type": "stream",
     "text": [
      "Successfully fetched data for IPL.AX\n"
     ]
    },
    {
     "name": "stderr",
     "output_type": "stream",
     "text": [
      "[*********************100%***********************]  1 of 1 completed\n",
      "/var/folders/mb/34z82c2579x79_xxtnfk70200000gn/T/ipykernel_76375/3456026219.py:21: PerformanceWarning: DataFrame is highly fragmented.  This is usually the result of calling `frame.insert` many times, which has poor performance.  Consider joining all columns at once using pd.concat(axis=1) instead. To get a de-fragmented frame, use `newframe = frame.copy()`\n",
      "  all_data[ticker] = data['Close']\n"
     ]
    },
    {
     "name": "stdout",
     "output_type": "stream",
     "text": [
      "Successfully fetched data for LSX.AX\n"
     ]
    },
    {
     "name": "stderr",
     "output_type": "stream",
     "text": [
      "[*********************100%***********************]  1 of 1 completed\n",
      "/var/folders/mb/34z82c2579x79_xxtnfk70200000gn/T/ipykernel_76375/3456026219.py:21: PerformanceWarning: DataFrame is highly fragmented.  This is usually the result of calling `frame.insert` many times, which has poor performance.  Consider joining all columns at once using pd.concat(axis=1) instead. To get a de-fragmented frame, use `newframe = frame.copy()`\n",
      "  all_data[ticker] = data['Close']\n"
     ]
    },
    {
     "name": "stdout",
     "output_type": "stream",
     "text": [
      "Successfully fetched data for WAT.AX\n"
     ]
    },
    {
     "name": "stderr",
     "output_type": "stream",
     "text": [
      "[*********************100%***********************]  1 of 1 completed\n",
      "/var/folders/mb/34z82c2579x79_xxtnfk70200000gn/T/ipykernel_76375/3456026219.py:21: PerformanceWarning: DataFrame is highly fragmented.  This is usually the result of calling `frame.insert` many times, which has poor performance.  Consider joining all columns at once using pd.concat(axis=1) instead. To get a de-fragmented frame, use `newframe = frame.copy()`\n",
      "  all_data[ticker] = data['Close']\n"
     ]
    },
    {
     "name": "stdout",
     "output_type": "stream",
     "text": [
      "Successfully fetched data for CIN.AX\n"
     ]
    },
    {
     "name": "stderr",
     "output_type": "stream",
     "text": [
      "[*********************100%***********************]  1 of 1 completed\n",
      "/var/folders/mb/34z82c2579x79_xxtnfk70200000gn/T/ipykernel_76375/3456026219.py:21: PerformanceWarning: DataFrame is highly fragmented.  This is usually the result of calling `frame.insert` many times, which has poor performance.  Consider joining all columns at once using pd.concat(axis=1) instead. To get a de-fragmented frame, use `newframe = frame.copy()`\n",
      "  all_data[ticker] = data['Close']\n"
     ]
    },
    {
     "name": "stdout",
     "output_type": "stream",
     "text": [
      "Successfully fetched data for SRG.AX\n"
     ]
    },
    {
     "name": "stderr",
     "output_type": "stream",
     "text": [
      "[*********************100%***********************]  1 of 1 completed\n",
      "/var/folders/mb/34z82c2579x79_xxtnfk70200000gn/T/ipykernel_76375/3456026219.py:21: PerformanceWarning: DataFrame is highly fragmented.  This is usually the result of calling `frame.insert` many times, which has poor performance.  Consider joining all columns at once using pd.concat(axis=1) instead. To get a de-fragmented frame, use `newframe = frame.copy()`\n",
      "  all_data[ticker] = data['Close']\n"
     ]
    },
    {
     "name": "stdout",
     "output_type": "stream",
     "text": [
      "Successfully fetched data for CVL.AX\n"
     ]
    },
    {
     "name": "stderr",
     "output_type": "stream",
     "text": [
      "[*********************100%***********************]  1 of 1 completed\n",
      "/var/folders/mb/34z82c2579x79_xxtnfk70200000gn/T/ipykernel_76375/3456026219.py:21: PerformanceWarning: DataFrame is highly fragmented.  This is usually the result of calling `frame.insert` many times, which has poor performance.  Consider joining all columns at once using pd.concat(axis=1) instead. To get a de-fragmented frame, use `newframe = frame.copy()`\n",
      "  all_data[ticker] = data['Close']\n"
     ]
    },
    {
     "name": "stdout",
     "output_type": "stream",
     "text": [
      "Successfully fetched data for HM1.AX\n"
     ]
    },
    {
     "name": "stderr",
     "output_type": "stream",
     "text": [
      "[*********************100%***********************]  1 of 1 completed\n",
      "/var/folders/mb/34z82c2579x79_xxtnfk70200000gn/T/ipykernel_76375/3456026219.py:21: PerformanceWarning: DataFrame is highly fragmented.  This is usually the result of calling `frame.insert` many times, which has poor performance.  Consider joining all columns at once using pd.concat(axis=1) instead. To get a de-fragmented frame, use `newframe = frame.copy()`\n",
      "  all_data[ticker] = data['Close']\n"
     ]
    },
    {
     "name": "stdout",
     "output_type": "stream",
     "text": [
      "Successfully fetched data for DXC.AX\n"
     ]
    },
    {
     "name": "stderr",
     "output_type": "stream",
     "text": [
      "[*********************100%***********************]  1 of 1 completed\n",
      "/var/folders/mb/34z82c2579x79_xxtnfk70200000gn/T/ipykernel_76375/3456026219.py:21: PerformanceWarning: DataFrame is highly fragmented.  This is usually the result of calling `frame.insert` many times, which has poor performance.  Consider joining all columns at once using pd.concat(axis=1) instead. To get a de-fragmented frame, use `newframe = frame.copy()`\n",
      "  all_data[ticker] = data['Close']\n"
     ]
    },
    {
     "name": "stdout",
     "output_type": "stream",
     "text": [
      "Successfully fetched data for MWY.AX\n"
     ]
    },
    {
     "name": "stderr",
     "output_type": "stream",
     "text": [
      "[*********************100%***********************]  1 of 1 completed\n",
      "/var/folders/mb/34z82c2579x79_xxtnfk70200000gn/T/ipykernel_76375/3456026219.py:21: PerformanceWarning: DataFrame is highly fragmented.  This is usually the result of calling `frame.insert` many times, which has poor performance.  Consider joining all columns at once using pd.concat(axis=1) instead. To get a de-fragmented frame, use `newframe = frame.copy()`\n",
      "  all_data[ticker] = data['Close']\n"
     ]
    },
    {
     "name": "stdout",
     "output_type": "stream",
     "text": [
      "Successfully fetched data for SHA.AX\n"
     ]
    },
    {
     "name": "stderr",
     "output_type": "stream",
     "text": [
      "[*********************100%***********************]  1 of 1 completed\n",
      "/var/folders/mb/34z82c2579x79_xxtnfk70200000gn/T/ipykernel_76375/3456026219.py:21: PerformanceWarning: DataFrame is highly fragmented.  This is usually the result of calling `frame.insert` many times, which has poor performance.  Consider joining all columns at once using pd.concat(axis=1) instead. To get a de-fragmented frame, use `newframe = frame.copy()`\n",
      "  all_data[ticker] = data['Close']\n"
     ]
    },
    {
     "name": "stdout",
     "output_type": "stream",
     "text": [
      "Successfully fetched data for REA.AX\n"
     ]
    },
    {
     "name": "stderr",
     "output_type": "stream",
     "text": [
      "[*********************100%***********************]  1 of 1 completed\n",
      "/var/folders/mb/34z82c2579x79_xxtnfk70200000gn/T/ipykernel_76375/3456026219.py:21: PerformanceWarning: DataFrame is highly fragmented.  This is usually the result of calling `frame.insert` many times, which has poor performance.  Consider joining all columns at once using pd.concat(axis=1) instead. To get a de-fragmented frame, use `newframe = frame.copy()`\n",
      "  all_data[ticker] = data['Close']\n"
     ]
    },
    {
     "name": "stdout",
     "output_type": "stream",
     "text": [
      "Successfully fetched data for EGH.AX\n"
     ]
    },
    {
     "name": "stderr",
     "output_type": "stream",
     "text": [
      "[*********************100%***********************]  1 of 1 completed\n",
      "/var/folders/mb/34z82c2579x79_xxtnfk70200000gn/T/ipykernel_76375/3456026219.py:21: PerformanceWarning: DataFrame is highly fragmented.  This is usually the result of calling `frame.insert` many times, which has poor performance.  Consider joining all columns at once using pd.concat(axis=1) instead. To get a de-fragmented frame, use `newframe = frame.copy()`\n",
      "  all_data[ticker] = data['Close']\n"
     ]
    },
    {
     "name": "stdout",
     "output_type": "stream",
     "text": [
      "Successfully fetched data for MEC.AX\n"
     ]
    },
    {
     "name": "stderr",
     "output_type": "stream",
     "text": [
      "[*********************100%***********************]  1 of 1 completed\n",
      "/var/folders/mb/34z82c2579x79_xxtnfk70200000gn/T/ipykernel_76375/3456026219.py:21: PerformanceWarning: DataFrame is highly fragmented.  This is usually the result of calling `frame.insert` many times, which has poor performance.  Consider joining all columns at once using pd.concat(axis=1) instead. To get a de-fragmented frame, use `newframe = frame.copy()`\n",
      "  all_data[ticker] = data['Close']\n"
     ]
    },
    {
     "name": "stdout",
     "output_type": "stream",
     "text": [
      "Successfully fetched data for ACR.AX\n"
     ]
    },
    {
     "name": "stderr",
     "output_type": "stream",
     "text": [
      "[*********************100%***********************]  1 of 1 completed\n",
      "/var/folders/mb/34z82c2579x79_xxtnfk70200000gn/T/ipykernel_76375/3456026219.py:21: PerformanceWarning: DataFrame is highly fragmented.  This is usually the result of calling `frame.insert` many times, which has poor performance.  Consider joining all columns at once using pd.concat(axis=1) instead. To get a de-fragmented frame, use `newframe = frame.copy()`\n",
      "  all_data[ticker] = data['Close']\n"
     ]
    },
    {
     "name": "stdout",
     "output_type": "stream",
     "text": [
      "Successfully fetched data for MAQ.AX\n"
     ]
    },
    {
     "name": "stderr",
     "output_type": "stream",
     "text": [
      "[*********************100%***********************]  1 of 1 completed\n",
      "/var/folders/mb/34z82c2579x79_xxtnfk70200000gn/T/ipykernel_76375/3456026219.py:21: PerformanceWarning: DataFrame is highly fragmented.  This is usually the result of calling `frame.insert` many times, which has poor performance.  Consider joining all columns at once using pd.concat(axis=1) instead. To get a de-fragmented frame, use `newframe = frame.copy()`\n",
      "  all_data[ticker] = data['Close']\n"
     ]
    },
    {
     "name": "stdout",
     "output_type": "stream",
     "text": [
      "Successfully fetched data for TWR.AX\n"
     ]
    },
    {
     "name": "stderr",
     "output_type": "stream",
     "text": [
      "[*********************100%***********************]  1 of 1 completed\n",
      "/var/folders/mb/34z82c2579x79_xxtnfk70200000gn/T/ipykernel_76375/3456026219.py:21: PerformanceWarning: DataFrame is highly fragmented.  This is usually the result of calling `frame.insert` many times, which has poor performance.  Consider joining all columns at once using pd.concat(axis=1) instead. To get a de-fragmented frame, use `newframe = frame.copy()`\n",
      "  all_data[ticker] = data['Close']\n"
     ]
    },
    {
     "name": "stdout",
     "output_type": "stream",
     "text": [
      "Successfully fetched data for FPC.AX\n"
     ]
    },
    {
     "name": "stderr",
     "output_type": "stream",
     "text": [
      "[*********************100%***********************]  1 of 1 completed\n",
      "/var/folders/mb/34z82c2579x79_xxtnfk70200000gn/T/ipykernel_76375/3456026219.py:21: PerformanceWarning: DataFrame is highly fragmented.  This is usually the result of calling `frame.insert` many times, which has poor performance.  Consider joining all columns at once using pd.concat(axis=1) instead. To get a de-fragmented frame, use `newframe = frame.copy()`\n",
      "  all_data[ticker] = data['Close']\n"
     ]
    },
    {
     "name": "stdout",
     "output_type": "stream",
     "text": [
      "Successfully fetched data for LAM.AX\n"
     ]
    },
    {
     "name": "stderr",
     "output_type": "stream",
     "text": [
      "[*********************100%***********************]  1 of 1 completed\n",
      "/var/folders/mb/34z82c2579x79_xxtnfk70200000gn/T/ipykernel_76375/3456026219.py:21: PerformanceWarning: DataFrame is highly fragmented.  This is usually the result of calling `frame.insert` many times, which has poor performance.  Consider joining all columns at once using pd.concat(axis=1) instead. To get a de-fragmented frame, use `newframe = frame.copy()`\n",
      "  all_data[ticker] = data['Close']\n"
     ]
    },
    {
     "name": "stdout",
     "output_type": "stream",
     "text": [
      "Successfully fetched data for LPE.AX\n"
     ]
    },
    {
     "name": "stderr",
     "output_type": "stream",
     "text": [
      "[*********************100%***********************]  1 of 1 completed\n",
      "/var/folders/mb/34z82c2579x79_xxtnfk70200000gn/T/ipykernel_76375/3456026219.py:21: PerformanceWarning: DataFrame is highly fragmented.  This is usually the result of calling `frame.insert` many times, which has poor performance.  Consider joining all columns at once using pd.concat(axis=1) instead. To get a de-fragmented frame, use `newframe = frame.copy()`\n",
      "  all_data[ticker] = data['Close']\n"
     ]
    },
    {
     "name": "stdout",
     "output_type": "stream",
     "text": [
      "Successfully fetched data for ECP.AX\n"
     ]
    },
    {
     "name": "stderr",
     "output_type": "stream",
     "text": [
      "[*********************100%***********************]  1 of 1 completed\n",
      "/var/folders/mb/34z82c2579x79_xxtnfk70200000gn/T/ipykernel_76375/3456026219.py:21: PerformanceWarning: DataFrame is highly fragmented.  This is usually the result of calling `frame.insert` many times, which has poor performance.  Consider joining all columns at once using pd.concat(axis=1) instead. To get a de-fragmented frame, use `newframe = frame.copy()`\n",
      "  all_data[ticker] = data['Close']\n"
     ]
    },
    {
     "name": "stdout",
     "output_type": "stream",
     "text": [
      "Successfully fetched data for WHC.AX\n"
     ]
    },
    {
     "name": "stderr",
     "output_type": "stream",
     "text": [
      "[*********************100%***********************]  1 of 1 completed\n",
      "/var/folders/mb/34z82c2579x79_xxtnfk70200000gn/T/ipykernel_76375/3456026219.py:21: PerformanceWarning: DataFrame is highly fragmented.  This is usually the result of calling `frame.insert` many times, which has poor performance.  Consider joining all columns at once using pd.concat(axis=1) instead. To get a de-fragmented frame, use `newframe = frame.copy()`\n",
      "  all_data[ticker] = data['Close']\n"
     ]
    },
    {
     "name": "stdout",
     "output_type": "stream",
     "text": [
      "Successfully fetched data for BFG.AX\n"
     ]
    },
    {
     "name": "stderr",
     "output_type": "stream",
     "text": [
      "[*********************100%***********************]  1 of 1 completed\n",
      "/var/folders/mb/34z82c2579x79_xxtnfk70200000gn/T/ipykernel_76375/3456026219.py:21: PerformanceWarning: DataFrame is highly fragmented.  This is usually the result of calling `frame.insert` many times, which has poor performance.  Consider joining all columns at once using pd.concat(axis=1) instead. To get a de-fragmented frame, use `newframe = frame.copy()`\n",
      "  all_data[ticker] = data['Close']\n"
     ]
    },
    {
     "name": "stdout",
     "output_type": "stream",
     "text": [
      "Successfully fetched data for BOQ.AX\n"
     ]
    },
    {
     "name": "stderr",
     "output_type": "stream",
     "text": [
      "[*********************100%***********************]  1 of 1 completed\n",
      "/var/folders/mb/34z82c2579x79_xxtnfk70200000gn/T/ipykernel_76375/3456026219.py:21: PerformanceWarning: DataFrame is highly fragmented.  This is usually the result of calling `frame.insert` many times, which has poor performance.  Consider joining all columns at once using pd.concat(axis=1) instead. To get a de-fragmented frame, use `newframe = frame.copy()`\n",
      "  all_data[ticker] = data['Close']\n"
     ]
    },
    {
     "name": "stdout",
     "output_type": "stream",
     "text": [
      "Successfully fetched data for CU6.AX\n"
     ]
    },
    {
     "name": "stderr",
     "output_type": "stream",
     "text": [
      "[*********************100%***********************]  1 of 1 completed\n",
      "/var/folders/mb/34z82c2579x79_xxtnfk70200000gn/T/ipykernel_76375/3456026219.py:21: PerformanceWarning: DataFrame is highly fragmented.  This is usually the result of calling `frame.insert` many times, which has poor performance.  Consider joining all columns at once using pd.concat(axis=1) instead. To get a de-fragmented frame, use `newframe = frame.copy()`\n",
      "  all_data[ticker] = data['Close']\n"
     ]
    },
    {
     "name": "stdout",
     "output_type": "stream",
     "text": [
      "Successfully fetched data for AII.AX\n"
     ]
    },
    {
     "name": "stderr",
     "output_type": "stream",
     "text": [
      "[*********************100%***********************]  1 of 1 completed\n",
      "/var/folders/mb/34z82c2579x79_xxtnfk70200000gn/T/ipykernel_76375/3456026219.py:21: PerformanceWarning: DataFrame is highly fragmented.  This is usually the result of calling `frame.insert` many times, which has poor performance.  Consider joining all columns at once using pd.concat(axis=1) instead. To get a de-fragmented frame, use `newframe = frame.copy()`\n",
      "  all_data[ticker] = data['Close']\n"
     ]
    },
    {
     "name": "stdout",
     "output_type": "stream",
     "text": [
      "Successfully fetched data for GSS.AX\n"
     ]
    },
    {
     "name": "stderr",
     "output_type": "stream",
     "text": [
      "[*********************100%***********************]  1 of 1 completed\n",
      "/var/folders/mb/34z82c2579x79_xxtnfk70200000gn/T/ipykernel_76375/3456026219.py:21: PerformanceWarning: DataFrame is highly fragmented.  This is usually the result of calling `frame.insert` many times, which has poor performance.  Consider joining all columns at once using pd.concat(axis=1) instead. To get a de-fragmented frame, use `newframe = frame.copy()`\n",
      "  all_data[ticker] = data['Close']\n"
     ]
    },
    {
     "name": "stdout",
     "output_type": "stream",
     "text": [
      "Successfully fetched data for CD3.AX\n"
     ]
    },
    {
     "name": "stderr",
     "output_type": "stream",
     "text": [
      "[*********************100%***********************]  1 of 1 completed\n",
      "/var/folders/mb/34z82c2579x79_xxtnfk70200000gn/T/ipykernel_76375/3456026219.py:21: PerformanceWarning: DataFrame is highly fragmented.  This is usually the result of calling `frame.insert` many times, which has poor performance.  Consider joining all columns at once using pd.concat(axis=1) instead. To get a de-fragmented frame, use `newframe = frame.copy()`\n",
      "  all_data[ticker] = data['Close']\n"
     ]
    },
    {
     "name": "stdout",
     "output_type": "stream",
     "text": [
      "Successfully fetched data for GEM.AX\n"
     ]
    },
    {
     "name": "stderr",
     "output_type": "stream",
     "text": [
      "[*********************100%***********************]  1 of 1 completed\n",
      "/var/folders/mb/34z82c2579x79_xxtnfk70200000gn/T/ipykernel_76375/3456026219.py:21: PerformanceWarning: DataFrame is highly fragmented.  This is usually the result of calling `frame.insert` many times, which has poor performance.  Consider joining all columns at once using pd.concat(axis=1) instead. To get a de-fragmented frame, use `newframe = frame.copy()`\n",
      "  all_data[ticker] = data['Close']\n"
     ]
    },
    {
     "name": "stdout",
     "output_type": "stream",
     "text": [
      "Successfully fetched data for MMI.AX\n"
     ]
    },
    {
     "name": "stderr",
     "output_type": "stream",
     "text": [
      "[*********************100%***********************]  1 of 1 completed\n",
      "/var/folders/mb/34z82c2579x79_xxtnfk70200000gn/T/ipykernel_76375/3456026219.py:21: PerformanceWarning: DataFrame is highly fragmented.  This is usually the result of calling `frame.insert` many times, which has poor performance.  Consider joining all columns at once using pd.concat(axis=1) instead. To get a de-fragmented frame, use `newframe = frame.copy()`\n",
      "  all_data[ticker] = data['Close']\n"
     ]
    },
    {
     "name": "stdout",
     "output_type": "stream",
     "text": [
      "Successfully fetched data for AAP.AX\n"
     ]
    },
    {
     "name": "stderr",
     "output_type": "stream",
     "text": [
      "[*********************100%***********************]  1 of 1 completed\n",
      "/var/folders/mb/34z82c2579x79_xxtnfk70200000gn/T/ipykernel_76375/3456026219.py:21: PerformanceWarning: DataFrame is highly fragmented.  This is usually the result of calling `frame.insert` many times, which has poor performance.  Consider joining all columns at once using pd.concat(axis=1) instead. To get a de-fragmented frame, use `newframe = frame.copy()`\n",
      "  all_data[ticker] = data['Close']\n"
     ]
    },
    {
     "name": "stdout",
     "output_type": "stream",
     "text": [
      "Successfully fetched data for SEG.AX\n"
     ]
    },
    {
     "name": "stderr",
     "output_type": "stream",
     "text": [
      "[*********************100%***********************]  1 of 1 completed\n",
      "/var/folders/mb/34z82c2579x79_xxtnfk70200000gn/T/ipykernel_76375/3456026219.py:21: PerformanceWarning: DataFrame is highly fragmented.  This is usually the result of calling `frame.insert` many times, which has poor performance.  Consider joining all columns at once using pd.concat(axis=1) instead. To get a de-fragmented frame, use `newframe = frame.copy()`\n",
      "  all_data[ticker] = data['Close']\n"
     ]
    },
    {
     "name": "stdout",
     "output_type": "stream",
     "text": [
      "Successfully fetched data for MEZ.AX\n"
     ]
    },
    {
     "name": "stderr",
     "output_type": "stream",
     "text": [
      "[*********************100%***********************]  1 of 1 completed\n",
      "/var/folders/mb/34z82c2579x79_xxtnfk70200000gn/T/ipykernel_76375/3456026219.py:21: PerformanceWarning: DataFrame is highly fragmented.  This is usually the result of calling `frame.insert` many times, which has poor performance.  Consider joining all columns at once using pd.concat(axis=1) instead. To get a de-fragmented frame, use `newframe = frame.copy()`\n",
      "  all_data[ticker] = data['Close']\n"
     ]
    },
    {
     "name": "stdout",
     "output_type": "stream",
     "text": [
      "Successfully fetched data for MAU.AX\n"
     ]
    },
    {
     "name": "stderr",
     "output_type": "stream",
     "text": [
      "[*********************100%***********************]  1 of 1 completed\n",
      "/var/folders/mb/34z82c2579x79_xxtnfk70200000gn/T/ipykernel_76375/3456026219.py:21: PerformanceWarning: DataFrame is highly fragmented.  This is usually the result of calling `frame.insert` many times, which has poor performance.  Consider joining all columns at once using pd.concat(axis=1) instead. To get a de-fragmented frame, use `newframe = frame.copy()`\n",
      "  all_data[ticker] = data['Close']\n"
     ]
    },
    {
     "name": "stdout",
     "output_type": "stream",
     "text": [
      "Successfully fetched data for ARF.AX\n"
     ]
    },
    {
     "name": "stderr",
     "output_type": "stream",
     "text": [
      "[*********************100%***********************]  1 of 1 completed\n",
      "/var/folders/mb/34z82c2579x79_xxtnfk70200000gn/T/ipykernel_76375/3456026219.py:21: PerformanceWarning: DataFrame is highly fragmented.  This is usually the result of calling `frame.insert` many times, which has poor performance.  Consider joining all columns at once using pd.concat(axis=1) instead. To get a de-fragmented frame, use `newframe = frame.copy()`\n",
      "  all_data[ticker] = data['Close']\n"
     ]
    },
    {
     "name": "stdout",
     "output_type": "stream",
     "text": [
      "Successfully fetched data for CHW.AX\n"
     ]
    },
    {
     "name": "stderr",
     "output_type": "stream",
     "text": [
      "[*********************100%***********************]  1 of 1 completed\n",
      "/var/folders/mb/34z82c2579x79_xxtnfk70200000gn/T/ipykernel_76375/3456026219.py:21: PerformanceWarning: DataFrame is highly fragmented.  This is usually the result of calling `frame.insert` many times, which has poor performance.  Consider joining all columns at once using pd.concat(axis=1) instead. To get a de-fragmented frame, use `newframe = frame.copy()`\n",
      "  all_data[ticker] = data['Close']\n"
     ]
    },
    {
     "name": "stdout",
     "output_type": "stream",
     "text": [
      "Successfully fetched data for WHF.AX\n"
     ]
    },
    {
     "name": "stderr",
     "output_type": "stream",
     "text": [
      "[*********************100%***********************]  1 of 1 completed\n",
      "/var/folders/mb/34z82c2579x79_xxtnfk70200000gn/T/ipykernel_76375/3456026219.py:21: PerformanceWarning: DataFrame is highly fragmented.  This is usually the result of calling `frame.insert` many times, which has poor performance.  Consider joining all columns at once using pd.concat(axis=1) instead. To get a de-fragmented frame, use `newframe = frame.copy()`\n",
      "  all_data[ticker] = data['Close']\n"
     ]
    },
    {
     "name": "stdout",
     "output_type": "stream",
     "text": [
      "Successfully fetched data for TTT.AX\n"
     ]
    },
    {
     "name": "stderr",
     "output_type": "stream",
     "text": [
      "[*********************100%***********************]  1 of 1 completed\n",
      "/var/folders/mb/34z82c2579x79_xxtnfk70200000gn/T/ipykernel_76375/3456026219.py:21: PerformanceWarning: DataFrame is highly fragmented.  This is usually the result of calling `frame.insert` many times, which has poor performance.  Consider joining all columns at once using pd.concat(axis=1) instead. To get a de-fragmented frame, use `newframe = frame.copy()`\n",
      "  all_data[ticker] = data['Close']\n"
     ]
    },
    {
     "name": "stdout",
     "output_type": "stream",
     "text": [
      "Successfully fetched data for SXE.AX\n"
     ]
    },
    {
     "name": "stderr",
     "output_type": "stream",
     "text": [
      "[*********************100%***********************]  1 of 1 completed\n",
      "/var/folders/mb/34z82c2579x79_xxtnfk70200000gn/T/ipykernel_76375/3456026219.py:21: PerformanceWarning: DataFrame is highly fragmented.  This is usually the result of calling `frame.insert` many times, which has poor performance.  Consider joining all columns at once using pd.concat(axis=1) instead. To get a de-fragmented frame, use `newframe = frame.copy()`\n",
      "  all_data[ticker] = data['Close']\n"
     ]
    },
    {
     "name": "stdout",
     "output_type": "stream",
     "text": [
      "Successfully fetched data for BIS.AX\n"
     ]
    },
    {
     "name": "stderr",
     "output_type": "stream",
     "text": [
      "[*********************100%***********************]  1 of 1 completed\n",
      "/var/folders/mb/34z82c2579x79_xxtnfk70200000gn/T/ipykernel_76375/3456026219.py:21: PerformanceWarning: DataFrame is highly fragmented.  This is usually the result of calling `frame.insert` many times, which has poor performance.  Consider joining all columns at once using pd.concat(axis=1) instead. To get a de-fragmented frame, use `newframe = frame.copy()`\n",
      "  all_data[ticker] = data['Close']\n"
     ]
    },
    {
     "name": "stdout",
     "output_type": "stream",
     "text": [
      "Successfully fetched data for NGE.AX\n"
     ]
    },
    {
     "name": "stderr",
     "output_type": "stream",
     "text": [
      "[*********************100%***********************]  1 of 1 completed\n",
      "/var/folders/mb/34z82c2579x79_xxtnfk70200000gn/T/ipykernel_76375/3456026219.py:21: PerformanceWarning: DataFrame is highly fragmented.  This is usually the result of calling `frame.insert` many times, which has poor performance.  Consider joining all columns at once using pd.concat(axis=1) instead. To get a de-fragmented frame, use `newframe = frame.copy()`\n",
      "  all_data[ticker] = data['Close']\n"
     ]
    },
    {
     "name": "stdout",
     "output_type": "stream",
     "text": [
      "Successfully fetched data for SGLLV.AX\n"
     ]
    },
    {
     "name": "stderr",
     "output_type": "stream",
     "text": [
      "[*********************100%***********************]  1 of 1 completed\n",
      "/var/folders/mb/34z82c2579x79_xxtnfk70200000gn/T/ipykernel_76375/3456026219.py:21: PerformanceWarning: DataFrame is highly fragmented.  This is usually the result of calling `frame.insert` many times, which has poor performance.  Consider joining all columns at once using pd.concat(axis=1) instead. To get a de-fragmented frame, use `newframe = frame.copy()`\n",
      "  all_data[ticker] = data['Close']\n"
     ]
    },
    {
     "name": "stdout",
     "output_type": "stream",
     "text": [
      "Successfully fetched data for WTC.AX\n"
     ]
    },
    {
     "name": "stderr",
     "output_type": "stream",
     "text": [
      "[*********************100%***********************]  1 of 1 completed\n",
      "/var/folders/mb/34z82c2579x79_xxtnfk70200000gn/T/ipykernel_76375/3456026219.py:21: PerformanceWarning: DataFrame is highly fragmented.  This is usually the result of calling `frame.insert` many times, which has poor performance.  Consider joining all columns at once using pd.concat(axis=1) instead. To get a de-fragmented frame, use `newframe = frame.copy()`\n",
      "  all_data[ticker] = data['Close']\n"
     ]
    },
    {
     "name": "stdout",
     "output_type": "stream",
     "text": [
      "Successfully fetched data for NWH.AX\n"
     ]
    },
    {
     "name": "stderr",
     "output_type": "stream",
     "text": [
      "[*********************100%***********************]  1 of 1 completed\n",
      "/var/folders/mb/34z82c2579x79_xxtnfk70200000gn/T/ipykernel_76375/3456026219.py:21: PerformanceWarning: DataFrame is highly fragmented.  This is usually the result of calling `frame.insert` many times, which has poor performance.  Consider joining all columns at once using pd.concat(axis=1) instead. To get a de-fragmented frame, use `newframe = frame.copy()`\n",
      "  all_data[ticker] = data['Close']\n"
     ]
    },
    {
     "name": "stdout",
     "output_type": "stream",
     "text": [
      "Successfully fetched data for RDX.AX\n"
     ]
    },
    {
     "name": "stderr",
     "output_type": "stream",
     "text": [
      "[*********************100%***********************]  1 of 1 completed\n",
      "/var/folders/mb/34z82c2579x79_xxtnfk70200000gn/T/ipykernel_76375/3456026219.py:21: PerformanceWarning: DataFrame is highly fragmented.  This is usually the result of calling `frame.insert` many times, which has poor performance.  Consider joining all columns at once using pd.concat(axis=1) instead. To get a de-fragmented frame, use `newframe = frame.copy()`\n",
      "  all_data[ticker] = data['Close']\n"
     ]
    },
    {
     "name": "stdout",
     "output_type": "stream",
     "text": [
      "Successfully fetched data for WAF.AX\n"
     ]
    },
    {
     "name": "stderr",
     "output_type": "stream",
     "text": [
      "[*********************100%***********************]  1 of 1 completed\n",
      "/var/folders/mb/34z82c2579x79_xxtnfk70200000gn/T/ipykernel_76375/3456026219.py:21: PerformanceWarning: DataFrame is highly fragmented.  This is usually the result of calling `frame.insert` many times, which has poor performance.  Consider joining all columns at once using pd.concat(axis=1) instead. To get a de-fragmented frame, use `newframe = frame.copy()`\n",
      "  all_data[ticker] = data['Close']\n"
     ]
    },
    {
     "name": "stdout",
     "output_type": "stream",
     "text": [
      "Successfully fetched data for TPC.AX\n"
     ]
    },
    {
     "name": "stderr",
     "output_type": "stream",
     "text": [
      "[*********************100%***********************]  1 of 1 completed\n",
      "/var/folders/mb/34z82c2579x79_xxtnfk70200000gn/T/ipykernel_76375/3456026219.py:21: PerformanceWarning: DataFrame is highly fragmented.  This is usually the result of calling `frame.insert` many times, which has poor performance.  Consider joining all columns at once using pd.concat(axis=1) instead. To get a de-fragmented frame, use `newframe = frame.copy()`\n",
      "  all_data[ticker] = data['Close']\n"
     ]
    },
    {
     "name": "stdout",
     "output_type": "stream",
     "text": [
      "Successfully fetched data for BKI.AX\n"
     ]
    },
    {
     "name": "stderr",
     "output_type": "stream",
     "text": [
      "[*********************100%***********************]  1 of 1 completed\n",
      "/var/folders/mb/34z82c2579x79_xxtnfk70200000gn/T/ipykernel_76375/3456026219.py:21: PerformanceWarning: DataFrame is highly fragmented.  This is usually the result of calling `frame.insert` many times, which has poor performance.  Consider joining all columns at once using pd.concat(axis=1) instead. To get a de-fragmented frame, use `newframe = frame.copy()`\n",
      "  all_data[ticker] = data['Close']\n"
     ]
    },
    {
     "name": "stdout",
     "output_type": "stream",
     "text": [
      "Successfully fetched data for APW.AX\n"
     ]
    },
    {
     "name": "stderr",
     "output_type": "stream",
     "text": [
      "[*********************100%***********************]  1 of 1 completed\n",
      "/var/folders/mb/34z82c2579x79_xxtnfk70200000gn/T/ipykernel_76375/3456026219.py:21: PerformanceWarning: DataFrame is highly fragmented.  This is usually the result of calling `frame.insert` many times, which has poor performance.  Consider joining all columns at once using pd.concat(axis=1) instead. To get a de-fragmented frame, use `newframe = frame.copy()`\n",
      "  all_data[ticker] = data['Close']\n"
     ]
    },
    {
     "name": "stdout",
     "output_type": "stream",
     "text": [
      "Successfully fetched data for OPH.AX\n"
     ]
    },
    {
     "name": "stderr",
     "output_type": "stream",
     "text": [
      "[*********************100%***********************]  1 of 1 completed\n",
      "/var/folders/mb/34z82c2579x79_xxtnfk70200000gn/T/ipykernel_76375/3456026219.py:21: PerformanceWarning: DataFrame is highly fragmented.  This is usually the result of calling `frame.insert` many times, which has poor performance.  Consider joining all columns at once using pd.concat(axis=1) instead. To get a de-fragmented frame, use `newframe = frame.copy()`\n",
      "  all_data[ticker] = data['Close']\n"
     ]
    },
    {
     "name": "stdout",
     "output_type": "stream",
     "text": [
      "Successfully fetched data for NWSLV.AX\n"
     ]
    },
    {
     "name": "stderr",
     "output_type": "stream",
     "text": [
      "[*********************100%***********************]  1 of 1 completed\n",
      "/var/folders/mb/34z82c2579x79_xxtnfk70200000gn/T/ipykernel_76375/3456026219.py:21: PerformanceWarning: DataFrame is highly fragmented.  This is usually the result of calling `frame.insert` many times, which has poor performance.  Consider joining all columns at once using pd.concat(axis=1) instead. To get a de-fragmented frame, use `newframe = frame.copy()`\n",
      "  all_data[ticker] = data['Close']\n"
     ]
    },
    {
     "name": "stdout",
     "output_type": "stream",
     "text": [
      "Successfully fetched data for RSG.AX\n"
     ]
    },
    {
     "name": "stderr",
     "output_type": "stream",
     "text": [
      "[*********************100%***********************]  1 of 1 completed\n",
      "/var/folders/mb/34z82c2579x79_xxtnfk70200000gn/T/ipykernel_76375/3456026219.py:21: PerformanceWarning: DataFrame is highly fragmented.  This is usually the result of calling `frame.insert` many times, which has poor performance.  Consider joining all columns at once using pd.concat(axis=1) instead. To get a de-fragmented frame, use `newframe = frame.copy()`\n",
      "  all_data[ticker] = data['Close']\n"
     ]
    },
    {
     "name": "stdout",
     "output_type": "stream",
     "text": [
      "Successfully fetched data for AFI.AX\n"
     ]
    },
    {
     "name": "stderr",
     "output_type": "stream",
     "text": [
      "[*********************100%***********************]  1 of 1 completed\n",
      "/var/folders/mb/34z82c2579x79_xxtnfk70200000gn/T/ipykernel_76375/3456026219.py:21: PerformanceWarning: DataFrame is highly fragmented.  This is usually the result of calling `frame.insert` many times, which has poor performance.  Consider joining all columns at once using pd.concat(axis=1) instead. To get a de-fragmented frame, use `newframe = frame.copy()`\n",
      "  all_data[ticker] = data['Close']\n"
     ]
    },
    {
     "name": "stdout",
     "output_type": "stream",
     "text": [
      "Successfully fetched data for HDN.AX\n"
     ]
    },
    {
     "name": "stderr",
     "output_type": "stream",
     "text": [
      "[*********************100%***********************]  1 of 1 completed\n",
      "/var/folders/mb/34z82c2579x79_xxtnfk70200000gn/T/ipykernel_76375/3456026219.py:21: PerformanceWarning: DataFrame is highly fragmented.  This is usually the result of calling `frame.insert` many times, which has poor performance.  Consider joining all columns at once using pd.concat(axis=1) instead. To get a de-fragmented frame, use `newframe = frame.copy()`\n",
      "  all_data[ticker] = data['Close']\n"
     ]
    },
    {
     "name": "stdout",
     "output_type": "stream",
     "text": [
      "Successfully fetched data for EEG.AX\n"
     ]
    },
    {
     "name": "stderr",
     "output_type": "stream",
     "text": [
      "[*********************100%***********************]  1 of 1 completed\n",
      "/var/folders/mb/34z82c2579x79_xxtnfk70200000gn/T/ipykernel_76375/3456026219.py:21: PerformanceWarning: DataFrame is highly fragmented.  This is usually the result of calling `frame.insert` many times, which has poor performance.  Consider joining all columns at once using pd.concat(axis=1) instead. To get a de-fragmented frame, use `newframe = frame.copy()`\n",
      "  all_data[ticker] = data['Close']\n"
     ]
    },
    {
     "name": "stdout",
     "output_type": "stream",
     "text": [
      "Successfully fetched data for GQG.AX\n"
     ]
    },
    {
     "name": "stderr",
     "output_type": "stream",
     "text": [
      "[*********************100%***********************]  1 of 1 completed\n",
      "/var/folders/mb/34z82c2579x79_xxtnfk70200000gn/T/ipykernel_76375/3456026219.py:21: PerformanceWarning: DataFrame is highly fragmented.  This is usually the result of calling `frame.insert` many times, which has poor performance.  Consider joining all columns at once using pd.concat(axis=1) instead. To get a de-fragmented frame, use `newframe = frame.copy()`\n",
      "  all_data[ticker] = data['Close']\n"
     ]
    },
    {
     "name": "stdout",
     "output_type": "stream",
     "text": [
      "Successfully fetched data for EBG.AX\n"
     ]
    },
    {
     "name": "stderr",
     "output_type": "stream",
     "text": [
      "[*********************100%***********************]  1 of 1 completed\n",
      "/var/folders/mb/34z82c2579x79_xxtnfk70200000gn/T/ipykernel_76375/3456026219.py:21: PerformanceWarning: DataFrame is highly fragmented.  This is usually the result of calling `frame.insert` many times, which has poor performance.  Consider joining all columns at once using pd.concat(axis=1) instead. To get a de-fragmented frame, use `newframe = frame.copy()`\n",
      "  all_data[ticker] = data['Close']\n"
     ]
    },
    {
     "name": "stdout",
     "output_type": "stream",
     "text": [
      "Successfully fetched data for CBO.AX\n"
     ]
    },
    {
     "name": "stderr",
     "output_type": "stream",
     "text": [
      "[*********************100%***********************]  1 of 1 completed\n",
      "/var/folders/mb/34z82c2579x79_xxtnfk70200000gn/T/ipykernel_76375/3456026219.py:21: PerformanceWarning: DataFrame is highly fragmented.  This is usually the result of calling `frame.insert` many times, which has poor performance.  Consider joining all columns at once using pd.concat(axis=1) instead. To get a de-fragmented frame, use `newframe = frame.copy()`\n",
      "  all_data[ticker] = data['Close']\n"
     ]
    },
    {
     "name": "stdout",
     "output_type": "stream",
     "text": [
      "Successfully fetched data for DOW.AX\n"
     ]
    },
    {
     "name": "stderr",
     "output_type": "stream",
     "text": [
      "[*********************100%***********************]  1 of 1 completed\n",
      "/var/folders/mb/34z82c2579x79_xxtnfk70200000gn/T/ipykernel_76375/3456026219.py:21: PerformanceWarning: DataFrame is highly fragmented.  This is usually the result of calling `frame.insert` many times, which has poor performance.  Consider joining all columns at once using pd.concat(axis=1) instead. To get a de-fragmented frame, use `newframe = frame.copy()`\n",
      "  all_data[ticker] = data['Close']\n"
     ]
    },
    {
     "name": "stdout",
     "output_type": "stream",
     "text": [
      "Successfully fetched data for CAM.AX\n",
      "[Date\n",
      "2024-06-06     9.607646\n",
      "2024-06-07     9.588839\n",
      "2024-06-11     9.537990\n",
      "2024-06-12     9.541258\n",
      "2024-06-13     9.594276\n",
      "                ...    \n",
      "2024-09-23    10.616221\n",
      "2024-09-24    10.722325\n",
      "2024-09-25    10.491216\n",
      "2024-09-26    10.656239\n",
      "2024-09-27    10.689193\n",
      "Name: Average, Length: 81, dtype: float64]\n",
      "All stock data has been saved to ASX_price.csv\n"
     ]
    },
    {
     "name": "stderr",
     "output_type": "stream",
     "text": [
      "/var/folders/mb/34z82c2579x79_xxtnfk70200000gn/T/ipykernel_76375/3456026219.py:44: PerformanceWarning: DataFrame is highly fragmented.  This is usually the result of calling `frame.insert` many times, which has poor performance.  Consider joining all columns at once using pd.concat(axis=1) instead. To get a de-fragmented frame, use `newframe = frame.copy()`\n",
      "  all_data['Average'] = all_data.mean(axis=1)\n"
     ]
    }
   ],
   "source": [
    "import pandas as pd\n",
    "import yfinance as yf\n",
    "import time\n",
    "\n",
    "# Load ASX listed companies data\n",
    "file_path = '200_stocks.csv'\n",
    "asx_companies = pd.read_csv(file_path)\n",
    "\n",
    "# Extract ASX stock codes (add suffix \".AX\" for yfinance fetching)\n",
    "asx_companies['Ticker'] = asx_companies['ASX code']\n",
    "\n",
    "# Set time range\n",
    "start_date = \"2024-06-06\"\n",
    "end_date = \"2024-09-30\"\n",
    "\n",
    "# Define function to fetch historical stock prices for a single stock\n",
    "def fetch_stock_data(ticker, start_date, end_date):\n",
    "    try:\n",
    "        data = yf.download(ticker, start=start_date, end=end_date)\n",
    "        if not data.empty:\n",
    "            all_data[ticker] = data['Close'] \n",
    "            print(f\"Successfully fetched data for {ticker}\")\n",
    "            return all_data\n",
    "        else:\n",
    "            print(f\"No historical data for stock {ticker}\")\n",
    "            return pd.DataFrame()\n",
    "    except Exception as e:\n",
    "        print(f\"Failed to fetch data for {ticker}: {e}\")\n",
    "        return pd.DataFrame()\n",
    "\n",
    "# Fetch data for all stocks\n",
    "all_data = pd.DataFrame()\n",
    "data_mean = []\n",
    "for ticker in asx_companies['Ticker']:\n",
    "    all_data = fetch_stock_data(ticker, start_date, end_date)\n",
    "    \n",
    "    #print(all_data)\n",
    "    #if not all_data.empty:\n",
    "       #weak_mean.append(all_data['Average'])\n",
    "    #print(all_data, weak_mean)\n",
    "    \n",
    "    time.sleep(1)  # Limit request frequency to avoid being banned\n",
    "\n",
    "all_data['Average'] = all_data.mean(axis=1)\n",
    "data_mean.append(all_data['Average'])\n",
    "#print(weak_mean)\n",
    "# Combine all data and save to CSV file\n",
    "if data_mean:\n",
    "    combined_data = pd.concat(data_mean)\n",
    "    combined_data.to_csv(\"ASX_price.csv\", index=False)\n",
    "    print(\"All stock data has been saved to ASX_price.csv\")\n",
    "else:\n",
    "    print(\"Failed to fetch any data successfully\")"
   ]
  },
  {
   "cell_type": "code",
   "execution_count": 40,
   "metadata": {},
   "outputs": [
    {
     "name": "stdout",
     "output_type": "stream",
     "text": [
      "Y = [4452.80802554]  +  [368.93711919] X\n",
      "ANOVA Table:\n",
      "       Source  Degrees of Freedom  Sum of Squares     Mean Square F-statistic  \\\n",
      "0  Regression                   1    1.452167e+06  1452166.761213  292.772191   \n",
      "1    Residual                  79    3.918445e+05     4960.057019               \n",
      "2       Total                  80    1.844011e+06                               \n",
      "\n",
      "  p-value  \n",
      "0     0.0  \n",
      "1          \n",
      "2          \n",
      "P-value: 2.7072167074258093e-28\n",
      "R-squared: 0.7875042784215807\n"
     ]
    }
   ],
   "source": [
    "import pandas as pd\n",
    "import numpy as np\n",
    "from scipy import stats\n",
    "from sklearn.linear_model import LinearRegression\n",
    "import statsmodels.api as sm\n",
    "\n",
    "#Set the Y and X for the regression\n",
    "Y = AORD_close_data[[market_ticker]]\n",
    "X = all_data[['Average']]\n",
    "\n",
    "#print(Y, X)\n",
    "\n",
    "#Do the model fitting\n",
    "model = LinearRegression()\n",
    "model.fit(X, Y)\n",
    "\n",
    "#Find the coefficients\n",
    "coef = model.coef_[0]\n",
    "intercept = model.intercept_\n",
    "print('Y =', intercept,' + ',coef, 'X')\n",
    "\n",
    "\n",
    "\n",
    "# Perform ANOVA for the regression\n",
    "#anova_table = sm.stats.anova_lm(model2)\n",
    "#print(\"\\nANOVA Table:\")\n",
    "#print(anova_table)\n",
    "\n",
    "mean_y = np.mean(AORD_close_data[[market_ticker]])\n",
    "\n",
    "#Calculate total sum of squares (SST)\n",
    "sst = np.sum((AORD_close_data['^AORD'] - mean_y) ** 2)\n",
    "\n",
    "#Calculate regression sum of squares (SSR)\n",
    "ssr = np.sum((coef * all_data['Average'] + intercept - mean_y) ** 2)\n",
    "\n",
    "#Calculate residual sum of squares (SSE)\n",
    "sse = sst - ssr\n",
    "\n",
    "#Calculate degrees of freedom\n",
    "n = len(AORD_close_data['^AORD'])\n",
    "df_reg = 1 \n",
    "df_resid = n - 2\n",
    "\n",
    "#Calculate mean squares\n",
    "ms_reg = ssr / df_reg \n",
    "ms_resid = sse / df_resid\n",
    "\n",
    "#Calculate F-statistic\n",
    "f_statistic = ms_reg / ms_resid\n",
    "\n",
    "#Calculate p-value\n",
    "p_value = stats.f.sf(f_statistic, df_reg, df_resid)\n",
    "\n",
    "\n",
    "anova_table = pd.DataFrame({ 'Source': ['Regression', 'Residual', 'Total'], 'Degrees of Freedom': [df_reg, df_resid, n-1], 'Sum of Squares': [ssr, sse, sst], 'Mean Square': [ms_reg, ms_resid, ''], 'F-statistic': [f_statistic, '', ''], 'p-value': [p_value, '', ''] })\n",
    "print(\"ANOVA Table:\") \n",
    "print(anova_table)\n",
    "print('P-value:', p_value)\n",
    "\n",
    "\n",
    "#Using another model fitting method of OLS\n",
    "X = sm.add_constant(all_data[['Average']])\n",
    "Y = AORD_close_data[[market_ticker]]\n",
    "model2 = sm.OLS(Y, X).fit()\n",
    "\n",
    "# Get the R-squared value\n",
    "r_squared = model2.rsquared\n",
    "print(\"R-squared:\", r_squared)"
   ]
  }
 ],
 "metadata": {
  "kernelspec": {
   "display_name": "base",
   "language": "python",
   "name": "python3"
  },
  "language_info": {
   "codemirror_mode": {
    "name": "ipython",
    "version": 3
   },
   "file_extension": ".py",
   "mimetype": "text/x-python",
   "name": "python",
   "nbconvert_exporter": "python",
   "pygments_lexer": "ipython3",
   "version": "3.11.5"
  }
 },
 "nbformat": 4,
 "nbformat_minor": 2
}
