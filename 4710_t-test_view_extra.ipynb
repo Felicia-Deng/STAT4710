{
 "cells": [
  {
   "cell_type": "markdown",
   "metadata": {},
   "source": [
    "### Scrape the past year's prices (from June 7, 2023, to June 6, 2024) for all stocks in the Australian stock market."
   ]
  },
  {
   "cell_type": "code",
   "execution_count": 20,
   "metadata": {},
   "outputs": [
    {
     "name": "stdout",
     "output_type": "stream",
     "text": [
      "Successfully fetched data for 14D.AX\n",
      "Successfully fetched data for 1AD.AX\n",
      "Successfully fetched data for 1AE.AX\n",
      "Successfully fetched data for 1AI.AX\n",
      "Successfully fetched data for 1CG.AX\n"
     ]
    },
    {
     "name": "stderr",
     "output_type": "stream",
     "text": [
      "$1MC.AX: possibly delisted; no price data found  (1d 2023-06-07 -> 2024-06-06) (Yahoo error = \"Data doesn't exist for startDate = 1686060000, endDate = 1717596000\")\n"
     ]
    },
    {
     "name": "stdout",
     "output_type": "stream",
     "text": [
      "No historical data for stock 1MC.AX\n",
      "Successfully fetched data for 1TT.AX\n",
      "Successfully fetched data for 29M.AX\n",
      "Successfully fetched data for 360.AX\n",
      "Successfully fetched data for 3DA.AX\n",
      "Successfully fetched data for 3DP.AX\n",
      "Successfully fetched data for 3PL.AX\n",
      "Successfully fetched data for 4DS.AX\n",
      "Successfully fetched data for 4DX.AX\n",
      "Successfully fetched data for 5EA.AX\n"
     ]
    },
    {
     "ename": "KeyboardInterrupt",
     "evalue": "",
     "output_type": "error",
     "traceback": [
      "\u001b[0;31m---------------------------------------------------------------------------\u001b[0m",
      "\u001b[0;31mKeyboardInterrupt\u001b[0m                         Traceback (most recent call last)",
      "\u001b[1;32m/Users/feliciadeng/4710_t-test_view.ipynb 单元格 2\u001b[0m line \u001b[0;36m3\n\u001b[1;32m     <a href='vscode-notebook-cell:/Users/feliciadeng/4710_t-test_view.ipynb#W1sZmlsZQ%3D%3D?line=35'>36</a>\u001b[0m     \u001b[39mif\u001b[39;00m \u001b[39mnot\u001b[39;00m stock_data\u001b[39m.\u001b[39mempty:\n\u001b[1;32m     <a href='vscode-notebook-cell:/Users/feliciadeng/4710_t-test_view.ipynb#W1sZmlsZQ%3D%3D?line=36'>37</a>\u001b[0m         all_data\u001b[39m.\u001b[39mappend(stock_data)\n\u001b[0;32m---> <a href='vscode-notebook-cell:/Users/feliciadeng/4710_t-test_view.ipynb#W1sZmlsZQ%3D%3D?line=37'>38</a>\u001b[0m     time\u001b[39m.\u001b[39msleep(\u001b[39m1\u001b[39m)  \u001b[39m# Limit request frequency to avoid being banned\u001b[39;00m\n\u001b[1;32m     <a href='vscode-notebook-cell:/Users/feliciadeng/4710_t-test_view.ipynb#W1sZmlsZQ%3D%3D?line=39'>40</a>\u001b[0m \u001b[39m# Combine all data and save to CSV file\u001b[39;00m\n\u001b[1;32m     <a href='vscode-notebook-cell:/Users/feliciadeng/4710_t-test_view.ipynb#W1sZmlsZQ%3D%3D?line=40'>41</a>\u001b[0m \u001b[39mif\u001b[39;00m all_data:\n",
      "\u001b[0;31mKeyboardInterrupt\u001b[0m: "
     ]
    }
   ],
   "source": [
    "import pandas as pd\n",
    "import yfinance as yf\n",
    "import time\n",
    "\n",
    "# Load ASX listed companies data\n",
    "file_path = 'ASX_Listed_Companies_25-11-2024_02-49-49_AEDT.csv'\n",
    "asx_companies = pd.read_csv(file_path)\n",
    "\n",
    "# Extract ASX stock codes (add suffix \".AX\" for yfinance fetching)\n",
    "asx_companies['Ticker'] = asx_companies['ASX code'] + \".AX\"\n",
    "\n",
    "# Set time range\n",
    "start_date = \"2023-06-07\"\n",
    "end_date = \"2024-06-06\"\n",
    "\n",
    "# Define function to fetch historical stock prices for a single stock\n",
    "def fetch_stock_data(ticker, start_date, end_date):\n",
    "    try:\n",
    "        stock = yf.Ticker(ticker)\n",
    "        data = stock.history(start=start_date, end=end_date)\n",
    "        if not data.empty:\n",
    "            data['Ticker'] = ticker\n",
    "            print(f\"Successfully fetched data for {ticker}\")\n",
    "            return data\n",
    "        else:\n",
    "            print(f\"No historical data for stock {ticker}\")\n",
    "            return pd.DataFrame()\n",
    "    except Exception as e:\n",
    "        print(f\"Failed to fetch data for {ticker}: {e}\")\n",
    "        return pd.DataFrame()\n",
    "\n",
    "# Fetch data for all stocks\n",
    "all_data = []\n",
    "for ticker in asx_companies['Ticker']:\n",
    "    stock_data = fetch_stock_data(ticker, start_date, end_date)\n",
    "    if not stock_data.empty:\n",
    "        all_data.append(stock_data)\n",
    "    time.sleep(1)  # Limit request frequency to avoid being banned\n",
    "\n",
    "# Combine all data and save to CSV file\n",
    "if all_data:\n",
    "    combined_data = pd.concat(all_data)\n",
    "    combined_data.to_csv(\"ASX_Historical_Prices_2023-06-07_to_2024-06-06.csv\", index=False)\n",
    "    print(\"All stock data has been saved to ASX_Historical_Prices_2023-06-07_to_2024-06-06.csv\")\n",
    "else:\n",
    "    print(\"Failed to fetch any data successfully\")\n"
   ]
  },
  {
   "cell_type": "markdown",
   "metadata": {},
   "source": [
    "Get the weekly ^AORD and weekly average price for the top 200 companies"
   ]
  },
  {
   "cell_type": "code",
   "execution_count": 38,
   "metadata": {},
   "outputs": [
    {
     "name": "stderr",
     "output_type": "stream",
     "text": [
      "[*********************100%***********************]  1 of 1 completed\n"
     ]
    }
   ],
   "source": [
    "import pandas as pd\n",
    "import yfinance as yf\n",
    "import time\n",
    "\n",
    "market_ticker = \"^AORD\"\n",
    "# Create an empty DataFrame to store the data\n",
    "AORD_close_data = pd.DataFrame()\n",
    "\n",
    "start_date = '2024-06-06'\n",
    "end_date = '2024-09-30'\n",
    "# Fetch weekly close data for each stock symbol\n",
    "stock_data = yf.download(market_ticker, start=start_date, end=end_date)\n",
    "AORD_close_data[market_ticker] = stock_data['Close']\n",
    "data = AORD_close_data[market_ticker]\n",
    "\n",
    "data.to_csv(\"AORD_price.csv\", index=False)\n",
    "#print(\"All stock data has been saved to AORD_weekly_price.csv\")"
   ]
  },
  {
   "cell_type": "code",
   "execution_count": 39,
   "metadata": {},
   "outputs": [
    {
     "name": "stderr",
     "output_type": "stream",
     "text": [
      "[*********************100%***********************]  1 of 1 completed\n"
     ]
    },
    {
     "name": "stdout",
     "output_type": "stream",
     "text": [
      "Successfully fetched data for A3D.AX\n"
     ]
    },
    {
     "name": "stderr",
     "output_type": "stream",
     "text": [
      "[*********************100%***********************]  1 of 1 completed\n"
     ]
    },
    {
     "name": "stdout",
     "output_type": "stream",
     "text": [
      "Successfully fetched data for ACP.AX\n"
     ]
    },
    {
     "name": "stderr",
     "output_type": "stream",
     "text": [
      "[*********************100%***********************]  1 of 1 completed\n"
     ]
    },
    {
     "name": "stdout",
     "output_type": "stream",
     "text": [
      "Successfully fetched data for ATR.AX\n"
     ]
    },
    {
     "name": "stderr",
     "output_type": "stream",
     "text": [
      "[*********************100%***********************]  1 of 1 completed\n"
     ]
    },
    {
     "name": "stdout",
     "output_type": "stream",
     "text": [
      "Successfully fetched data for BOL.AX\n"
     ]
    },
    {
     "name": "stderr",
     "output_type": "stream",
     "text": [
      "[*********************100%***********************]  1 of 1 completed\n"
     ]
    },
    {
     "name": "stdout",
     "output_type": "stream",
     "text": [
      "Successfully fetched data for BRE.AX\n"
     ]
    },
    {
     "name": "stderr",
     "output_type": "stream",
     "text": [
      "[*********************100%***********************]  1 of 1 completed\n"
     ]
    },
    {
     "name": "stdout",
     "output_type": "stream",
     "text": [
      "Successfully fetched data for CBA.AX\n"
     ]
    },
    {
     "name": "stderr",
     "output_type": "stream",
     "text": [
      "[*********************100%***********************]  1 of 1 completed\n"
     ]
    },
    {
     "name": "stdout",
     "output_type": "stream",
     "text": [
      "Successfully fetched data for CCO.AX\n"
     ]
    },
    {
     "name": "stderr",
     "output_type": "stream",
     "text": [
      "[*********************100%***********************]  1 of 1 completed\n"
     ]
    },
    {
     "name": "stdout",
     "output_type": "stream",
     "text": [
      "Successfully fetched data for CE1.AX\n"
     ]
    },
    {
     "name": "stderr",
     "output_type": "stream",
     "text": [
      "[*********************100%***********************]  1 of 1 completed\n"
     ]
    },
    {
     "name": "stdout",
     "output_type": "stream",
     "text": [
      "Successfully fetched data for COV.AX\n"
     ]
    },
    {
     "name": "stderr",
     "output_type": "stream",
     "text": [
      "[*********************100%***********************]  1 of 1 completed\n"
     ]
    },
    {
     "name": "stdout",
     "output_type": "stream",
     "text": [
      "Successfully fetched data for DRO.AX\n"
     ]
    },
    {
     "name": "stderr",
     "output_type": "stream",
     "text": [
      "[*********************100%***********************]  1 of 1 completed\n"
     ]
    },
    {
     "name": "stdout",
     "output_type": "stream",
     "text": [
      "Successfully fetched data for DXN.AX\n"
     ]
    },
    {
     "name": "stderr",
     "output_type": "stream",
     "text": [
      "[*********************100%***********************]  1 of 1 completed\n"
     ]
    },
    {
     "name": "stdout",
     "output_type": "stream",
     "text": [
      "Successfully fetched data for EGL.AX\n"
     ]
    },
    {
     "name": "stderr",
     "output_type": "stream",
     "text": [
      "[*********************100%***********************]  1 of 1 completed\n"
     ]
    },
    {
     "name": "stdout",
     "output_type": "stream",
     "text": [
      "Successfully fetched data for EQT.AX\n"
     ]
    },
    {
     "name": "stderr",
     "output_type": "stream",
     "text": [
      "[*********************100%***********************]  1 of 1 completed\n"
     ]
    },
    {
     "name": "stdout",
     "output_type": "stream",
     "text": [
      "Successfully fetched data for EVO.AX\n"
     ]
    },
    {
     "name": "stderr",
     "output_type": "stream",
     "text": [
      "[*********************100%***********************]  1 of 1 completed\n"
     ]
    },
    {
     "name": "stdout",
     "output_type": "stream",
     "text": [
      "Successfully fetched data for FGG.AX\n"
     ]
    },
    {
     "name": "stderr",
     "output_type": "stream",
     "text": [
      "[*********************100%***********************]  1 of 1 completed\n"
     ]
    },
    {
     "name": "stdout",
     "output_type": "stream",
     "text": [
      "Successfully fetched data for FHE.AX\n"
     ]
    },
    {
     "name": "stderr",
     "output_type": "stream",
     "text": [
      "[*********************100%***********************]  1 of 1 completed\n"
     ]
    },
    {
     "name": "stdout",
     "output_type": "stream",
     "text": [
      "Successfully fetched data for FPH.AX\n"
     ]
    },
    {
     "name": "stderr",
     "output_type": "stream",
     "text": [
      "[*********************100%***********************]  1 of 1 completed\n"
     ]
    },
    {
     "name": "stdout",
     "output_type": "stream",
     "text": [
      "Successfully fetched data for FSF.AX\n"
     ]
    },
    {
     "name": "stderr",
     "output_type": "stream",
     "text": [
      "[*********************100%***********************]  1 of 1 completed\n"
     ]
    },
    {
     "name": "stdout",
     "output_type": "stream",
     "text": [
      "Successfully fetched data for GDG.AX\n"
     ]
    },
    {
     "name": "stderr",
     "output_type": "stream",
     "text": [
      "[*********************100%***********************]  1 of 1 completed\n"
     ]
    },
    {
     "name": "stdout",
     "output_type": "stream",
     "text": [
      "Successfully fetched data for GMG.AX\n"
     ]
    },
    {
     "name": "stderr",
     "output_type": "stream",
     "text": [
      "[*********************100%***********************]  1 of 1 completed\n"
     ]
    },
    {
     "name": "stdout",
     "output_type": "stream",
     "text": [
      "Successfully fetched data for GNC.AX\n"
     ]
    },
    {
     "name": "stderr",
     "output_type": "stream",
     "text": [
      "[*********************100%***********************]  1 of 1 completed\n"
     ]
    },
    {
     "name": "stdout",
     "output_type": "stream",
     "text": [
      "Successfully fetched data for HMC.AX\n"
     ]
    },
    {
     "name": "stderr",
     "output_type": "stream",
     "text": [
      "[*********************100%***********************]  1 of 1 completed\n"
     ]
    },
    {
     "name": "stdout",
     "output_type": "stream",
     "text": [
      "Successfully fetched data for HUB.AX\n"
     ]
    },
    {
     "name": "stderr",
     "output_type": "stream",
     "text": [
      "[*********************100%***********************]  1 of 1 completed\n"
     ]
    },
    {
     "name": "stdout",
     "output_type": "stream",
     "text": [
      "Successfully fetched data for HYT.AX\n"
     ]
    },
    {
     "name": "stderr",
     "output_type": "stream",
     "text": [
      "[*********************100%***********************]  1 of 1 completed\n"
     ]
    },
    {
     "name": "stdout",
     "output_type": "stream",
     "text": [
      "Successfully fetched data for IFT.AX\n"
     ]
    },
    {
     "name": "stderr",
     "output_type": "stream",
     "text": [
      "[*********************100%***********************]  1 of 1 completed\n"
     ]
    },
    {
     "name": "stdout",
     "output_type": "stream",
     "text": [
      "Successfully fetched data for JAT.AX\n"
     ]
    },
    {
     "name": "stderr",
     "output_type": "stream",
     "text": [
      "[*********************100%***********************]  1 of 1 completed\n"
     ]
    },
    {
     "name": "stdout",
     "output_type": "stream",
     "text": [
      "Successfully fetched data for LTP.AX\n"
     ]
    },
    {
     "name": "stderr",
     "output_type": "stream",
     "text": [
      "[*********************100%***********************]  1 of 1 completed\n"
     ]
    },
    {
     "name": "stdout",
     "output_type": "stream",
     "text": [
      "Successfully fetched data for MFF.AX\n"
     ]
    },
    {
     "name": "stderr",
     "output_type": "stream",
     "text": [
      "[*********************100%***********************]  1 of 1 completed\n"
     ]
    },
    {
     "name": "stdout",
     "output_type": "stream",
     "text": [
      "Successfully fetched data for MYS.AX\n"
     ]
    },
    {
     "name": "stderr",
     "output_type": "stream",
     "text": [
      "[*********************100%***********************]  1 of 1 completed\n"
     ]
    },
    {
     "name": "stdout",
     "output_type": "stream",
     "text": [
      "Successfully fetched data for NAB.AX\n"
     ]
    },
    {
     "name": "stderr",
     "output_type": "stream",
     "text": [
      "[*********************100%***********************]  1 of 1 completed\n"
     ]
    },
    {
     "name": "stdout",
     "output_type": "stream",
     "text": [
      "Successfully fetched data for NGI.AX\n"
     ]
    },
    {
     "name": "stderr",
     "output_type": "stream",
     "text": [
      "[*********************100%***********************]  1 of 1 completed\n"
     ]
    },
    {
     "name": "stdout",
     "output_type": "stream",
     "text": [
      "Successfully fetched data for OIL.AX\n"
     ]
    },
    {
     "name": "stderr",
     "output_type": "stream",
     "text": [
      "[*********************100%***********************]  1 of 1 completed\n"
     ]
    },
    {
     "name": "stdout",
     "output_type": "stream",
     "text": [
      "Successfully fetched data for PGF.AX\n"
     ]
    },
    {
     "name": "stderr",
     "output_type": "stream",
     "text": [
      "[*********************100%***********************]  1 of 1 completed\n"
     ]
    },
    {
     "name": "stdout",
     "output_type": "stream",
     "text": [
      "Successfully fetched data for PME.AX\n"
     ]
    },
    {
     "name": "stderr",
     "output_type": "stream",
     "text": [
      "[*********************100%***********************]  1 of 1 completed\n"
     ]
    },
    {
     "name": "stdout",
     "output_type": "stream",
     "text": [
      "Successfully fetched data for QUB.AX\n"
     ]
    },
    {
     "name": "stderr",
     "output_type": "stream",
     "text": [
      "[*********************100%***********************]  1 of 1 completed\n"
     ]
    },
    {
     "name": "stdout",
     "output_type": "stream",
     "text": [
      "Successfully fetched data for RC1.AX\n"
     ]
    },
    {
     "name": "stderr",
     "output_type": "stream",
     "text": [
      "[*********************100%***********************]  1 of 1 completed\n"
     ]
    },
    {
     "name": "stdout",
     "output_type": "stream",
     "text": [
      "Successfully fetched data for RPL.AX\n"
     ]
    },
    {
     "name": "stderr",
     "output_type": "stream",
     "text": [
      "[*********************100%***********************]  1 of 1 completed\n"
     ]
    },
    {
     "name": "stdout",
     "output_type": "stream",
     "text": [
      "Successfully fetched data for SUM.AX\n"
     ]
    },
    {
     "name": "stderr",
     "output_type": "stream",
     "text": [
      "[*********************100%***********************]  1 of 1 completed\n"
     ]
    },
    {
     "name": "stdout",
     "output_type": "stream",
     "text": [
      "Successfully fetched data for TNE.AX\n"
     ]
    },
    {
     "name": "stderr",
     "output_type": "stream",
     "text": [
      "[*********************100%***********************]  1 of 1 completed\n"
     ]
    },
    {
     "name": "stdout",
     "output_type": "stream",
     "text": [
      "Successfully fetched data for URW.AX\n"
     ]
    },
    {
     "name": "stderr",
     "output_type": "stream",
     "text": [
      "[*********************100%***********************]  1 of 1 completed\n"
     ]
    },
    {
     "name": "stdout",
     "output_type": "stream",
     "text": [
      "Successfully fetched data for VBC.AX\n"
     ]
    },
    {
     "name": "stderr",
     "output_type": "stream",
     "text": [
      "[*********************100%***********************]  1 of 1 completed\n"
     ]
    },
    {
     "name": "stdout",
     "output_type": "stream",
     "text": [
      "Successfully fetched data for VGL.AX\n"
     ]
    },
    {
     "name": "stderr",
     "output_type": "stream",
     "text": [
      "[*********************100%***********************]  1 of 1 completed\n"
     ]
    },
    {
     "name": "stdout",
     "output_type": "stream",
     "text": [
      "Successfully fetched data for WAA.AX\n"
     ]
    },
    {
     "name": "stderr",
     "output_type": "stream",
     "text": [
      "[*********************100%***********************]  1 of 1 completed\n"
     ]
    },
    {
     "name": "stdout",
     "output_type": "stream",
     "text": [
      "Successfully fetched data for WCN.AX\n"
     ]
    },
    {
     "name": "stderr",
     "output_type": "stream",
     "text": [
      "[*********************100%***********************]  1 of 1 completed\n"
     ]
    },
    {
     "name": "stdout",
     "output_type": "stream",
     "text": [
      "Successfully fetched data for BEN.AX\n"
     ]
    },
    {
     "name": "stderr",
     "output_type": "stream",
     "text": [
      "[*********************100%***********************]  1 of 1 completed\n"
     ]
    },
    {
     "name": "stdout",
     "output_type": "stream",
     "text": [
      "Successfully fetched data for GDC.AX\n"
     ]
    },
    {
     "name": "stderr",
     "output_type": "stream",
     "text": [
      "[*********************100%***********************]  1 of 1 completed\n"
     ]
    },
    {
     "name": "stdout",
     "output_type": "stream",
     "text": [
      "Successfully fetched data for SNL.AX\n"
     ]
    },
    {
     "name": "stderr",
     "output_type": "stream",
     "text": [
      "[*********************100%***********************]  1 of 1 completed\n"
     ]
    },
    {
     "name": "stdout",
     "output_type": "stream",
     "text": [
      "Successfully fetched data for WGB.AX\n"
     ]
    },
    {
     "name": "stderr",
     "output_type": "stream",
     "text": [
      "[*********************100%***********************]  1 of 1 completed\n"
     ]
    },
    {
     "name": "stdout",
     "output_type": "stream",
     "text": [
      "Successfully fetched data for GVF.AX\n"
     ]
    },
    {
     "name": "stderr",
     "output_type": "stream",
     "text": [
      "[*********************100%***********************]  1 of 1 completed\n"
     ]
    },
    {
     "name": "stdout",
     "output_type": "stream",
     "text": [
      "Successfully fetched data for QRI.AX\n"
     ]
    },
    {
     "name": "stderr",
     "output_type": "stream",
     "text": [
      "[*********************100%***********************]  1 of 1 completed\n"
     ]
    },
    {
     "name": "stdout",
     "output_type": "stream",
     "text": [
      "Successfully fetched data for PSQ.AX\n"
     ]
    },
    {
     "name": "stderr",
     "output_type": "stream",
     "text": [
      "[*********************100%***********************]  1 of 1 completed\n"
     ]
    },
    {
     "name": "stdout",
     "output_type": "stream",
     "text": [
      "Successfully fetched data for PXA.AX\n"
     ]
    },
    {
     "name": "stderr",
     "output_type": "stream",
     "text": [
      "[*********************100%***********************]  1 of 1 completed\n"
     ]
    },
    {
     "name": "stdout",
     "output_type": "stream",
     "text": [
      "Successfully fetched data for ALQ.AX\n"
     ]
    },
    {
     "name": "stderr",
     "output_type": "stream",
     "text": [
      "[*********************100%***********************]  1 of 1 completed\n"
     ]
    },
    {
     "name": "stdout",
     "output_type": "stream",
     "text": [
      "Successfully fetched data for TCF.AX\n"
     ]
    },
    {
     "name": "stderr",
     "output_type": "stream",
     "text": [
      "[*********************100%***********************]  1 of 1 completed\n"
     ]
    },
    {
     "name": "stdout",
     "output_type": "stream",
     "text": [
      "Successfully fetched data for DUI.AX\n"
     ]
    },
    {
     "name": "stderr",
     "output_type": "stream",
     "text": [
      "[*********************100%***********************]  1 of 1 completed\n"
     ]
    },
    {
     "name": "stdout",
     "output_type": "stream",
     "text": [
      "Successfully fetched data for ANZ.AX\n"
     ]
    },
    {
     "name": "stderr",
     "output_type": "stream",
     "text": [
      "[*********************100%***********************]  1 of 1 completed\n"
     ]
    },
    {
     "name": "stdout",
     "output_type": "stream",
     "text": [
      "Successfully fetched data for LSF.AX\n"
     ]
    },
    {
     "name": "stderr",
     "output_type": "stream",
     "text": [
      "[*********************100%***********************]  1 of 1 completed\n"
     ]
    },
    {
     "name": "stdout",
     "output_type": "stream",
     "text": [
      "Successfully fetched data for LGI.AX\n"
     ]
    },
    {
     "name": "stderr",
     "output_type": "stream",
     "text": [
      "[*********************100%***********************]  1 of 1 completed\n"
     ]
    },
    {
     "name": "stdout",
     "output_type": "stream",
     "text": [
      "Successfully fetched data for PMC.AX\n"
     ]
    },
    {
     "name": "stderr",
     "output_type": "stream",
     "text": [
      "[*********************100%***********************]  1 of 1 completed\n"
     ]
    },
    {
     "name": "stdout",
     "output_type": "stream",
     "text": [
      "Successfully fetched data for PL8.AX\n"
     ]
    },
    {
     "name": "stderr",
     "output_type": "stream",
     "text": [
      "[*********************100%***********************]  1 of 1 completed\n"
     ]
    },
    {
     "name": "stdout",
     "output_type": "stream",
     "text": [
      "Successfully fetched data for VG1.AX\n"
     ]
    },
    {
     "name": "stderr",
     "output_type": "stream",
     "text": [
      "[*********************100%***********************]  1 of 1 completed\n"
     ]
    },
    {
     "name": "stdout",
     "output_type": "stream",
     "text": [
      "Successfully fetched data for KAT.AX\n"
     ]
    },
    {
     "name": "stderr",
     "output_type": "stream",
     "text": [
      "[*********************100%***********************]  1 of 1 completed\n"
     ]
    },
    {
     "name": "stdout",
     "output_type": "stream",
     "text": [
      "Successfully fetched data for FGX.AX\n"
     ]
    },
    {
     "name": "stderr",
     "output_type": "stream",
     "text": [
      "[*********************100%***********************]  1 of 1 completed\n"
     ]
    },
    {
     "name": "stdout",
     "output_type": "stream",
     "text": [
      "Successfully fetched data for TRA.AX\n"
     ]
    },
    {
     "name": "stderr",
     "output_type": "stream",
     "text": [
      "[*********************100%***********************]  1 of 1 completed\n"
     ]
    },
    {
     "name": "stdout",
     "output_type": "stream",
     "text": [
      "Successfully fetched data for AMC.AX\n"
     ]
    },
    {
     "name": "stderr",
     "output_type": "stream",
     "text": [
      "[*********************100%***********************]  1 of 1 completed\n"
     ]
    },
    {
     "name": "stdout",
     "output_type": "stream",
     "text": [
      "Successfully fetched data for PBH.AX\n"
     ]
    },
    {
     "name": "stderr",
     "output_type": "stream",
     "text": [
      "[*********************100%***********************]  1 of 1 completed\n"
     ]
    },
    {
     "name": "stdout",
     "output_type": "stream",
     "text": [
      "Successfully fetched data for EZZ.AX\n"
     ]
    },
    {
     "name": "stderr",
     "output_type": "stream",
     "text": [
      "[*********************100%***********************]  1 of 1 completed\n"
     ]
    },
    {
     "name": "stdout",
     "output_type": "stream",
     "text": [
      "Successfully fetched data for RG8.AX\n"
     ]
    },
    {
     "name": "stderr",
     "output_type": "stream",
     "text": [
      "[*********************100%***********************]  1 of 1 completed\n"
     ]
    },
    {
     "name": "stdout",
     "output_type": "stream",
     "text": [
      "Successfully fetched data for AUI.AX\n"
     ]
    },
    {
     "name": "stderr",
     "output_type": "stream",
     "text": [
      "[*********************100%***********************]  1 of 1 completed\n"
     ]
    },
    {
     "name": "stdout",
     "output_type": "stream",
     "text": [
      "Successfully fetched data for LCE.AX\n"
     ]
    },
    {
     "name": "stderr",
     "output_type": "stream",
     "text": [
      "[*********************100%***********************]  1 of 1 completed\n"
     ]
    },
    {
     "name": "stdout",
     "output_type": "stream",
     "text": [
      "Successfully fetched data for GCI.AX\n"
     ]
    },
    {
     "name": "stderr",
     "output_type": "stream",
     "text": [
      "[*********************100%***********************]  1 of 1 completed\n"
     ]
    },
    {
     "name": "stdout",
     "output_type": "stream",
     "text": [
      "Successfully fetched data for QBE.AX\n"
     ]
    },
    {
     "name": "stderr",
     "output_type": "stream",
     "text": [
      "[*********************100%***********************]  1 of 1 completed\n"
     ]
    },
    {
     "name": "stdout",
     "output_type": "stream",
     "text": [
      "Successfully fetched data for DJW.AX\n"
     ]
    },
    {
     "name": "stderr",
     "output_type": "stream",
     "text": [
      "[*********************100%***********************]  1 of 1 completed\n"
     ]
    },
    {
     "name": "stdout",
     "output_type": "stream",
     "text": [
      "Successfully fetched data for ELS.AX\n"
     ]
    },
    {
     "name": "stderr",
     "output_type": "stream",
     "text": [
      "[*********************100%***********************]  1 of 1 completed\n"
     ]
    },
    {
     "name": "stdout",
     "output_type": "stream",
     "text": [
      "Successfully fetched data for NWS.AX\n"
     ]
    },
    {
     "name": "stderr",
     "output_type": "stream",
     "text": [
      "[*********************100%***********************]  1 of 1 completed\n"
     ]
    },
    {
     "name": "stdout",
     "output_type": "stream",
     "text": [
      "Successfully fetched data for KSL.AX\n"
     ]
    },
    {
     "name": "stderr",
     "output_type": "stream",
     "text": [
      "[*********************100%***********************]  1 of 1 completed\n"
     ]
    },
    {
     "name": "stdout",
     "output_type": "stream",
     "text": [
      "Successfully fetched data for AIQ.AX\n"
     ]
    },
    {
     "name": "stderr",
     "output_type": "stream",
     "text": [
      "[*********************100%***********************]  1 of 1 completed\n"
     ]
    },
    {
     "name": "stdout",
     "output_type": "stream",
     "text": [
      "Successfully fetched data for IGNDA.AX\n"
     ]
    },
    {
     "name": "stderr",
     "output_type": "stream",
     "text": [
      "[*********************100%***********************]  1 of 1 completed\n"
     ]
    },
    {
     "name": "stdout",
     "output_type": "stream",
     "text": [
      "Successfully fetched data for TDO.AX\n"
     ]
    },
    {
     "name": "stderr",
     "output_type": "stream",
     "text": [
      "[*********************100%***********************]  1 of 1 completed\n"
     ]
    },
    {
     "name": "stdout",
     "output_type": "stream",
     "text": [
      "Successfully fetched data for MQG.AX\n"
     ]
    },
    {
     "name": "stderr",
     "output_type": "stream",
     "text": [
      "[*********************100%***********************]  1 of 1 completed\n"
     ]
    },
    {
     "name": "stdout",
     "output_type": "stream",
     "text": [
      "Successfully fetched data for AAC.AX\n"
     ]
    },
    {
     "name": "stderr",
     "output_type": "stream",
     "text": [
      "[*********************100%***********************]  1 of 1 completed\n"
     ]
    },
    {
     "name": "stdout",
     "output_type": "stream",
     "text": [
      "Successfully fetched data for BGA.AX\n"
     ]
    },
    {
     "name": "stderr",
     "output_type": "stream",
     "text": [
      "[*********************100%***********************]  1 of 1 completed\n"
     ]
    },
    {
     "name": "stdout",
     "output_type": "stream",
     "text": [
      "Successfully fetched data for BWP.AX\n"
     ]
    },
    {
     "name": "stderr",
     "output_type": "stream",
     "text": [
      "[*********************100%***********************]  1 of 1 completed\n"
     ]
    },
    {
     "name": "stdout",
     "output_type": "stream",
     "text": [
      "Successfully fetched data for WAR.AX\n"
     ]
    },
    {
     "name": "stderr",
     "output_type": "stream",
     "text": [
      "[*********************100%***********************]  1 of 1 completed\n"
     ]
    },
    {
     "name": "stdout",
     "output_type": "stream",
     "text": [
      "Successfully fetched data for WBC.AX\n"
     ]
    },
    {
     "name": "stderr",
     "output_type": "stream",
     "text": [
      "[*********************100%***********************]  1 of 1 completed\n"
     ]
    },
    {
     "name": "stdout",
     "output_type": "stream",
     "text": [
      "Successfully fetched data for OFX.AX\n"
     ]
    },
    {
     "name": "stderr",
     "output_type": "stream",
     "text": [
      "[*********************100%***********************]  1 of 1 completed\n"
     ]
    },
    {
     "name": "stdout",
     "output_type": "stream",
     "text": [
      "Successfully fetched data for ALL.AX\n"
     ]
    },
    {
     "name": "stderr",
     "output_type": "stream",
     "text": [
      "[*********************100%***********************]  1 of 1 completed\n"
     ]
    },
    {
     "name": "stdout",
     "output_type": "stream",
     "text": [
      "Successfully fetched data for GFL.AX\n"
     ]
    },
    {
     "name": "stderr",
     "output_type": "stream",
     "text": [
      "[*********************100%***********************]  1 of 1 completed\n"
     ]
    },
    {
     "name": "stdout",
     "output_type": "stream",
     "text": [
      "Successfully fetched data for NXT.AX\n"
     ]
    },
    {
     "name": "stderr",
     "output_type": "stream",
     "text": [
      "[*********************100%***********************]  1 of 1 completed\n"
     ]
    },
    {
     "name": "stdout",
     "output_type": "stream",
     "text": [
      "Successfully fetched data for KKC.AX\n"
     ]
    },
    {
     "name": "stderr",
     "output_type": "stream",
     "text": [
      "[*********************100%***********************]  1 of 1 completed\n"
     ]
    },
    {
     "name": "stdout",
     "output_type": "stream",
     "text": [
      "Successfully fetched data for COS.AX\n"
     ]
    },
    {
     "name": "stderr",
     "output_type": "stream",
     "text": [
      "[*********************100%***********************]  1 of 1 completed\n"
     ]
    },
    {
     "name": "stdout",
     "output_type": "stream",
     "text": [
      "Successfully fetched data for MAH.AX\n"
     ]
    },
    {
     "name": "stderr",
     "output_type": "stream",
     "text": [
      "[*********************100%***********************]  1 of 1 completed\n"
     ]
    },
    {
     "name": "stdout",
     "output_type": "stream",
     "text": [
      "Successfully fetched data for MXT.AX\n"
     ]
    },
    {
     "name": "stderr",
     "output_type": "stream",
     "text": [
      "[*********************100%***********************]  1 of 1 completed\n"
     ]
    },
    {
     "name": "stdout",
     "output_type": "stream",
     "text": [
      "Successfully fetched data for RYD.AX\n"
     ]
    },
    {
     "name": "stderr",
     "output_type": "stream",
     "text": [
      "[*********************100%***********************]  1 of 1 completed\n"
     ]
    },
    {
     "name": "stdout",
     "output_type": "stream",
     "text": [
      "Successfully fetched data for FRI.AX\n"
     ]
    },
    {
     "name": "stderr",
     "output_type": "stream",
     "text": [
      "[*********************100%***********************]  1 of 1 completed\n"
     ]
    },
    {
     "name": "stdout",
     "output_type": "stream",
     "text": [
      "Successfully fetched data for RUL.AX\n"
     ]
    },
    {
     "name": "stderr",
     "output_type": "stream",
     "text": [
      "[*********************100%***********************]  1 of 1 completed\n"
     ]
    },
    {
     "name": "stdout",
     "output_type": "stream",
     "text": [
      "Successfully fetched data for IAG.AX\n"
     ]
    },
    {
     "name": "stderr",
     "output_type": "stream",
     "text": [
      "[*********************100%***********************]  1 of 1 completed\n"
     ]
    },
    {
     "name": "stdout",
     "output_type": "stream",
     "text": [
      "Successfully fetched data for ORG.AX\n"
     ]
    },
    {
     "name": "stderr",
     "output_type": "stream",
     "text": [
      "[*********************100%***********************]  1 of 1 completed\n"
     ]
    },
    {
     "name": "stdout",
     "output_type": "stream",
     "text": [
      "Successfully fetched data for ORI.AX\n"
     ]
    },
    {
     "name": "stderr",
     "output_type": "stream",
     "text": [
      "[*********************100%***********************]  1 of 1 completed\n"
     ]
    },
    {
     "name": "stdout",
     "output_type": "stream",
     "text": [
      "Successfully fetched data for DXI.AX\n"
     ]
    },
    {
     "name": "stderr",
     "output_type": "stream",
     "text": [
      "[*********************100%***********************]  1 of 1 completed\n",
      "/var/folders/mb/34z82c2579x79_xxtnfk70200000gn/T/ipykernel_50737/649416982.py:21: PerformanceWarning: DataFrame is highly fragmented.  This is usually the result of calling `frame.insert` many times, which has poor performance.  Consider joining all columns at once using pd.concat(axis=1) instead. To get a de-fragmented frame, use `newframe = frame.copy()`\n",
      "  all_data[ticker] = data['Close']\n"
     ]
    },
    {
     "name": "stdout",
     "output_type": "stream",
     "text": [
      "Successfully fetched data for TLX.AX\n"
     ]
    },
    {
     "name": "stderr",
     "output_type": "stream",
     "text": [
      "[*********************100%***********************]  1 of 1 completed\n",
      "/var/folders/mb/34z82c2579x79_xxtnfk70200000gn/T/ipykernel_50737/649416982.py:21: PerformanceWarning: DataFrame is highly fragmented.  This is usually the result of calling `frame.insert` many times, which has poor performance.  Consider joining all columns at once using pd.concat(axis=1) instead. To get a de-fragmented frame, use `newframe = frame.copy()`\n",
      "  all_data[ticker] = data['Close']\n"
     ]
    },
    {
     "name": "stdout",
     "output_type": "stream",
     "text": [
      "Successfully fetched data for GIB.AX\n"
     ]
    },
    {
     "name": "stderr",
     "output_type": "stream",
     "text": [
      "[*********************100%***********************]  1 of 1 completed\n",
      "/var/folders/mb/34z82c2579x79_xxtnfk70200000gn/T/ipykernel_50737/649416982.py:21: PerformanceWarning: DataFrame is highly fragmented.  This is usually the result of calling `frame.insert` many times, which has poor performance.  Consider joining all columns at once using pd.concat(axis=1) instead. To get a de-fragmented frame, use `newframe = frame.copy()`\n",
      "  all_data[ticker] = data['Close']\n"
     ]
    },
    {
     "name": "stdout",
     "output_type": "stream",
     "text": [
      "Successfully fetched data for PIC.AX\n"
     ]
    },
    {
     "name": "stderr",
     "output_type": "stream",
     "text": [
      "[*********************100%***********************]  1 of 1 completed\n",
      "/var/folders/mb/34z82c2579x79_xxtnfk70200000gn/T/ipykernel_50737/649416982.py:21: PerformanceWarning: DataFrame is highly fragmented.  This is usually the result of calling `frame.insert` many times, which has poor performance.  Consider joining all columns at once using pd.concat(axis=1) instead. To get a de-fragmented frame, use `newframe = frame.copy()`\n",
      "  all_data[ticker] = data['Close']\n"
     ]
    },
    {
     "name": "stdout",
     "output_type": "stream",
     "text": [
      "Successfully fetched data for AUB.AX\n"
     ]
    },
    {
     "name": "stderr",
     "output_type": "stream",
     "text": [
      "[*********************100%***********************]  1 of 1 completed\n",
      "/var/folders/mb/34z82c2579x79_xxtnfk70200000gn/T/ipykernel_50737/649416982.py:21: PerformanceWarning: DataFrame is highly fragmented.  This is usually the result of calling `frame.insert` many times, which has poor performance.  Consider joining all columns at once using pd.concat(axis=1) instead. To get a de-fragmented frame, use `newframe = frame.copy()`\n",
      "  all_data[ticker] = data['Close']\n"
     ]
    },
    {
     "name": "stdout",
     "output_type": "stream",
     "text": [
      "Successfully fetched data for PNR.AX\n"
     ]
    },
    {
     "name": "stderr",
     "output_type": "stream",
     "text": [
      "[*********************100%***********************]  1 of 1 completed\n",
      "/var/folders/mb/34z82c2579x79_xxtnfk70200000gn/T/ipykernel_50737/649416982.py:21: PerformanceWarning: DataFrame is highly fragmented.  This is usually the result of calling `frame.insert` many times, which has poor performance.  Consider joining all columns at once using pd.concat(axis=1) instead. To get a de-fragmented frame, use `newframe = frame.copy()`\n",
      "  all_data[ticker] = data['Close']\n"
     ]
    },
    {
     "name": "stdout",
     "output_type": "stream",
     "text": [
      "Successfully fetched data for VVA.AX\n"
     ]
    },
    {
     "name": "stderr",
     "output_type": "stream",
     "text": [
      "[*********************100%***********************]  1 of 1 completed\n",
      "/var/folders/mb/34z82c2579x79_xxtnfk70200000gn/T/ipykernel_50737/649416982.py:21: PerformanceWarning: DataFrame is highly fragmented.  This is usually the result of calling `frame.insert` many times, which has poor performance.  Consider joining all columns at once using pd.concat(axis=1) instead. To get a de-fragmented frame, use `newframe = frame.copy()`\n",
      "  all_data[ticker] = data['Close']\n"
     ]
    },
    {
     "name": "stdout",
     "output_type": "stream",
     "text": [
      "Successfully fetched data for MDR.AX\n"
     ]
    },
    {
     "name": "stderr",
     "output_type": "stream",
     "text": [
      "[*********************100%***********************]  1 of 1 completed\n",
      "/var/folders/mb/34z82c2579x79_xxtnfk70200000gn/T/ipykernel_50737/649416982.py:21: PerformanceWarning: DataFrame is highly fragmented.  This is usually the result of calling `frame.insert` many times, which has poor performance.  Consider joining all columns at once using pd.concat(axis=1) instead. To get a de-fragmented frame, use `newframe = frame.copy()`\n",
      "  all_data[ticker] = data['Close']\n"
     ]
    },
    {
     "name": "stdout",
     "output_type": "stream",
     "text": [
      "Successfully fetched data for QOR.AX\n"
     ]
    },
    {
     "name": "stderr",
     "output_type": "stream",
     "text": [
      "[*********************100%***********************]  1 of 1 completed\n",
      "/var/folders/mb/34z82c2579x79_xxtnfk70200000gn/T/ipykernel_50737/649416982.py:21: PerformanceWarning: DataFrame is highly fragmented.  This is usually the result of calling `frame.insert` many times, which has poor performance.  Consider joining all columns at once using pd.concat(axis=1) instead. To get a de-fragmented frame, use `newframe = frame.copy()`\n",
      "  all_data[ticker] = data['Close']\n"
     ]
    },
    {
     "name": "stdout",
     "output_type": "stream",
     "text": [
      "Successfully fetched data for GDI.AX\n"
     ]
    },
    {
     "name": "stderr",
     "output_type": "stream",
     "text": [
      "[*********************100%***********************]  1 of 1 completed\n",
      "/var/folders/mb/34z82c2579x79_xxtnfk70200000gn/T/ipykernel_50737/649416982.py:21: PerformanceWarning: DataFrame is highly fragmented.  This is usually the result of calling `frame.insert` many times, which has poor performance.  Consider joining all columns at once using pd.concat(axis=1) instead. To get a de-fragmented frame, use `newframe = frame.copy()`\n",
      "  all_data[ticker] = data['Close']\n"
     ]
    },
    {
     "name": "stdout",
     "output_type": "stream",
     "text": [
      "Successfully fetched data for NTU.AX\n"
     ]
    },
    {
     "name": "stderr",
     "output_type": "stream",
     "text": [
      "[*********************100%***********************]  1 of 1 completed\n",
      "/var/folders/mb/34z82c2579x79_xxtnfk70200000gn/T/ipykernel_50737/649416982.py:21: PerformanceWarning: DataFrame is highly fragmented.  This is usually the result of calling `frame.insert` many times, which has poor performance.  Consider joining all columns at once using pd.concat(axis=1) instead. To get a de-fragmented frame, use `newframe = frame.copy()`\n",
      "  all_data[ticker] = data['Close']\n"
     ]
    },
    {
     "name": "stdout",
     "output_type": "stream",
     "text": [
      "Successfully fetched data for RF1.AX\n"
     ]
    },
    {
     "name": "stderr",
     "output_type": "stream",
     "text": [
      "[*********************100%***********************]  1 of 1 completed\n",
      "/var/folders/mb/34z82c2579x79_xxtnfk70200000gn/T/ipykernel_50737/649416982.py:21: PerformanceWarning: DataFrame is highly fragmented.  This is usually the result of calling `frame.insert` many times, which has poor performance.  Consider joining all columns at once using pd.concat(axis=1) instead. To get a de-fragmented frame, use `newframe = frame.copy()`\n",
      "  all_data[ticker] = data['Close']\n"
     ]
    },
    {
     "name": "stdout",
     "output_type": "stream",
     "text": [
      "Successfully fetched data for A2M.AX\n"
     ]
    },
    {
     "name": "stderr",
     "output_type": "stream",
     "text": [
      "[*********************100%***********************]  1 of 1 completed\n",
      "/var/folders/mb/34z82c2579x79_xxtnfk70200000gn/T/ipykernel_50737/649416982.py:21: PerformanceWarning: DataFrame is highly fragmented.  This is usually the result of calling `frame.insert` many times, which has poor performance.  Consider joining all columns at once using pd.concat(axis=1) instead. To get a de-fragmented frame, use `newframe = frame.copy()`\n",
      "  all_data[ticker] = data['Close']\n"
     ]
    },
    {
     "name": "stdout",
     "output_type": "stream",
     "text": [
      "Successfully fetched data for CDP.AX\n"
     ]
    },
    {
     "name": "stderr",
     "output_type": "stream",
     "text": [
      "[*********************100%***********************]  1 of 1 completed\n",
      "/var/folders/mb/34z82c2579x79_xxtnfk70200000gn/T/ipykernel_50737/649416982.py:21: PerformanceWarning: DataFrame is highly fragmented.  This is usually the result of calling `frame.insert` many times, which has poor performance.  Consider joining all columns at once using pd.concat(axis=1) instead. To get a de-fragmented frame, use `newframe = frame.copy()`\n",
      "  all_data[ticker] = data['Close']\n"
     ]
    },
    {
     "name": "stdout",
     "output_type": "stream",
     "text": [
      "Successfully fetched data for TLC.AX\n"
     ]
    },
    {
     "name": "stderr",
     "output_type": "stream",
     "text": [
      "[*********************100%***********************]  1 of 1 completed\n",
      "/var/folders/mb/34z82c2579x79_xxtnfk70200000gn/T/ipykernel_50737/649416982.py:21: PerformanceWarning: DataFrame is highly fragmented.  This is usually the result of calling `frame.insert` many times, which has poor performance.  Consider joining all columns at once using pd.concat(axis=1) instead. To get a de-fragmented frame, use `newframe = frame.copy()`\n",
      "  all_data[ticker] = data['Close']\n"
     ]
    },
    {
     "name": "stdout",
     "output_type": "stream",
     "text": [
      "Successfully fetched data for PGC.AX\n"
     ]
    },
    {
     "name": "stderr",
     "output_type": "stream",
     "text": [
      "[*********************100%***********************]  1 of 1 completed\n",
      "/var/folders/mb/34z82c2579x79_xxtnfk70200000gn/T/ipykernel_50737/649416982.py:21: PerformanceWarning: DataFrame is highly fragmented.  This is usually the result of calling `frame.insert` many times, which has poor performance.  Consider joining all columns at once using pd.concat(axis=1) instead. To get a de-fragmented frame, use `newframe = frame.copy()`\n",
      "  all_data[ticker] = data['Close']\n"
     ]
    },
    {
     "name": "stdout",
     "output_type": "stream",
     "text": [
      "Successfully fetched data for SUN.AX\n"
     ]
    },
    {
     "name": "stderr",
     "output_type": "stream",
     "text": [
      "[*********************100%***********************]  1 of 1 completed\n",
      "/var/folders/mb/34z82c2579x79_xxtnfk70200000gn/T/ipykernel_50737/649416982.py:21: PerformanceWarning: DataFrame is highly fragmented.  This is usually the result of calling `frame.insert` many times, which has poor performance.  Consider joining all columns at once using pd.concat(axis=1) instead. To get a de-fragmented frame, use `newframe = frame.copy()`\n",
      "  all_data[ticker] = data['Close']\n"
     ]
    },
    {
     "name": "stdout",
     "output_type": "stream",
     "text": [
      "Successfully fetched data for GTK.AX\n"
     ]
    },
    {
     "name": "stderr",
     "output_type": "stream",
     "text": [
      "[*********************100%***********************]  1 of 1 completed\n",
      "/var/folders/mb/34z82c2579x79_xxtnfk70200000gn/T/ipykernel_50737/649416982.py:21: PerformanceWarning: DataFrame is highly fragmented.  This is usually the result of calling `frame.insert` many times, which has poor performance.  Consider joining all columns at once using pd.concat(axis=1) instead. To get a de-fragmented frame, use `newframe = frame.copy()`\n",
      "  all_data[ticker] = data['Close']\n"
     ]
    },
    {
     "name": "stdout",
     "output_type": "stream",
     "text": [
      "Successfully fetched data for CTE.AX\n"
     ]
    },
    {
     "name": "stderr",
     "output_type": "stream",
     "text": [
      "[*********************100%***********************]  1 of 1 completed\n",
      "/var/folders/mb/34z82c2579x79_xxtnfk70200000gn/T/ipykernel_50737/649416982.py:21: PerformanceWarning: DataFrame is highly fragmented.  This is usually the result of calling `frame.insert` many times, which has poor performance.  Consider joining all columns at once using pd.concat(axis=1) instead. To get a de-fragmented frame, use `newframe = frame.copy()`\n",
      "  all_data[ticker] = data['Close']\n"
     ]
    },
    {
     "name": "stdout",
     "output_type": "stream",
     "text": [
      "Successfully fetched data for WQG.AX\n"
     ]
    },
    {
     "name": "stderr",
     "output_type": "stream",
     "text": [
      "[*********************100%***********************]  1 of 1 completed\n",
      "/var/folders/mb/34z82c2579x79_xxtnfk70200000gn/T/ipykernel_50737/649416982.py:21: PerformanceWarning: DataFrame is highly fragmented.  This is usually the result of calling `frame.insert` many times, which has poor performance.  Consider joining all columns at once using pd.concat(axis=1) instead. To get a de-fragmented frame, use `newframe = frame.copy()`\n",
      "  all_data[ticker] = data['Close']\n"
     ]
    },
    {
     "name": "stdout",
     "output_type": "stream",
     "text": [
      "Successfully fetched data for CEN.AX\n"
     ]
    },
    {
     "name": "stderr",
     "output_type": "stream",
     "text": [
      "[*********************100%***********************]  1 of 1 completed\n",
      "/var/folders/mb/34z82c2579x79_xxtnfk70200000gn/T/ipykernel_50737/649416982.py:21: PerformanceWarning: DataFrame is highly fragmented.  This is usually the result of calling `frame.insert` many times, which has poor performance.  Consider joining all columns at once using pd.concat(axis=1) instead. To get a de-fragmented frame, use `newframe = frame.copy()`\n",
      "  all_data[ticker] = data['Close']\n"
     ]
    },
    {
     "name": "stdout",
     "output_type": "stream",
     "text": [
      "Successfully fetched data for WEB.AX\n"
     ]
    },
    {
     "name": "stderr",
     "output_type": "stream",
     "text": [
      "[*********************100%***********************]  1 of 1 completed\n",
      "/var/folders/mb/34z82c2579x79_xxtnfk70200000gn/T/ipykernel_50737/649416982.py:21: PerformanceWarning: DataFrame is highly fragmented.  This is usually the result of calling `frame.insert` many times, which has poor performance.  Consider joining all columns at once using pd.concat(axis=1) instead. To get a de-fragmented frame, use `newframe = frame.copy()`\n",
      "  all_data[ticker] = data['Close']\n"
     ]
    },
    {
     "name": "stdout",
     "output_type": "stream",
     "text": [
      "Successfully fetched data for HPI.AX\n"
     ]
    },
    {
     "name": "stderr",
     "output_type": "stream",
     "text": [
      "[*********************100%***********************]  1 of 1 completed\n",
      "/var/folders/mb/34z82c2579x79_xxtnfk70200000gn/T/ipykernel_50737/649416982.py:21: PerformanceWarning: DataFrame is highly fragmented.  This is usually the result of calling `frame.insert` many times, which has poor performance.  Consider joining all columns at once using pd.concat(axis=1) instead. To get a de-fragmented frame, use `newframe = frame.copy()`\n",
      "  all_data[ticker] = data['Close']\n"
     ]
    },
    {
     "name": "stdout",
     "output_type": "stream",
     "text": [
      "Successfully fetched data for CAR.AX\n"
     ]
    },
    {
     "name": "stderr",
     "output_type": "stream",
     "text": [
      "[*********************100%***********************]  1 of 1 completed\n",
      "/var/folders/mb/34z82c2579x79_xxtnfk70200000gn/T/ipykernel_50737/649416982.py:21: PerformanceWarning: DataFrame is highly fragmented.  This is usually the result of calling `frame.insert` many times, which has poor performance.  Consider joining all columns at once using pd.concat(axis=1) instead. To get a de-fragmented frame, use `newframe = frame.copy()`\n",
      "  all_data[ticker] = data['Close']\n"
     ]
    },
    {
     "name": "stdout",
     "output_type": "stream",
     "text": [
      "Successfully fetched data for TOP.AX\n"
     ]
    },
    {
     "name": "stderr",
     "output_type": "stream",
     "text": [
      "[*********************100%***********************]  1 of 1 completed\n",
      "/var/folders/mb/34z82c2579x79_xxtnfk70200000gn/T/ipykernel_50737/649416982.py:21: PerformanceWarning: DataFrame is highly fragmented.  This is usually the result of calling `frame.insert` many times, which has poor performance.  Consider joining all columns at once using pd.concat(axis=1) instead. To get a de-fragmented frame, use `newframe = frame.copy()`\n",
      "  all_data[ticker] = data['Close']\n"
     ]
    },
    {
     "name": "stdout",
     "output_type": "stream",
     "text": [
      "Successfully fetched data for CDA.AX\n"
     ]
    },
    {
     "name": "stderr",
     "output_type": "stream",
     "text": [
      "[*********************100%***********************]  1 of 1 completed\n",
      "/var/folders/mb/34z82c2579x79_xxtnfk70200000gn/T/ipykernel_50737/649416982.py:21: PerformanceWarning: DataFrame is highly fragmented.  This is usually the result of calling `frame.insert` many times, which has poor performance.  Consider joining all columns at once using pd.concat(axis=1) instead. To get a de-fragmented frame, use `newframe = frame.copy()`\n",
      "  all_data[ticker] = data['Close']\n"
     ]
    },
    {
     "name": "stdout",
     "output_type": "stream",
     "text": [
      "Successfully fetched data for DXB.AX\n"
     ]
    },
    {
     "name": "stderr",
     "output_type": "stream",
     "text": [
      "[*********************100%***********************]  1 of 1 completed\n",
      "/var/folders/mb/34z82c2579x79_xxtnfk70200000gn/T/ipykernel_50737/649416982.py:21: PerformanceWarning: DataFrame is highly fragmented.  This is usually the result of calling `frame.insert` many times, which has poor performance.  Consider joining all columns at once using pd.concat(axis=1) instead. To get a de-fragmented frame, use `newframe = frame.copy()`\n",
      "  all_data[ticker] = data['Close']\n"
     ]
    },
    {
     "name": "stdout",
     "output_type": "stream",
     "text": [
      "Successfully fetched data for SVM.AX\n"
     ]
    },
    {
     "name": "stderr",
     "output_type": "stream",
     "text": [
      "[*********************100%***********************]  1 of 1 completed\n",
      "/var/folders/mb/34z82c2579x79_xxtnfk70200000gn/T/ipykernel_50737/649416982.py:21: PerformanceWarning: DataFrame is highly fragmented.  This is usually the result of calling `frame.insert` many times, which has poor performance.  Consider joining all columns at once using pd.concat(axis=1) instead. To get a de-fragmented frame, use `newframe = frame.copy()`\n",
      "  all_data[ticker] = data['Close']\n"
     ]
    },
    {
     "name": "stdout",
     "output_type": "stream",
     "text": [
      "Successfully fetched data for S32.AX\n"
     ]
    },
    {
     "name": "stderr",
     "output_type": "stream",
     "text": [
      "[*********************100%***********************]  1 of 1 completed\n",
      "/var/folders/mb/34z82c2579x79_xxtnfk70200000gn/T/ipykernel_50737/649416982.py:21: PerformanceWarning: DataFrame is highly fragmented.  This is usually the result of calling `frame.insert` many times, which has poor performance.  Consider joining all columns at once using pd.concat(axis=1) instead. To get a de-fragmented frame, use `newframe = frame.copy()`\n",
      "  all_data[ticker] = data['Close']\n"
     ]
    },
    {
     "name": "stdout",
     "output_type": "stream",
     "text": [
      "Successfully fetched data for APZ.AX\n"
     ]
    },
    {
     "name": "stderr",
     "output_type": "stream",
     "text": [
      "[*********************100%***********************]  1 of 1 completed\n",
      "/var/folders/mb/34z82c2579x79_xxtnfk70200000gn/T/ipykernel_50737/649416982.py:21: PerformanceWarning: DataFrame is highly fragmented.  This is usually the result of calling `frame.insert` many times, which has poor performance.  Consider joining all columns at once using pd.concat(axis=1) instead. To get a de-fragmented frame, use `newframe = frame.copy()`\n",
      "  all_data[ticker] = data['Close']\n"
     ]
    },
    {
     "name": "stdout",
     "output_type": "stream",
     "text": [
      "Successfully fetched data for PNI.AX\n"
     ]
    },
    {
     "name": "stderr",
     "output_type": "stream",
     "text": [
      "[*********************100%***********************]  1 of 1 completed\n",
      "/var/folders/mb/34z82c2579x79_xxtnfk70200000gn/T/ipykernel_50737/649416982.py:21: PerformanceWarning: DataFrame is highly fragmented.  This is usually the result of calling `frame.insert` many times, which has poor performance.  Consider joining all columns at once using pd.concat(axis=1) instead. To get a de-fragmented frame, use `newframe = frame.copy()`\n",
      "  all_data[ticker] = data['Close']\n"
     ]
    },
    {
     "name": "stdout",
     "output_type": "stream",
     "text": [
      "Successfully fetched data for DBI.AX\n"
     ]
    },
    {
     "name": "stderr",
     "output_type": "stream",
     "text": [
      "[*********************100%***********************]  1 of 1 completed\n",
      "/var/folders/mb/34z82c2579x79_xxtnfk70200000gn/T/ipykernel_50737/649416982.py:21: PerformanceWarning: DataFrame is highly fragmented.  This is usually the result of calling `frame.insert` many times, which has poor performance.  Consider joining all columns at once using pd.concat(axis=1) instead. To get a de-fragmented frame, use `newframe = frame.copy()`\n",
      "  all_data[ticker] = data['Close']\n"
     ]
    },
    {
     "name": "stdout",
     "output_type": "stream",
     "text": [
      "Successfully fetched data for GNP.AX\n"
     ]
    },
    {
     "name": "stderr",
     "output_type": "stream",
     "text": [
      "[*********************100%***********************]  1 of 1 completed\n",
      "/var/folders/mb/34z82c2579x79_xxtnfk70200000gn/T/ipykernel_50737/649416982.py:21: PerformanceWarning: DataFrame is highly fragmented.  This is usually the result of calling `frame.insert` many times, which has poor performance.  Consider joining all columns at once using pd.concat(axis=1) instead. To get a de-fragmented frame, use `newframe = frame.copy()`\n",
      "  all_data[ticker] = data['Close']\n"
     ]
    },
    {
     "name": "stdout",
     "output_type": "stream",
     "text": [
      "Successfully fetched data for AMH.AX\n"
     ]
    },
    {
     "name": "stderr",
     "output_type": "stream",
     "text": [
      "[*********************100%***********************]  1 of 1 completed\n",
      "/var/folders/mb/34z82c2579x79_xxtnfk70200000gn/T/ipykernel_50737/649416982.py:21: PerformanceWarning: DataFrame is highly fragmented.  This is usually the result of calling `frame.insert` many times, which has poor performance.  Consider joining all columns at once using pd.concat(axis=1) instead. To get a de-fragmented frame, use `newframe = frame.copy()`\n",
      "  all_data[ticker] = data['Close']\n"
     ]
    },
    {
     "name": "stdout",
     "output_type": "stream",
     "text": [
      "Successfully fetched data for NWL.AX\n"
     ]
    },
    {
     "name": "stderr",
     "output_type": "stream",
     "text": [
      "[*********************100%***********************]  1 of 1 completed\n",
      "/var/folders/mb/34z82c2579x79_xxtnfk70200000gn/T/ipykernel_50737/649416982.py:21: PerformanceWarning: DataFrame is highly fragmented.  This is usually the result of calling `frame.insert` many times, which has poor performance.  Consider joining all columns at once using pd.concat(axis=1) instead. To get a de-fragmented frame, use `newframe = frame.copy()`\n",
      "  all_data[ticker] = data['Close']\n"
     ]
    },
    {
     "name": "stdout",
     "output_type": "stream",
     "text": [
      "Successfully fetched data for PNC.AX\n"
     ]
    },
    {
     "name": "stderr",
     "output_type": "stream",
     "text": [
      "[*********************100%***********************]  1 of 1 completed\n",
      "/var/folders/mb/34z82c2579x79_xxtnfk70200000gn/T/ipykernel_50737/649416982.py:21: PerformanceWarning: DataFrame is highly fragmented.  This is usually the result of calling `frame.insert` many times, which has poor performance.  Consider joining all columns at once using pd.concat(axis=1) instead. To get a de-fragmented frame, use `newframe = frame.copy()`\n",
      "  all_data[ticker] = data['Close']\n"
     ]
    },
    {
     "name": "stdout",
     "output_type": "stream",
     "text": [
      "Successfully fetched data for BGP.AX\n"
     ]
    },
    {
     "name": "stderr",
     "output_type": "stream",
     "text": [
      "[*********************100%***********************]  1 of 1 completed\n",
      "/var/folders/mb/34z82c2579x79_xxtnfk70200000gn/T/ipykernel_50737/649416982.py:21: PerformanceWarning: DataFrame is highly fragmented.  This is usually the result of calling `frame.insert` many times, which has poor performance.  Consider joining all columns at once using pd.concat(axis=1) instead. To get a de-fragmented frame, use `newframe = frame.copy()`\n",
      "  all_data[ticker] = data['Close']\n"
     ]
    },
    {
     "name": "stdout",
     "output_type": "stream",
     "text": [
      "Successfully fetched data for ARG.AX\n"
     ]
    },
    {
     "name": "stderr",
     "output_type": "stream",
     "text": [
      "[*********************100%***********************]  1 of 1 completed\n",
      "/var/folders/mb/34z82c2579x79_xxtnfk70200000gn/T/ipykernel_50737/649416982.py:21: PerformanceWarning: DataFrame is highly fragmented.  This is usually the result of calling `frame.insert` many times, which has poor performance.  Consider joining all columns at once using pd.concat(axis=1) instead. To get a de-fragmented frame, use `newframe = frame.copy()`\n",
      "  all_data[ticker] = data['Close']\n"
     ]
    },
    {
     "name": "stdout",
     "output_type": "stream",
     "text": [
      "Successfully fetched data for PRO.AX\n"
     ]
    },
    {
     "name": "stderr",
     "output_type": "stream",
     "text": [
      "[*********************100%***********************]  1 of 1 completed\n",
      "/var/folders/mb/34z82c2579x79_xxtnfk70200000gn/T/ipykernel_50737/649416982.py:21: PerformanceWarning: DataFrame is highly fragmented.  This is usually the result of calling `frame.insert` many times, which has poor performance.  Consider joining all columns at once using pd.concat(axis=1) instead. To get a de-fragmented frame, use `newframe = frame.copy()`\n",
      "  all_data[ticker] = data['Close']\n"
     ]
    },
    {
     "name": "stdout",
     "output_type": "stream",
     "text": [
      "Successfully fetched data for PEX.AX\n"
     ]
    },
    {
     "name": "stderr",
     "output_type": "stream",
     "text": [
      "[*********************100%***********************]  1 of 1 completed\n",
      "/var/folders/mb/34z82c2579x79_xxtnfk70200000gn/T/ipykernel_50737/649416982.py:21: PerformanceWarning: DataFrame is highly fragmented.  This is usually the result of calling `frame.insert` many times, which has poor performance.  Consider joining all columns at once using pd.concat(axis=1) instead. To get a de-fragmented frame, use `newframe = frame.copy()`\n",
      "  all_data[ticker] = data['Close']\n"
     ]
    },
    {
     "name": "stdout",
     "output_type": "stream",
     "text": [
      "Successfully fetched data for MOT.AX\n"
     ]
    },
    {
     "name": "stderr",
     "output_type": "stream",
     "text": [
      "[*********************100%***********************]  1 of 1 completed\n",
      "/var/folders/mb/34z82c2579x79_xxtnfk70200000gn/T/ipykernel_50737/649416982.py:21: PerformanceWarning: DataFrame is highly fragmented.  This is usually the result of calling `frame.insert` many times, which has poor performance.  Consider joining all columns at once using pd.concat(axis=1) instead. To get a de-fragmented frame, use `newframe = frame.copy()`\n",
      "  all_data[ticker] = data['Close']\n"
     ]
    },
    {
     "name": "stdout",
     "output_type": "stream",
     "text": [
      "Successfully fetched data for IPL.AX\n"
     ]
    },
    {
     "name": "stderr",
     "output_type": "stream",
     "text": [
      "[*********************100%***********************]  1 of 1 completed\n",
      "/var/folders/mb/34z82c2579x79_xxtnfk70200000gn/T/ipykernel_50737/649416982.py:21: PerformanceWarning: DataFrame is highly fragmented.  This is usually the result of calling `frame.insert` many times, which has poor performance.  Consider joining all columns at once using pd.concat(axis=1) instead. To get a de-fragmented frame, use `newframe = frame.copy()`\n",
      "  all_data[ticker] = data['Close']\n"
     ]
    },
    {
     "name": "stdout",
     "output_type": "stream",
     "text": [
      "Successfully fetched data for LSX.AX\n"
     ]
    },
    {
     "name": "stderr",
     "output_type": "stream",
     "text": [
      "[*********************100%***********************]  1 of 1 completed\n",
      "/var/folders/mb/34z82c2579x79_xxtnfk70200000gn/T/ipykernel_50737/649416982.py:21: PerformanceWarning: DataFrame is highly fragmented.  This is usually the result of calling `frame.insert` many times, which has poor performance.  Consider joining all columns at once using pd.concat(axis=1) instead. To get a de-fragmented frame, use `newframe = frame.copy()`\n",
      "  all_data[ticker] = data['Close']\n"
     ]
    },
    {
     "name": "stdout",
     "output_type": "stream",
     "text": [
      "Successfully fetched data for WAT.AX\n"
     ]
    },
    {
     "name": "stderr",
     "output_type": "stream",
     "text": [
      "[*********************100%***********************]  1 of 1 completed\n",
      "/var/folders/mb/34z82c2579x79_xxtnfk70200000gn/T/ipykernel_50737/649416982.py:21: PerformanceWarning: DataFrame is highly fragmented.  This is usually the result of calling `frame.insert` many times, which has poor performance.  Consider joining all columns at once using pd.concat(axis=1) instead. To get a de-fragmented frame, use `newframe = frame.copy()`\n",
      "  all_data[ticker] = data['Close']\n"
     ]
    },
    {
     "name": "stdout",
     "output_type": "stream",
     "text": [
      "Successfully fetched data for CIN.AX\n"
     ]
    },
    {
     "name": "stderr",
     "output_type": "stream",
     "text": [
      "[*********************100%***********************]  1 of 1 completed\n",
      "/var/folders/mb/34z82c2579x79_xxtnfk70200000gn/T/ipykernel_50737/649416982.py:21: PerformanceWarning: DataFrame is highly fragmented.  This is usually the result of calling `frame.insert` many times, which has poor performance.  Consider joining all columns at once using pd.concat(axis=1) instead. To get a de-fragmented frame, use `newframe = frame.copy()`\n",
      "  all_data[ticker] = data['Close']\n"
     ]
    },
    {
     "name": "stdout",
     "output_type": "stream",
     "text": [
      "Successfully fetched data for SRG.AX\n"
     ]
    },
    {
     "name": "stderr",
     "output_type": "stream",
     "text": [
      "[*********************100%***********************]  1 of 1 completed\n",
      "/var/folders/mb/34z82c2579x79_xxtnfk70200000gn/T/ipykernel_50737/649416982.py:21: PerformanceWarning: DataFrame is highly fragmented.  This is usually the result of calling `frame.insert` many times, which has poor performance.  Consider joining all columns at once using pd.concat(axis=1) instead. To get a de-fragmented frame, use `newframe = frame.copy()`\n",
      "  all_data[ticker] = data['Close']\n"
     ]
    },
    {
     "name": "stdout",
     "output_type": "stream",
     "text": [
      "Successfully fetched data for CVL.AX\n"
     ]
    },
    {
     "name": "stderr",
     "output_type": "stream",
     "text": [
      "[*********************100%***********************]  1 of 1 completed\n",
      "/var/folders/mb/34z82c2579x79_xxtnfk70200000gn/T/ipykernel_50737/649416982.py:21: PerformanceWarning: DataFrame is highly fragmented.  This is usually the result of calling `frame.insert` many times, which has poor performance.  Consider joining all columns at once using pd.concat(axis=1) instead. To get a de-fragmented frame, use `newframe = frame.copy()`\n",
      "  all_data[ticker] = data['Close']\n"
     ]
    },
    {
     "name": "stdout",
     "output_type": "stream",
     "text": [
      "Successfully fetched data for HM1.AX\n"
     ]
    },
    {
     "name": "stderr",
     "output_type": "stream",
     "text": [
      "[*********************100%***********************]  1 of 1 completed\n",
      "/var/folders/mb/34z82c2579x79_xxtnfk70200000gn/T/ipykernel_50737/649416982.py:21: PerformanceWarning: DataFrame is highly fragmented.  This is usually the result of calling `frame.insert` many times, which has poor performance.  Consider joining all columns at once using pd.concat(axis=1) instead. To get a de-fragmented frame, use `newframe = frame.copy()`\n",
      "  all_data[ticker] = data['Close']\n"
     ]
    },
    {
     "name": "stdout",
     "output_type": "stream",
     "text": [
      "Successfully fetched data for DXC.AX\n"
     ]
    },
    {
     "name": "stderr",
     "output_type": "stream",
     "text": [
      "[*********************100%***********************]  1 of 1 completed\n",
      "/var/folders/mb/34z82c2579x79_xxtnfk70200000gn/T/ipykernel_50737/649416982.py:21: PerformanceWarning: DataFrame is highly fragmented.  This is usually the result of calling `frame.insert` many times, which has poor performance.  Consider joining all columns at once using pd.concat(axis=1) instead. To get a de-fragmented frame, use `newframe = frame.copy()`\n",
      "  all_data[ticker] = data['Close']\n"
     ]
    },
    {
     "name": "stdout",
     "output_type": "stream",
     "text": [
      "Successfully fetched data for MWY.AX\n"
     ]
    },
    {
     "name": "stderr",
     "output_type": "stream",
     "text": [
      "[*********************100%***********************]  1 of 1 completed\n",
      "/var/folders/mb/34z82c2579x79_xxtnfk70200000gn/T/ipykernel_50737/649416982.py:21: PerformanceWarning: DataFrame is highly fragmented.  This is usually the result of calling `frame.insert` many times, which has poor performance.  Consider joining all columns at once using pd.concat(axis=1) instead. To get a de-fragmented frame, use `newframe = frame.copy()`\n",
      "  all_data[ticker] = data['Close']\n"
     ]
    },
    {
     "name": "stdout",
     "output_type": "stream",
     "text": [
      "Successfully fetched data for SHA.AX\n"
     ]
    },
    {
     "name": "stderr",
     "output_type": "stream",
     "text": [
      "[*********************100%***********************]  1 of 1 completed\n",
      "/var/folders/mb/34z82c2579x79_xxtnfk70200000gn/T/ipykernel_50737/649416982.py:21: PerformanceWarning: DataFrame is highly fragmented.  This is usually the result of calling `frame.insert` many times, which has poor performance.  Consider joining all columns at once using pd.concat(axis=1) instead. To get a de-fragmented frame, use `newframe = frame.copy()`\n",
      "  all_data[ticker] = data['Close']\n"
     ]
    },
    {
     "name": "stdout",
     "output_type": "stream",
     "text": [
      "Successfully fetched data for REA.AX\n"
     ]
    },
    {
     "name": "stderr",
     "output_type": "stream",
     "text": [
      "[*********************100%***********************]  1 of 1 completed\n",
      "/var/folders/mb/34z82c2579x79_xxtnfk70200000gn/T/ipykernel_50737/649416982.py:21: PerformanceWarning: DataFrame is highly fragmented.  This is usually the result of calling `frame.insert` many times, which has poor performance.  Consider joining all columns at once using pd.concat(axis=1) instead. To get a de-fragmented frame, use `newframe = frame.copy()`\n",
      "  all_data[ticker] = data['Close']\n"
     ]
    },
    {
     "name": "stdout",
     "output_type": "stream",
     "text": [
      "Successfully fetched data for EGH.AX\n"
     ]
    },
    {
     "name": "stderr",
     "output_type": "stream",
     "text": [
      "[*********************100%***********************]  1 of 1 completed\n",
      "/var/folders/mb/34z82c2579x79_xxtnfk70200000gn/T/ipykernel_50737/649416982.py:21: PerformanceWarning: DataFrame is highly fragmented.  This is usually the result of calling `frame.insert` many times, which has poor performance.  Consider joining all columns at once using pd.concat(axis=1) instead. To get a de-fragmented frame, use `newframe = frame.copy()`\n",
      "  all_data[ticker] = data['Close']\n"
     ]
    },
    {
     "name": "stdout",
     "output_type": "stream",
     "text": [
      "Successfully fetched data for MEC.AX\n"
     ]
    },
    {
     "name": "stderr",
     "output_type": "stream",
     "text": [
      "[*********************100%***********************]  1 of 1 completed\n",
      "/var/folders/mb/34z82c2579x79_xxtnfk70200000gn/T/ipykernel_50737/649416982.py:21: PerformanceWarning: DataFrame is highly fragmented.  This is usually the result of calling `frame.insert` many times, which has poor performance.  Consider joining all columns at once using pd.concat(axis=1) instead. To get a de-fragmented frame, use `newframe = frame.copy()`\n",
      "  all_data[ticker] = data['Close']\n"
     ]
    },
    {
     "name": "stdout",
     "output_type": "stream",
     "text": [
      "Successfully fetched data for ACR.AX\n"
     ]
    },
    {
     "name": "stderr",
     "output_type": "stream",
     "text": [
      "[*********************100%***********************]  1 of 1 completed\n",
      "/var/folders/mb/34z82c2579x79_xxtnfk70200000gn/T/ipykernel_50737/649416982.py:21: PerformanceWarning: DataFrame is highly fragmented.  This is usually the result of calling `frame.insert` many times, which has poor performance.  Consider joining all columns at once using pd.concat(axis=1) instead. To get a de-fragmented frame, use `newframe = frame.copy()`\n",
      "  all_data[ticker] = data['Close']\n"
     ]
    },
    {
     "name": "stdout",
     "output_type": "stream",
     "text": [
      "Successfully fetched data for MAQ.AX\n"
     ]
    },
    {
     "name": "stderr",
     "output_type": "stream",
     "text": [
      "[*********************100%***********************]  1 of 1 completed\n",
      "/var/folders/mb/34z82c2579x79_xxtnfk70200000gn/T/ipykernel_50737/649416982.py:21: PerformanceWarning: DataFrame is highly fragmented.  This is usually the result of calling `frame.insert` many times, which has poor performance.  Consider joining all columns at once using pd.concat(axis=1) instead. To get a de-fragmented frame, use `newframe = frame.copy()`\n",
      "  all_data[ticker] = data['Close']\n"
     ]
    },
    {
     "name": "stdout",
     "output_type": "stream",
     "text": [
      "Successfully fetched data for TWR.AX\n"
     ]
    },
    {
     "name": "stderr",
     "output_type": "stream",
     "text": [
      "[*********************100%***********************]  1 of 1 completed\n",
      "/var/folders/mb/34z82c2579x79_xxtnfk70200000gn/T/ipykernel_50737/649416982.py:21: PerformanceWarning: DataFrame is highly fragmented.  This is usually the result of calling `frame.insert` many times, which has poor performance.  Consider joining all columns at once using pd.concat(axis=1) instead. To get a de-fragmented frame, use `newframe = frame.copy()`\n",
      "  all_data[ticker] = data['Close']\n"
     ]
    },
    {
     "name": "stdout",
     "output_type": "stream",
     "text": [
      "Successfully fetched data for FPC.AX\n"
     ]
    },
    {
     "name": "stderr",
     "output_type": "stream",
     "text": [
      "[*********************100%***********************]  1 of 1 completed\n",
      "/var/folders/mb/34z82c2579x79_xxtnfk70200000gn/T/ipykernel_50737/649416982.py:21: PerformanceWarning: DataFrame is highly fragmented.  This is usually the result of calling `frame.insert` many times, which has poor performance.  Consider joining all columns at once using pd.concat(axis=1) instead. To get a de-fragmented frame, use `newframe = frame.copy()`\n",
      "  all_data[ticker] = data['Close']\n"
     ]
    },
    {
     "name": "stdout",
     "output_type": "stream",
     "text": [
      "Successfully fetched data for LAM.AX\n"
     ]
    },
    {
     "name": "stderr",
     "output_type": "stream",
     "text": [
      "[*********************100%***********************]  1 of 1 completed\n",
      "/var/folders/mb/34z82c2579x79_xxtnfk70200000gn/T/ipykernel_50737/649416982.py:21: PerformanceWarning: DataFrame is highly fragmented.  This is usually the result of calling `frame.insert` many times, which has poor performance.  Consider joining all columns at once using pd.concat(axis=1) instead. To get a de-fragmented frame, use `newframe = frame.copy()`\n",
      "  all_data[ticker] = data['Close']\n"
     ]
    },
    {
     "name": "stdout",
     "output_type": "stream",
     "text": [
      "Successfully fetched data for LPE.AX\n"
     ]
    },
    {
     "name": "stderr",
     "output_type": "stream",
     "text": [
      "[*********************100%***********************]  1 of 1 completed\n",
      "/var/folders/mb/34z82c2579x79_xxtnfk70200000gn/T/ipykernel_50737/649416982.py:21: PerformanceWarning: DataFrame is highly fragmented.  This is usually the result of calling `frame.insert` many times, which has poor performance.  Consider joining all columns at once using pd.concat(axis=1) instead. To get a de-fragmented frame, use `newframe = frame.copy()`\n",
      "  all_data[ticker] = data['Close']\n"
     ]
    },
    {
     "name": "stdout",
     "output_type": "stream",
     "text": [
      "Successfully fetched data for ECP.AX\n"
     ]
    },
    {
     "name": "stderr",
     "output_type": "stream",
     "text": [
      "[*********************100%***********************]  1 of 1 completed\n",
      "/var/folders/mb/34z82c2579x79_xxtnfk70200000gn/T/ipykernel_50737/649416982.py:21: PerformanceWarning: DataFrame is highly fragmented.  This is usually the result of calling `frame.insert` many times, which has poor performance.  Consider joining all columns at once using pd.concat(axis=1) instead. To get a de-fragmented frame, use `newframe = frame.copy()`\n",
      "  all_data[ticker] = data['Close']\n"
     ]
    },
    {
     "name": "stdout",
     "output_type": "stream",
     "text": [
      "Successfully fetched data for WHC.AX\n"
     ]
    },
    {
     "name": "stderr",
     "output_type": "stream",
     "text": [
      "[*********************100%***********************]  1 of 1 completed\n",
      "/var/folders/mb/34z82c2579x79_xxtnfk70200000gn/T/ipykernel_50737/649416982.py:21: PerformanceWarning: DataFrame is highly fragmented.  This is usually the result of calling `frame.insert` many times, which has poor performance.  Consider joining all columns at once using pd.concat(axis=1) instead. To get a de-fragmented frame, use `newframe = frame.copy()`\n",
      "  all_data[ticker] = data['Close']\n"
     ]
    },
    {
     "name": "stdout",
     "output_type": "stream",
     "text": [
      "Successfully fetched data for BFG.AX\n"
     ]
    },
    {
     "name": "stderr",
     "output_type": "stream",
     "text": [
      "[*********************100%***********************]  1 of 1 completed\n",
      "/var/folders/mb/34z82c2579x79_xxtnfk70200000gn/T/ipykernel_50737/649416982.py:21: PerformanceWarning: DataFrame is highly fragmented.  This is usually the result of calling `frame.insert` many times, which has poor performance.  Consider joining all columns at once using pd.concat(axis=1) instead. To get a de-fragmented frame, use `newframe = frame.copy()`\n",
      "  all_data[ticker] = data['Close']\n"
     ]
    },
    {
     "name": "stdout",
     "output_type": "stream",
     "text": [
      "Successfully fetched data for BOQ.AX\n"
     ]
    },
    {
     "name": "stderr",
     "output_type": "stream",
     "text": [
      "[*********************100%***********************]  1 of 1 completed\n",
      "/var/folders/mb/34z82c2579x79_xxtnfk70200000gn/T/ipykernel_50737/649416982.py:21: PerformanceWarning: DataFrame is highly fragmented.  This is usually the result of calling `frame.insert` many times, which has poor performance.  Consider joining all columns at once using pd.concat(axis=1) instead. To get a de-fragmented frame, use `newframe = frame.copy()`\n",
      "  all_data[ticker] = data['Close']\n"
     ]
    },
    {
     "name": "stdout",
     "output_type": "stream",
     "text": [
      "Successfully fetched data for CU6.AX\n"
     ]
    },
    {
     "name": "stderr",
     "output_type": "stream",
     "text": [
      "[*********************100%***********************]  1 of 1 completed\n",
      "/var/folders/mb/34z82c2579x79_xxtnfk70200000gn/T/ipykernel_50737/649416982.py:21: PerformanceWarning: DataFrame is highly fragmented.  This is usually the result of calling `frame.insert` many times, which has poor performance.  Consider joining all columns at once using pd.concat(axis=1) instead. To get a de-fragmented frame, use `newframe = frame.copy()`\n",
      "  all_data[ticker] = data['Close']\n"
     ]
    },
    {
     "name": "stdout",
     "output_type": "stream",
     "text": [
      "Successfully fetched data for AII.AX\n"
     ]
    },
    {
     "name": "stderr",
     "output_type": "stream",
     "text": [
      "[*********************100%***********************]  1 of 1 completed\n",
      "/var/folders/mb/34z82c2579x79_xxtnfk70200000gn/T/ipykernel_50737/649416982.py:21: PerformanceWarning: DataFrame is highly fragmented.  This is usually the result of calling `frame.insert` many times, which has poor performance.  Consider joining all columns at once using pd.concat(axis=1) instead. To get a de-fragmented frame, use `newframe = frame.copy()`\n",
      "  all_data[ticker] = data['Close']\n"
     ]
    },
    {
     "name": "stdout",
     "output_type": "stream",
     "text": [
      "Successfully fetched data for GSS.AX\n"
     ]
    },
    {
     "name": "stderr",
     "output_type": "stream",
     "text": [
      "[*********************100%***********************]  1 of 1 completed\n",
      "/var/folders/mb/34z82c2579x79_xxtnfk70200000gn/T/ipykernel_50737/649416982.py:21: PerformanceWarning: DataFrame is highly fragmented.  This is usually the result of calling `frame.insert` many times, which has poor performance.  Consider joining all columns at once using pd.concat(axis=1) instead. To get a de-fragmented frame, use `newframe = frame.copy()`\n",
      "  all_data[ticker] = data['Close']\n"
     ]
    },
    {
     "name": "stdout",
     "output_type": "stream",
     "text": [
      "Successfully fetched data for CD3.AX\n"
     ]
    },
    {
     "name": "stderr",
     "output_type": "stream",
     "text": [
      "[*********************100%***********************]  1 of 1 completed\n",
      "/var/folders/mb/34z82c2579x79_xxtnfk70200000gn/T/ipykernel_50737/649416982.py:21: PerformanceWarning: DataFrame is highly fragmented.  This is usually the result of calling `frame.insert` many times, which has poor performance.  Consider joining all columns at once using pd.concat(axis=1) instead. To get a de-fragmented frame, use `newframe = frame.copy()`\n",
      "  all_data[ticker] = data['Close']\n"
     ]
    },
    {
     "name": "stdout",
     "output_type": "stream",
     "text": [
      "Successfully fetched data for GEM.AX\n"
     ]
    },
    {
     "name": "stderr",
     "output_type": "stream",
     "text": [
      "[*********************100%***********************]  1 of 1 completed\n",
      "/var/folders/mb/34z82c2579x79_xxtnfk70200000gn/T/ipykernel_50737/649416982.py:21: PerformanceWarning: DataFrame is highly fragmented.  This is usually the result of calling `frame.insert` many times, which has poor performance.  Consider joining all columns at once using pd.concat(axis=1) instead. To get a de-fragmented frame, use `newframe = frame.copy()`\n",
      "  all_data[ticker] = data['Close']\n"
     ]
    },
    {
     "name": "stdout",
     "output_type": "stream",
     "text": [
      "Successfully fetched data for MMI.AX\n"
     ]
    },
    {
     "name": "stderr",
     "output_type": "stream",
     "text": [
      "[*********************100%***********************]  1 of 1 completed\n",
      "/var/folders/mb/34z82c2579x79_xxtnfk70200000gn/T/ipykernel_50737/649416982.py:21: PerformanceWarning: DataFrame is highly fragmented.  This is usually the result of calling `frame.insert` many times, which has poor performance.  Consider joining all columns at once using pd.concat(axis=1) instead. To get a de-fragmented frame, use `newframe = frame.copy()`\n",
      "  all_data[ticker] = data['Close']\n"
     ]
    },
    {
     "name": "stdout",
     "output_type": "stream",
     "text": [
      "Successfully fetched data for AAP.AX\n"
     ]
    },
    {
     "name": "stderr",
     "output_type": "stream",
     "text": [
      "[*********************100%***********************]  1 of 1 completed\n",
      "/var/folders/mb/34z82c2579x79_xxtnfk70200000gn/T/ipykernel_50737/649416982.py:21: PerformanceWarning: DataFrame is highly fragmented.  This is usually the result of calling `frame.insert` many times, which has poor performance.  Consider joining all columns at once using pd.concat(axis=1) instead. To get a de-fragmented frame, use `newframe = frame.copy()`\n",
      "  all_data[ticker] = data['Close']\n"
     ]
    },
    {
     "name": "stdout",
     "output_type": "stream",
     "text": [
      "Successfully fetched data for SEG.AX\n"
     ]
    },
    {
     "name": "stderr",
     "output_type": "stream",
     "text": [
      "[*********************100%***********************]  1 of 1 completed\n",
      "/var/folders/mb/34z82c2579x79_xxtnfk70200000gn/T/ipykernel_50737/649416982.py:21: PerformanceWarning: DataFrame is highly fragmented.  This is usually the result of calling `frame.insert` many times, which has poor performance.  Consider joining all columns at once using pd.concat(axis=1) instead. To get a de-fragmented frame, use `newframe = frame.copy()`\n",
      "  all_data[ticker] = data['Close']\n"
     ]
    },
    {
     "name": "stdout",
     "output_type": "stream",
     "text": [
      "Successfully fetched data for MEZ.AX\n"
     ]
    },
    {
     "name": "stderr",
     "output_type": "stream",
     "text": [
      "[*********************100%***********************]  1 of 1 completed\n",
      "/var/folders/mb/34z82c2579x79_xxtnfk70200000gn/T/ipykernel_50737/649416982.py:21: PerformanceWarning: DataFrame is highly fragmented.  This is usually the result of calling `frame.insert` many times, which has poor performance.  Consider joining all columns at once using pd.concat(axis=1) instead. To get a de-fragmented frame, use `newframe = frame.copy()`\n",
      "  all_data[ticker] = data['Close']\n"
     ]
    },
    {
     "name": "stdout",
     "output_type": "stream",
     "text": [
      "Successfully fetched data for MAU.AX\n"
     ]
    },
    {
     "name": "stderr",
     "output_type": "stream",
     "text": [
      "[*********************100%***********************]  1 of 1 completed\n",
      "/var/folders/mb/34z82c2579x79_xxtnfk70200000gn/T/ipykernel_50737/649416982.py:21: PerformanceWarning: DataFrame is highly fragmented.  This is usually the result of calling `frame.insert` many times, which has poor performance.  Consider joining all columns at once using pd.concat(axis=1) instead. To get a de-fragmented frame, use `newframe = frame.copy()`\n",
      "  all_data[ticker] = data['Close']\n"
     ]
    },
    {
     "name": "stdout",
     "output_type": "stream",
     "text": [
      "Successfully fetched data for ARF.AX\n"
     ]
    },
    {
     "name": "stderr",
     "output_type": "stream",
     "text": [
      "[*********************100%***********************]  1 of 1 completed\n",
      "/var/folders/mb/34z82c2579x79_xxtnfk70200000gn/T/ipykernel_50737/649416982.py:21: PerformanceWarning: DataFrame is highly fragmented.  This is usually the result of calling `frame.insert` many times, which has poor performance.  Consider joining all columns at once using pd.concat(axis=1) instead. To get a de-fragmented frame, use `newframe = frame.copy()`\n",
      "  all_data[ticker] = data['Close']\n"
     ]
    },
    {
     "name": "stdout",
     "output_type": "stream",
     "text": [
      "Successfully fetched data for CHW.AX\n"
     ]
    },
    {
     "name": "stderr",
     "output_type": "stream",
     "text": [
      "[*********************100%***********************]  1 of 1 completed\n",
      "/var/folders/mb/34z82c2579x79_xxtnfk70200000gn/T/ipykernel_50737/649416982.py:21: PerformanceWarning: DataFrame is highly fragmented.  This is usually the result of calling `frame.insert` many times, which has poor performance.  Consider joining all columns at once using pd.concat(axis=1) instead. To get a de-fragmented frame, use `newframe = frame.copy()`\n",
      "  all_data[ticker] = data['Close']\n"
     ]
    },
    {
     "name": "stdout",
     "output_type": "stream",
     "text": [
      "Successfully fetched data for WHF.AX\n"
     ]
    },
    {
     "name": "stderr",
     "output_type": "stream",
     "text": [
      "[*********************100%***********************]  1 of 1 completed\n",
      "/var/folders/mb/34z82c2579x79_xxtnfk70200000gn/T/ipykernel_50737/649416982.py:21: PerformanceWarning: DataFrame is highly fragmented.  This is usually the result of calling `frame.insert` many times, which has poor performance.  Consider joining all columns at once using pd.concat(axis=1) instead. To get a de-fragmented frame, use `newframe = frame.copy()`\n",
      "  all_data[ticker] = data['Close']\n"
     ]
    },
    {
     "name": "stdout",
     "output_type": "stream",
     "text": [
      "Successfully fetched data for TTT.AX\n"
     ]
    },
    {
     "name": "stderr",
     "output_type": "stream",
     "text": [
      "[*********************100%***********************]  1 of 1 completed\n",
      "/var/folders/mb/34z82c2579x79_xxtnfk70200000gn/T/ipykernel_50737/649416982.py:21: PerformanceWarning: DataFrame is highly fragmented.  This is usually the result of calling `frame.insert` many times, which has poor performance.  Consider joining all columns at once using pd.concat(axis=1) instead. To get a de-fragmented frame, use `newframe = frame.copy()`\n",
      "  all_data[ticker] = data['Close']\n"
     ]
    },
    {
     "name": "stdout",
     "output_type": "stream",
     "text": [
      "Successfully fetched data for SXE.AX\n"
     ]
    },
    {
     "name": "stderr",
     "output_type": "stream",
     "text": [
      "[*********************100%***********************]  1 of 1 completed\n",
      "/var/folders/mb/34z82c2579x79_xxtnfk70200000gn/T/ipykernel_50737/649416982.py:21: PerformanceWarning: DataFrame is highly fragmented.  This is usually the result of calling `frame.insert` many times, which has poor performance.  Consider joining all columns at once using pd.concat(axis=1) instead. To get a de-fragmented frame, use `newframe = frame.copy()`\n",
      "  all_data[ticker] = data['Close']\n"
     ]
    },
    {
     "name": "stdout",
     "output_type": "stream",
     "text": [
      "Successfully fetched data for BIS.AX\n"
     ]
    },
    {
     "name": "stderr",
     "output_type": "stream",
     "text": [
      "[*********************100%***********************]  1 of 1 completed\n",
      "/var/folders/mb/34z82c2579x79_xxtnfk70200000gn/T/ipykernel_50737/649416982.py:21: PerformanceWarning: DataFrame is highly fragmented.  This is usually the result of calling `frame.insert` many times, which has poor performance.  Consider joining all columns at once using pd.concat(axis=1) instead. To get a de-fragmented frame, use `newframe = frame.copy()`\n",
      "  all_data[ticker] = data['Close']\n"
     ]
    },
    {
     "name": "stdout",
     "output_type": "stream",
     "text": [
      "Successfully fetched data for NGE.AX\n"
     ]
    },
    {
     "name": "stderr",
     "output_type": "stream",
     "text": [
      "[*********************100%***********************]  1 of 1 completed\n",
      "/var/folders/mb/34z82c2579x79_xxtnfk70200000gn/T/ipykernel_50737/649416982.py:21: PerformanceWarning: DataFrame is highly fragmented.  This is usually the result of calling `frame.insert` many times, which has poor performance.  Consider joining all columns at once using pd.concat(axis=1) instead. To get a de-fragmented frame, use `newframe = frame.copy()`\n",
      "  all_data[ticker] = data['Close']\n"
     ]
    },
    {
     "name": "stdout",
     "output_type": "stream",
     "text": [
      "Successfully fetched data for SGLLV.AX\n"
     ]
    },
    {
     "name": "stderr",
     "output_type": "stream",
     "text": [
      "[*********************100%***********************]  1 of 1 completed\n",
      "/var/folders/mb/34z82c2579x79_xxtnfk70200000gn/T/ipykernel_50737/649416982.py:21: PerformanceWarning: DataFrame is highly fragmented.  This is usually the result of calling `frame.insert` many times, which has poor performance.  Consider joining all columns at once using pd.concat(axis=1) instead. To get a de-fragmented frame, use `newframe = frame.copy()`\n",
      "  all_data[ticker] = data['Close']\n"
     ]
    },
    {
     "name": "stdout",
     "output_type": "stream",
     "text": [
      "Successfully fetched data for WTC.AX\n"
     ]
    },
    {
     "name": "stderr",
     "output_type": "stream",
     "text": [
      "[*********************100%***********************]  1 of 1 completed\n",
      "/var/folders/mb/34z82c2579x79_xxtnfk70200000gn/T/ipykernel_50737/649416982.py:21: PerformanceWarning: DataFrame is highly fragmented.  This is usually the result of calling `frame.insert` many times, which has poor performance.  Consider joining all columns at once using pd.concat(axis=1) instead. To get a de-fragmented frame, use `newframe = frame.copy()`\n",
      "  all_data[ticker] = data['Close']\n"
     ]
    },
    {
     "name": "stdout",
     "output_type": "stream",
     "text": [
      "Successfully fetched data for NWH.AX\n"
     ]
    },
    {
     "name": "stderr",
     "output_type": "stream",
     "text": [
      "[*********************100%***********************]  1 of 1 completed\n",
      "/var/folders/mb/34z82c2579x79_xxtnfk70200000gn/T/ipykernel_50737/649416982.py:21: PerformanceWarning: DataFrame is highly fragmented.  This is usually the result of calling `frame.insert` many times, which has poor performance.  Consider joining all columns at once using pd.concat(axis=1) instead. To get a de-fragmented frame, use `newframe = frame.copy()`\n",
      "  all_data[ticker] = data['Close']\n"
     ]
    },
    {
     "name": "stdout",
     "output_type": "stream",
     "text": [
      "Successfully fetched data for RDX.AX\n"
     ]
    },
    {
     "name": "stderr",
     "output_type": "stream",
     "text": [
      "[*********************100%***********************]  1 of 1 completed\n",
      "/var/folders/mb/34z82c2579x79_xxtnfk70200000gn/T/ipykernel_50737/649416982.py:21: PerformanceWarning: DataFrame is highly fragmented.  This is usually the result of calling `frame.insert` many times, which has poor performance.  Consider joining all columns at once using pd.concat(axis=1) instead. To get a de-fragmented frame, use `newframe = frame.copy()`\n",
      "  all_data[ticker] = data['Close']\n"
     ]
    },
    {
     "name": "stdout",
     "output_type": "stream",
     "text": [
      "Successfully fetched data for WAF.AX\n"
     ]
    },
    {
     "name": "stderr",
     "output_type": "stream",
     "text": [
      "[*********************100%***********************]  1 of 1 completed\n",
      "/var/folders/mb/34z82c2579x79_xxtnfk70200000gn/T/ipykernel_50737/649416982.py:21: PerformanceWarning: DataFrame is highly fragmented.  This is usually the result of calling `frame.insert` many times, which has poor performance.  Consider joining all columns at once using pd.concat(axis=1) instead. To get a de-fragmented frame, use `newframe = frame.copy()`\n",
      "  all_data[ticker] = data['Close']\n"
     ]
    },
    {
     "name": "stdout",
     "output_type": "stream",
     "text": [
      "Successfully fetched data for TPC.AX\n"
     ]
    },
    {
     "name": "stderr",
     "output_type": "stream",
     "text": [
      "[*********************100%***********************]  1 of 1 completed\n",
      "/var/folders/mb/34z82c2579x79_xxtnfk70200000gn/T/ipykernel_50737/649416982.py:21: PerformanceWarning: DataFrame is highly fragmented.  This is usually the result of calling `frame.insert` many times, which has poor performance.  Consider joining all columns at once using pd.concat(axis=1) instead. To get a de-fragmented frame, use `newframe = frame.copy()`\n",
      "  all_data[ticker] = data['Close']\n"
     ]
    },
    {
     "name": "stdout",
     "output_type": "stream",
     "text": [
      "Successfully fetched data for BKI.AX\n"
     ]
    },
    {
     "name": "stderr",
     "output_type": "stream",
     "text": [
      "[*********************100%***********************]  1 of 1 completed\n",
      "/var/folders/mb/34z82c2579x79_xxtnfk70200000gn/T/ipykernel_50737/649416982.py:21: PerformanceWarning: DataFrame is highly fragmented.  This is usually the result of calling `frame.insert` many times, which has poor performance.  Consider joining all columns at once using pd.concat(axis=1) instead. To get a de-fragmented frame, use `newframe = frame.copy()`\n",
      "  all_data[ticker] = data['Close']\n"
     ]
    },
    {
     "name": "stdout",
     "output_type": "stream",
     "text": [
      "Successfully fetched data for APW.AX\n"
     ]
    },
    {
     "name": "stderr",
     "output_type": "stream",
     "text": [
      "[*********************100%***********************]  1 of 1 completed\n",
      "/var/folders/mb/34z82c2579x79_xxtnfk70200000gn/T/ipykernel_50737/649416982.py:21: PerformanceWarning: DataFrame is highly fragmented.  This is usually the result of calling `frame.insert` many times, which has poor performance.  Consider joining all columns at once using pd.concat(axis=1) instead. To get a de-fragmented frame, use `newframe = frame.copy()`\n",
      "  all_data[ticker] = data['Close']\n"
     ]
    },
    {
     "name": "stdout",
     "output_type": "stream",
     "text": [
      "Successfully fetched data for OPH.AX\n"
     ]
    },
    {
     "name": "stderr",
     "output_type": "stream",
     "text": [
      "[*********************100%***********************]  1 of 1 completed\n",
      "/var/folders/mb/34z82c2579x79_xxtnfk70200000gn/T/ipykernel_50737/649416982.py:21: PerformanceWarning: DataFrame is highly fragmented.  This is usually the result of calling `frame.insert` many times, which has poor performance.  Consider joining all columns at once using pd.concat(axis=1) instead. To get a de-fragmented frame, use `newframe = frame.copy()`\n",
      "  all_data[ticker] = data['Close']\n"
     ]
    },
    {
     "name": "stdout",
     "output_type": "stream",
     "text": [
      "Successfully fetched data for NWSLV.AX\n"
     ]
    },
    {
     "name": "stderr",
     "output_type": "stream",
     "text": [
      "[*********************100%***********************]  1 of 1 completed\n",
      "/var/folders/mb/34z82c2579x79_xxtnfk70200000gn/T/ipykernel_50737/649416982.py:21: PerformanceWarning: DataFrame is highly fragmented.  This is usually the result of calling `frame.insert` many times, which has poor performance.  Consider joining all columns at once using pd.concat(axis=1) instead. To get a de-fragmented frame, use `newframe = frame.copy()`\n",
      "  all_data[ticker] = data['Close']\n"
     ]
    },
    {
     "name": "stdout",
     "output_type": "stream",
     "text": [
      "Successfully fetched data for RSG.AX\n"
     ]
    },
    {
     "name": "stderr",
     "output_type": "stream",
     "text": [
      "[*********************100%***********************]  1 of 1 completed\n",
      "/var/folders/mb/34z82c2579x79_xxtnfk70200000gn/T/ipykernel_50737/649416982.py:21: PerformanceWarning: DataFrame is highly fragmented.  This is usually the result of calling `frame.insert` many times, which has poor performance.  Consider joining all columns at once using pd.concat(axis=1) instead. To get a de-fragmented frame, use `newframe = frame.copy()`\n",
      "  all_data[ticker] = data['Close']\n"
     ]
    },
    {
     "name": "stdout",
     "output_type": "stream",
     "text": [
      "Successfully fetched data for AFI.AX\n"
     ]
    },
    {
     "name": "stderr",
     "output_type": "stream",
     "text": [
      "[*********************100%***********************]  1 of 1 completed\n",
      "/var/folders/mb/34z82c2579x79_xxtnfk70200000gn/T/ipykernel_50737/649416982.py:21: PerformanceWarning: DataFrame is highly fragmented.  This is usually the result of calling `frame.insert` many times, which has poor performance.  Consider joining all columns at once using pd.concat(axis=1) instead. To get a de-fragmented frame, use `newframe = frame.copy()`\n",
      "  all_data[ticker] = data['Close']\n"
     ]
    },
    {
     "name": "stdout",
     "output_type": "stream",
     "text": [
      "Successfully fetched data for HDN.AX\n"
     ]
    },
    {
     "name": "stderr",
     "output_type": "stream",
     "text": [
      "[*********************100%***********************]  1 of 1 completed\n",
      "/var/folders/mb/34z82c2579x79_xxtnfk70200000gn/T/ipykernel_50737/649416982.py:21: PerformanceWarning: DataFrame is highly fragmented.  This is usually the result of calling `frame.insert` many times, which has poor performance.  Consider joining all columns at once using pd.concat(axis=1) instead. To get a de-fragmented frame, use `newframe = frame.copy()`\n",
      "  all_data[ticker] = data['Close']\n"
     ]
    },
    {
     "name": "stdout",
     "output_type": "stream",
     "text": [
      "Successfully fetched data for EEG.AX\n"
     ]
    },
    {
     "name": "stderr",
     "output_type": "stream",
     "text": [
      "[*********************100%***********************]  1 of 1 completed\n",
      "/var/folders/mb/34z82c2579x79_xxtnfk70200000gn/T/ipykernel_50737/649416982.py:21: PerformanceWarning: DataFrame is highly fragmented.  This is usually the result of calling `frame.insert` many times, which has poor performance.  Consider joining all columns at once using pd.concat(axis=1) instead. To get a de-fragmented frame, use `newframe = frame.copy()`\n",
      "  all_data[ticker] = data['Close']\n"
     ]
    },
    {
     "name": "stdout",
     "output_type": "stream",
     "text": [
      "Successfully fetched data for GQG.AX\n"
     ]
    },
    {
     "name": "stderr",
     "output_type": "stream",
     "text": [
      "[*********************100%***********************]  1 of 1 completed\n",
      "/var/folders/mb/34z82c2579x79_xxtnfk70200000gn/T/ipykernel_50737/649416982.py:21: PerformanceWarning: DataFrame is highly fragmented.  This is usually the result of calling `frame.insert` many times, which has poor performance.  Consider joining all columns at once using pd.concat(axis=1) instead. To get a de-fragmented frame, use `newframe = frame.copy()`\n",
      "  all_data[ticker] = data['Close']\n"
     ]
    },
    {
     "name": "stdout",
     "output_type": "stream",
     "text": [
      "Successfully fetched data for EBG.AX\n"
     ]
    },
    {
     "name": "stderr",
     "output_type": "stream",
     "text": [
      "[*********************100%***********************]  1 of 1 completed\n",
      "/var/folders/mb/34z82c2579x79_xxtnfk70200000gn/T/ipykernel_50737/649416982.py:21: PerformanceWarning: DataFrame is highly fragmented.  This is usually the result of calling `frame.insert` many times, which has poor performance.  Consider joining all columns at once using pd.concat(axis=1) instead. To get a de-fragmented frame, use `newframe = frame.copy()`\n",
      "  all_data[ticker] = data['Close']\n"
     ]
    },
    {
     "name": "stdout",
     "output_type": "stream",
     "text": [
      "Successfully fetched data for CBO.AX\n"
     ]
    },
    {
     "name": "stderr",
     "output_type": "stream",
     "text": [
      "[*********************100%***********************]  1 of 1 completed\n",
      "/var/folders/mb/34z82c2579x79_xxtnfk70200000gn/T/ipykernel_50737/649416982.py:21: PerformanceWarning: DataFrame is highly fragmented.  This is usually the result of calling `frame.insert` many times, which has poor performance.  Consider joining all columns at once using pd.concat(axis=1) instead. To get a de-fragmented frame, use `newframe = frame.copy()`\n",
      "  all_data[ticker] = data['Close']\n"
     ]
    },
    {
     "name": "stdout",
     "output_type": "stream",
     "text": [
      "Successfully fetched data for DOW.AX\n"
     ]
    },
    {
     "name": "stderr",
     "output_type": "stream",
     "text": [
      "[*********************100%***********************]  1 of 1 completed\n",
      "/var/folders/mb/34z82c2579x79_xxtnfk70200000gn/T/ipykernel_50737/649416982.py:21: PerformanceWarning: DataFrame is highly fragmented.  This is usually the result of calling `frame.insert` many times, which has poor performance.  Consider joining all columns at once using pd.concat(axis=1) instead. To get a de-fragmented frame, use `newframe = frame.copy()`\n",
      "  all_data[ticker] = data['Close']\n"
     ]
    },
    {
     "name": "stdout",
     "output_type": "stream",
     "text": [
      "Successfully fetched data for CAM.AX\n",
      "[Date\n",
      "2024-06-06     9.607646\n",
      "2024-06-07     9.588839\n",
      "2024-06-11     9.537990\n",
      "2024-06-12     9.541258\n",
      "2024-06-13     9.594276\n",
      "                ...    \n",
      "2024-09-23    10.616221\n",
      "2024-09-24    10.722325\n",
      "2024-09-25    10.491216\n",
      "2024-09-26    10.656239\n",
      "2024-09-27    10.689193\n",
      "Name: Average, Length: 81, dtype: float64]\n",
      "All stock data has been saved to ASX_price.csv\n"
     ]
    },
    {
     "name": "stderr",
     "output_type": "stream",
     "text": [
      "/var/folders/mb/34z82c2579x79_xxtnfk70200000gn/T/ipykernel_50737/649416982.py:44: PerformanceWarning: DataFrame is highly fragmented.  This is usually the result of calling `frame.insert` many times, which has poor performance.  Consider joining all columns at once using pd.concat(axis=1) instead. To get a de-fragmented frame, use `newframe = frame.copy()`\n",
      "  all_data['Average'] = all_data.mean(axis=1)\n"
     ]
    }
   ],
   "source": [
    "import pandas as pd\n",
    "import yfinance as yf\n",
    "import time\n",
    "\n",
    "# Load ASX listed companies data\n",
    "file_path = '200_stocks.csv'\n",
    "asx_companies = pd.read_csv(file_path)\n",
    "\n",
    "# Extract ASX stock codes (add suffix \".AX\" for yfinance fetching)\n",
    "asx_companies['Ticker'] = asx_companies['ASX code']\n",
    "\n",
    "# Set time range\n",
    "start_date = \"2024-06-06\"\n",
    "end_date = \"2024-09-30\"\n",
    "\n",
    "# Define function to fetch historical stock prices for a single stock\n",
    "def fetch_stock_data(ticker, start_date, end_date):\n",
    "    try:\n",
    "        data = yf.download(ticker, start=start_date, end=end_date)\n",
    "        if not data.empty:\n",
    "            all_data[ticker] = data['Close'] \n",
    "            print(f\"Successfully fetched data for {ticker}\")\n",
    "            return all_data\n",
    "        else:\n",
    "            print(f\"No historical data for stock {ticker}\")\n",
    "            return pd.DataFrame()\n",
    "    except Exception as e:\n",
    "        print(f\"Failed to fetch data for {ticker}: {e}\")\n",
    "        return pd.DataFrame()\n",
    "\n",
    "# Fetch data for all stocks\n",
    "all_data = pd.DataFrame()\n",
    "weak_mean = []\n",
    "for ticker in asx_companies['Ticker']:\n",
    "    all_data = fetch_stock_data(ticker, start_date, end_date)\n",
    "    \n",
    "    #print(all_data)\n",
    "    #if not all_data.empty:\n",
    "       #weak_mean.append(all_data['Average'])\n",
    "    #print(all_data, weak_mean)\n",
    "    \n",
    "    time.sleep(1)  # Limit request frequency to avoid being banned\n",
    "\n",
    "all_data['Average'] = all_data.mean(axis=1)\n",
    "weak_mean.append(all_data['Average'])\n",
    "print(weak_mean)\n",
    "# Combine all data and save to CSV file\n",
    "if weak_mean:\n",
    "    combined_data = pd.concat(weak_mean)\n",
    "    combined_data.to_csv(\"ASX_price.csv\", index=False)\n",
    "    print(\"All stock data has been saved to ASX_price.csv\")\n",
    "else:\n",
    "    print(\"Failed to fetch any data successfully\")\n"
   ]
  },
  {
   "cell_type": "markdown",
   "metadata": {},
   "source": [
    "### Convert to Excel format, including the columns: \"Stock_Code,\" \"Date,\" \"Price,\" \"52 Weeks range,\" \"52 range top,\" \"%diff,\" and \"1 Year Plot.\""
   ]
  },
  {
   "cell_type": "code",
   "execution_count": null,
   "metadata": {},
   "outputs": [
    {
     "ename": "FileNotFoundError",
     "evalue": "[Errno 2] No such file or directory: 'ASX_Historical_Prices_2023-06-07_to_2024-06-06.csv'",
     "output_type": "error",
     "traceback": [
      "\u001b[0;31m---------------------------------------------------------------------------\u001b[0m",
      "\u001b[0;31mFileNotFoundError\u001b[0m                         Traceback (most recent call last)",
      "\u001b[1;32m/Users/feliciadeng/4710_t-test_view.ipynb 单元格 4\u001b[0m line \u001b[0;36m7\n\u001b[1;32m      <a href='vscode-notebook-cell:/Users/feliciadeng/4710_t-test_view.ipynb#W3sZmlsZQ%3D%3D?line=4'>5</a>\u001b[0m \u001b[39m# Load data file\u001b[39;00m\n\u001b[1;32m      <a href='vscode-notebook-cell:/Users/feliciadeng/4710_t-test_view.ipynb#W3sZmlsZQ%3D%3D?line=5'>6</a>\u001b[0m data_path \u001b[39m=\u001b[39m \u001b[39m\"\u001b[39m\u001b[39mASX_Historical_Prices_2023-06-07_to_2024-06-06.csv\u001b[39m\u001b[39m\"\u001b[39m\n\u001b[0;32m----> <a href='vscode-notebook-cell:/Users/feliciadeng/4710_t-test_view.ipynb#W3sZmlsZQ%3D%3D?line=6'>7</a>\u001b[0m historical_data \u001b[39m=\u001b[39m pd\u001b[39m.\u001b[39mread_csv(data_path)\n\u001b[1;32m      <a href='vscode-notebook-cell:/Users/feliciadeng/4710_t-test_view.ipynb#W3sZmlsZQ%3D%3D?line=8'>9</a>\u001b[0m \u001b[39m# Determine the trading date range\u001b[39;00m\n\u001b[1;32m     <a href='vscode-notebook-cell:/Users/feliciadeng/4710_t-test_view.ipynb#W3sZmlsZQ%3D%3D?line=9'>10</a>\u001b[0m start_date \u001b[39m=\u001b[39m pd\u001b[39m.\u001b[39mTimestamp(\u001b[39m\"\u001b[39m\u001b[39m2023-06-07\u001b[39m\u001b[39m\"\u001b[39m)\n",
      "File \u001b[0;32m~/anaconda3/lib/python3.11/site-packages/pandas/io/parsers/readers.py:912\u001b[0m, in \u001b[0;36mread_csv\u001b[0;34m(filepath_or_buffer, sep, delimiter, header, names, index_col, usecols, dtype, engine, converters, true_values, false_values, skipinitialspace, skiprows, skipfooter, nrows, na_values, keep_default_na, na_filter, verbose, skip_blank_lines, parse_dates, infer_datetime_format, keep_date_col, date_parser, date_format, dayfirst, cache_dates, iterator, chunksize, compression, thousands, decimal, lineterminator, quotechar, quoting, doublequote, escapechar, comment, encoding, encoding_errors, dialect, on_bad_lines, delim_whitespace, low_memory, memory_map, float_precision, storage_options, dtype_backend)\u001b[0m\n\u001b[1;32m    899\u001b[0m kwds_defaults \u001b[39m=\u001b[39m _refine_defaults_read(\n\u001b[1;32m    900\u001b[0m     dialect,\n\u001b[1;32m    901\u001b[0m     delimiter,\n\u001b[0;32m   (...)\u001b[0m\n\u001b[1;32m    908\u001b[0m     dtype_backend\u001b[39m=\u001b[39mdtype_backend,\n\u001b[1;32m    909\u001b[0m )\n\u001b[1;32m    910\u001b[0m kwds\u001b[39m.\u001b[39mupdate(kwds_defaults)\n\u001b[0;32m--> 912\u001b[0m \u001b[39mreturn\u001b[39;00m _read(filepath_or_buffer, kwds)\n",
      "File \u001b[0;32m~/anaconda3/lib/python3.11/site-packages/pandas/io/parsers/readers.py:577\u001b[0m, in \u001b[0;36m_read\u001b[0;34m(filepath_or_buffer, kwds)\u001b[0m\n\u001b[1;32m    574\u001b[0m _validate_names(kwds\u001b[39m.\u001b[39mget(\u001b[39m\"\u001b[39m\u001b[39mnames\u001b[39m\u001b[39m\"\u001b[39m, \u001b[39mNone\u001b[39;00m))\n\u001b[1;32m    576\u001b[0m \u001b[39m# Create the parser.\u001b[39;00m\n\u001b[0;32m--> 577\u001b[0m parser \u001b[39m=\u001b[39m TextFileReader(filepath_or_buffer, \u001b[39m*\u001b[39m\u001b[39m*\u001b[39mkwds)\n\u001b[1;32m    579\u001b[0m \u001b[39mif\u001b[39;00m chunksize \u001b[39mor\u001b[39;00m iterator:\n\u001b[1;32m    580\u001b[0m     \u001b[39mreturn\u001b[39;00m parser\n",
      "File \u001b[0;32m~/anaconda3/lib/python3.11/site-packages/pandas/io/parsers/readers.py:1407\u001b[0m, in \u001b[0;36mTextFileReader.__init__\u001b[0;34m(self, f, engine, **kwds)\u001b[0m\n\u001b[1;32m   1404\u001b[0m     \u001b[39mself\u001b[39m\u001b[39m.\u001b[39moptions[\u001b[39m\"\u001b[39m\u001b[39mhas_index_names\u001b[39m\u001b[39m\"\u001b[39m] \u001b[39m=\u001b[39m kwds[\u001b[39m\"\u001b[39m\u001b[39mhas_index_names\u001b[39m\u001b[39m\"\u001b[39m]\n\u001b[1;32m   1406\u001b[0m \u001b[39mself\u001b[39m\u001b[39m.\u001b[39mhandles: IOHandles \u001b[39m|\u001b[39m \u001b[39mNone\u001b[39;00m \u001b[39m=\u001b[39m \u001b[39mNone\u001b[39;00m\n\u001b[0;32m-> 1407\u001b[0m \u001b[39mself\u001b[39m\u001b[39m.\u001b[39m_engine \u001b[39m=\u001b[39m \u001b[39mself\u001b[39m\u001b[39m.\u001b[39m_make_engine(f, \u001b[39mself\u001b[39m\u001b[39m.\u001b[39mengine)\n",
      "File \u001b[0;32m~/anaconda3/lib/python3.11/site-packages/pandas/io/parsers/readers.py:1661\u001b[0m, in \u001b[0;36mTextFileReader._make_engine\u001b[0;34m(self, f, engine)\u001b[0m\n\u001b[1;32m   1659\u001b[0m     \u001b[39mif\u001b[39;00m \u001b[39m\"\u001b[39m\u001b[39mb\u001b[39m\u001b[39m\"\u001b[39m \u001b[39mnot\u001b[39;00m \u001b[39min\u001b[39;00m mode:\n\u001b[1;32m   1660\u001b[0m         mode \u001b[39m+\u001b[39m\u001b[39m=\u001b[39m \u001b[39m\"\u001b[39m\u001b[39mb\u001b[39m\u001b[39m\"\u001b[39m\n\u001b[0;32m-> 1661\u001b[0m \u001b[39mself\u001b[39m\u001b[39m.\u001b[39mhandles \u001b[39m=\u001b[39m get_handle(\n\u001b[1;32m   1662\u001b[0m     f,\n\u001b[1;32m   1663\u001b[0m     mode,\n\u001b[1;32m   1664\u001b[0m     encoding\u001b[39m=\u001b[39m\u001b[39mself\u001b[39m\u001b[39m.\u001b[39moptions\u001b[39m.\u001b[39mget(\u001b[39m\"\u001b[39m\u001b[39mencoding\u001b[39m\u001b[39m\"\u001b[39m, \u001b[39mNone\u001b[39;00m),\n\u001b[1;32m   1665\u001b[0m     compression\u001b[39m=\u001b[39m\u001b[39mself\u001b[39m\u001b[39m.\u001b[39moptions\u001b[39m.\u001b[39mget(\u001b[39m\"\u001b[39m\u001b[39mcompression\u001b[39m\u001b[39m\"\u001b[39m, \u001b[39mNone\u001b[39;00m),\n\u001b[1;32m   1666\u001b[0m     memory_map\u001b[39m=\u001b[39m\u001b[39mself\u001b[39m\u001b[39m.\u001b[39moptions\u001b[39m.\u001b[39mget(\u001b[39m\"\u001b[39m\u001b[39mmemory_map\u001b[39m\u001b[39m\"\u001b[39m, \u001b[39mFalse\u001b[39;00m),\n\u001b[1;32m   1667\u001b[0m     is_text\u001b[39m=\u001b[39mis_text,\n\u001b[1;32m   1668\u001b[0m     errors\u001b[39m=\u001b[39m\u001b[39mself\u001b[39m\u001b[39m.\u001b[39moptions\u001b[39m.\u001b[39mget(\u001b[39m\"\u001b[39m\u001b[39mencoding_errors\u001b[39m\u001b[39m\"\u001b[39m, \u001b[39m\"\u001b[39m\u001b[39mstrict\u001b[39m\u001b[39m\"\u001b[39m),\n\u001b[1;32m   1669\u001b[0m     storage_options\u001b[39m=\u001b[39m\u001b[39mself\u001b[39m\u001b[39m.\u001b[39moptions\u001b[39m.\u001b[39mget(\u001b[39m\"\u001b[39m\u001b[39mstorage_options\u001b[39m\u001b[39m\"\u001b[39m, \u001b[39mNone\u001b[39;00m),\n\u001b[1;32m   1670\u001b[0m )\n\u001b[1;32m   1671\u001b[0m \u001b[39massert\u001b[39;00m \u001b[39mself\u001b[39m\u001b[39m.\u001b[39mhandles \u001b[39mis\u001b[39;00m \u001b[39mnot\u001b[39;00m \u001b[39mNone\u001b[39;00m\n\u001b[1;32m   1672\u001b[0m f \u001b[39m=\u001b[39m \u001b[39mself\u001b[39m\u001b[39m.\u001b[39mhandles\u001b[39m.\u001b[39mhandle\n",
      "File \u001b[0;32m~/anaconda3/lib/python3.11/site-packages/pandas/io/common.py:859\u001b[0m, in \u001b[0;36mget_handle\u001b[0;34m(path_or_buf, mode, encoding, compression, memory_map, is_text, errors, storage_options)\u001b[0m\n\u001b[1;32m    854\u001b[0m \u001b[39melif\u001b[39;00m \u001b[39misinstance\u001b[39m(handle, \u001b[39mstr\u001b[39m):\n\u001b[1;32m    855\u001b[0m     \u001b[39m# Check whether the filename is to be opened in binary mode.\u001b[39;00m\n\u001b[1;32m    856\u001b[0m     \u001b[39m# Binary mode does not support 'encoding' and 'newline'.\u001b[39;00m\n\u001b[1;32m    857\u001b[0m     \u001b[39mif\u001b[39;00m ioargs\u001b[39m.\u001b[39mencoding \u001b[39mand\u001b[39;00m \u001b[39m\"\u001b[39m\u001b[39mb\u001b[39m\u001b[39m\"\u001b[39m \u001b[39mnot\u001b[39;00m \u001b[39min\u001b[39;00m ioargs\u001b[39m.\u001b[39mmode:\n\u001b[1;32m    858\u001b[0m         \u001b[39m# Encoding\u001b[39;00m\n\u001b[0;32m--> 859\u001b[0m         handle \u001b[39m=\u001b[39m \u001b[39mopen\u001b[39m(\n\u001b[1;32m    860\u001b[0m             handle,\n\u001b[1;32m    861\u001b[0m             ioargs\u001b[39m.\u001b[39mmode,\n\u001b[1;32m    862\u001b[0m             encoding\u001b[39m=\u001b[39mioargs\u001b[39m.\u001b[39mencoding,\n\u001b[1;32m    863\u001b[0m             errors\u001b[39m=\u001b[39merrors,\n\u001b[1;32m    864\u001b[0m             newline\u001b[39m=\u001b[39m\u001b[39m\"\u001b[39m\u001b[39m\"\u001b[39m,\n\u001b[1;32m    865\u001b[0m         )\n\u001b[1;32m    866\u001b[0m     \u001b[39melse\u001b[39;00m:\n\u001b[1;32m    867\u001b[0m         \u001b[39m# Binary mode\u001b[39;00m\n\u001b[1;32m    868\u001b[0m         handle \u001b[39m=\u001b[39m \u001b[39mopen\u001b[39m(handle, ioargs\u001b[39m.\u001b[39mmode)\n",
      "\u001b[0;31mFileNotFoundError\u001b[0m: [Errno 2] No such file or directory: 'ASX_Historical_Prices_2023-06-07_to_2024-06-06.csv'"
     ]
    }
   ],
   "source": [
    "import pandas as pd\n",
    "from openpyxl import Workbook\n",
    "from openpyxl.drawing.image import Image\n",
    "\n",
    "# Load data file\n",
    "data_path = \"ASX_Historical_Prices_2023-06-07_to_2024-06-06.csv\"\n",
    "historical_data = pd.read_csv(data_path)\n",
    "\n",
    "# Determine the trading date range\n",
    "start_date = pd.Timestamp(\"2023-06-07\")\n",
    "end_date = pd.Timestamp(\"2024-06-06\")\n",
    "date_range = pd.date_range(start=start_date, end=end_date, freq=\"B\")  # Business Days\n",
    "\n",
    "# Get the list of stock tickers\n",
    "tickers = historical_data[\"Ticker\"].unique()\n",
    "\n",
    "# Assign trading dates to each stock (allow records less than 253)\n",
    "all_stocks_data = []\n",
    "for ticker in tickers:\n",
    "    stock_data = historical_data[historical_data[\"Ticker\"] == ticker].reset_index(drop=True)\n",
    "    \n",
    "    # If the record count is less than 253, fill in missing dates\n",
    "    if len(stock_data) <= len(date_range):\n",
    "        stock_data[\"Date\"] = pd.date_range(start=start_date, periods=len(stock_data), freq=\"B\")\n",
    "        all_stocks_data.append(stock_data)\n",
    "    else:\n",
    "        print(f\"The data record count for stock {ticker} exceeds trading days, skipping...\")\n",
    "\n",
    "# Combine all stock data\n",
    "if all_stocks_data:\n",
    "    historical_data_with_dates = pd.concat(all_stocks_data, ignore_index=True)\n",
    "else:\n",
    "    raise ValueError(\"All stock data is incomplete, unable to proceed.\")\n",
    "\n",
    "# Get the Close value for the target date, or fallback to the nearest trading day\n",
    "def get_latest_close(stock_data, target_date):\n",
    "    \"\"\"Get the closing price for the target date, fallback to the nearest valid trading day if missing\"\"\"\n",
    "    if target_date in stock_data[\"Date\"].values:\n",
    "        return stock_data.loc[stock_data[\"Date\"] == target_date, \"Close\"].values[0]\n",
    "    else:\n",
    "        # If the target date has no data, fallback to the most recent trading day\n",
    "        available_data = stock_data[stock_data[\"Date\"] <= target_date]\n",
    "        if not available_data.empty:\n",
    "            return available_data.iloc[-1][\"Close\"]\n",
    "        return None  # Return None if no data is available\n",
    "\n",
    "# Target date and time range\n",
    "target_date = pd.Timestamp(\"2024-06-06\")\n",
    "\n",
    "# Store results\n",
    "results = []\n",
    "\n",
    "# Iterate through each stock to calculate target fields\n",
    "for ticker in tickers:\n",
    "    stock_data = historical_data_with_dates[historical_data_with_dates[\"Ticker\"] == ticker]\n",
    "\n",
    "    # Check if data is available\n",
    "    if stock_data.empty:\n",
    "        print(f\"The data for stock {ticker} is empty, skipping...\")\n",
    "        continue\n",
    "\n",
    "    # Calculate 52 Weeks range and 52 range top\n",
    "    min_price = stock_data[\"Close\"].min()\n",
    "    max_price = stock_data[\"Close\"].max()\n",
    "    \n",
    "    # Get the Close value for the target date\n",
    "    latest_close = get_latest_close(stock_data, target_date)\n",
    "\n",
    "    # Calculate %diff\n",
    "    diff_percentage = None\n",
    "    if latest_close is not None and max_price > 0:\n",
    "        diff_percentage = (latest_close - max_price) / max_price * 100\n",
    "\n",
    "    # Store results\n",
    "    results.append({\n",
    "        \"Stock_Code\": ticker,\n",
    "        \"Date\": target_date.strftime(\"%Y-%m-%d\"),\n",
    "        \"Price\": latest_close,\n",
    "        \"52 Weeks range\": f\"({min_price:.2f}, {max_price:.2f})\",\n",
    "        \"52 range top\": max_price,\n",
    "        \"%diff\": f\"{diff_percentage:.2f}%\" if diff_percentage is not None else \"N/A\"\n",
    "    })\n",
    "\n",
    "# Convert to DataFrame\n",
    "results_df = pd.DataFrame(results)\n",
    "\n",
    "# Directly use pre-generated image paths\n",
    "def get_image_path(ticker):\n",
    "    \"\"\"Return the path to the pre-generated image for the stock\"\"\"\n",
    "    return f\"{ticker}_1_year_plot.png\"\n",
    "\n",
    "# Step 3: Combine data and charts into Excel\n",
    "excel_file = \"ASX_Formatted_Output_With_Images.xlsx\"\n",
    "wb = Workbook()\n",
    "ws = wb.active\n",
    "ws.title = \"ASX Data\"\n",
    "\n",
    "# Write headers\n",
    "columns = [\"Stock_Code\", \"Date\", \"Price\", \"52 Weeks range\", \"52 range top\", \"%diff\", \"1 Year Plot\"]\n",
    "ws.append(columns)\n",
    "\n",
    "# Write data and dynamically adjust image insertion\n",
    "row_index = 2  # Start writing data and images from row 2\n",
    "for _, row in results_df.iterrows():\n",
    "    stock_code = row[\"Stock_Code\"]\n",
    "    excel_row = [\n",
    "        row[\"Stock_Code\"],\n",
    "        row[\"Date\"],\n",
    "        row[\"Price\"],\n",
    "        row[\"52 Weeks range\"],\n",
    "        row[\"52 range top\"],\n",
    "        row[\"%diff\"]\n",
    "    ]\n",
    "    ws.append(excel_row)\n",
    "    \n",
    "    # Add image\n",
    "    chart_path = get_image_path(stock_code)\n",
    "    try:\n",
    "        img = Image(chart_path)\n",
    "        img.anchor = f\"G{row_index}\"  # Insert image into column G, aligned with the current data row\n",
    "        ws.add_image(img)\n",
    "    except FileNotFoundError:\n",
    "        print(f\"Chart file {chart_path} for stock {stock_code} not found, skipping...\")\n",
    "    \n",
    "    row_index += 1  # Move to the next row for both data and images\n",
    "\n",
    "# Save Excel file\n",
    "wb.save(excel_file)\n",
    "print(f\"Excel file saved to {excel_file}\")\n"
   ]
  },
  {
   "cell_type": "markdown",
   "metadata": {},
   "source": [
    "\n",
    "### Scrape the price for 2024-09-30 and merge the data."
   ]
  },
  {
   "cell_type": "code",
   "execution_count": null,
   "metadata": {},
   "outputs": [
    {
     "name": "stderr",
     "output_type": "stream",
     "text": [
      "\n",
      "1 Failed download:\n",
      "['ORP.AX']: YFPricesMissingError('$%ticker%: possibly delisted; no price data found  (1d 2024-09-30 -> 2024-10-01)')\n",
      "\n",
      "1 Failed download:\n",
      "['TAL.AX']: YFPricesMissingError('$%ticker%: possibly delisted; no price data found  (1d 2024-09-30 -> 2024-10-01)')\n",
      "Failed to get ticker 'SIT.AX' reason: Expecting value: line 1 column 1 (char 0)\n",
      "\n",
      "1 Failed download:\n",
      "['SIT.AX']: YFTzMissingError('$%ticker%: possibly delisted; no timezone found')\n",
      "Failed to get ticker 'TAS.AX' reason: Expecting value: line 1 column 1 (char 0)\n",
      "\n",
      "1 Failed download:\n",
      "['TAS.AX']: YFTzMissingError('$%ticker%: possibly delisted; no timezone found')\n",
      "Failed to get ticker 'CCP.AX' reason: Expecting value: line 1 column 1 (char 0)\n",
      "\n",
      "1 Failed download:\n",
      "['CCP.AX']: YFTzMissingError('$%ticker%: possibly delisted; no timezone found')\n",
      "Failed to get ticker 'SVR.AX' reason: Expecting value: line 1 column 1 (char 0)\n",
      "\n",
      "1 Failed download:\n",
      "['SVR.AX']: YFTzMissingError('$%ticker%: possibly delisted; no timezone found')\n",
      "Failed to get ticker 'BAP.AX' reason: Expecting value: line 1 column 1 (char 0)\n",
      "\n",
      "1 Failed download:\n",
      "['BAP.AX']: YFTzMissingError('$%ticker%: possibly delisted; no timezone found')\n",
      "Failed to get ticker 'KLI.AX' reason: Expecting value: line 1 column 1 (char 0)\n",
      "\n",
      "1 Failed download:\n",
      "['KLI.AX']: YFTzMissingError('$%ticker%: possibly delisted; no timezone found')\n",
      "Failed to get ticker 'ENN.AX' reason: Expecting value: line 1 column 1 (char 0)\n",
      "\n",
      "1 Failed download:\n",
      "['ENN.AX']: YFTzMissingError('$%ticker%: possibly delisted; no timezone found')\n",
      "Failed to get ticker 'EOS.AX' reason: Expecting value: line 1 column 1 (char 0)\n",
      "\n",
      "1 Failed download:\n",
      "['EOS.AX']: YFTzMissingError('$%ticker%: possibly delisted; no timezone found')\n",
      "Failed to get ticker 'JAN.AX' reason: Expecting value: line 1 column 1 (char 0)\n",
      "\n",
      "1 Failed download:\n",
      "['JAN.AX']: YFTzMissingError('$%ticker%: possibly delisted; no timezone found')\n",
      "Failed to get ticker 'IMC.AX' reason: Expecting value: line 1 column 1 (char 0)\n",
      "\n",
      "1 Failed download:\n",
      "['IMC.AX']: YFTzMissingError('$%ticker%: possibly delisted; no timezone found')\n",
      "Failed to get ticker 'TEG.AX' reason: Expecting value: line 1 column 1 (char 0)\n",
      "\n",
      "1 Failed download:\n",
      "['TEG.AX']: YFTzMissingError('$%ticker%: possibly delisted; no timezone found')\n",
      "Failed to get ticker 'CRS.AX' reason: Expecting value: line 1 column 1 (char 0)\n",
      "\n",
      "1 Failed download:\n",
      "['CRS.AX']: YFTzMissingError('$%ticker%: possibly delisted; no timezone found')\n",
      "Failed to get ticker 'ERA.AX' reason: Expecting value: line 1 column 1 (char 0)\n",
      "\n",
      "1 Failed download:\n",
      "['ERA.AX']: YFTzMissingError('$%ticker%: possibly delisted; no timezone found')\n",
      "Failed to get ticker 'RIM.AX' reason: Expecting value: line 1 column 1 (char 0)\n",
      "\n",
      "1 Failed download:\n",
      "['RIM.AX']: YFTzMissingError('$%ticker%: possibly delisted; no timezone found')\n",
      "Failed to get ticker 'RSH.AX' reason: Expecting value: line 1 column 1 (char 0)\n",
      "\n",
      "1 Failed download:\n",
      "['RSH.AX']: YFTzMissingError('$%ticker%: possibly delisted; no timezone found')\n",
      "Failed to get ticker 'WWI.AX' reason: Expecting value: line 1 column 1 (char 0)\n",
      "\n",
      "1 Failed download:\n",
      "['WWI.AX']: YFTzMissingError('$%ticker%: possibly delisted; no timezone found')\n",
      "Failed to get ticker 'CXU.AX' reason: Expecting value: line 1 column 1 (char 0)\n",
      "\n",
      "1 Failed download:\n",
      "['CXU.AX']: YFTzMissingError('$%ticker%: possibly delisted; no timezone found')\n",
      "Failed to get ticker 'DEL.AX' reason: Expecting value: line 1 column 1 (char 0)\n",
      "\n",
      "1 Failed download:\n",
      "['DEL.AX']: YFTzMissingError('$%ticker%: possibly delisted; no timezone found')\n",
      "Failed to get ticker 'BCC.AX' reason: Expecting value: line 1 column 1 (char 0)\n",
      "\n",
      "1 Failed download:\n",
      "['BCC.AX']: YFTzMissingError('$%ticker%: possibly delisted; no timezone found')\n",
      "Failed to get ticker 'IEL.AX' reason: Expecting value: line 1 column 1 (char 0)\n",
      "\n",
      "1 Failed download:\n",
      "['IEL.AX']: YFTzMissingError('$%ticker%: possibly delisted; no timezone found')\n",
      "Failed to get ticker 'AGC.AX' reason: Expecting value: line 1 column 1 (char 0)\n",
      "\n",
      "1 Failed download:\n",
      "['AGC.AX']: YFTzMissingError('$%ticker%: possibly delisted; no timezone found')\n",
      "Failed to get ticker 'HMY.AX' reason: Expecting value: line 1 column 1 (char 0)\n",
      "\n",
      "1 Failed download:\n",
      "['HMY.AX']: YFTzMissingError('$%ticker%: possibly delisted; no timezone found')\n",
      "Failed to get ticker 'MAN.AX' reason: Expecting value: line 1 column 1 (char 0)\n",
      "\n",
      "1 Failed download:\n",
      "['MAN.AX']: YFTzMissingError('$%ticker%: possibly delisted; no timezone found')\n",
      "Failed to get ticker 'WWG.AX' reason: Expecting value: line 1 column 1 (char 0)\n",
      "\n",
      "1 Failed download:\n",
      "['WWG.AX']: YFTzMissingError('$%ticker%: possibly delisted; no timezone found')\n",
      "Failed to get ticker 'UBN.AX' reason: Expecting value: line 1 column 1 (char 0)\n",
      "\n",
      "1 Failed download:\n",
      "['UBN.AX']: YFTzMissingError('$%ticker%: possibly delisted; no timezone found')\n",
      "Failed to get ticker 'HUM.AX' reason: Expecting value: line 1 column 1 (char 0)\n",
      "\n",
      "1 Failed download:\n",
      "['HUM.AX']: YFTzMissingError('$%ticker%: possibly delisted; no timezone found')\n",
      "Failed to get ticker 'HAV.AX' reason: Expecting value: line 1 column 1 (char 0)\n",
      "\n",
      "1 Failed download:\n",
      "['HAV.AX']: YFTzMissingError('$%ticker%: possibly delisted; no timezone found')\n",
      "Failed to get ticker 'MFD.AX' reason: Expecting value: line 1 column 1 (char 0)\n",
      "\n",
      "1 Failed download:\n",
      "['MFD.AX']: YFTzMissingError('$%ticker%: possibly delisted; no timezone found')\n",
      "Failed to get ticker 'HCH.AX' reason: Expecting value: line 1 column 1 (char 0)\n",
      "\n",
      "1 Failed download:\n",
      "['HCH.AX']: YFTzMissingError('$%ticker%: possibly delisted; no timezone found')\n",
      "Failed to get ticker 'TZL.AX' reason: Expecting value: line 1 column 1 (char 0)\n",
      "\n",
      "1 Failed download:\n",
      "['TZL.AX']: YFTzMissingError('$%ticker%: possibly delisted; no timezone found')\n",
      "Failed to get ticker 'KGL.AX' reason: Expecting value: line 1 column 1 (char 0)\n",
      "\n",
      "1 Failed download:\n",
      "['KGL.AX']: YFTzMissingError('$%ticker%: possibly delisted; no timezone found')\n",
      "Failed to get ticker 'DDB.AX' reason: Expecting value: line 1 column 1 (char 0)\n",
      "\n",
      "1 Failed download:\n",
      "['DDB.AX']: YFTzMissingError('$%ticker%: possibly delisted; no timezone found')\n",
      "Failed to get ticker 'LRV.AX' reason: Expecting value: line 1 column 1 (char 0)\n",
      "\n",
      "1 Failed download:\n",
      "['LRV.AX']: YFTzMissingError('$%ticker%: possibly delisted; no timezone found')\n",
      "Failed to get ticker 'BRI.AX' reason: Expecting value: line 1 column 1 (char 0)\n",
      "\n",
      "1 Failed download:\n",
      "['BRI.AX']: YFTzMissingError('$%ticker%: possibly delisted; no timezone found')\n",
      "Failed to get ticker 'QEM.AX' reason: Expecting value: line 1 column 1 (char 0)\n",
      "\n",
      "1 Failed download:\n",
      "['QEM.AX']: YFTzMissingError('$%ticker%: possibly delisted; no timezone found')\n",
      "Failed to get ticker 'ILU.AX' reason: Expecting value: line 1 column 1 (char 0)\n",
      "\n",
      "1 Failed download:\n",
      "['ILU.AX']: YFTzMissingError('$%ticker%: possibly delisted; no timezone found')\n",
      "Failed to get ticker 'FWD.AX' reason: Expecting value: line 1 column 1 (char 0)\n",
      "\n",
      "1 Failed download:\n",
      "['FWD.AX']: YFTzMissingError('$%ticker%: possibly delisted; no timezone found')\n",
      "Failed to get ticker 'VTM.AX' reason: Expecting value: line 1 column 1 (char 0)\n",
      "\n",
      "1 Failed download:\n",
      "['VTM.AX']: YFTzMissingError('$%ticker%: possibly delisted; no timezone found')\n",
      "Failed to get ticker 'ARR.AX' reason: Expecting value: line 1 column 1 (char 0)\n",
      "\n",
      "1 Failed download:\n",
      "['ARR.AX']: YFTzMissingError('$%ticker%: possibly delisted; no timezone found')\n",
      "Failed to get ticker 'VHM.AX' reason: Expecting value: line 1 column 1 (char 0)\n",
      "\n",
      "1 Failed download:\n",
      "['VHM.AX']: YFTzMissingError('$%ticker%: possibly delisted; no timezone found')\n",
      "Failed to get ticker 'GLH.AX' reason: Expecting value: line 1 column 1 (char 0)\n",
      "\n",
      "1 Failed download:\n",
      "['GLH.AX']: YFTzMissingError('$%ticker%: possibly delisted; no timezone found')\n",
      "Failed to get ticker 'HFR.AX' reason: Expecting value: line 1 column 1 (char 0)\n",
      "\n",
      "1 Failed download:\n",
      "['HFR.AX']: YFTzMissingError('$%ticker%: possibly delisted; no timezone found')\n",
      "Failed to get ticker 'ATP.AX' reason: Expecting value: line 1 column 1 (char 0)\n",
      "\n",
      "1 Failed download:\n",
      "['ATP.AX']: YFTzMissingError('$%ticker%: possibly delisted; no timezone found')\n",
      "Failed to get ticker 'TOT.AX' reason: Expecting value: line 1 column 1 (char 0)\n",
      "\n",
      "1 Failed download:\n",
      "['TOT.AX']: YFTzMissingError('$%ticker%: possibly delisted; no timezone found')\n",
      "Failed to get ticker 'MM8.AX' reason: Expecting value: line 1 column 1 (char 0)\n",
      "\n",
      "1 Failed download:\n",
      "['MM8.AX']: YFTzMissingError('$%ticker%: possibly delisted; no timezone found')\n",
      "Failed to get ticker '5GN.AX' reason: Expecting value: line 1 column 1 (char 0)\n",
      "\n",
      "1 Failed download:\n",
      "['5GN.AX']: YFTzMissingError('$%ticker%: possibly delisted; no timezone found')\n",
      "Failed to get ticker 'C79.AX' reason: Expecting value: line 1 column 1 (char 0)\n",
      "\n",
      "1 Failed download:\n",
      "['C79.AX']: YFTzMissingError('$%ticker%: possibly delisted; no timezone found')\n",
      "Failed to get ticker 'AME.AX' reason: Expecting value: line 1 column 1 (char 0)\n",
      "\n",
      "1 Failed download:\n",
      "['AME.AX']: YFTzMissingError('$%ticker%: possibly delisted; no timezone found')\n",
      "Failed to get ticker 'EXP.AX' reason: Expecting value: line 1 column 1 (char 0)\n",
      "\n",
      "1 Failed download:\n",
      "['EXP.AX']: YFTzMissingError('$%ticker%: possibly delisted; no timezone found')\n",
      "Failed to get ticker 'ERL.AX' reason: Expecting value: line 1 column 1 (char 0)\n",
      "\n",
      "1 Failed download:\n",
      "['ERL.AX']: YFTzMissingError('$%ticker%: possibly delisted; no timezone found')\n",
      "Failed to get ticker 'FAU.AX' reason: Expecting value: line 1 column 1 (char 0)\n",
      "\n",
      "1 Failed download:\n",
      "['FAU.AX']: YFTzMissingError('$%ticker%: possibly delisted; no timezone found')\n",
      "Failed to get ticker 'AYT.AX' reason: Expecting value: line 1 column 1 (char 0)\n",
      "\n",
      "1 Failed download:\n",
      "['AYT.AX']: YFTzMissingError('$%ticker%: possibly delisted; no timezone found')\n",
      "Failed to get ticker 'MVL.AX' reason: Expecting value: line 1 column 1 (char 0)\n",
      "\n",
      "1 Failed download:\n",
      "['MVL.AX']: YFTzMissingError('$%ticker%: possibly delisted; no timezone found')\n",
      "Failed to get ticker 'IRX.AX' reason: Expecting value: line 1 column 1 (char 0)\n",
      "\n",
      "1 Failed download:\n",
      "['IRX.AX']: YFTzMissingError('$%ticker%: possibly delisted; no timezone found')\n",
      "Failed to get ticker 'LGP.AX' reason: Expecting value: line 1 column 1 (char 0)\n",
      "\n",
      "1 Failed download:\n",
      "['LGP.AX']: YFTzMissingError('$%ticker%: possibly delisted; no timezone found')\n",
      "Failed to get ticker 'ZMI.AX' reason: Expecting value: line 1 column 1 (char 0)\n",
      "\n",
      "1 Failed download:\n",
      "['ZMI.AX']: YFTzMissingError('$%ticker%: possibly delisted; no timezone found')\n",
      "Failed to get ticker 'LYN.AX' reason: Expecting value: line 1 column 1 (char 0)\n",
      "\n",
      "1 Failed download:\n",
      "['LYN.AX']: YFTzMissingError('$%ticker%: possibly delisted; no timezone found')\n",
      "Failed to get ticker 'HTA.AX' reason: Expecting value: line 1 column 1 (char 0)\n",
      "\n",
      "1 Failed download:\n",
      "['HTA.AX']: YFTzMissingError('$%ticker%: possibly delisted; no timezone found')\n",
      "Failed to get ticker 'EVG.AX' reason: Expecting value: line 1 column 1 (char 0)\n",
      "\n",
      "1 Failed download:\n",
      "['EVG.AX']: YFTzMissingError('$%ticker%: possibly delisted; no timezone found')\n",
      "Failed to get ticker 'KAM.AX' reason: Expecting value: line 1 column 1 (char 0)\n",
      "\n",
      "1 Failed download:\n",
      "['KAM.AX']: YFTzMissingError('$%ticker%: possibly delisted; no timezone found')\n",
      "Failed to get ticker 'DES.AX' reason: Expecting value: line 1 column 1 (char 0)\n",
      "\n",
      "1 Failed download:\n",
      "['DES.AX']: YFTzMissingError('$%ticker%: possibly delisted; no timezone found')\n",
      "Failed to get ticker '4DX.AX' reason: Expecting value: line 1 column 1 (char 0)\n",
      "\n",
      "1 Failed download:\n",
      "['4DX.AX']: YFTzMissingError('$%ticker%: possibly delisted; no timezone found')\n",
      "Failed to get ticker 'ECS.AX' reason: Expecting value: line 1 column 1 (char 0)\n",
      "\n",
      "1 Failed download:\n",
      "['ECS.AX']: YFTzMissingError('$%ticker%: possibly delisted; no timezone found')\n",
      "Failed to get ticker 'ACW.AX' reason: Expecting value: line 1 column 1 (char 0)\n",
      "\n",
      "1 Failed download:\n",
      "['ACW.AX']: YFTzMissingError('$%ticker%: possibly delisted; no timezone found')\n",
      "Failed to get ticker 'SMS.AX' reason: Expecting value: line 1 column 1 (char 0)\n",
      "\n",
      "1 Failed download:\n",
      "['SMS.AX']: YFTzMissingError('$%ticker%: possibly delisted; no timezone found')\n",
      "Failed to get ticker 'NRX.AX' reason: Expecting value: line 1 column 1 (char 0)\n",
      "\n",
      "1 Failed download:\n",
      "['NRX.AX']: YFTzMissingError('$%ticker%: possibly delisted; no timezone found')\n",
      "Failed to get ticker 'IIQ.AX' reason: Expecting value: line 1 column 1 (char 0)\n",
      "\n",
      "1 Failed download:\n",
      "['IIQ.AX']: YFTzMissingError('$%ticker%: possibly delisted; no timezone found')\n",
      "Failed to get ticker 'IKE.AX' reason: Expecting value: line 1 column 1 (char 0)\n",
      "\n",
      "1 Failed download:\n",
      "['IKE.AX']: YFTzMissingError('$%ticker%: possibly delisted; no timezone found')\n",
      "Failed to get ticker 'TMS.AX' reason: Expecting value: line 1 column 1 (char 0)\n",
      "\n",
      "1 Failed download:\n",
      "['TMS.AX']: YFTzMissingError('$%ticker%: possibly delisted; no timezone found')\n",
      "Failed to get ticker 'NAN.AX' reason: Expecting value: line 1 column 1 (char 0)\n",
      "\n",
      "1 Failed download:\n",
      "['NAN.AX']: YFTzMissingError('$%ticker%: possibly delisted; no timezone found')\n",
      "Failed to get ticker 'G11.AX' reason: Expecting value: line 1 column 1 (char 0)\n",
      "\n",
      "1 Failed download:\n",
      "['G11.AX']: YFTzMissingError('$%ticker%: possibly delisted; no timezone found')\n",
      "Failed to get ticker 'BUR.AX' reason: Expecting value: line 1 column 1 (char 0)\n",
      "\n",
      "1 Failed download:\n",
      "['BUR.AX']: YFTzMissingError('$%ticker%: possibly delisted; no timezone found')\n",
      "Failed to get ticker 'KNO.AX' reason: Expecting value: line 1 column 1 (char 0)\n",
      "\n",
      "1 Failed download:\n",
      "['KNO.AX']: YFTzMissingError('$%ticker%: possibly delisted; no timezone found')\n",
      "Failed to get ticker 'CNQ.AX' reason: Expecting value: line 1 column 1 (char 0)\n",
      "\n",
      "1 Failed download:\n",
      "['CNQ.AX']: YFTzMissingError('$%ticker%: possibly delisted; no timezone found')\n",
      "Failed to get ticker 'CYC.AX' reason: Expecting value: line 1 column 1 (char 0)\n",
      "\n",
      "1 Failed download:\n",
      "['CYC.AX']: YFTzMissingError('$%ticker%: possibly delisted; no timezone found')\n",
      "Failed to get ticker 'DVP.AX' reason: Expecting value: line 1 column 1 (char 0)\n",
      "\n",
      "1 Failed download:\n",
      "['DVP.AX']: YFTzMissingError('$%ticker%: possibly delisted; no timezone found')\n",
      "Failed to get ticker 'CRN.AX' reason: Expecting value: line 1 column 1 (char 0)\n",
      "\n",
      "1 Failed download:\n",
      "['CRN.AX']: YFTzMissingError('$%ticker%: possibly delisted; no timezone found')\n",
      "Failed to get ticker 'BBN.AX' reason: Expecting value: line 1 column 1 (char 0)\n",
      "\n",
      "1 Failed download:\n",
      "['BBN.AX']: YFTzMissingError('$%ticker%: possibly delisted; no timezone found')\n",
      "Failed to get ticker 'AYA.AX' reason: Expecting value: line 1 column 1 (char 0)\n",
      "\n",
      "1 Failed download:\n",
      "['AYA.AX']: YFTzMissingError('$%ticker%: possibly delisted; no timezone found')\n",
      "Failed to get ticker 'EFEDA.AX' reason: Expecting value: line 1 column 1 (char 0)\n",
      "\n",
      "1 Failed download:\n",
      "['EFEDA.AX']: YFTzMissingError('$%ticker%: possibly delisted; no timezone found')\n",
      "Failed to get ticker 'EXT.AX' reason: Expecting value: line 1 column 1 (char 0)\n",
      "\n",
      "1 Failed download:\n",
      "['EXT.AX']: YFTzMissingError('$%ticker%: possibly delisted; no timezone found')\n",
      "Failed to get ticker 'FFF.AX' reason: Expecting value: line 1 column 1 (char 0)\n",
      "\n",
      "1 Failed download:\n",
      "['FFF.AX']: YFTzMissingError('$%ticker%: possibly delisted; no timezone found')\n",
      "Failed to get ticker 'LCY.AX' reason: Expecting value: line 1 column 1 (char 0)\n",
      "\n",
      "1 Failed download:\n",
      "['LCY.AX']: YFTzMissingError('$%ticker%: possibly delisted; no timezone found')\n",
      "Failed to get ticker 'MPR.AX' reason: Expecting value: line 1 column 1 (char 0)\n",
      "\n",
      "1 Failed download:\n",
      "['MPR.AX']: YFTzMissingError('$%ticker%: possibly delisted; no timezone found')\n",
      "Failed to get ticker 'PAB.AX' reason: Expecting value: line 1 column 1 (char 0)\n",
      "\n",
      "1 Failed download:\n",
      "['PAB.AX']: YFTzMissingError('$%ticker%: possibly delisted; no timezone found')\n",
      "Failed to get ticker 'TI1.AX' reason: Expecting value: line 1 column 1 (char 0)\n",
      "\n",
      "1 Failed download:\n",
      "['TI1.AX']: YFTzMissingError('$%ticker%: possibly delisted; no timezone found')\n",
      "Failed to get ticker 'GDA.AX' reason: Expecting value: line 1 column 1 (char 0)\n",
      "\n",
      "1 Failed download:\n",
      "['GDA.AX']: YFTzMissingError('$%ticker%: possibly delisted; no timezone found')\n",
      "Failed to get ticker 'S2R.AX' reason: Expecting value: line 1 column 1 (char 0)\n",
      "\n",
      "1 Failed download:\n",
      "['S2R.AX']: YFTzMissingError('$%ticker%: possibly delisted; no timezone found')\n",
      "Failed to get ticker 'POD.AX' reason: Expecting value: line 1 column 1 (char 0)\n",
      "\n",
      "1 Failed download:\n",
      "['POD.AX']: YFTzMissingError('$%ticker%: possibly delisted; no timezone found')\n",
      "Failed to get ticker 'IAM.AX' reason: Expecting value: line 1 column 1 (char 0)\n",
      "\n",
      "1 Failed download:\n",
      "['IAM.AX']: YFTzMissingError('$%ticker%: possibly delisted; no timezone found')\n",
      "Failed to get ticker 'BUS.AX' reason: Expecting value: line 1 column 1 (char 0)\n",
      "\n",
      "1 Failed download:\n",
      "['BUS.AX']: YFTzMissingError('$%ticker%: possibly delisted; no timezone found')\n",
      "Failed to get ticker 'RON.AX' reason: Expecting value: line 1 column 1 (char 0)\n",
      "\n",
      "1 Failed download:\n",
      "['RON.AX']: YFTzMissingError('$%ticker%: possibly delisted; no timezone found')\n",
      "Failed to get ticker '29M.AX' reason: Expecting value: line 1 column 1 (char 0)\n",
      "\n",
      "1 Failed download:\n",
      "['29M.AX']: YFTzMissingError('$%ticker%: possibly delisted; no timezone found')\n",
      "Failed to get ticker 'FCL.AX' reason: Expecting value: line 1 column 1 (char 0)\n",
      "\n",
      "1 Failed download:\n",
      "['FCL.AX']: YFTzMissingError('$%ticker%: possibly delisted; no timezone found')\n",
      "Failed to get ticker 'DTZ.AX' reason: Expecting value: line 1 column 1 (char 0)\n",
      "\n",
      "1 Failed download:\n",
      "['DTZ.AX']: YFTzMissingError('$%ticker%: possibly delisted; no timezone found')\n",
      "Failed to get ticker 'AHF.AX' reason: Expecting value: line 1 column 1 (char 0)\n",
      "\n",
      "1 Failed download:\n",
      "['AHF.AX']: YFTzMissingError('$%ticker%: possibly delisted; no timezone found')\n",
      "Failed to get ticker 'TRS.AX' reason: Expecting value: line 1 column 1 (char 0)\n",
      "\n",
      "1 Failed download:\n",
      "['TRS.AX']: YFTzMissingError('$%ticker%: possibly delisted; no timezone found')\n",
      "Failed to get ticker 'CMP.AX' reason: Expecting value: line 1 column 1 (char 0)\n",
      "\n",
      "1 Failed download:\n",
      "['CMP.AX']: YFTzMissingError('$%ticker%: possibly delisted; no timezone found')\n",
      "Failed to get ticker 'PPL.AX' reason: Expecting value: line 1 column 1 (char 0)\n",
      "\n",
      "1 Failed download:\n",
      "['PPL.AX']: YFTzMissingError('$%ticker%: possibly delisted; no timezone found')\n",
      "Failed to get ticker 'BRU.AX' reason: Expecting value: line 1 column 1 (char 0)\n",
      "\n",
      "1 Failed download:\n",
      "['BRU.AX']: YFTzMissingError('$%ticker%: possibly delisted; no timezone found')\n",
      "Failed to get ticker 'WSI.AX' reason: Expecting value: line 1 column 1 (char 0)\n",
      "\n",
      "1 Failed download:\n",
      "['WSI.AX']: YFTzMissingError('$%ticker%: possibly delisted; no timezone found')\n",
      "Failed to get ticker 'MAY.AX' reason: Expecting value: line 1 column 1 (char 0)\n",
      "\n",
      "1 Failed download:\n",
      "['MAY.AX']: YFTzMissingError('$%ticker%: possibly delisted; no timezone found')\n",
      "Failed to get ticker 'AVA.AX' reason: Expecting value: line 1 column 1 (char 0)\n",
      "\n",
      "1 Failed download:\n",
      "['AVA.AX']: YFTzMissingError('$%ticker%: possibly delisted; no timezone found')\n",
      "Failed to get ticker 'ARX.AX' reason: Expecting value: line 1 column 1 (char 0)\n",
      "\n",
      "1 Failed download:\n",
      "['ARX.AX']: YFTzMissingError('$%ticker%: possibly delisted; no timezone found')\n",
      "Failed to get ticker 'TIP.AX' reason: Expecting value: line 1 column 1 (char 0)\n",
      "\n",
      "1 Failed download:\n",
      "['TIP.AX']: YFTzMissingError('$%ticker%: possibly delisted; no timezone found')\n",
      "Failed to get ticker 'RCR.AX' reason: Expecting value: line 1 column 1 (char 0)\n",
      "\n",
      "1 Failed download:\n",
      "['RCR.AX']: YFTzMissingError('$%ticker%: possibly delisted; no timezone found')\n",
      "Failed to get ticker 'NXM.AX' reason: Expecting value: line 1 column 1 (char 0)\n",
      "\n",
      "1 Failed download:\n",
      "['NXM.AX']: YFTzMissingError('$%ticker%: possibly delisted; no timezone found')\n",
      "Failed to get ticker 'DSK.AX' reason: Expecting value: line 1 column 1 (char 0)\n",
      "\n",
      "1 Failed download:\n",
      "['DSK.AX']: YFTzMissingError('$%ticker%: possibly delisted; no timezone found')\n",
      "Failed to get ticker 'MRL.AX' reason: Expecting value: line 1 column 1 (char 0)\n",
      "\n",
      "1 Failed download:\n",
      "['MRL.AX']: YFTzMissingError('$%ticker%: possibly delisted; no timezone found')\n",
      "Failed to get ticker 'RWL.AX' reason: Expecting value: line 1 column 1 (char 0)\n",
      "\n",
      "1 Failed download:\n",
      "['RWL.AX']: YFTzMissingError('$%ticker%: possibly delisted; no timezone found')\n",
      "Failed to get ticker 'OEL.AX' reason: Expecting value: line 1 column 1 (char 0)\n",
      "\n",
      "1 Failed download:\n",
      "['OEL.AX']: YFTzMissingError('$%ticker%: possibly delisted; no timezone found')\n",
      "Failed to get ticker 'HLX.AX' reason: Expecting value: line 1 column 1 (char 0)\n",
      "\n",
      "1 Failed download:\n",
      "['HLX.AX']: YFTzMissingError('$%ticker%: possibly delisted; no timezone found')\n",
      "Failed to get ticker 'SRY.AX' reason: Expecting value: line 1 column 1 (char 0)\n",
      "\n",
      "1 Failed download:\n",
      "['SRY.AX']: YFTzMissingError('$%ticker%: possibly delisted; no timezone found')\n",
      "Failed to get ticker 'TAR.AX' reason: Expecting value: line 1 column 1 (char 0)\n",
      "\n",
      "1 Failed download:\n",
      "['TAR.AX']: YFTzMissingError('$%ticker%: possibly delisted; no timezone found')\n",
      "Failed to get ticker 'TEE.AX' reason: Expecting value: line 1 column 1 (char 0)\n",
      "\n",
      "1 Failed download:\n",
      "['TEE.AX']: YFTzMissingError('$%ticker%: possibly delisted; no timezone found')\n",
      "Failed to get ticker 'NOX.AX' reason: Expecting value: line 1 column 1 (char 0)\n",
      "\n",
      "1 Failed download:\n",
      "['NOX.AX']: YFTzMissingError('$%ticker%: possibly delisted; no timezone found')\n",
      "Failed to get ticker 'M2M.AX' reason: Expecting value: line 1 column 1 (char 0)\n",
      "\n",
      "1 Failed download:\n",
      "['M2M.AX']: YFTzMissingError('$%ticker%: possibly delisted; no timezone found')\n",
      "Failed to get ticker 'IMR.AX' reason: Expecting value: line 1 column 1 (char 0)\n",
      "\n",
      "1 Failed download:\n",
      "['IMR.AX']: YFTzMissingError('$%ticker%: possibly delisted; no timezone found')\n",
      "Failed to get ticker 'LGL.AX' reason: Expecting value: line 1 column 1 (char 0)\n",
      "\n",
      "1 Failed download:\n",
      "['LGL.AX']: YFTzMissingError('$%ticker%: possibly delisted; no timezone found')\n",
      "Failed to get ticker 'HGH.AX' reason: Expecting value: line 1 column 1 (char 0)\n",
      "\n",
      "1 Failed download:\n",
      "['HGH.AX']: YFTzMissingError('$%ticker%: possibly delisted; no timezone found')\n",
      "Failed to get ticker 'NMR.AX' reason: Expecting value: line 1 column 1 (char 0)\n",
      "\n",
      "1 Failed download:\n",
      "['NMR.AX']: YFTzMissingError('$%ticker%: possibly delisted; no timezone found')\n",
      "Failed to get ticker 'BDM.AX' reason: Expecting value: line 1 column 1 (char 0)\n",
      "\n",
      "1 Failed download:\n",
      "['BDM.AX']: YFTzMissingError('$%ticker%: possibly delisted; no timezone found')\n",
      "Failed to get ticker 'VMT.AX' reason: Expecting value: line 1 column 1 (char 0)\n",
      "\n",
      "1 Failed download:\n",
      "['VMT.AX']: YFTzMissingError('$%ticker%: possibly delisted; no timezone found')\n",
      "Failed to get ticker 'NAC.AX' reason: Expecting value: line 1 column 1 (char 0)\n",
      "\n",
      "1 Failed download:\n",
      "['NAC.AX']: YFTzMissingError('$%ticker%: possibly delisted; no timezone found')\n",
      "Failed to get ticker 'BWF.AX' reason: Expecting value: line 1 column 1 (char 0)\n",
      "\n",
      "1 Failed download:\n",
      "['BWF.AX']: YFTzMissingError('$%ticker%: possibly delisted; no timezone found')\n",
      "Failed to get ticker 'ODA.AX' reason: Expecting value: line 1 column 1 (char 0)\n",
      "\n",
      "1 Failed download:\n",
      "['ODA.AX']: YFTzMissingError('$%ticker%: possibly delisted; no timezone found')\n",
      "Failed to get ticker 'FBU.AX' reason: Expecting value: line 1 column 1 (char 0)\n",
      "\n",
      "1 Failed download:\n",
      "['FBU.AX']: YFTzMissingError('$%ticker%: possibly delisted; no timezone found')\n",
      "Failed to get ticker 'MKT.AX' reason: Expecting value: line 1 column 1 (char 0)\n",
      "\n",
      "1 Failed download:\n",
      "['MKT.AX']: YFTzMissingError('$%ticker%: possibly delisted; no timezone found')\n",
      "Failed to get ticker 'STK.AX' reason: Expecting value: line 1 column 1 (char 0)\n",
      "\n",
      "1 Failed download:\n",
      "['STK.AX']: YFTzMissingError('$%ticker%: possibly delisted; no timezone found')\n",
      "Failed to get ticker 'TML.AX' reason: Expecting value: line 1 column 1 (char 0)\n",
      "\n",
      "1 Failed download:\n",
      "['TML.AX']: YFTzMissingError('$%ticker%: possibly delisted; no timezone found')\n",
      "Failed to get ticker 'GAP.AX' reason: Expecting value: line 1 column 1 (char 0)\n",
      "\n",
      "1 Failed download:\n",
      "['GAP.AX']: YFTzMissingError('$%ticker%: possibly delisted; no timezone found')\n",
      "Failed to get ticker 'ALB.AX' reason: Expecting value: line 1 column 1 (char 0)\n",
      "\n",
      "1 Failed download:\n",
      "['ALB.AX']: YFTzMissingError('$%ticker%: possibly delisted; no timezone found')\n",
      "Failed to get ticker 'KZR.AX' reason: Expecting value: line 1 column 1 (char 0)\n",
      "\n",
      "1 Failed download:\n",
      "['KZR.AX']: YFTzMissingError('$%ticker%: possibly delisted; no timezone found')\n",
      "Failed to get ticker 'PEC.AX' reason: Expecting value: line 1 column 1 (char 0)\n",
      "\n",
      "1 Failed download:\n",
      "['PEC.AX']: YFTzMissingError('$%ticker%: possibly delisted; no timezone found')\n",
      "Failed to get ticker 'VKA.AX' reason: Expecting value: line 1 column 1 (char 0)\n",
      "\n",
      "1 Failed download:\n",
      "['VKA.AX']: YFTzMissingError('$%ticker%: possibly delisted; no timezone found')\n",
      "Failed to get ticker 'BGT.AX' reason: Expecting value: line 1 column 1 (char 0)\n",
      "\n",
      "1 Failed download:\n",
      "['BGT.AX']: YFTzMissingError('$%ticker%: possibly delisted; no timezone found')\n",
      "Failed to get ticker 'ETM.AX' reason: Expecting value: line 1 column 1 (char 0)\n",
      "\n",
      "1 Failed download:\n",
      "['ETM.AX']: YFTzMissingError('$%ticker%: possibly delisted; no timezone found')\n",
      "Failed to get ticker 'PAM.AX' reason: Expecting value: line 1 column 1 (char 0)\n",
      "\n",
      "1 Failed download:\n",
      "['PAM.AX']: YFTzMissingError('$%ticker%: possibly delisted; no timezone found')\n",
      "Failed to get ticker 'MOZ.AX' reason: Expecting value: line 1 column 1 (char 0)\n",
      "\n",
      "1 Failed download:\n",
      "['MOZ.AX']: YFTzMissingError('$%ticker%: possibly delisted; no timezone found')\n",
      "Failed to get ticker 'LTM.AX' reason: Expecting value: line 1 column 1 (char 0)\n",
      "\n",
      "1 Failed download:\n",
      "['LTM.AX']: YFTzMissingError('$%ticker%: possibly delisted; no timezone found')\n",
      "Failed to get ticker 'GGE.AX' reason: Expecting value: line 1 column 1 (char 0)\n",
      "\n",
      "1 Failed download:\n",
      "['GGE.AX']: YFTzMissingError('$%ticker%: possibly delisted; no timezone found')\n",
      "Failed to get ticker 'ERM.AX' reason: Expecting value: line 1 column 1 (char 0)\n",
      "\n",
      "1 Failed download:\n",
      "['ERM.AX']: YFTzMissingError('$%ticker%: possibly delisted; no timezone found')\n",
      "Failed to get ticker 'ATC.AX' reason: Expecting value: line 1 column 1 (char 0)\n",
      "\n",
      "1 Failed download:\n",
      "['ATC.AX']: YFTzMissingError('$%ticker%: possibly delisted; no timezone found')\n",
      "Failed to get ticker 'I88.AX' reason: Expecting value: line 1 column 1 (char 0)\n",
      "\n",
      "1 Failed download:\n",
      "['I88.AX']: YFTzMissingError('$%ticker%: possibly delisted; no timezone found')\n",
      "Failed to get ticker 'REX.AX' reason: Expecting value: line 1 column 1 (char 0)\n",
      "\n",
      "1 Failed download:\n",
      "['REX.AX']: YFTzMissingError('$%ticker%: possibly delisted; no timezone found')\n",
      "Failed to get ticker 'BMG.AX' reason: Expecting value: line 1 column 1 (char 0)\n",
      "\n",
      "1 Failed download:\n",
      "['BMG.AX']: YFTzMissingError('$%ticker%: possibly delisted; no timezone found')\n",
      "Failed to get ticker 'CAV.AX' reason: Expecting value: line 1 column 1 (char 0)\n",
      "\n",
      "1 Failed download:\n",
      "['CAV.AX']: YFTzMissingError('$%ticker%: possibly delisted; no timezone found')\n",
      "Failed to get ticker 'EMT.AX' reason: Expecting value: line 1 column 1 (char 0)\n",
      "\n",
      "1 Failed download:\n",
      "['EMT.AX']: YFTzMissingError('$%ticker%: possibly delisted; no timezone found')\n",
      "Failed to get ticker 'NUC.AX' reason: Expecting value: line 1 column 1 (char 0)\n",
      "\n",
      "1 Failed download:\n",
      "['NUC.AX']: YFTzMissingError('$%ticker%: possibly delisted; no timezone found')\n",
      "Failed to get ticker 'FRM.AX' reason: Expecting value: line 1 column 1 (char 0)\n",
      "\n",
      "1 Failed download:\n",
      "['FRM.AX']: YFTzMissingError('$%ticker%: possibly delisted; no timezone found')\n",
      "Failed to get ticker 'RDG.AX' reason: Expecting value: line 1 column 1 (char 0)\n",
      "\n",
      "1 Failed download:\n",
      "['RDG.AX']: YFTzMissingError('$%ticker%: possibly delisted; no timezone found')\n",
      "Failed to get ticker 'CMG.AX' reason: Expecting value: line 1 column 1 (char 0)\n",
      "\n",
      "1 Failed download:\n",
      "['CMG.AX']: YFTzMissingError('$%ticker%: possibly delisted; no timezone found')\n",
      "Failed to get ticker 'TYR.AX' reason: Expecting value: line 1 column 1 (char 0)\n",
      "\n",
      "1 Failed download:\n",
      "['TYR.AX']: YFTzMissingError('$%ticker%: possibly delisted; no timezone found')\n",
      "Failed to get ticker 'NGX.AX' reason: Expecting value: line 1 column 1 (char 0)\n",
      "\n",
      "1 Failed download:\n",
      "['NGX.AX']: YFTzMissingError('$%ticker%: possibly delisted; no timezone found')\n",
      "Failed to get ticker 'MLS.AX' reason: Expecting value: line 1 column 1 (char 0)\n",
      "\n",
      "1 Failed download:\n",
      "['MLS.AX']: YFTzMissingError('$%ticker%: possibly delisted; no timezone found')\n",
      "Failed to get ticker 'NGY.AX' reason: Expecting value: line 1 column 1 (char 0)\n",
      "\n",
      "1 Failed download:\n",
      "['NGY.AX']: YFTzMissingError('$%ticker%: possibly delisted; no timezone found')\n",
      "Failed to get ticker 'ST1.AX' reason: Expecting value: line 1 column 1 (char 0)\n",
      "\n",
      "1 Failed download:\n",
      "['ST1.AX']: YFTzMissingError('$%ticker%: possibly delisted; no timezone found')\n",
      "Failed to get ticker 'AJX.AX' reason: Expecting value: line 1 column 1 (char 0)\n",
      "\n",
      "1 Failed download:\n",
      "['AJX.AX']: YFTzMissingError('$%ticker%: possibly delisted; no timezone found')\n",
      "Failed to get ticker 'T88.AX' reason: Expecting value: line 1 column 1 (char 0)\n",
      "\n",
      "1 Failed download:\n",
      "['T88.AX']: YFTzMissingError('$%ticker%: possibly delisted; no timezone found')\n",
      "Failed to get ticker 'LRS.AX' reason: Expecting value: line 1 column 1 (char 0)\n",
      "\n",
      "1 Failed download:\n",
      "['LRS.AX']: YFTzMissingError('$%ticker%: possibly delisted; no timezone found')\n",
      "Failed to get ticker 'WMG.AX' reason: Expecting value: line 1 column 1 (char 0)\n",
      "\n",
      "1 Failed download:\n",
      "['WMG.AX']: YFTzMissingError('$%ticker%: possibly delisted; no timezone found')\n",
      "Failed to get ticker 'ICN.AX' reason: Expecting value: line 1 column 1 (char 0)\n",
      "\n",
      "1 Failed download:\n",
      "['ICN.AX']: YFTzMissingError('$%ticker%: possibly delisted; no timezone found')\n",
      "Failed to get ticker 'NTM.AX' reason: Expecting value: line 1 column 1 (char 0)\n",
      "\n",
      "1 Failed download:\n",
      "['NTM.AX']: YFTzMissingError('$%ticker%: possibly delisted; no timezone found')\n",
      "Failed to get ticker 'EQS.AX' reason: Expecting value: line 1 column 1 (char 0)\n",
      "\n",
      "1 Failed download:\n",
      "['EQS.AX']: YFTzMissingError('$%ticker%: possibly delisted; no timezone found')\n",
      "Failed to get ticker 'MXR.AX' reason: Expecting value: line 1 column 1 (char 0)\n",
      "\n",
      "1 Failed download:\n",
      "['MXR.AX']: YFTzMissingError('$%ticker%: possibly delisted; no timezone found')\n",
      "Failed to get ticker 'TAH.AX' reason: Expecting value: line 1 column 1 (char 0)\n",
      "\n",
      "1 Failed download:\n",
      "['TAH.AX']: YFTzMissingError('$%ticker%: possibly delisted; no timezone found')\n",
      "Failed to get ticker 'VRS.AX' reason: Expecting value: line 1 column 1 (char 0)\n",
      "\n",
      "1 Failed download:\n",
      "['VRS.AX']: YFTzMissingError('$%ticker%: possibly delisted; no timezone found')\n",
      "Failed to get ticker 'SEN.AX' reason: Expecting value: line 1 column 1 (char 0)\n",
      "\n",
      "1 Failed download:\n",
      "['SEN.AX']: YFTzMissingError('$%ticker%: possibly delisted; no timezone found')\n",
      "Failed to get ticker 'SWP.AX' reason: Expecting value: line 1 column 1 (char 0)\n",
      "\n",
      "1 Failed download:\n",
      "['SWP.AX']: YFTzMissingError('$%ticker%: possibly delisted; no timezone found')\n",
      "Failed to get ticker 'AFL.AX' reason: Expecting value: line 1 column 1 (char 0)\n",
      "\n",
      "1 Failed download:\n",
      "['AFL.AX']: YFTzMissingError('$%ticker%: possibly delisted; no timezone found')\n",
      "Failed to get ticker 'AXE.AX' reason: Expecting value: line 1 column 1 (char 0)\n",
      "\n",
      "1 Failed download:\n",
      "['AXE.AX']: YFTzMissingError('$%ticker%: possibly delisted; no timezone found')\n",
      "Failed to get ticker 'AGH.AX' reason: Expecting value: line 1 column 1 (char 0)\n",
      "\n",
      "1 Failed download:\n",
      "['AGH.AX']: YFTzMissingError('$%ticker%: possibly delisted; no timezone found')\n",
      "Failed to get ticker 'EDU.AX' reason: Expecting value: line 1 column 1 (char 0)\n",
      "\n",
      "1 Failed download:\n",
      "['EDU.AX']: YFTzMissingError('$%ticker%: possibly delisted; no timezone found')\n",
      "Failed to get ticker 'KKO.AX' reason: Expecting value: line 1 column 1 (char 0)\n",
      "\n",
      "1 Failed download:\n",
      "['KKO.AX']: YFTzMissingError('$%ticker%: possibly delisted; no timezone found')\n",
      "Failed to get ticker 'DMG.AX' reason: Expecting value: line 1 column 1 (char 0)\n",
      "\n",
      "1 Failed download:\n",
      "['DMG.AX']: YFTzMissingError('$%ticker%: possibly delisted; no timezone found')\n",
      "Failed to get ticker 'FHS.AX' reason: Expecting value: line 1 column 1 (char 0)\n",
      "\n",
      "1 Failed download:\n",
      "['FHS.AX']: YFTzMissingError('$%ticker%: possibly delisted; no timezone found')\n",
      "Failed to get ticker 'APS.AX' reason: Expecting value: line 1 column 1 (char 0)\n",
      "\n",
      "1 Failed download:\n",
      "['APS.AX']: YFTzMissingError('$%ticker%: possibly delisted; no timezone found')\n",
      "Failed to get ticker 'NVX.AX' reason: Expecting value: line 1 column 1 (char 0)\n",
      "\n",
      "1 Failed download:\n",
      "['NVX.AX']: YFTzMissingError('$%ticker%: possibly delisted; no timezone found')\n",
      "Failed to get ticker 'ASE.AX' reason: Expecting value: line 1 column 1 (char 0)\n",
      "\n",
      "1 Failed download:\n",
      "['ASE.AX']: YFTzMissingError('$%ticker%: possibly delisted; no timezone found')\n",
      "Failed to get ticker 'BEL.AX' reason: Expecting value: line 1 column 1 (char 0)\n",
      "\n",
      "1 Failed download:\n",
      "['BEL.AX']: YFTzMissingError('$%ticker%: possibly delisted; no timezone found')\n",
      "Failed to get ticker 'EQR.AX' reason: Expecting value: line 1 column 1 (char 0)\n",
      "\n",
      "1 Failed download:\n",
      "['EQR.AX']: YFTzMissingError('$%ticker%: possibly delisted; no timezone found')\n",
      "Failed to get ticker 'PHO.AX' reason: Expecting value: line 1 column 1 (char 0)\n",
      "\n",
      "1 Failed download:\n",
      "['PHO.AX']: YFTzMissingError('$%ticker%: possibly delisted; no timezone found')\n",
      "Failed to get ticker 'TZN.AX' reason: Expecting value: line 1 column 1 (char 0)\n",
      "\n",
      "1 Failed download:\n",
      "['TZN.AX']: YFTzMissingError('$%ticker%: possibly delisted; no timezone found')\n",
      "Failed to get ticker 'BML.AX' reason: Expecting value: line 1 column 1 (char 0)\n",
      "\n",
      "1 Failed download:\n",
      "['BML.AX']: YFTzMissingError('$%ticker%: possibly delisted; no timezone found')\n",
      "Failed to get ticker 'JCS.AX' reason: Expecting value: line 1 column 1 (char 0)\n",
      "\n",
      "1 Failed download:\n",
      "['JCS.AX']: YFTzMissingError('$%ticker%: possibly delisted; no timezone found')\n",
      "Failed to get ticker 'CAI.AX' reason: Expecting value: line 1 column 1 (char 0)\n",
      "\n",
      "1 Failed download:\n",
      "['CAI.AX']: YFTzMissingError('$%ticker%: possibly delisted; no timezone found')\n",
      "Failed to get ticker 'TOY.AX' reason: Expecting value: line 1 column 1 (char 0)\n",
      "\n",
      "1 Failed download:\n",
      "['TOY.AX']: YFTzMissingError('$%ticker%: possibly delisted; no timezone found')\n",
      "Failed to get ticker 'GTH.AX' reason: Expecting value: line 1 column 1 (char 0)\n",
      "\n",
      "1 Failed download:\n",
      "['GTH.AX']: YFTzMissingError('$%ticker%: possibly delisted; no timezone found')\n",
      "Failed to get ticker 'ARU.AX' reason: Expecting value: line 1 column 1 (char 0)\n",
      "\n",
      "1 Failed download:\n",
      "['ARU.AX']: YFTzMissingError('$%ticker%: possibly delisted; no timezone found')\n",
      "Failed to get ticker 'BAS.AX' reason: Expecting value: line 1 column 1 (char 0)\n",
      "\n",
      "1 Failed download:\n",
      "['BAS.AX']: YFTzMissingError('$%ticker%: possibly delisted; no timezone found')\n",
      "Failed to get ticker 'TOR.AX' reason: Expecting value: line 1 column 1 (char 0)\n",
      "\n",
      "1 Failed download:\n",
      "['TOR.AX']: YFTzMissingError('$%ticker%: possibly delisted; no timezone found')\n",
      "Failed to get ticker 'ASP.AX' reason: Expecting value: line 1 column 1 (char 0)\n",
      "\n",
      "1 Failed download:\n",
      "['ASP.AX']: YFTzMissingError('$%ticker%: possibly delisted; no timezone found')\n",
      "Failed to get ticker 'ACE.AX' reason: Expecting value: line 1 column 1 (char 0)\n",
      "\n",
      "1 Failed download:\n",
      "['ACE.AX']: YFTzMissingError('$%ticker%: possibly delisted; no timezone found')\n",
      "Failed to get ticker 'PLG.AX' reason: Expecting value: line 1 column 1 (char 0)\n",
      "\n",
      "1 Failed download:\n",
      "['PLG.AX']: YFTzMissingError('$%ticker%: possibly delisted; no timezone found')\n",
      "Failed to get ticker 'HOR.AX' reason: Expecting value: line 1 column 1 (char 0)\n",
      "\n",
      "1 Failed download:\n",
      "['HOR.AX']: YFTzMissingError('$%ticker%: possibly delisted; no timezone found')\n",
      "Failed to get ticker 'XAM.AX' reason: Expecting value: line 1 column 1 (char 0)\n",
      "\n",
      "1 Failed download:\n",
      "['XAM.AX']: YFTzMissingError('$%ticker%: possibly delisted; no timezone found')\n",
      "Failed to get ticker 'PVE.AX' reason: Expecting value: line 1 column 1 (char 0)\n",
      "\n",
      "1 Failed download:\n",
      "['PVE.AX']: YFTzMissingError('$%ticker%: possibly delisted; no timezone found')\n",
      "Failed to get ticker 'XST.AX' reason: Expecting value: line 1 column 1 (char 0)\n",
      "\n",
      "1 Failed download:\n",
      "['XST.AX']: YFTzMissingError('$%ticker%: possibly delisted; no timezone found')\n",
      "Failed to get ticker 'C29.AX' reason: Expecting value: line 1 column 1 (char 0)\n",
      "\n",
      "1 Failed download:\n",
      "['C29.AX']: YFTzMissingError('$%ticker%: possibly delisted; no timezone found')\n",
      "Failed to get ticker 'SPN.AX' reason: Expecting value: line 1 column 1 (char 0)\n",
      "\n",
      "1 Failed download:\n",
      "['SPN.AX']: YFTzMissingError('$%ticker%: possibly delisted; no timezone found')\n",
      "Failed to get ticker 'LV1.AX' reason: Expecting value: line 1 column 1 (char 0)\n",
      "\n",
      "1 Failed download:\n",
      "['LV1.AX']: YFTzMissingError('$%ticker%: possibly delisted; no timezone found')\n",
      "Failed to get ticker 'MBK.AX' reason: Expecting value: line 1 column 1 (char 0)\n",
      "\n",
      "1 Failed download:\n",
      "['MBK.AX']: YFTzMissingError('$%ticker%: possibly delisted; no timezone found')\n",
      "Failed to get ticker 'GUE.AX' reason: Expecting value: line 1 column 1 (char 0)\n",
      "\n",
      "1 Failed download:\n",
      "['GUE.AX']: YFTzMissingError('$%ticker%: possibly delisted; no timezone found')\n",
      "Failed to get ticker 'NTD.AX' reason: Expecting value: line 1 column 1 (char 0)\n",
      "\n",
      "1 Failed download:\n",
      "['NTD.AX']: YFTzMissingError('$%ticker%: possibly delisted; no timezone found')\n",
      "Failed to get ticker 'MTO.AX' reason: Expecting value: line 1 column 1 (char 0)\n",
      "\n",
      "1 Failed download:\n",
      "['MTO.AX']: YFTzMissingError('$%ticker%: possibly delisted; no timezone found')\n",
      "Failed to get ticker 'TFL.AX' reason: Expecting value: line 1 column 1 (char 0)\n",
      "\n",
      "1 Failed download:\n",
      "['TFL.AX']: YFTzMissingError('$%ticker%: possibly delisted; no timezone found')\n",
      "Failed to get ticker 'SRJ.AX' reason: Expecting value: line 1 column 1 (char 0)\n",
      "\n",
      "1 Failed download:\n",
      "['SRJ.AX']: YFTzMissingError('$%ticker%: possibly delisted; no timezone found')\n",
      "Failed to get ticker 'CHL.AX' reason: Expecting value: line 1 column 1 (char 0)\n",
      "\n",
      "1 Failed download:\n",
      "['CHL.AX']: YFTzMissingError('$%ticker%: possibly delisted; no timezone found')\n",
      "Failed to get ticker 'IOD.AX' reason: Expecting value: line 1 column 1 (char 0)\n",
      "\n",
      "1 Failed download:\n",
      "['IOD.AX']: YFTzMissingError('$%ticker%: possibly delisted; no timezone found')\n",
      "Failed to get ticker 'MGA.AX' reason: Expecting value: line 1 column 1 (char 0)\n",
      "\n",
      "1 Failed download:\n",
      "['MGA.AX']: YFTzMissingError('$%ticker%: possibly delisted; no timezone found')\n",
      "Failed to get ticker 'IXC.AX' reason: Expecting value: line 1 column 1 (char 0)\n",
      "\n",
      "1 Failed download:\n",
      "['IXC.AX']: YFTzMissingError('$%ticker%: possibly delisted; no timezone found')\n",
      "Failed to get ticker 'PFE.AX' reason: Expecting value: line 1 column 1 (char 0)\n",
      "\n",
      "1 Failed download:\n",
      "['PFE.AX']: YFTzMissingError('$%ticker%: possibly delisted; no timezone found')\n",
      "Failed to get ticker 'MBH.AX' reason: Expecting value: line 1 column 1 (char 0)\n",
      "\n",
      "1 Failed download:\n",
      "['MBH.AX']: YFTzMissingError('$%ticker%: possibly delisted; no timezone found')\n",
      "Failed to get ticker 'CBL.AX' reason: Expecting value: line 1 column 1 (char 0)\n",
      "\n",
      "1 Failed download:\n",
      "['CBL.AX']: YFTzMissingError('$%ticker%: possibly delisted; no timezone found')\n",
      "Failed to get ticker 'BET.AX' reason: Expecting value: line 1 column 1 (char 0)\n",
      "\n",
      "1 Failed download:\n",
      "['BET.AX']: YFTzMissingError('$%ticker%: possibly delisted; no timezone found')\n",
      "Failed to get ticker 'ZEO.AX' reason: Expecting value: line 1 column 1 (char 0)\n",
      "\n",
      "1 Failed download:\n",
      "['ZEO.AX']: YFTzMissingError('$%ticker%: possibly delisted; no timezone found')\n",
      "Failed to get ticker 'WR1.AX' reason: Expecting value: line 1 column 1 (char 0)\n",
      "\n",
      "1 Failed download:\n",
      "['WR1.AX']: YFTzMissingError('$%ticker%: possibly delisted; no timezone found')\n",
      "Failed to get ticker 'VMC.AX' reason: Expecting value: line 1 column 1 (char 0)\n",
      "\n",
      "1 Failed download:\n",
      "['VMC.AX']: YFTzMissingError('$%ticker%: possibly delisted; no timezone found')\n",
      "Failed to get ticker 'KM1.AX' reason: Expecting value: line 1 column 1 (char 0)\n",
      "\n",
      "1 Failed download:\n",
      "['KM1.AX']: YFTzMissingError('$%ticker%: possibly delisted; no timezone found')\n",
      "Failed to get ticker 'HE8.AX' reason: Expecting value: line 1 column 1 (char 0)\n",
      "\n",
      "1 Failed download:\n",
      "['HE8.AX']: YFTzMissingError('$%ticker%: possibly delisted; no timezone found')\n",
      "Failed to get ticker 'KGN.AX' reason: Expecting value: line 1 column 1 (char 0)\n",
      "\n",
      "1 Failed download:\n",
      "['KGN.AX']: YFTzMissingError('$%ticker%: possibly delisted; no timezone found')\n",
      "Failed to get ticker 'SOR.AX' reason: Expecting value: line 1 column 1 (char 0)\n",
      "\n",
      "1 Failed download:\n",
      "['SOR.AX']: YFTzMissingError('$%ticker%: possibly delisted; no timezone found')\n",
      "Failed to get ticker 'AQC.AX' reason: Expecting value: line 1 column 1 (char 0)\n",
      "\n",
      "1 Failed download:\n",
      "['AQC.AX']: YFTzMissingError('$%ticker%: possibly delisted; no timezone found')\n",
      "Failed to get ticker 'LRK.AX' reason: Expecting value: line 1 column 1 (char 0)\n",
      "\n",
      "1 Failed download:\n",
      "['LRK.AX']: YFTzMissingError('$%ticker%: possibly delisted; no timezone found')\n",
      "Failed to get ticker 'ANX.AX' reason: Expecting value: line 1 column 1 (char 0)\n",
      "\n",
      "1 Failed download:\n",
      "['ANX.AX']: YFTzMissingError('$%ticker%: possibly delisted; no timezone found')\n",
      "Failed to get ticker 'AOA.AX' reason: Expecting value: line 1 column 1 (char 0)\n",
      "\n",
      "1 Failed download:\n",
      "['AOA.AX']: YFTzMissingError('$%ticker%: possibly delisted; no timezone found')\n",
      "Failed to get ticker 'ATG.AX' reason: Expecting value: line 1 column 1 (char 0)\n",
      "\n",
      "1 Failed download:\n",
      "['ATG.AX']: YFTzMissingError('$%ticker%: possibly delisted; no timezone found')\n",
      "Failed to get ticker 'ATH.AX' reason: Expecting value: line 1 column 1 (char 0)\n",
      "\n",
      "1 Failed download:\n",
      "['ATH.AX']: YFTzMissingError('$%ticker%: possibly delisted; no timezone found')\n",
      "Failed to get ticker 'AUH.AX' reason: Expecting value: line 1 column 1 (char 0)\n",
      "\n",
      "1 Failed download:\n",
      "['AUH.AX']: YFTzMissingError('$%ticker%: possibly delisted; no timezone found')\n",
      "Failed to get ticker 'AUK.AX' reason: Expecting value: line 1 column 1 (char 0)\n",
      "\n",
      "1 Failed download:\n",
      "['AUK.AX']: YFTzMissingError('$%ticker%: possibly delisted; no timezone found')\n",
      "Failed to get ticker 'AYM.AX' reason: Expecting value: line 1 column 1 (char 0)\n",
      "\n",
      "1 Failed download:\n",
      "['AYM.AX']: YFTzMissingError('$%ticker%: possibly delisted; no timezone found')\n",
      "Failed to get ticker 'BKY.AX' reason: Expecting value: line 1 column 1 (char 0)\n",
      "\n",
      "1 Failed download:\n",
      "['BKY.AX']: YFTzMissingError('$%ticker%: possibly delisted; no timezone found')\n",
      "Failed to get ticker 'COD.AX' reason: Expecting value: line 1 column 1 (char 0)\n",
      "\n",
      "1 Failed download:\n",
      "['COD.AX']: YFTzMissingError('$%ticker%: possibly delisted; no timezone found')\n",
      "Failed to get ticker 'CR9.AX' reason: Expecting value: line 1 column 1 (char 0)\n",
      "\n",
      "1 Failed download:\n",
      "['CR9.AX']: YFTzMissingError('$%ticker%: possibly delisted; no timezone found')\n",
      "Failed to get ticker 'CT1.AX' reason: Expecting value: line 1 column 1 (char 0)\n",
      "\n",
      "1 Failed download:\n",
      "['CT1.AX']: YFTzMissingError('$%ticker%: possibly delisted; no timezone found')\n",
      "Failed to get ticker 'ECT.AX' reason: Expecting value: line 1 column 1 (char 0)\n",
      "\n",
      "1 Failed download:\n",
      "['ECT.AX']: YFTzMissingError('$%ticker%: possibly delisted; no timezone found')\n",
      "Failed to get ticker 'GCR.AX' reason: Expecting value: line 1 column 1 (char 0)\n",
      "\n",
      "1 Failed download:\n",
      "['GCR.AX']: YFTzMissingError('$%ticker%: possibly delisted; no timezone found')\n",
      "Failed to get ticker 'GTI.AX' reason: Expecting value: line 1 column 1 (char 0)\n",
      "\n",
      "1 Failed download:\n",
      "['GTI.AX']: YFTzMissingError('$%ticker%: possibly delisted; no timezone found')\n",
      "Failed to get ticker 'LML.AX' reason: Expecting value: line 1 column 1 (char 0)\n",
      "\n",
      "1 Failed download:\n",
      "['LML.AX']: YFTzMissingError('$%ticker%: possibly delisted; no timezone found')\n",
      "Failed to get ticker 'MTL.AX' reason: Expecting value: line 1 column 1 (char 0)\n",
      "\n",
      "1 Failed download:\n",
      "['MTL.AX']: YFTzMissingError('$%ticker%: possibly delisted; no timezone found')\n",
      "Failed to get ticker 'NVA.AX' reason: Expecting value: line 1 column 1 (char 0)\n",
      "\n",
      "1 Failed download:\n",
      "['NVA.AX']: YFTzMissingError('$%ticker%: possibly delisted; no timezone found')\n",
      "Failed to get ticker 'NYR.AX' reason: Expecting value: line 1 column 1 (char 0)\n",
      "\n",
      "1 Failed download:\n",
      "['NYR.AX']: YFTzMissingError('$%ticker%: possibly delisted; no timezone found')\n",
      "Failed to get ticker 'R8R.AX' reason: Expecting value: line 1 column 1 (char 0)\n",
      "\n",
      "1 Failed download:\n",
      "['R8R.AX']: YFTzMissingError('$%ticker%: possibly delisted; no timezone found')\n",
      "Failed to get ticker 'RNU.AX' reason: Expecting value: line 1 column 1 (char 0)\n",
      "\n",
      "1 Failed download:\n",
      "['RNU.AX']: YFTzMissingError('$%ticker%: possibly delisted; no timezone found')\n",
      "Failed to get ticker 'SFG.AX' reason: Expecting value: line 1 column 1 (char 0)\n",
      "\n",
      "1 Failed download:\n",
      "['SFG.AX']: YFTzMissingError('$%ticker%: possibly delisted; no timezone found')\n",
      "Failed to get ticker 'TIG.AX' reason: Expecting value: line 1 column 1 (char 0)\n",
      "\n",
      "1 Failed download:\n",
      "['TIG.AX']: YFTzMissingError('$%ticker%: possibly delisted; no timezone found')\n",
      "Failed to get ticker 'XTC.AX' reason: Expecting value: line 1 column 1 (char 0)\n",
      "\n",
      "1 Failed download:\n",
      "['XTC.AX']: YFTzMissingError('$%ticker%: possibly delisted; no timezone found')\n",
      "Failed to get ticker 'LOM.AX' reason: Expecting value: line 1 column 1 (char 0)\n",
      "\n",
      "1 Failed download:\n",
      "['LOM.AX']: YFTzMissingError('$%ticker%: possibly delisted; no timezone found')\n",
      "Failed to get ticker 'RDN.AX' reason: Expecting value: line 1 column 1 (char 0)\n",
      "\n",
      "1 Failed download:\n",
      "['RDN.AX']: YFTzMissingError('$%ticker%: possibly delisted; no timezone found')\n",
      "Failed to get ticker 'CAZ.AX' reason: Expecting value: line 1 column 1 (char 0)\n",
      "\n",
      "1 Failed download:\n",
      "['CAZ.AX']: YFTzMissingError('$%ticker%: possibly delisted; no timezone found')\n",
      "Failed to get ticker 'CLE.AX' reason: Expecting value: line 1 column 1 (char 0)\n",
      "\n",
      "1 Failed download:\n",
      "['CLE.AX']: YFTzMissingError('$%ticker%: possibly delisted; no timezone found')\n",
      "Failed to get ticker 'SER.AX' reason: Expecting value: line 1 column 1 (char 0)\n",
      "\n",
      "1 Failed download:\n",
      "['SER.AX']: YFTzMissingError('$%ticker%: possibly delisted; no timezone found')\n",
      "Failed to get ticker 'TGH.AX' reason: Expecting value: line 1 column 1 (char 0)\n",
      "\n",
      "1 Failed download:\n",
      "['TGH.AX']: YFTzMissingError('$%ticker%: possibly delisted; no timezone found')\n",
      "Failed to get ticker 'LBT.AX' reason: Expecting value: line 1 column 1 (char 0)\n",
      "\n",
      "1 Failed download:\n",
      "['LBT.AX']: YFTzMissingError('$%ticker%: possibly delisted; no timezone found')\n",
      "Failed to get ticker 'H2G.AX' reason: Expecting value: line 1 column 1 (char 0)\n",
      "\n",
      "1 Failed download:\n",
      "['H2G.AX']: YFTzMissingError('$%ticker%: possibly delisted; no timezone found')\n",
      "Failed to get ticker 'ADG.AX' reason: Expecting value: line 1 column 1 (char 0)\n",
      "\n",
      "1 Failed download:\n",
      "['ADG.AX']: YFTzMissingError('$%ticker%: possibly delisted; no timezone found')\n",
      "Failed to get ticker 'VFX.AX' reason: Expecting value: line 1 column 1 (char 0)\n",
      "\n",
      "1 Failed download:\n",
      "['VFX.AX']: YFTzMissingError('$%ticker%: possibly delisted; no timezone found')\n",
      "Failed to get ticker 'PKO.AX' reason: Expecting value: line 1 column 1 (char 0)\n",
      "\n",
      "1 Failed download:\n",
      "['PKO.AX']: YFTzMissingError('$%ticker%: possibly delisted; no timezone found')\n",
      "Failed to get ticker 'AO1.AX' reason: Expecting value: line 1 column 1 (char 0)\n",
      "\n",
      "1 Failed download:\n",
      "['AO1.AX']: YFTzMissingError('$%ticker%: possibly delisted; no timezone found')\n",
      "Failed to get ticker 'KEY.AX' reason: Expecting value: line 1 column 1 (char 0)\n",
      "\n",
      "1 Failed download:\n",
      "['KEY.AX']: YFTzMissingError('$%ticker%: possibly delisted; no timezone found')\n",
      "Failed to get ticker 'SFX.AX' reason: Expecting value: line 1 column 1 (char 0)\n",
      "\n",
      "1 Failed download:\n",
      "['SFX.AX']: YFTzMissingError('$%ticker%: possibly delisted; no timezone found')\n",
      "Failed to get ticker 'AIS.AX' reason: Expecting value: line 1 column 1 (char 0)\n",
      "\n",
      "1 Failed download:\n",
      "['AIS.AX']: YFTzMissingError('$%ticker%: possibly delisted; no timezone found')\n",
      "Failed to get ticker 'PNT.AX' reason: Expecting value: line 1 column 1 (char 0)\n",
      "\n",
      "1 Failed download:\n",
      "['PNT.AX']: YFTzMissingError('$%ticker%: possibly delisted; no timezone found')\n",
      "Failed to get ticker 'ASQ.AX' reason: Expecting value: line 1 column 1 (char 0)\n",
      "\n",
      "1 Failed download:\n",
      "['ASQ.AX']: YFTzMissingError('$%ticker%: possibly delisted; no timezone found')\n",
      "Failed to get ticker 'RPM.AX' reason: Expecting value: line 1 column 1 (char 0)\n",
      "\n",
      "1 Failed download:\n",
      "['RPM.AX']: YFTzMissingError('$%ticker%: possibly delisted; no timezone found')\n",
      "Failed to get ticker 'DYM.AX' reason: Expecting value: line 1 column 1 (char 0)\n",
      "\n",
      "1 Failed download:\n",
      "['DYM.AX']: YFTzMissingError('$%ticker%: possibly delisted; no timezone found')\n",
      "Failed to get ticker 'HIO.AX' reason: Expecting value: line 1 column 1 (char 0)\n",
      "\n",
      "1 Failed download:\n",
      "['HIO.AX']: YFTzMissingError('$%ticker%: possibly delisted; no timezone found')\n",
      "Failed to get ticker 'OEC.AX' reason: Expecting value: line 1 column 1 (char 0)\n",
      "\n",
      "1 Failed download:\n",
      "['OEC.AX']: YFTzMissingError('$%ticker%: possibly delisted; no timezone found')\n",
      "Failed to get ticker 'ARC.AX' reason: Expecting value: line 1 column 1 (char 0)\n",
      "\n",
      "1 Failed download:\n",
      "['ARC.AX']: YFTzMissingError('$%ticker%: possibly delisted; no timezone found')\n",
      "Failed to get ticker 'CTM.AX' reason: Expecting value: line 1 column 1 (char 0)\n",
      "\n",
      "1 Failed download:\n",
      "['CTM.AX']: YFTzMissingError('$%ticker%: possibly delisted; no timezone found')\n",
      "Failed to get ticker 'VTX.AX' reason: Expecting value: line 1 column 1 (char 0)\n",
      "\n",
      "1 Failed download:\n",
      "['VTX.AX']: YFTzMissingError('$%ticker%: possibly delisted; no timezone found')\n",
      "Failed to get ticker 'PL3.AX' reason: Expecting value: line 1 column 1 (char 0)\n",
      "\n",
      "1 Failed download:\n",
      "['PL3.AX']: YFTzMissingError('$%ticker%: possibly delisted; no timezone found')\n",
      "Failed to get ticker 'SRK.AX' reason: Expecting value: line 1 column 1 (char 0)\n",
      "\n",
      "1 Failed download:\n",
      "['SRK.AX']: YFTzMissingError('$%ticker%: possibly delisted; no timezone found')\n",
      "Failed to get ticker 'INR.AX' reason: Expecting value: line 1 column 1 (char 0)\n",
      "\n",
      "1 Failed download:\n",
      "['INR.AX']: YFTzMissingError('$%ticker%: possibly delisted; no timezone found')\n",
      "Failed to get ticker 'EMS.AX' reason: Expecting value: line 1 column 1 (char 0)\n",
      "\n",
      "1 Failed download:\n",
      "['EMS.AX']: YFTzMissingError('$%ticker%: possibly delisted; no timezone found')\n",
      "Failed to get ticker 'BLG.AX' reason: Expecting value: line 1 column 1 (char 0)\n",
      "\n",
      "1 Failed download:\n",
      "['BLG.AX']: YFTzMissingError('$%ticker%: possibly delisted; no timezone found')\n",
      "Failed to get ticker 'DAF.AX' reason: Expecting value: line 1 column 1 (char 0)\n",
      "\n",
      "1 Failed download:\n",
      "['DAF.AX']: YFTzMissingError('$%ticker%: possibly delisted; no timezone found')\n",
      "Failed to get ticker 'PWN.AX' reason: Expecting value: line 1 column 1 (char 0)\n",
      "\n",
      "1 Failed download:\n",
      "['PWN.AX']: YFTzMissingError('$%ticker%: possibly delisted; no timezone found')\n",
      "Failed to get ticker 'PLC.AX' reason: Expecting value: line 1 column 1 (char 0)\n",
      "\n",
      "1 Failed download:\n",
      "['PLC.AX']: YFTzMissingError('$%ticker%: possibly delisted; no timezone found')\n",
      "Failed to get ticker 'SYR.AX' reason: Expecting value: line 1 column 1 (char 0)\n",
      "\n",
      "1 Failed download:\n",
      "['SYR.AX']: YFTzMissingError('$%ticker%: possibly delisted; no timezone found')\n",
      "Failed to get ticker 'INF.AX' reason: Expecting value: line 1 column 1 (char 0)\n",
      "\n",
      "1 Failed download:\n",
      "['INF.AX']: YFTzMissingError('$%ticker%: possibly delisted; no timezone found')\n",
      "Failed to get ticker 'TRJ.AX' reason: Expecting value: line 1 column 1 (char 0)\n",
      "\n",
      "1 Failed download:\n",
      "['TRJ.AX']: YFTzMissingError('$%ticker%: possibly delisted; no timezone found')\n",
      "Failed to get ticker 'CRD.AX' reason: Expecting value: line 1 column 1 (char 0)\n",
      "\n",
      "1 Failed download:\n",
      "['CRD.AX']: YFTzMissingError('$%ticker%: possibly delisted; no timezone found')\n",
      "Failed to get ticker 'MGL.AX' reason: Expecting value: line 1 column 1 (char 0)\n",
      "\n",
      "1 Failed download:\n",
      "['MGL.AX']: YFTzMissingError('$%ticker%: possibly delisted; no timezone found')\n",
      "Failed to get ticker 'OLI.AX' reason: Expecting value: line 1 column 1 (char 0)\n",
      "\n",
      "1 Failed download:\n",
      "['OLI.AX']: YFTzMissingError('$%ticker%: possibly delisted; no timezone found')\n",
      "Failed to get ticker 'BUB.AX' reason: Expecting value: line 1 column 1 (char 0)\n",
      "\n",
      "1 Failed download:\n",
      "['BUB.AX']: YFTzMissingError('$%ticker%: possibly delisted; no timezone found')\n",
      "Failed to get ticker 'EVS.AX' reason: Expecting value: line 1 column 1 (char 0)\n",
      "\n",
      "1 Failed download:\n",
      "['EVS.AX']: YFTzMissingError('$%ticker%: possibly delisted; no timezone found')\n",
      "Failed to get ticker 'TTM.AX' reason: Expecting value: line 1 column 1 (char 0)\n",
      "\n",
      "1 Failed download:\n",
      "['TTM.AX']: YFTzMissingError('$%ticker%: possibly delisted; no timezone found')\n",
      "Failed to get ticker 'GBZ.AX' reason: Expecting value: line 1 column 1 (char 0)\n",
      "\n",
      "1 Failed download:\n",
      "['GBZ.AX']: YFTzMissingError('$%ticker%: possibly delisted; no timezone found')\n",
      "Failed to get ticker 'ADN.AX' reason: Expecting value: line 1 column 1 (char 0)\n",
      "\n",
      "1 Failed download:\n",
      "['ADN.AX']: YFTzMissingError('$%ticker%: possibly delisted; no timezone found')\n",
      "Failed to get ticker 'KME.AX' reason: Expecting value: line 1 column 1 (char 0)\n",
      "\n",
      "1 Failed download:\n",
      "['KME.AX']: YFTzMissingError('$%ticker%: possibly delisted; no timezone found')\n",
      "Failed to get ticker 'SBW.AX' reason: Expecting value: line 1 column 1 (char 0)\n",
      "\n",
      "1 Failed download:\n",
      "['SBW.AX']: YFTzMissingError('$%ticker%: possibly delisted; no timezone found')\n",
      "Failed to get ticker 'GRL.AX' reason: Expecting value: line 1 column 1 (char 0)\n",
      "\n",
      "1 Failed download:\n",
      "['GRL.AX']: YFTzMissingError('$%ticker%: possibly delisted; no timezone found')\n",
      "Failed to get ticker 'NTI.AX' reason: Expecting value: line 1 column 1 (char 0)\n",
      "\n",
      "1 Failed download:\n",
      "['NTI.AX']: YFTzMissingError('$%ticker%: possibly delisted; no timezone found')\n",
      "Failed to get ticker 'DGL.AX' reason: Expecting value: line 1 column 1 (char 0)\n",
      "\n",
      "1 Failed download:\n",
      "['DGL.AX']: YFTzMissingError('$%ticker%: possibly delisted; no timezone found')\n",
      "Failed to get ticker 'PCK.AX' reason: Expecting value: line 1 column 1 (char 0)\n",
      "\n",
      "1 Failed download:\n",
      "['PCK.AX']: YFTzMissingError('$%ticker%: possibly delisted; no timezone found')\n",
      "Failed to get ticker 'TEM.AX' reason: Expecting value: line 1 column 1 (char 0)\n",
      "\n",
      "1 Failed download:\n",
      "['TEM.AX']: YFTzMissingError('$%ticker%: possibly delisted; no timezone found')\n",
      "Failed to get ticker 'CTT.AX' reason: Expecting value: line 1 column 1 (char 0)\n",
      "\n",
      "1 Failed download:\n",
      "['CTT.AX']: YFTzMissingError('$%ticker%: possibly delisted; no timezone found')\n",
      "Failed to get ticker 'LIT.AX' reason: Expecting value: line 1 column 1 (char 0)\n",
      "\n",
      "1 Failed download:\n",
      "['LIT.AX']: YFTzMissingError('$%ticker%: possibly delisted; no timezone found')\n",
      "Failed to get ticker 'MAP.AX' reason: Expecting value: line 1 column 1 (char 0)\n",
      "\n",
      "1 Failed download:\n",
      "['MAP.AX']: YFTzMissingError('$%ticker%: possibly delisted; no timezone found')\n",
      "Failed to get ticker 'AVL.AX' reason: Expecting value: line 1 column 1 (char 0)\n",
      "\n",
      "1 Failed download:\n",
      "['AVL.AX']: YFTzMissingError('$%ticker%: possibly delisted; no timezone found')\n",
      "Failed to get ticker 'AHK.AX' reason: Expecting value: line 1 column 1 (char 0)\n",
      "\n",
      "1 Failed download:\n",
      "['AHK.AX']: YFTzMissingError('$%ticker%: possibly delisted; no timezone found')\n",
      "Failed to get ticker 'SGQ.AX' reason: Expecting value: line 1 column 1 (char 0)\n",
      "\n",
      "1 Failed download:\n",
      "['SGQ.AX']: YFTzMissingError('$%ticker%: possibly delisted; no timezone found')\n",
      "Failed to get ticker 'PPG.AX' reason: Expecting value: line 1 column 1 (char 0)\n",
      "\n",
      "1 Failed download:\n",
      "['PPG.AX']: YFTzMissingError('$%ticker%: possibly delisted; no timezone found')\n",
      "Failed to get ticker 'RBD.AX' reason: Expecting value: line 1 column 1 (char 0)\n",
      "\n",
      "1 Failed download:\n",
      "['RBD.AX']: YFTzMissingError('$%ticker%: possibly delisted; no timezone found')\n",
      "Failed to get ticker 'FGR.AX' reason: Expecting value: line 1 column 1 (char 0)\n",
      "\n",
      "1 Failed download:\n",
      "['FGR.AX']: YFTzMissingError('$%ticker%: possibly delisted; no timezone found')\n",
      "Failed to get ticker 'BRN.AX' reason: Expecting value: line 1 column 1 (char 0)\n",
      "\n",
      "1 Failed download:\n",
      "['BRN.AX']: YFTzMissingError('$%ticker%: possibly delisted; no timezone found')\n",
      "Failed to get ticker 'IMU.AX' reason: Expecting value: line 1 column 1 (char 0)\n",
      "\n",
      "1 Failed download:\n",
      "['IMU.AX']: YFTzMissingError('$%ticker%: possibly delisted; no timezone found')\n",
      "Failed to get ticker 'THL.AX' reason: Expecting value: line 1 column 1 (char 0)\n",
      "\n",
      "1 Failed download:\n",
      "['THL.AX']: YFTzMissingError('$%ticker%: possibly delisted; no timezone found')\n",
      "Failed to get ticker 'SRI.AX' reason: Expecting value: line 1 column 1 (char 0)\n",
      "\n",
      "1 Failed download:\n",
      "['SRI.AX']: YFTzMissingError('$%ticker%: possibly delisted; no timezone found')\n",
      "Failed to get ticker '4DS.AX' reason: Expecting value: line 1 column 1 (char 0)\n",
      "\n",
      "1 Failed download:\n",
      "['4DS.AX']: YFTzMissingError('$%ticker%: possibly delisted; no timezone found')\n",
      "Failed to get ticker 'FXG.AX' reason: Expecting value: line 1 column 1 (char 0)\n",
      "\n",
      "1 Failed download:\n",
      "['FXG.AX']: YFTzMissingError('$%ticker%: possibly delisted; no timezone found')\n",
      "Failed to get ticker 'ADY.AX' reason: Expecting value: line 1 column 1 (char 0)\n",
      "\n",
      "1 Failed download:\n",
      "['ADY.AX']: YFTzMissingError('$%ticker%: possibly delisted; no timezone found')\n",
      "Failed to get ticker 'PEB.AX' reason: Expecting value: line 1 column 1 (char 0)\n",
      "\n",
      "1 Failed download:\n",
      "['PEB.AX']: YFTzMissingError('$%ticker%: possibly delisted; no timezone found')\n",
      "Failed to get ticker 'RNT.AX' reason: Expecting value: line 1 column 1 (char 0)\n",
      "\n",
      "1 Failed download:\n",
      "['RNT.AX']: YFTzMissingError('$%ticker%: possibly delisted; no timezone found')\n",
      "Failed to get ticker 'AZI.AX' reason: Expecting value: line 1 column 1 (char 0)\n",
      "\n",
      "1 Failed download:\n",
      "['AZI.AX']: YFTzMissingError('$%ticker%: possibly delisted; no timezone found')\n",
      "Failed to get ticker 'HAL.AX' reason: Expecting value: line 1 column 1 (char 0)\n",
      "\n",
      "1 Failed download:\n",
      "['HAL.AX']: YFTzMissingError('$%ticker%: possibly delisted; no timezone found')\n",
      "Failed to get ticker 'KNG.AX' reason: Expecting value: line 1 column 1 (char 0)\n",
      "\n",
      "1 Failed download:\n",
      "['KNG.AX']: YFTzMissingError('$%ticker%: possibly delisted; no timezone found')\n",
      "Failed to get ticker 'MEM.AX' reason: Expecting value: line 1 column 1 (char 0)\n",
      "\n",
      "1 Failed download:\n",
      "['MEM.AX']: YFTzMissingError('$%ticker%: possibly delisted; no timezone found')\n",
      "Failed to get ticker 'ILA.AX' reason: Expecting value: line 1 column 1 (char 0)\n",
      "\n",
      "1 Failed download:\n",
      "['ILA.AX']: YFTzMissingError('$%ticker%: possibly delisted; no timezone found')\n",
      "Failed to get ticker 'MNB.AX' reason: Expecting value: line 1 column 1 (char 0)\n",
      "\n",
      "1 Failed download:\n",
      "['MNB.AX']: YFTzMissingError('$%ticker%: possibly delisted; no timezone found')\n",
      "Failed to get ticker 'ASM.AX' reason: Expecting value: line 1 column 1 (char 0)\n",
      "\n",
      "1 Failed download:\n",
      "['ASM.AX']: YFTzMissingError('$%ticker%: possibly delisted; no timezone found')\n",
      "Failed to get ticker 'RLC.AX' reason: Expecting value: line 1 column 1 (char 0)\n",
      "\n",
      "1 Failed download:\n",
      "['RLC.AX']: YFTzMissingError('$%ticker%: possibly delisted; no timezone found')\n",
      "Failed to get ticker 'BIT.AX' reason: Expecting value: line 1 column 1 (char 0)\n",
      "\n",
      "1 Failed download:\n",
      "['BIT.AX']: YFTzMissingError('$%ticker%: possibly delisted; no timezone found')\n",
      "Failed to get ticker 'DTI.AX' reason: Expecting value: line 1 column 1 (char 0)\n",
      "\n",
      "1 Failed download:\n",
      "['DTI.AX']: YFTzMissingError('$%ticker%: possibly delisted; no timezone found')\n",
      "Failed to get ticker 'SWM.AX' reason: Expecting value: line 1 column 1 (char 0)\n",
      "\n",
      "1 Failed download:\n",
      "['SWM.AX']: YFTzMissingError('$%ticker%: possibly delisted; no timezone found')\n",
      "Failed to get ticker 'CLU.AX' reason: Expecting value: line 1 column 1 (char 0)\n",
      "\n",
      "1 Failed download:\n",
      "['CLU.AX']: YFTzMissingError('$%ticker%: possibly delisted; no timezone found')\n",
      "Failed to get ticker 'QHL.AX' reason: Expecting value: line 1 column 1 (char 0)\n",
      "\n",
      "1 Failed download:\n",
      "['QHL.AX']: YFTzMissingError('$%ticker%: possibly delisted; no timezone found')\n",
      "Failed to get ticker 'CRB.AX' reason: Expecting value: line 1 column 1 (char 0)\n",
      "\n",
      "1 Failed download:\n",
      "['CRB.AX']: YFTzMissingError('$%ticker%: possibly delisted; no timezone found')\n",
      "Failed to get ticker 'CNB.AX' reason: Expecting value: line 1 column 1 (char 0)\n",
      "\n",
      "1 Failed download:\n",
      "['CNB.AX']: YFTzMissingError('$%ticker%: possibly delisted; no timezone found')\n",
      "Failed to get ticker 'RLT.AX' reason: Expecting value: line 1 column 1 (char 0)\n",
      "\n",
      "1 Failed download:\n",
      "['RLT.AX']: YFTzMissingError('$%ticker%: possibly delisted; no timezone found')\n",
      "Failed to get ticker 'G1A.AX' reason: Expecting value: line 1 column 1 (char 0)\n",
      "\n",
      "1 Failed download:\n",
      "['G1A.AX']: YFTzMissingError('$%ticker%: possibly delisted; no timezone found')\n",
      "Failed to get ticker 'HMX.AX' reason: Expecting value: line 1 column 1 (char 0)\n",
      "\n",
      "1 Failed download:\n",
      "['HMX.AX']: YFTzMissingError('$%ticker%: possibly delisted; no timezone found')\n",
      "Failed to get ticker 'L1M.AX' reason: Expecting value: line 1 column 1 (char 0)\n",
      "\n",
      "1 Failed download:\n",
      "['L1M.AX']: YFTzMissingError('$%ticker%: possibly delisted; no timezone found')\n",
      "Failed to get ticker 'HAW.AX' reason: Expecting value: line 1 column 1 (char 0)\n",
      "\n",
      "1 Failed download:\n",
      "['HAW.AX']: YFTzMissingError('$%ticker%: possibly delisted; no timezone found')\n",
      "Failed to get ticker 'UBI.AX' reason: Expecting value: line 1 column 1 (char 0)\n",
      "\n",
      "1 Failed download:\n",
      "['UBI.AX']: YFTzMissingError('$%ticker%: possibly delisted; no timezone found')\n",
      "Failed to get ticker 'KRR.AX' reason: Expecting value: line 1 column 1 (char 0)\n",
      "\n",
      "1 Failed download:\n",
      "['KRR.AX']: YFTzMissingError('$%ticker%: possibly delisted; no timezone found')\n",
      "Failed to get ticker 'MCA.AX' reason: Expecting value: line 1 column 1 (char 0)\n",
      "\n",
      "1 Failed download:\n",
      "['MCA.AX']: YFTzMissingError('$%ticker%: possibly delisted; no timezone found')\n",
      "Failed to get ticker 'CUS.AX' reason: Expecting value: line 1 column 1 (char 0)\n",
      "\n",
      "1 Failed download:\n",
      "['CUS.AX']: YFTzMissingError('$%ticker%: possibly delisted; no timezone found')\n",
      "Failed to get ticker 'MDI.AX' reason: Expecting value: line 1 column 1 (char 0)\n",
      "\n",
      "1 Failed download:\n",
      "['MDI.AX']: YFTzMissingError('$%ticker%: possibly delisted; no timezone found')\n",
      "Failed to get ticker 'ADO.AX' reason: Expecting value: line 1 column 1 (char 0)\n",
      "\n",
      "1 Failed download:\n",
      "['ADO.AX']: YFTzMissingError('$%ticker%: possibly delisted; no timezone found')\n",
      "Failed to get ticker 'IG6.AX' reason: Expecting value: line 1 column 1 (char 0)\n",
      "\n",
      "1 Failed download:\n",
      "['IG6.AX']: YFTzMissingError('$%ticker%: possibly delisted; no timezone found')\n",
      "Failed to get ticker 'SNS.AX' reason: Expecting value: line 1 column 1 (char 0)\n",
      "\n",
      "1 Failed download:\n",
      "['SNS.AX']: YFTzMissingError('$%ticker%: possibly delisted; no timezone found')\n",
      "Failed to get ticker 'OKJ.AX' reason: Expecting value: line 1 column 1 (char 0)\n",
      "\n",
      "1 Failed download:\n",
      "['OKJ.AX']: YFTzMissingError('$%ticker%: possibly delisted; no timezone found')\n",
      "Failed to get ticker 'PTX.AX' reason: Expecting value: line 1 column 1 (char 0)\n",
      "\n",
      "1 Failed download:\n",
      "['PTX.AX']: YFTzMissingError('$%ticker%: possibly delisted; no timezone found')\n",
      "Failed to get ticker 'WA8.AX' reason: Expecting value: line 1 column 1 (char 0)\n",
      "\n",
      "1 Failed download:\n",
      "['WA8.AX']: YFTzMissingError('$%ticker%: possibly delisted; no timezone found')\n",
      "Failed to get ticker 'AVH.AX' reason: Expecting value: line 1 column 1 (char 0)\n",
      "\n",
      "1 Failed download:\n",
      "['AVH.AX']: YFTzMissingError('$%ticker%: possibly delisted; no timezone found')\n",
      "Failed to get ticker 'SGR.AX' reason: Expecting value: line 1 column 1 (char 0)\n",
      "\n",
      "1 Failed download:\n",
      "['SGR.AX']: YFTzMissingError('$%ticker%: possibly delisted; no timezone found')\n",
      "Failed to get ticker 'AVE.AX' reason: Expecting value: line 1 column 1 (char 0)\n",
      "\n",
      "1 Failed download:\n",
      "['AVE.AX']: YFTzMissingError('$%ticker%: possibly delisted; no timezone found')\n",
      "Failed to get ticker 'DOU.AX' reason: Expecting value: line 1 column 1 (char 0)\n",
      "\n",
      "1 Failed download:\n",
      "['DOU.AX']: YFTzMissingError('$%ticker%: possibly delisted; no timezone found')\n",
      "Failed to get ticker 'HT8.AX' reason: Expecting value: line 1 column 1 (char 0)\n",
      "\n",
      "1 Failed download:\n",
      "['HT8.AX']: YFTzMissingError('$%ticker%: possibly delisted; no timezone found')\n",
      "Failed to get ticker 'NAE.AX' reason: Expecting value: line 1 column 1 (char 0)\n",
      "\n",
      "1 Failed download:\n",
      "['NAE.AX']: YFTzMissingError('$%ticker%: possibly delisted; no timezone found')\n",
      "Failed to get ticker 'SKN.AX' reason: Expecting value: line 1 column 1 (char 0)\n",
      "\n",
      "1 Failed download:\n",
      "['SKN.AX']: YFTzMissingError('$%ticker%: possibly delisted; no timezone found')\n",
      "Failed to get ticker 'SRN.AX' reason: Expecting value: line 1 column 1 (char 0)\n",
      "\n",
      "1 Failed download:\n",
      "['SRN.AX']: YFTzMissingError('$%ticker%: possibly delisted; no timezone found')\n",
      "Failed to get ticker 'TMX.AX' reason: Expecting value: line 1 column 1 (char 0)\n",
      "\n",
      "1 Failed download:\n",
      "['TMX.AX']: YFTzMissingError('$%ticker%: possibly delisted; no timezone found')\n",
      "Failed to get ticker 'MHJ.AX' reason: Expecting value: line 1 column 1 (char 0)\n",
      "\n",
      "1 Failed download:\n",
      "['MHJ.AX']: YFTzMissingError('$%ticker%: possibly delisted; no timezone found')\n",
      "Failed to get ticker 'WLD.AX' reason: Expecting value: line 1 column 1 (char 0)\n",
      "\n",
      "1 Failed download:\n",
      "['WLD.AX']: YFTzMissingError('$%ticker%: possibly delisted; no timezone found')\n",
      "Failed to get ticker 'HLS.AX' reason: Expecting value: line 1 column 1 (char 0)\n",
      "\n",
      "1 Failed download:\n",
      "['HLS.AX']: YFTzMissingError('$%ticker%: possibly delisted; no timezone found')\n",
      "Failed to get ticker 'TER.AX' reason: Expecting value: line 1 column 1 (char 0)\n",
      "\n",
      "1 Failed download:\n",
      "['TER.AX']: YFTzMissingError('$%ticker%: possibly delisted; no timezone found')\n",
      "Failed to get ticker 'T92.AX' reason: Expecting value: line 1 column 1 (char 0)\n",
      "\n",
      "1 Failed download:\n",
      "['T92.AX']: YFTzMissingError('$%ticker%: possibly delisted; no timezone found')\n",
      "Failed to get ticker 'CI1.AX' reason: Expecting value: line 1 column 1 (char 0)\n",
      "\n",
      "1 Failed download:\n",
      "['CI1.AX']: YFTzMissingError('$%ticker%: possibly delisted; no timezone found')\n",
      "Failed to get ticker 'VR1.AX' reason: Expecting value: line 1 column 1 (char 0)\n",
      "\n",
      "1 Failed download:\n",
      "['VR1.AX']: YFTzMissingError('$%ticker%: possibly delisted; no timezone found')\n",
      "Failed to get ticker 'EGN.AX' reason: Expecting value: line 1 column 1 (char 0)\n",
      "\n",
      "1 Failed download:\n",
      "['EGN.AX']: YFTzMissingError('$%ticker%: possibly delisted; no timezone found')\n",
      "Failed to get ticker 'NSX.AX' reason: Expecting value: line 1 column 1 (char 0)\n",
      "\n",
      "1 Failed download:\n",
      "['NSX.AX']: YFTzMissingError('$%ticker%: possibly delisted; no timezone found')\n",
      "Failed to get ticker 'OVT.AX' reason: Expecting value: line 1 column 1 (char 0)\n",
      "\n",
      "1 Failed download:\n",
      "['OVT.AX']: YFTzMissingError('$%ticker%: possibly delisted; no timezone found')\n",
      "Failed to get ticker '1AE.AX' reason: Expecting value: line 1 column 1 (char 0)\n",
      "\n",
      "1 Failed download:\n",
      "['1AE.AX']: YFTzMissingError('$%ticker%: possibly delisted; no timezone found')\n",
      "Failed to get ticker 'AMD.AX' reason: Expecting value: line 1 column 1 (char 0)\n",
      "\n",
      "1 Failed download:\n",
      "['AMD.AX']: YFTzMissingError('$%ticker%: possibly delisted; no timezone found')\n",
      "Failed to get ticker 'IPB.AX' reason: Expecting value: line 1 column 1 (char 0)\n",
      "\n",
      "1 Failed download:\n",
      "['IPB.AX']: YFTzMissingError('$%ticker%: possibly delisted; no timezone found')\n",
      "Failed to get ticker 'RKT.AX' reason: Expecting value: line 1 column 1 (char 0)\n",
      "\n",
      "1 Failed download:\n",
      "['RKT.AX']: YFTzMissingError('$%ticker%: possibly delisted; no timezone found')\n",
      "Failed to get ticker 'JAL.AX' reason: Expecting value: line 1 column 1 (char 0)\n",
      "\n",
      "1 Failed download:\n",
      "['JAL.AX']: YFTzMissingError('$%ticker%: possibly delisted; no timezone found')\n",
      "Failed to get ticker 'ABX.AX' reason: Expecting value: line 1 column 1 (char 0)\n",
      "\n",
      "1 Failed download:\n",
      "['ABX.AX']: YFTzMissingError('$%ticker%: possibly delisted; no timezone found')\n",
      "Failed to get ticker 'ADV.AX' reason: Expecting value: line 1 column 1 (char 0)\n",
      "\n",
      "1 Failed download:\n",
      "['ADV.AX']: YFTzMissingError('$%ticker%: possibly delisted; no timezone found')\n",
      "Failed to get ticker 'NWF.AX' reason: Expecting value: line 1 column 1 (char 0)\n",
      "\n",
      "1 Failed download:\n",
      "['NWF.AX']: YFTzMissingError('$%ticker%: possibly delisted; no timezone found')\n",
      "Failed to get ticker 'BCA.AX' reason: Expecting value: line 1 column 1 (char 0)\n",
      "\n",
      "1 Failed download:\n",
      "['BCA.AX']: YFTzMissingError('$%ticker%: possibly delisted; no timezone found')\n",
      "Failed to get ticker 'EUR.AX' reason: Expecting value: line 1 column 1 (char 0)\n",
      "\n",
      "1 Failed download:\n",
      "['EUR.AX']: YFTzMissingError('$%ticker%: possibly delisted; no timezone found')\n",
      "Failed to get ticker 'JNO.AX' reason: Expecting value: line 1 column 1 (char 0)\n",
      "\n",
      "1 Failed download:\n",
      "['JNO.AX']: YFTzMissingError('$%ticker%: possibly delisted; no timezone found')\n",
      "Failed to get ticker 'ION.AX' reason: Expecting value: line 1 column 1 (char 0)\n",
      "\n",
      "1 Failed download:\n",
      "['ION.AX']: YFTzMissingError('$%ticker%: possibly delisted; no timezone found')\n",
      "Failed to get ticker 'IGO.AX' reason: Expecting value: line 1 column 1 (char 0)\n",
      "\n",
      "1 Failed download:\n",
      "['IGO.AX']: YFTzMissingError('$%ticker%: possibly delisted; no timezone found')\n",
      "Failed to get ticker 'A1G.AX' reason: Expecting value: line 1 column 1 (char 0)\n",
      "\n",
      "1 Failed download:\n",
      "['A1G.AX']: YFTzMissingError('$%ticker%: possibly delisted; no timezone found')\n",
      "Failed to get ticker 'NWM.AX' reason: Expecting value: line 1 column 1 (char 0)\n",
      "\n",
      "1 Failed download:\n",
      "['NWM.AX']: YFTzMissingError('$%ticker%: possibly delisted; no timezone found')\n",
      "Failed to get ticker 'EM2.AX' reason: Expecting value: line 1 column 1 (char 0)\n",
      "\n",
      "1 Failed download:\n",
      "['EM2.AX']: YFTzMissingError('$%ticker%: possibly delisted; no timezone found')\n",
      "Failed to get ticker 'LDR.AX' reason: Expecting value: line 1 column 1 (char 0)\n",
      "\n",
      "1 Failed download:\n",
      "['LDR.AX']: YFTzMissingError('$%ticker%: possibly delisted; no timezone found')\n",
      "Failed to get ticker 'AKG.AX' reason: Expecting value: line 1 column 1 (char 0)\n",
      "\n",
      "1 Failed download:\n",
      "['AKG.AX']: YFTzMissingError('$%ticker%: possibly delisted; no timezone found')\n",
      "Failed to get ticker 'ASR.AX' reason: Expecting value: line 1 column 1 (char 0)\n",
      "\n",
      "1 Failed download:\n",
      "['ASR.AX']: YFTzMissingError('$%ticker%: possibly delisted; no timezone found')\n",
      "Failed to get ticker 'IEC.AX' reason: Expecting value: line 1 column 1 (char 0)\n",
      "\n",
      "1 Failed download:\n",
      "['IEC.AX']: YFTzMissingError('$%ticker%: possibly delisted; no timezone found')\n",
      "Failed to get ticker 'MRQ.AX' reason: Expecting value: line 1 column 1 (char 0)\n",
      "\n",
      "1 Failed download:\n",
      "['MRQ.AX']: YFTzMissingError('$%ticker%: possibly delisted; no timezone found')\n",
      "Failed to get ticker 'TTI.AX' reason: Expecting value: line 1 column 1 (char 0)\n",
      "\n",
      "1 Failed download:\n",
      "['TTI.AX']: YFTzMissingError('$%ticker%: possibly delisted; no timezone found')\n",
      "Failed to get ticker 'PEK.AX' reason: Expecting value: line 1 column 1 (char 0)\n",
      "\n",
      "1 Failed download:\n",
      "['PEK.AX']: YFTzMissingError('$%ticker%: possibly delisted; no timezone found')\n",
      "Failed to get ticker 'OLL.AX' reason: Expecting value: line 1 column 1 (char 0)\n",
      "\n",
      "1 Failed download:\n",
      "['OLL.AX']: YFTzMissingError('$%ticker%: possibly delisted; no timezone found')\n",
      "Failed to get ticker 'MRI.AX' reason: Expecting value: line 1 column 1 (char 0)\n",
      "\n",
      "1 Failed download:\n",
      "['MRI.AX']: YFTzMissingError('$%ticker%: possibly delisted; no timezone found')\n",
      "Failed to get ticker 'AKP.AX' reason: Expecting value: line 1 column 1 (char 0)\n",
      "\n",
      "1 Failed download:\n",
      "['AKP.AX']: YFTzMissingError('$%ticker%: possibly delisted; no timezone found')\n",
      "Failed to get ticker 'KMD.AX' reason: Expecting value: line 1 column 1 (char 0)\n",
      "\n",
      "1 Failed download:\n",
      "['KMD.AX']: YFTzMissingError('$%ticker%: possibly delisted; no timezone found')\n",
      "Failed to get ticker 'NXS.AX' reason: Expecting value: line 1 column 1 (char 0)\n",
      "\n",
      "1 Failed download:\n",
      "['NXS.AX']: YFTzMissingError('$%ticker%: possibly delisted; no timezone found')\n",
      "Failed to get ticker 'AEE.AX' reason: Expecting value: line 1 column 1 (char 0)\n",
      "\n",
      "1 Failed download:\n",
      "['AEE.AX']: YFTzMissingError('$%ticker%: possibly delisted; no timezone found')\n",
      "Failed to get ticker 'CYM.AX' reason: Expecting value: line 1 column 1 (char 0)\n",
      "\n",
      "1 Failed download:\n",
      "['CYM.AX']: YFTzMissingError('$%ticker%: possibly delisted; no timezone found')\n",
      "Failed to get ticker 'WC8.AX' reason: Expecting value: line 1 column 1 (char 0)\n",
      "\n",
      "1 Failed download:\n",
      "['WC8.AX']: YFTzMissingError('$%ticker%: possibly delisted; no timezone found')\n",
      "Failed to get ticker 'AZL.AX' reason: Expecting value: line 1 column 1 (char 0)\n",
      "\n",
      "1 Failed download:\n",
      "['AZL.AX']: YFTzMissingError('$%ticker%: possibly delisted; no timezone found')\n",
      "Failed to get ticker 'AFA.AX' reason: Expecting value: line 1 column 1 (char 0)\n",
      "\n",
      "1 Failed download:\n",
      "['AFA.AX']: YFTzMissingError('$%ticker%: possibly delisted; no timezone found')\n",
      "Failed to get ticker 'PPY.AX' reason: Expecting value: line 1 column 1 (char 0)\n",
      "\n",
      "1 Failed download:\n",
      "['PPY.AX']: YFTzMissingError('$%ticker%: possibly delisted; no timezone found')\n",
      "Failed to get ticker 'CEL.AX' reason: Expecting value: line 1 column 1 (char 0)\n",
      "\n",
      "1 Failed download:\n",
      "['CEL.AX']: YFTzMissingError('$%ticker%: possibly delisted; no timezone found')\n",
      "Failed to get ticker 'WC1.AX' reason: Expecting value: line 1 column 1 (char 0)\n",
      "\n",
      "1 Failed download:\n",
      "['WC1.AX']: YFTzMissingError('$%ticker%: possibly delisted; no timezone found')\n",
      "Failed to get ticker 'LEL.AX' reason: Expecting value: line 1 column 1 (char 0)\n",
      "\n",
      "1 Failed download:\n",
      "['LEL.AX']: YFTzMissingError('$%ticker%: possibly delisted; no timezone found')\n",
      "Failed to get ticker 'MKR.AX' reason: Expecting value: line 1 column 1 (char 0)\n",
      "\n",
      "1 Failed download:\n",
      "['MKR.AX']: YFTzMissingError('$%ticker%: possibly delisted; no timezone found')\n",
      "Failed to get ticker 'HXL.AX' reason: Expecting value: line 1 column 1 (char 0)\n",
      "\n",
      "1 Failed download:\n",
      "['HXL.AX']: YFTzMissingError('$%ticker%: possibly delisted; no timezone found')\n",
      "Failed to get ticker 'APL.AX' reason: Expecting value: line 1 column 1 (char 0)\n",
      "\n",
      "1 Failed download:\n",
      "['APL.AX']: YFTzMissingError('$%ticker%: possibly delisted; no timezone found')\n",
      "Failed to get ticker 'GTG.AX' reason: Expecting value: line 1 column 1 (char 0)\n",
      "\n",
      "1 Failed download:\n",
      "['GTG.AX']: YFTzMissingError('$%ticker%: possibly delisted; no timezone found')\n",
      "Failed to get ticker 'REZ.AX' reason: Expecting value: line 1 column 1 (char 0)\n",
      "\n",
      "1 Failed download:\n",
      "['REZ.AX']: YFTzMissingError('$%ticker%: possibly delisted; no timezone found')\n",
      "Failed to get ticker 'OPL.AX' reason: Expecting value: line 1 column 1 (char 0)\n",
      "\n",
      "1 Failed download:\n",
      "['OPL.AX']: YFTzMissingError('$%ticker%: possibly delisted; no timezone found')\n",
      "Failed to get ticker 'E25.AX' reason: Expecting value: line 1 column 1 (char 0)\n",
      "\n",
      "1 Failed download:\n",
      "['E25.AX']: YFTzMissingError('$%ticker%: possibly delisted; no timezone found')\n",
      "Failed to get ticker 'EVR.AX' reason: Expecting value: line 1 column 1 (char 0)\n",
      "\n",
      "1 Failed download:\n",
      "['EVR.AX']: YFTzMissingError('$%ticker%: possibly delisted; no timezone found')\n",
      "Failed to get ticker 'RGL.AX' reason: Expecting value: line 1 column 1 (char 0)\n",
      "\n",
      "1 Failed download:\n",
      "['RGL.AX']: YFTzMissingError('$%ticker%: possibly delisted; no timezone found')\n",
      "Failed to get ticker 'VAR.AX' reason: Expecting value: line 1 column 1 (char 0)\n",
      "\n",
      "1 Failed download:\n",
      "['VAR.AX']: YFTzMissingError('$%ticker%: possibly delisted; no timezone found')\n",
      "Failed to get ticker 'UNT.AX' reason: Expecting value: line 1 column 1 (char 0)\n",
      "\n",
      "1 Failed download:\n",
      "['UNT.AX']: YFTzMissingError('$%ticker%: possibly delisted; no timezone found')\n",
      "Failed to get ticker 'CCE.AX' reason: Expecting value: line 1 column 1 (char 0)\n",
      "\n",
      "1 Failed download:\n",
      "['CCE.AX']: YFTzMissingError('$%ticker%: possibly delisted; no timezone found')\n",
      "Failed to get ticker 'MRC.AX' reason: Expecting value: line 1 column 1 (char 0)\n",
      "\n",
      "1 Failed download:\n",
      "['MRC.AX']: YFTzMissingError('$%ticker%: possibly delisted; no timezone found')\n",
      "Failed to get ticker 'CCX.AX' reason: Expecting value: line 1 column 1 (char 0)\n",
      "\n",
      "1 Failed download:\n",
      "['CCX.AX']: YFTzMissingError('$%ticker%: possibly delisted; no timezone found')\n",
      "Failed to get ticker 'NUH.AX' reason: Expecting value: line 1 column 1 (char 0)\n",
      "\n",
      "1 Failed download:\n",
      "['NUH.AX']: YFTzMissingError('$%ticker%: possibly delisted; no timezone found')\n",
      "Failed to get ticker 'PIL.AX' reason: Expecting value: line 1 column 1 (char 0)\n",
      "\n",
      "1 Failed download:\n",
      "['PIL.AX']: YFTzMissingError('$%ticker%: possibly delisted; no timezone found')\n",
      "Failed to get ticker 'AQX.AX' reason: Expecting value: line 1 column 1 (char 0)\n",
      "\n",
      "1 Failed download:\n",
      "['AQX.AX']: YFTzMissingError('$%ticker%: possibly delisted; no timezone found')\n",
      "Failed to get ticker 'ZMM.AX' reason: Expecting value: line 1 column 1 (char 0)\n",
      "\n",
      "1 Failed download:\n",
      "['ZMM.AX']: YFTzMissingError('$%ticker%: possibly delisted; no timezone found')\n",
      "Failed to get ticker 'ALC.AX' reason: Expecting value: line 1 column 1 (char 0)\n",
      "\n",
      "1 Failed download:\n",
      "['ALC.AX']: YFTzMissingError('$%ticker%: possibly delisted; no timezone found')\n",
      "Failed to get ticker 'RXL.AX' reason: Expecting value: line 1 column 1 (char 0)\n",
      "\n",
      "1 Failed download:\n",
      "['RXL.AX']: YFTzMissingError('$%ticker%: possibly delisted; no timezone found')\n",
      "Failed to get ticker 'CLV.AX' reason: Expecting value: line 1 column 1 (char 0)\n",
      "\n",
      "1 Failed download:\n",
      "['CLV.AX']: YFTzMissingError('$%ticker%: possibly delisted; no timezone found')\n",
      "Failed to get ticker 'SSH.AX' reason: Expecting value: line 1 column 1 (char 0)\n",
      "\n",
      "1 Failed download:\n",
      "['SSH.AX']: YFTzMissingError('$%ticker%: possibly delisted; no timezone found')\n",
      "Failed to get ticker 'LLL.AX' reason: Expecting value: line 1 column 1 (char 0)\n",
      "\n",
      "1 Failed download:\n",
      "['LLL.AX']: YFTzMissingError('$%ticker%: possibly delisted; no timezone found')\n",
      "Failed to get ticker 'BCK.AX' reason: Expecting value: line 1 column 1 (char 0)\n",
      "\n",
      "1 Failed download:\n",
      "['BCK.AX']: YFTzMissingError('$%ticker%: possibly delisted; no timezone found')\n",
      "Failed to get ticker 'SHN.AX' reason: Expecting value: line 1 column 1 (char 0)\n",
      "\n",
      "1 Failed download:\n",
      "['SHN.AX']: YFTzMissingError('$%ticker%: possibly delisted; no timezone found')\n",
      "Failed to get ticker 'CHM.AX' reason: Expecting value: line 1 column 1 (char 0)\n",
      "\n",
      "1 Failed download:\n",
      "['CHM.AX']: YFTzMissingError('$%ticker%: possibly delisted; no timezone found')\n",
      "Failed to get ticker 'LIS.AX' reason: Expecting value: line 1 column 1 (char 0)\n",
      "\n",
      "1 Failed download:\n",
      "['LIS.AX']: YFTzMissingError('$%ticker%: possibly delisted; no timezone found')\n",
      "Failed to get ticker 'EMD.AX' reason: Expecting value: line 1 column 1 (char 0)\n",
      "\n",
      "1 Failed download:\n",
      "['EMD.AX']: YFTzMissingError('$%ticker%: possibly delisted; no timezone found')\n",
      "Failed to get ticker 'SMN.AX' reason: Expecting value: line 1 column 1 (char 0)\n",
      "\n",
      "1 Failed download:\n",
      "['SMN.AX']: YFTzMissingError('$%ticker%: possibly delisted; no timezone found')\n",
      "Failed to get ticker 'MOV.AX' reason: Expecting value: line 1 column 1 (char 0)\n",
      "\n",
      "1 Failed download:\n",
      "['MOV.AX']: YFTzMissingError('$%ticker%: possibly delisted; no timezone found')\n",
      "Failed to get ticker 'PMT.AX' reason: Expecting value: line 1 column 1 (char 0)\n",
      "\n",
      "1 Failed download:\n",
      "['PMT.AX']: YFTzMissingError('$%ticker%: possibly delisted; no timezone found')\n",
      "Failed to get ticker 'ADS.AX' reason: Expecting value: line 1 column 1 (char 0)\n",
      "\n",
      "1 Failed download:\n",
      "['ADS.AX']: YFTzMissingError('$%ticker%: possibly delisted; no timezone found')\n",
      "Failed to get ticker 'EDE.AX' reason: Expecting value: line 1 column 1 (char 0)\n",
      "\n",
      "1 Failed download:\n",
      "['EDE.AX']: YFTzMissingError('$%ticker%: possibly delisted; no timezone found')\n",
      "Failed to get ticker 'KNM.AX' reason: Expecting value: line 1 column 1 (char 0)\n",
      "\n",
      "1 Failed download:\n",
      "['KNM.AX']: YFTzMissingError('$%ticker%: possibly delisted; no timezone found')\n",
      "Failed to get ticker 'ESR.AX' reason: Expecting value: line 1 column 1 (char 0)\n",
      "\n",
      "1 Failed download:\n",
      "['ESR.AX']: YFTzMissingError('$%ticker%: possibly delisted; no timezone found')\n",
      "Failed to get ticker 'HCD.AX' reason: Expecting value: line 1 column 1 (char 0)\n",
      "\n",
      "1 Failed download:\n",
      "['HCD.AX']: YFTzMissingError('$%ticker%: possibly delisted; no timezone found')\n",
      "Failed to get ticker 'IBG.AX' reason: Expecting value: line 1 column 1 (char 0)\n",
      "\n",
      "1 Failed download:\n",
      "['IBG.AX']: YFTzMissingError('$%ticker%: possibly delisted; no timezone found')\n",
      "Failed to get ticker 'SHE.AX' reason: Expecting value: line 1 column 1 (char 0)\n",
      "\n",
      "1 Failed download:\n",
      "['SHE.AX']: YFTzMissingError('$%ticker%: possibly delisted; no timezone found')\n",
      "Failed to get ticker 'GGX.AX' reason: Expecting value: line 1 column 1 (char 0)\n",
      "\n",
      "1 Failed download:\n",
      "['GGX.AX']: YFTzMissingError('$%ticker%: possibly delisted; no timezone found')\n",
      "Failed to get ticker 'CDT.AX' reason: Expecting value: line 1 column 1 (char 0)\n",
      "\n",
      "1 Failed download:\n",
      "['CDT.AX']: YFTzMissingError('$%ticker%: possibly delisted; no timezone found')\n",
      "Failed to get ticker 'BDT.AX' reason: Expecting value: line 1 column 1 (char 0)\n",
      "\n",
      "1 Failed download:\n",
      "['BDT.AX']: YFTzMissingError('$%ticker%: possibly delisted; no timezone found')\n",
      "Failed to get ticker 'OAK.AX' reason: Expecting value: line 1 column 1 (char 0)\n",
      "\n",
      "1 Failed download:\n",
      "['OAK.AX']: YFTzMissingError('$%ticker%: possibly delisted; no timezone found')\n",
      "Failed to get ticker 'CVB.AX' reason: Expecting value: line 1 column 1 (char 0)\n",
      "\n",
      "1 Failed download:\n",
      "['CVB.AX']: YFTzMissingError('$%ticker%: possibly delisted; no timezone found')\n",
      "Failed to get ticker 'ERW.AX' reason: Expecting value: line 1 column 1 (char 0)\n",
      "\n",
      "1 Failed download:\n",
      "['ERW.AX']: YFTzMissingError('$%ticker%: possibly delisted; no timezone found')\n",
      "Failed to get ticker 'BKT.AX' reason: Expecting value: line 1 column 1 (char 0)\n",
      "\n",
      "1 Failed download:\n",
      "['BKT.AX']: YFTzMissingError('$%ticker%: possibly delisted; no timezone found')\n",
      "Failed to get ticker 'CF1.AX' reason: Expecting value: line 1 column 1 (char 0)\n",
      "\n",
      "1 Failed download:\n",
      "['CF1.AX']: YFTzMissingError('$%ticker%: possibly delisted; no timezone found')\n",
      "Failed to get ticker 'PLN.AX' reason: Expecting value: line 1 column 1 (char 0)\n",
      "\n",
      "1 Failed download:\n",
      "['PLN.AX']: YFTzMissingError('$%ticker%: possibly delisted; no timezone found')\n",
      "Failed to get ticker 'TOE.AX' reason: Expecting value: line 1 column 1 (char 0)\n",
      "\n",
      "1 Failed download:\n",
      "['TOE.AX']: YFTzMissingError('$%ticker%: possibly delisted; no timezone found')\n",
      "Failed to get ticker 'BDG.AX' reason: Expecting value: line 1 column 1 (char 0)\n",
      "\n",
      "1 Failed download:\n",
      "['BDG.AX']: YFTzMissingError('$%ticker%: possibly delisted; no timezone found')\n",
      "Failed to get ticker 'MRR.AX' reason: Expecting value: line 1 column 1 (char 0)\n",
      "\n",
      "1 Failed download:\n",
      "['MRR.AX']: YFTzMissingError('$%ticker%: possibly delisted; no timezone found')\n",
      "Failed to get ticker 'MPP.AX' reason: Expecting value: line 1 column 1 (char 0)\n",
      "\n",
      "1 Failed download:\n",
      "['MPP.AX']: YFTzMissingError('$%ticker%: possibly delisted; no timezone found')\n",
      "Failed to get ticker 'XGL.AX' reason: Expecting value: line 1 column 1 (char 0)\n",
      "\n",
      "1 Failed download:\n",
      "['XGL.AX']: YFTzMissingError('$%ticker%: possibly delisted; no timezone found')\n",
      "Failed to get ticker 'GAL.AX' reason: Expecting value: line 1 column 1 (char 0)\n",
      "\n",
      "1 Failed download:\n",
      "['GAL.AX']: YFTzMissingError('$%ticker%: possibly delisted; no timezone found')\n",
      "Failed to get ticker 'BSX.AX' reason: Expecting value: line 1 column 1 (char 0)\n",
      "\n",
      "1 Failed download:\n",
      "['BSX.AX']: YFTzMissingError('$%ticker%: possibly delisted; no timezone found')\n",
      "Failed to get ticker 'TLG.AX' reason: Expecting value: line 1 column 1 (char 0)\n",
      "\n",
      "1 Failed download:\n",
      "['TLG.AX']: YFTzMissingError('$%ticker%: possibly delisted; no timezone found')\n",
      "Failed to get ticker 'CSS.AX' reason: Expecting value: line 1 column 1 (char 0)\n",
      "\n",
      "1 Failed download:\n",
      "['CSS.AX']: YFTzMissingError('$%ticker%: possibly delisted; no timezone found')\n",
      "Failed to get ticker 'CL8.AX' reason: Expecting value: line 1 column 1 (char 0)\n",
      "\n",
      "1 Failed download:\n",
      "['CL8.AX']: YFTzMissingError('$%ticker%: possibly delisted; no timezone found')\n",
      "Failed to get ticker 'BPM.AX' reason: Expecting value: line 1 column 1 (char 0)\n",
      "\n",
      "1 Failed download:\n",
      "['BPM.AX']: YFTzMissingError('$%ticker%: possibly delisted; no timezone found')\n",
      "Failed to get ticker 'STX.AX' reason: Expecting value: line 1 column 1 (char 0)\n",
      "\n",
      "1 Failed download:\n",
      "['STX.AX']: YFTzMissingError('$%ticker%: possibly delisted; no timezone found')\n",
      "Failed to get ticker 'ETR.AX' reason: Expecting value: line 1 column 1 (char 0)\n",
      "\n",
      "1 Failed download:\n",
      "['ETR.AX']: YFTzMissingError('$%ticker%: possibly delisted; no timezone found')\n",
      "Failed to get ticker 'RDS.AX' reason: Expecting value: line 1 column 1 (char 0)\n",
      "\n",
      "1 Failed download:\n",
      "['RDS.AX']: YFTzMissingError('$%ticker%: possibly delisted; no timezone found')\n",
      "Failed to get ticker 'SPX.AX' reason: Expecting value: line 1 column 1 (char 0)\n",
      "\n",
      "1 Failed download:\n",
      "['SPX.AX']: YFTzMissingError('$%ticker%: possibly delisted; no timezone found')\n",
      "Failed to get ticker 'REY.AX' reason: Expecting value: line 1 column 1 (char 0)\n",
      "\n",
      "1 Failed download:\n",
      "['REY.AX']: YFTzMissingError('$%ticker%: possibly delisted; no timezone found')\n",
      "Failed to get ticker 'UCM.AX' reason: Expecting value: line 1 column 1 (char 0)\n",
      "\n",
      "1 Failed download:\n",
      "['UCM.AX']: YFTzMissingError('$%ticker%: possibly delisted; no timezone found')\n",
      "Failed to get ticker 'QML.AX' reason: Expecting value: line 1 column 1 (char 0)\n",
      "\n",
      "1 Failed download:\n",
      "['QML.AX']: YFTzMissingError('$%ticker%: possibly delisted; no timezone found')\n",
      "Failed to get ticker 'DY6.AX' reason: Expecting value: line 1 column 1 (char 0)\n",
      "\n",
      "1 Failed download:\n",
      "['DY6.AX']: YFTzMissingError('$%ticker%: possibly delisted; no timezone found')\n",
      "Failed to get ticker 'IXR.AX' reason: Expecting value: line 1 column 1 (char 0)\n",
      "\n",
      "1 Failed download:\n",
      "['IXR.AX']: YFTzMissingError('$%ticker%: possibly delisted; no timezone found')\n",
      "Failed to get ticker 'NSB.AX' reason: Expecting value: line 1 column 1 (char 0)\n",
      "\n",
      "1 Failed download:\n",
      "['NSB.AX']: YFTzMissingError('$%ticker%: possibly delisted; no timezone found')\n",
      "Failed to get ticker 'FSG.AX' reason: Expecting value: line 1 column 1 (char 0)\n",
      "\n",
      "1 Failed download:\n",
      "['FSG.AX']: YFTzMissingError('$%ticker%: possibly delisted; no timezone found')\n",
      "Failed to get ticker 'CLA.AX' reason: Expecting value: line 1 column 1 (char 0)\n",
      "\n",
      "1 Failed download:\n",
      "['CLA.AX']: YFTzMissingError('$%ticker%: possibly delisted; no timezone found')\n",
      "Failed to get ticker 'GTR.AX' reason: Expecting value: line 1 column 1 (char 0)\n",
      "\n",
      "1 Failed download:\n",
      "['GTR.AX']: YFTzMissingError('$%ticker%: possibly delisted; no timezone found')\n",
      "Failed to get ticker 'OSL.AX' reason: Expecting value: line 1 column 1 (char 0)\n",
      "\n",
      "1 Failed download:\n",
      "['OSL.AX']: YFTzMissingError('$%ticker%: possibly delisted; no timezone found')\n",
      "Failed to get ticker 'DTM.AX' reason: Expecting value: line 1 column 1 (char 0)\n",
      "\n",
      "1 Failed download:\n",
      "['DTM.AX']: YFTzMissingError('$%ticker%: possibly delisted; no timezone found')\n",
      "Failed to get ticker 'LTR.AX' reason: Expecting value: line 1 column 1 (char 0)\n",
      "\n",
      "1 Failed download:\n",
      "['LTR.AX']: YFTzMissingError('$%ticker%: possibly delisted; no timezone found')\n",
      "Failed to get ticker 'CMX.AX' reason: Expecting value: line 1 column 1 (char 0)\n",
      "\n",
      "1 Failed download:\n",
      "['CMX.AX']: YFTzMissingError('$%ticker%: possibly delisted; no timezone found')\n",
      "Failed to get ticker 'DTR.AX' reason: Expecting value: line 1 column 1 (char 0)\n",
      "\n",
      "1 Failed download:\n",
      "['DTR.AX']: YFTzMissingError('$%ticker%: possibly delisted; no timezone found')\n",
      "Failed to get ticker 'ANO.AX' reason: Expecting value: line 1 column 1 (char 0)\n",
      "\n",
      "1 Failed download:\n",
      "['ANO.AX']: YFTzMissingError('$%ticker%: possibly delisted; no timezone found')\n",
      "Failed to get ticker 'RFA.AX' reason: Expecting value: line 1 column 1 (char 0)\n",
      "\n",
      "1 Failed download:\n",
      "['RFA.AX']: YFTzMissingError('$%ticker%: possibly delisted; no timezone found')\n",
      "Failed to get ticker 'BYH.AX' reason: Expecting value: line 1 column 1 (char 0)\n",
      "\n",
      "1 Failed download:\n",
      "['BYH.AX']: YFTzMissingError('$%ticker%: possibly delisted; no timezone found')\n",
      "Failed to get ticker 'VTI.AX' reason: Expecting value: line 1 column 1 (char 0)\n",
      "\n",
      "1 Failed download:\n",
      "['VTI.AX']: YFTzMissingError('$%ticker%: possibly delisted; no timezone found')\n",
      "Failed to get ticker 'AXN.AX' reason: Expecting value: line 1 column 1 (char 0)\n",
      "\n",
      "1 Failed download:\n",
      "['AXN.AX']: YFTzMissingError('$%ticker%: possibly delisted; no timezone found')\n",
      "Failed to get ticker 'FEG.AX' reason: Expecting value: line 1 column 1 (char 0)\n",
      "\n",
      "1 Failed download:\n",
      "['FEG.AX']: YFTzMissingError('$%ticker%: possibly delisted; no timezone found')\n",
      "Failed to get ticker 'NNL.AX' reason: Expecting value: line 1 column 1 (char 0)\n",
      "\n",
      "1 Failed download:\n",
      "['NNL.AX']: YFTzMissingError('$%ticker%: possibly delisted; no timezone found')\n",
      "Failed to get ticker 'BIM.AX' reason: Expecting value: line 1 column 1 (char 0)\n",
      "\n",
      "1 Failed download:\n",
      "['BIM.AX']: YFTzMissingError('$%ticker%: possibly delisted; no timezone found')\n",
      "Failed to get ticker 'PV1.AX' reason: Expecting value: line 1 column 1 (char 0)\n",
      "\n",
      "1 Failed download:\n",
      "['PV1.AX']: YFTzMissingError('$%ticker%: possibly delisted; no timezone found')\n",
      "Failed to get ticker '1CG.AX' reason: Expecting value: line 1 column 1 (char 0)\n",
      "\n",
      "1 Failed download:\n",
      "['1CG.AX']: YFTzMissingError('$%ticker%: possibly delisted; no timezone found')\n",
      "Failed to get ticker 'ADX.AX' reason: Expecting value: line 1 column 1 (char 0)\n",
      "\n",
      "1 Failed download:\n",
      "['ADX.AX']: YFTzMissingError('$%ticker%: possibly delisted; no timezone found')\n",
      "Failed to get ticker 'ICE.AX' reason: Expecting value: line 1 column 1 (char 0)\n",
      "\n",
      "1 Failed download:\n",
      "['ICE.AX']: YFTzMissingError('$%ticker%: possibly delisted; no timezone found')\n",
      "Failed to get ticker 'EOF.AX' reason: Expecting value: line 1 column 1 (char 0)\n",
      "\n",
      "1 Failed download:\n",
      "['EOF.AX']: YFTzMissingError('$%ticker%: possibly delisted; no timezone found')\n",
      "Failed to get ticker 'RRR.AX' reason: Expecting value: line 1 column 1 (char 0)\n",
      "\n",
      "1 Failed download:\n",
      "['RRR.AX']: YFTzMissingError('$%ticker%: possibly delisted; no timezone found')\n",
      "Failed to get ticker 'CYQ.AX' reason: Expecting value: line 1 column 1 (char 0)\n",
      "\n",
      "1 Failed download:\n",
      "['CYQ.AX']: YFTzMissingError('$%ticker%: possibly delisted; no timezone found')\n",
      "Failed to get ticker 'LNU.AX' reason: Expecting value: line 1 column 1 (char 0)\n",
      "\n",
      "1 Failed download:\n",
      "['LNU.AX']: YFTzMissingError('$%ticker%: possibly delisted; no timezone found')\n",
      "Failed to get ticker 'MEL.AX' reason: Expecting value: line 1 column 1 (char 0)\n",
      "\n",
      "1 Failed download:\n",
      "['MEL.AX']: YFTzMissingError('$%ticker%: possibly delisted; no timezone found')\n",
      "Failed to get ticker 'NES.AX' reason: Expecting value: line 1 column 1 (char 0)\n",
      "\n",
      "1 Failed download:\n",
      "['NES.AX']: YFTzMissingError('$%ticker%: possibly delisted; no timezone found')\n",
      "Failed to get ticker 'OPN.AX' reason: Expecting value: line 1 column 1 (char 0)\n",
      "\n",
      "1 Failed download:\n",
      "['OPN.AX']: YFTzMissingError('$%ticker%: possibly delisted; no timezone found')\n",
      "Failed to get ticker 'RIL.AX' reason: Expecting value: line 1 column 1 (char 0)\n",
      "\n",
      "1 Failed download:\n",
      "['RIL.AX']: YFTzMissingError('$%ticker%: possibly delisted; no timezone found')\n",
      "Failed to get ticker 'SIS.AX' reason: Expecting value: line 1 column 1 (char 0)\n",
      "\n",
      "1 Failed download:\n",
      "['SIS.AX']: YFTzMissingError('$%ticker%: possibly delisted; no timezone found')\n",
      "Failed to get ticker 'TSL.AX' reason: Expecting value: line 1 column 1 (char 0)\n",
      "\n",
      "1 Failed download:\n",
      "['TSL.AX']: YFTzMissingError('$%ticker%: possibly delisted; no timezone found')\n",
      "Failed to get ticker 'BUY.AX' reason: Expecting value: line 1 column 1 (char 0)\n",
      "\n",
      "1 Failed download:\n",
      "['BUY.AX']: YFTzMissingError('$%ticker%: possibly delisted; no timezone found')\n",
      "Failed to get ticker '5GG.AX' reason: Expecting value: line 1 column 1 (char 0)\n",
      "\n",
      "1 Failed download:\n",
      "['5GG.AX']: YFTzMissingError('$%ticker%: possibly delisted; no timezone found')\n",
      "Failed to get ticker 'FME.AX' reason: Expecting value: line 1 column 1 (char 0)\n",
      "\n",
      "1 Failed download:\n",
      "['FME.AX']: YFTzMissingError('$%ticker%: possibly delisted; no timezone found')\n",
      "Failed to get ticker 'REM.AX' reason: Expecting value: line 1 column 1 (char 0)\n",
      "\n",
      "1 Failed download:\n",
      "['REM.AX']: YFTzMissingError('$%ticker%: possibly delisted; no timezone found')\n",
      "Failed to get ticker 'ATV.AX' reason: Expecting value: line 1 column 1 (char 0)\n",
      "\n",
      "1 Failed download:\n",
      "['ATV.AX']: YFTzMissingError('$%ticker%: possibly delisted; no timezone found')\n",
      "Failed to get ticker 'CGO.AX' reason: Expecting value: line 1 column 1 (char 0)\n",
      "\n",
      "1 Failed download:\n",
      "['CGO.AX']: YFTzMissingError('$%ticker%: possibly delisted; no timezone found')\n",
      "Failed to get ticker 'LEX.AX' reason: Expecting value: line 1 column 1 (char 0)\n",
      "\n",
      "1 Failed download:\n",
      "['LEX.AX']: YFTzMissingError('$%ticker%: possibly delisted; no timezone found')\n",
      "Failed to get ticker 'BSN.AX' reason: Expecting value: line 1 column 1 (char 0)\n",
      "\n",
      "1 Failed download:\n",
      "['BSN.AX']: YFTzMissingError('$%ticker%: possibly delisted; no timezone found')\n",
      "Failed to get ticker 'KPO.AX' reason: Expecting value: line 1 column 1 (char 0)\n",
      "\n",
      "1 Failed download:\n",
      "['KPO.AX']: YFTzMissingError('$%ticker%: possibly delisted; no timezone found')\n",
      "Failed to get ticker 'ALY.AX' reason: Expecting value: line 1 column 1 (char 0)\n",
      "\n",
      "1 Failed download:\n",
      "['ALY.AX']: YFTzMissingError('$%ticker%: possibly delisted; no timezone found')\n",
      "Failed to get ticker 'AML.AX' reason: Expecting value: line 1 column 1 (char 0)\n",
      "\n",
      "1 Failed download:\n",
      "['AML.AX']: YFTzMissingError('$%ticker%: possibly delisted; no timezone found')\n",
      "Failed to get ticker 'OSM.AX' reason: Expecting value: line 1 column 1 (char 0)\n",
      "\n",
      "1 Failed download:\n",
      "['OSM.AX']: YFTzMissingError('$%ticker%: possibly delisted; no timezone found')\n",
      "Failed to get ticker 'ASH.AX' reason: Expecting value: line 1 column 1 (char 0)\n",
      "\n",
      "1 Failed download:\n",
      "['ASH.AX']: YFTzMissingError('$%ticker%: possibly delisted; no timezone found')\n",
      "Failed to get ticker 'CGR.AX' reason: Expecting value: line 1 column 1 (char 0)\n",
      "\n",
      "1 Failed download:\n",
      "['CGR.AX']: YFTzMissingError('$%ticker%: possibly delisted; no timezone found')\n",
      "Failed to get ticker 'KNI.AX' reason: Expecting value: line 1 column 1 (char 0)\n",
      "\n",
      "1 Failed download:\n",
      "['KNI.AX']: YFTzMissingError('$%ticker%: possibly delisted; no timezone found')\n",
      "Failed to get ticker 'GED.AX' reason: Expecting value: line 1 column 1 (char 0)\n",
      "\n",
      "1 Failed download:\n",
      "['GED.AX']: YFTzMissingError('$%ticker%: possibly delisted; no timezone found')\n",
      "Failed to get ticker 'BCB.AX' reason: Expecting value: line 1 column 1 (char 0)\n",
      "\n",
      "1 Failed download:\n",
      "['BCB.AX']: YFTzMissingError('$%ticker%: possibly delisted; no timezone found')\n",
      "Failed to get ticker 'MXO.AX' reason: Expecting value: line 1 column 1 (char 0)\n",
      "\n",
      "1 Failed download:\n",
      "['MXO.AX']: YFTzMissingError('$%ticker%: possibly delisted; no timezone found')\n",
      "Failed to get ticker 'CXM.AX' reason: Expecting value: line 1 column 1 (char 0)\n",
      "\n",
      "1 Failed download:\n",
      "['CXM.AX']: YFTzMissingError('$%ticker%: possibly delisted; no timezone found')\n",
      "Failed to get ticker 'ERG.AX' reason: Expecting value: line 1 column 1 (char 0)\n",
      "\n",
      "1 Failed download:\n",
      "['ERG.AX']: YFTzMissingError('$%ticker%: possibly delisted; no timezone found')\n",
      "Failed to get ticker 'HYD.AX' reason: Expecting value: line 1 column 1 (char 0)\n",
      "\n",
      "1 Failed download:\n",
      "['HYD.AX']: YFTzMissingError('$%ticker%: possibly delisted; no timezone found')\n",
      "Failed to get ticker 'SNX.AX' reason: Expecting value: line 1 column 1 (char 0)\n",
      "\n",
      "1 Failed download:\n",
      "['SNX.AX']: YFTzMissingError('$%ticker%: possibly delisted; no timezone found')\n",
      "Failed to get ticker 'CAE.AX' reason: Expecting value: line 1 column 1 (char 0)\n",
      "\n",
      "1 Failed download:\n",
      "['CAE.AX']: YFTzMissingError('$%ticker%: possibly delisted; no timezone found')\n",
      "Failed to get ticker 'ID8.AX' reason: Expecting value: line 1 column 1 (char 0)\n",
      "\n",
      "1 Failed download:\n",
      "['ID8.AX']: YFTzMissingError('$%ticker%: possibly delisted; no timezone found')\n",
      "Failed to get ticker 'SAN.AX' reason: Expecting value: line 1 column 1 (char 0)\n",
      "\n",
      "1 Failed download:\n",
      "['SAN.AX']: YFTzMissingError('$%ticker%: possibly delisted; no timezone found')\n",
      "Failed to get ticker 'OZZ.AX' reason: Expecting value: line 1 column 1 (char 0)\n",
      "\n",
      "1 Failed download:\n",
      "['OZZ.AX']: YFTzMissingError('$%ticker%: possibly delisted; no timezone found')\n",
      "Failed to get ticker 'EME.AX' reason: Expecting value: line 1 column 1 (char 0)\n",
      "\n",
      "1 Failed download:\n",
      "['EME.AX']: YFTzMissingError('$%ticker%: possibly delisted; no timezone found')\n",
      "Failed to get ticker 'HAR.AX' reason: Expecting value: line 1 column 1 (char 0)\n",
      "\n",
      "1 Failed download:\n",
      "['HAR.AX']: YFTzMissingError('$%ticker%: possibly delisted; no timezone found')\n",
      "Failed to get ticker 'HTG.AX' reason: Expecting value: line 1 column 1 (char 0)\n",
      "\n",
      "1 Failed download:\n",
      "['HTG.AX']: YFTzMissingError('$%ticker%: possibly delisted; no timezone found')\n",
      "Failed to get ticker 'EMC.AX' reason: Expecting value: line 1 column 1 (char 0)\n",
      "\n",
      "1 Failed download:\n",
      "['EMC.AX']: YFTzMissingError('$%ticker%: possibly delisted; no timezone found')\n",
      "Failed to get ticker 'AW1.AX' reason: Expecting value: line 1 column 1 (char 0)\n",
      "\n",
      "1 Failed download:\n",
      "['AW1.AX']: YFTzMissingError('$%ticker%: possibly delisted; no timezone found')\n",
      "Failed to get ticker 'E79.AX' reason: Expecting value: line 1 column 1 (char 0)\n",
      "\n",
      "1 Failed download:\n",
      "['E79.AX']: YFTzMissingError('$%ticker%: possibly delisted; no timezone found')\n",
      "Failed to get ticker 'CDX.AX' reason: Expecting value: line 1 column 1 (char 0)\n",
      "\n",
      "1 Failed download:\n",
      "['CDX.AX']: YFTzMissingError('$%ticker%: possibly delisted; no timezone found')\n",
      "Failed to get ticker 'EPM.AX' reason: Expecting value: line 1 column 1 (char 0)\n",
      "\n",
      "1 Failed download:\n",
      "['EPM.AX']: YFTzMissingError('$%ticker%: possibly delisted; no timezone found')\n",
      "Failed to get ticker 'A8G.AX' reason: Expecting value: line 1 column 1 (char 0)\n",
      "\n",
      "1 Failed download:\n",
      "['A8G.AX']: YFTzMissingError('$%ticker%: possibly delisted; no timezone found')\n",
      "Failed to get ticker '8CO.AX' reason: Expecting value: line 1 column 1 (char 0)\n",
      "\n",
      "1 Failed download:\n",
      "['8CO.AX']: YFTzMissingError('$%ticker%: possibly delisted; no timezone found')\n",
      "Failed to get ticker 'FTC.AX' reason: Expecting value: line 1 column 1 (char 0)\n",
      "\n",
      "1 Failed download:\n",
      "['FTC.AX']: YFTzMissingError('$%ticker%: possibly delisted; no timezone found')\n",
      "Failed to get ticker 'VRC.AX' reason: Expecting value: line 1 column 1 (char 0)\n",
      "\n",
      "1 Failed download:\n",
      "['VRC.AX']: YFTzMissingError('$%ticker%: possibly delisted; no timezone found')\n",
      "Failed to get ticker 'BUX.AX' reason: Expecting value: line 1 column 1 (char 0)\n",
      "\n",
      "1 Failed download:\n",
      "['BUX.AX']: YFTzMissingError('$%ticker%: possibly delisted; no timezone found')\n",
      "Failed to get ticker 'PGO.AX' reason: Expecting value: line 1 column 1 (char 0)\n",
      "\n",
      "1 Failed download:\n",
      "['PGO.AX']: YFTzMissingError('$%ticker%: possibly delisted; no timezone found')\n",
      "Failed to get ticker 'STM.AX' reason: Expecting value: line 1 column 1 (char 0)\n",
      "\n",
      "1 Failed download:\n",
      "['STM.AX']: YFTzMissingError('$%ticker%: possibly delisted; no timezone found')\n",
      "Failed to get ticker 'SRH.AX' reason: Expecting value: line 1 column 1 (char 0)\n",
      "\n",
      "1 Failed download:\n",
      "['SRH.AX']: YFTzMissingError('$%ticker%: possibly delisted; no timezone found')\n",
      "Failed to get ticker 'BLU.AX' reason: Expecting value: line 1 column 1 (char 0)\n",
      "\n",
      "1 Failed download:\n",
      "['BLU.AX']: YFTzMissingError('$%ticker%: possibly delisted; no timezone found')\n",
      "Failed to get ticker 'GNM.AX' reason: Expecting value: line 1 column 1 (char 0)\n",
      "\n",
      "1 Failed download:\n",
      "['GNM.AX']: YFTzMissingError('$%ticker%: possibly delisted; no timezone found')\n",
      "Failed to get ticker 'TSI.AX' reason: Expecting value: line 1 column 1 (char 0)\n",
      "\n",
      "1 Failed download:\n",
      "['TSI.AX']: YFTzMissingError('$%ticker%: possibly delisted; no timezone found')\n",
      "Failed to get ticker 'MTM.AX' reason: Expecting value: line 1 column 1 (char 0)\n",
      "\n",
      "1 Failed download:\n",
      "['MTM.AX']: YFTzMissingError('$%ticker%: possibly delisted; no timezone found')\n",
      "Failed to get ticker 'RFX.AX' reason: Expecting value: line 1 column 1 (char 0)\n",
      "\n",
      "1 Failed download:\n",
      "['RFX.AX']: YFTzMissingError('$%ticker%: possibly delisted; no timezone found')\n",
      "Failed to get ticker 'RLF.AX' reason: Expecting value: line 1 column 1 (char 0)\n",
      "\n",
      "1 Failed download:\n",
      "['RLF.AX']: YFTzMissingError('$%ticker%: possibly delisted; no timezone found')\n",
      "Failed to get ticker 'AMA.AX' reason: Expecting value: line 1 column 1 (char 0)\n",
      "\n",
      "1 Failed download:\n",
      "['AMA.AX']: YFTzMissingError('$%ticker%: possibly delisted; no timezone found')\n",
      "Failed to get ticker 'SOP.AX' reason: Expecting value: line 1 column 1 (char 0)\n",
      "\n",
      "1 Failed download:\n",
      "['SOP.AX']: YFTzMissingError('$%ticker%: possibly delisted; no timezone found')\n",
      "Failed to get ticker 'THR.AX' reason: Expecting value: line 1 column 1 (char 0)\n",
      "\n",
      "1 Failed download:\n",
      "['THR.AX']: YFTzMissingError('$%ticker%: possibly delisted; no timezone found')\n",
      "Failed to get ticker 'AMS.AX' reason: Expecting value: line 1 column 1 (char 0)\n",
      "\n",
      "1 Failed download:\n",
      "['AMS.AX']: YFTzMissingError('$%ticker%: possibly delisted; no timezone found')\n",
      "Failed to get ticker 'DKM.AX' reason: Expecting value: line 1 column 1 (char 0)\n",
      "\n",
      "1 Failed download:\n",
      "['DKM.AX']: YFTzMissingError('$%ticker%: possibly delisted; no timezone found')\n",
      "Failed to get ticker 'ENV.AX' reason: Expecting value: line 1 column 1 (char 0)\n",
      "\n",
      "1 Failed download:\n",
      "['ENV.AX']: YFTzMissingError('$%ticker%: possibly delisted; no timezone found')\n",
      "Failed to get ticker 'SI6.AX' reason: Expecting value: line 1 column 1 (char 0)\n",
      "\n",
      "1 Failed download:\n",
      "['SI6.AX']: YFTzMissingError('$%ticker%: possibly delisted; no timezone found')\n",
      "Failed to get ticker 'WFL.AX' reason: Expecting value: line 1 column 1 (char 0)\n",
      "\n",
      "1 Failed download:\n",
      "['WFL.AX']: YFTzMissingError('$%ticker%: possibly delisted; no timezone found')\n",
      "Failed to get ticker 'TMG.AX' reason: Expecting value: line 1 column 1 (char 0)\n",
      "\n",
      "1 Failed download:\n",
      "['TMG.AX']: YFTzMissingError('$%ticker%: possibly delisted; no timezone found')\n",
      "Failed to get ticker 'MTB.AX' reason: Expecting value: line 1 column 1 (char 0)\n",
      "\n",
      "1 Failed download:\n",
      "['MTB.AX']: YFTzMissingError('$%ticker%: possibly delisted; no timezone found')\n",
      "Failed to get ticker 'CZN.AX' reason: Expecting value: line 1 column 1 (char 0)\n",
      "\n",
      "1 Failed download:\n",
      "['CZN.AX']: YFTzMissingError('$%ticker%: possibly delisted; no timezone found')\n",
      "Failed to get ticker 'AVW.AX' reason: Expecting value: line 1 column 1 (char 0)\n",
      "\n",
      "1 Failed download:\n",
      "['AVW.AX']: YFTzMissingError('$%ticker%: possibly delisted; no timezone found')\n",
      "Failed to get ticker 'MRD.AX' reason: Expecting value: line 1 column 1 (char 0)\n",
      "\n",
      "1 Failed download:\n",
      "['MRD.AX']: YFTzMissingError('$%ticker%: possibly delisted; no timezone found')\n",
      "Failed to get ticker 'ATS.AX' reason: Expecting value: line 1 column 1 (char 0)\n",
      "\n",
      "1 Failed download:\n",
      "['ATS.AX']: YFTzMissingError('$%ticker%: possibly delisted; no timezone found')\n",
      "Failed to get ticker 'FIN.AX' reason: Expecting value: line 1 column 1 (char 0)\n",
      "\n",
      "1 Failed download:\n",
      "['FIN.AX']: YFTzMissingError('$%ticker%: possibly delisted; no timezone found')\n",
      "Failed to get ticker 'HFY.AX' reason: Expecting value: line 1 column 1 (char 0)\n",
      "\n",
      "1 Failed download:\n",
      "['HFY.AX']: YFTzMissingError('$%ticker%: possibly delisted; no timezone found')\n",
      "Failed to get ticker 'ICR.AX' reason: Expecting value: line 1 column 1 (char 0)\n",
      "\n",
      "1 Failed download:\n",
      "['ICR.AX']: YFTzMissingError('$%ticker%: possibly delisted; no timezone found')\n",
      "Failed to get ticker 'RLG.AX' reason: Expecting value: line 1 column 1 (char 0)\n",
      "\n",
      "1 Failed download:\n",
      "['RLG.AX']: YFTzMissingError('$%ticker%: possibly delisted; no timezone found')\n",
      "Failed to get ticker 'BRX.AX' reason: Expecting value: line 1 column 1 (char 0)\n",
      "\n",
      "1 Failed download:\n",
      "['BRX.AX']: YFTzMissingError('$%ticker%: possibly delisted; no timezone found')\n",
      "Failed to get ticker 'REE.AX' reason: Expecting value: line 1 column 1 (char 0)\n",
      "\n",
      "1 Failed download:\n",
      "['REE.AX']: YFTzMissingError('$%ticker%: possibly delisted; no timezone found')\n",
      "Failed to get ticker 'ARN.AX' reason: Expecting value: line 1 column 1 (char 0)\n",
      "\n",
      "1 Failed download:\n",
      "['ARN.AX']: YFTzMissingError('$%ticker%: possibly delisted; no timezone found')\n",
      "Failed to get ticker 'FTZ.AX' reason: Expecting value: line 1 column 1 (char 0)\n",
      "\n",
      "1 Failed download:\n",
      "['FTZ.AX']: YFTzMissingError('$%ticker%: possibly delisted; no timezone found')\n",
      "Failed to get ticker 'ZNC.AX' reason: Expecting value: line 1 column 1 (char 0)\n",
      "\n",
      "1 Failed download:\n",
      "['ZNC.AX']: YFTzMissingError('$%ticker%: possibly delisted; no timezone found')\n",
      "Failed to get ticker 'NOV.AX' reason: Expecting value: line 1 column 1 (char 0)\n",
      "\n",
      "1 Failed download:\n",
      "['NOV.AX']: YFTzMissingError('$%ticker%: possibly delisted; no timezone found')\n",
      "Failed to get ticker 'EMN.AX' reason: Expecting value: line 1 column 1 (char 0)\n",
      "\n",
      "1 Failed download:\n",
      "['EMN.AX']: YFTzMissingError('$%ticker%: possibly delisted; no timezone found')\n",
      "Failed to get ticker 'ICI.AX' reason: Expecting value: line 1 column 1 (char 0)\n",
      "\n",
      "1 Failed download:\n",
      "['ICI.AX']: YFTzMissingError('$%ticker%: possibly delisted; no timezone found')\n",
      "Failed to get ticker 'TYX.AX' reason: Expecting value: line 1 column 1 (char 0)\n",
      "\n",
      "1 Failed download:\n",
      "['TYX.AX']: YFTzMissingError('$%ticker%: possibly delisted; no timezone found')\n",
      "Failed to get ticker 'DGR.AX' reason: Expecting value: line 1 column 1 (char 0)\n",
      "\n",
      "1 Failed download:\n",
      "['DGR.AX']: YFTzMissingError('$%ticker%: possibly delisted; no timezone found')\n",
      "Failed to get ticker 'AT1.AX' reason: Expecting value: line 1 column 1 (char 0)\n",
      "\n",
      "1 Failed download:\n",
      "['AT1.AX']: YFTzMissingError('$%ticker%: possibly delisted; no timezone found')\n",
      "Failed to get ticker 'CMO.AX' reason: Expecting value: line 1 column 1 (char 0)\n",
      "\n",
      "1 Failed download:\n",
      "['CMO.AX']: YFTzMissingError('$%ticker%: possibly delisted; no timezone found')\n",
      "Failed to get ticker 'LKY.AX' reason: Expecting value: line 1 column 1 (char 0)\n",
      "\n",
      "1 Failed download:\n",
      "['LKY.AX']: YFTzMissingError('$%ticker%: possibly delisted; no timezone found')\n",
      "Failed to get ticker 'RB6.AX' reason: Expecting value: line 1 column 1 (char 0)\n",
      "\n",
      "1 Failed download:\n",
      "['RB6.AX']: YFTzMissingError('$%ticker%: possibly delisted; no timezone found')\n",
      "Failed to get ticker 'OCT.AX' reason: Expecting value: line 1 column 1 (char 0)\n",
      "\n",
      "1 Failed download:\n",
      "['OCT.AX']: YFTzMissingError('$%ticker%: possibly delisted; no timezone found')\n",
      "Failed to get ticker '5EA.AX' reason: Expecting value: line 1 column 1 (char 0)\n",
      "\n",
      "1 Failed download:\n",
      "['5EA.AX']: YFTzMissingError('$%ticker%: possibly delisted; no timezone found')\n",
      "Failed to get ticker 'AM7.AX' reason: Expecting value: line 1 column 1 (char 0)\n",
      "\n",
      "1 Failed download:\n",
      "['AM7.AX']: YFTzMissingError('$%ticker%: possibly delisted; no timezone found')\n",
      "Failed to get ticker 'SRL.AX' reason: Expecting value: line 1 column 1 (char 0)\n",
      "\n",
      "1 Failed download:\n",
      "['SRL.AX']: YFTzMissingError('$%ticker%: possibly delisted; no timezone found')\n",
      "Failed to get ticker 'SVY.AX' reason: Expecting value: line 1 column 1 (char 0)\n",
      "\n",
      "1 Failed download:\n",
      "['SVY.AX']: YFTzMissingError('$%ticker%: possibly delisted; no timezone found')\n",
      "Failed to get ticker 'OBL.AX' reason: Expecting value: line 1 column 1 (char 0)\n",
      "\n",
      "1 Failed download:\n",
      "['OBL.AX']: YFTzMissingError('$%ticker%: possibly delisted; no timezone found')\n",
      "Failed to get ticker 'PPE.AX' reason: Expecting value: line 1 column 1 (char 0)\n",
      "\n",
      "1 Failed download:\n",
      "['PPE.AX']: YFTzMissingError('$%ticker%: possibly delisted; no timezone found')\n",
      "Failed to get ticker 'IPD.AX' reason: Expecting value: line 1 column 1 (char 0)\n",
      "\n",
      "1 Failed download:\n",
      "['IPD.AX']: YFTzMissingError('$%ticker%: possibly delisted; no timezone found')\n",
      "Failed to get ticker 'RMI.AX' reason: Expecting value: line 1 column 1 (char 0)\n",
      "\n",
      "1 Failed download:\n",
      "['RMI.AX']: YFTzMissingError('$%ticker%: possibly delisted; no timezone found')\n",
      "Failed to get ticker 'AQI.AX' reason: Expecting value: line 1 column 1 (char 0)\n",
      "\n",
      "1 Failed download:\n",
      "['AQI.AX']: YFTzMissingError('$%ticker%: possibly delisted; no timezone found')\n",
      "Failed to get ticker 'TG1.AX' reason: Expecting value: line 1 column 1 (char 0)\n",
      "\n",
      "1 Failed download:\n",
      "['TG1.AX']: YFTzMissingError('$%ticker%: possibly delisted; no timezone found')\n",
      "Failed to get ticker 'VML.AX' reason: Expecting value: line 1 column 1 (char 0)\n",
      "\n",
      "1 Failed download:\n",
      "['VML.AX']: YFTzMissingError('$%ticker%: possibly delisted; no timezone found')\n",
      "Failed to get ticker 'ARV.AX' reason: Expecting value: line 1 column 1 (char 0)\n",
      "\n",
      "1 Failed download:\n",
      "['ARV.AX']: YFTzMissingError('$%ticker%: possibly delisted; no timezone found')\n",
      "Failed to get ticker 'JBY.AX' reason: Expecting value: line 1 column 1 (char 0)\n",
      "\n",
      "1 Failed download:\n",
      "['JBY.AX']: YFTzMissingError('$%ticker%: possibly delisted; no timezone found')\n",
      "Failed to get ticker 'KGD.AX' reason: Expecting value: line 1 column 1 (char 0)\n",
      "\n",
      "1 Failed download:\n",
      "['KGD.AX']: YFTzMissingError('$%ticker%: possibly delisted; no timezone found')\n",
      "Failed to get ticker 'AEV.AX' reason: Expecting value: line 1 column 1 (char 0)\n",
      "\n",
      "1 Failed download:\n",
      "['AEV.AX']: YFTzMissingError('$%ticker%: possibly delisted; no timezone found')\n",
      "Failed to get ticker 'BCM.AX' reason: Expecting value: line 1 column 1 (char 0)\n",
      "\n",
      "1 Failed download:\n",
      "['BCM.AX']: YFTzMissingError('$%ticker%: possibly delisted; no timezone found')\n",
      "Failed to get ticker 'AS1.AX' reason: Expecting value: line 1 column 1 (char 0)\n",
      "\n",
      "1 Failed download:\n",
      "['AS1.AX']: YFTzMissingError('$%ticker%: possibly delisted; no timezone found')\n",
      "Failed to get ticker 'KTA.AX' reason: Expecting value: line 1 column 1 (char 0)\n",
      "\n",
      "1 Failed download:\n",
      "['KTA.AX']: YFTzMissingError('$%ticker%: possibly delisted; no timezone found')\n",
      "Failed to get ticker 'CPN.AX' reason: Expecting value: line 1 column 1 (char 0)\n",
      "\n",
      "1 Failed download:\n",
      "['CPN.AX']: YFTzMissingError('$%ticker%: possibly delisted; no timezone found')\n",
      "Failed to get ticker 'BEZ.AX' reason: Expecting value: line 1 column 1 (char 0)\n",
      "\n",
      "1 Failed download:\n",
      "['BEZ.AX']: YFTzMissingError('$%ticker%: possibly delisted; no timezone found')\n",
      "Failed to get ticker 'C7A.AX' reason: Expecting value: line 1 column 1 (char 0)\n",
      "\n",
      "1 Failed download:\n",
      "['C7A.AX']: YFTzMissingError('$%ticker%: possibly delisted; no timezone found')\n",
      "Failed to get ticker 'KAI.AX' reason: Expecting value: line 1 column 1 (char 0)\n",
      "\n",
      "1 Failed download:\n",
      "['KAI.AX']: YFTzMissingError('$%ticker%: possibly delisted; no timezone found')\n",
      "Failed to get ticker 'MKG.AX' reason: Expecting value: line 1 column 1 (char 0)\n",
      "\n",
      "1 Failed download:\n",
      "['MKG.AX']: YFTzMissingError('$%ticker%: possibly delisted; no timezone found')\n",
      "Failed to get ticker 'W2V.AX' reason: Expecting value: line 1 column 1 (char 0)\n",
      "\n",
      "1 Failed download:\n",
      "['W2V.AX']: YFTzMissingError('$%ticker%: possibly delisted; no timezone found')\n",
      "Failed to get ticker '88E.AX' reason: Expecting value: line 1 column 1 (char 0)\n",
      "\n",
      "1 Failed download:\n",
      "['88E.AX']: YFTzMissingError('$%ticker%: possibly delisted; no timezone found')\n",
      "Failed to get ticker 'HCT.AX' reason: Expecting value: line 1 column 1 (char 0)\n",
      "\n",
      "1 Failed download:\n",
      "['HCT.AX']: YFTzMissingError('$%ticker%: possibly delisted; no timezone found')\n",
      "Failed to get ticker 'ALV.AX' reason: Expecting value: line 1 column 1 (char 0)\n",
      "\n",
      "1 Failed download:\n",
      "['ALV.AX']: YFTzMissingError('$%ticker%: possibly delisted; no timezone found')\n",
      "Failed to get ticker 'QPM.AX' reason: Expecting value: line 1 column 1 (char 0)\n",
      "\n",
      "1 Failed download:\n",
      "['QPM.AX']: YFTzMissingError('$%ticker%: possibly delisted; no timezone found')\n",
      "Failed to get ticker 'BM8.AX' reason: Expecting value: line 1 column 1 (char 0)\n",
      "\n",
      "1 Failed download:\n",
      "['BM8.AX']: YFTzMissingError('$%ticker%: possibly delisted; no timezone found')\n",
      "Failed to get ticker 'BNZ.AX' reason: Expecting value: line 1 column 1 (char 0)\n",
      "\n",
      "1 Failed download:\n",
      "['BNZ.AX']: YFTzMissingError('$%ticker%: possibly delisted; no timezone found')\n",
      "Failed to get ticker 'AN1.AX' reason: Expecting value: line 1 column 1 (char 0)\n",
      "\n",
      "1 Failed download:\n",
      "['AN1.AX']: YFTzMissingError('$%ticker%: possibly delisted; no timezone found')\n",
      "Failed to get ticker 'CPO.AX' reason: Expecting value: line 1 column 1 (char 0)\n",
      "\n",
      "1 Failed download:\n",
      "['CPO.AX']: YFTzMissingError('$%ticker%: possibly delisted; no timezone found')\n",
      "Failed to get ticker 'SSR.AX' reason: Expecting value: line 1 column 1 (char 0)\n",
      "\n",
      "1 Failed download:\n",
      "['SSR.AX']: YFTzMissingError('$%ticker%: possibly delisted; no timezone found')\n",
      "Failed to get ticker 'FRS.AX' reason: Expecting value: line 1 column 1 (char 0)\n",
      "\n",
      "1 Failed download:\n",
      "['FRS.AX']: YFTzMissingError('$%ticker%: possibly delisted; no timezone found')\n",
      "Failed to get ticker 'SOC.AX' reason: Expecting value: line 1 column 1 (char 0)\n",
      "\n",
      "1 Failed download:\n",
      "['SOC.AX']: YFTzMissingError('$%ticker%: possibly delisted; no timezone found')\n",
      "Failed to get ticker 'FL1.AX' reason: Expecting value: line 1 column 1 (char 0)\n",
      "\n",
      "1 Failed download:\n",
      "['FL1.AX']: YFTzMissingError('$%ticker%: possibly delisted; no timezone found')\n",
      "Failed to get ticker 'TKM.AX' reason: Expecting value: line 1 column 1 (char 0)\n",
      "\n",
      "1 Failed download:\n",
      "['TKM.AX']: YFTzMissingError('$%ticker%: possibly delisted; no timezone found')\n",
      "Failed to get ticker 'BOA.AX' reason: Expecting value: line 1 column 1 (char 0)\n",
      "\n",
      "1 Failed download:\n",
      "['BOA.AX']: YFTzMissingError('$%ticker%: possibly delisted; no timezone found')\n",
      "Failed to get ticker 'BNL.AX' reason: Expecting value: line 1 column 1 (char 0)\n",
      "\n",
      "1 Failed download:\n",
      "['BNL.AX']: YFTzMissingError('$%ticker%: possibly delisted; no timezone found')\n",
      "Failed to get ticker 'RWD.AX' reason: Expecting value: line 1 column 1 (char 0)\n",
      "\n",
      "1 Failed download:\n",
      "['RWD.AX']: YFTzMissingError('$%ticker%: possibly delisted; no timezone found')\n",
      "Failed to get ticker 'PR1.AX' reason: Expecting value: line 1 column 1 (char 0)\n",
      "\n",
      "1 Failed download:\n",
      "['PR1.AX']: YFTzMissingError('$%ticker%: possibly delisted; no timezone found')\n",
      "Failed to get ticker 'JAV.AX' reason: Expecting value: line 1 column 1 (char 0)\n",
      "\n",
      "1 Failed download:\n",
      "['JAV.AX']: YFTzMissingError('$%ticker%: possibly delisted; no timezone found')\n",
      "Failed to get ticker 'HHR.AX' reason: Expecting value: line 1 column 1 (char 0)\n",
      "\n",
      "1 Failed download:\n",
      "['HHR.AX']: YFTzMissingError('$%ticker%: possibly delisted; no timezone found')\n",
      "Failed to get ticker 'RLL.AX' reason: Expecting value: line 1 column 1 (char 0)\n",
      "\n",
      "1 Failed download:\n",
      "['RLL.AX']: YFTzMissingError('$%ticker%: possibly delisted; no timezone found')\n",
      "Failed to get ticker 'M3M.AX' reason: Expecting value: line 1 column 1 (char 0)\n",
      "\n",
      "1 Failed download:\n",
      "['M3M.AX']: YFTzMissingError('$%ticker%: possibly delisted; no timezone found')\n",
      "Failed to get ticker 'CDR.AX' reason: Expecting value: line 1 column 1 (char 0)\n",
      "\n",
      "1 Failed download:\n",
      "['CDR.AX']: YFTzMissingError('$%ticker%: possibly delisted; no timezone found')\n",
      "Failed to get ticker 'AR3.AX' reason: Expecting value: line 1 column 1 (char 0)\n",
      "\n",
      "1 Failed download:\n",
      "['AR3.AX']: YFTzMissingError('$%ticker%: possibly delisted; no timezone found')\n",
      "Failed to get ticker 'PSL.AX' reason: Expecting value: line 1 column 1 (char 0)\n",
      "\n",
      "1 Failed download:\n",
      "['PSL.AX']: YFTzMissingError('$%ticker%: possibly delisted; no timezone found')\n",
      "Failed to get ticker 'PNN.AX' reason: Expecting value: line 1 column 1 (char 0)\n",
      "\n",
      "1 Failed download:\n",
      "['PNN.AX']: YFTzMissingError('$%ticker%: possibly delisted; no timezone found')\n",
      "Failed to get ticker 'SMX.AX' reason: Expecting value: line 1 column 1 (char 0)\n",
      "\n",
      "1 Failed download:\n",
      "['SMX.AX']: YFTzMissingError('$%ticker%: possibly delisted; no timezone found')\n",
      "Failed to get ticker 'CAN.AX' reason: Expecting value: line 1 column 1 (char 0)\n",
      "\n",
      "1 Failed download:\n",
      "['CAN.AX']: YFTzMissingError('$%ticker%: possibly delisted; no timezone found')\n",
      "Failed to get ticker 'EE1.AX' reason: Expecting value: line 1 column 1 (char 0)\n",
      "\n",
      "1 Failed download:\n",
      "['EE1.AX']: YFTzMissingError('$%ticker%: possibly delisted; no timezone found')\n",
      "Failed to get ticker 'STA.AX' reason: Expecting value: line 1 column 1 (char 0)\n",
      "\n",
      "1 Failed download:\n",
      "['STA.AX']: YFTzMissingError('$%ticker%: possibly delisted; no timezone found')\n",
      "Failed to get ticker 'NFL.AX' reason: Expecting value: line 1 column 1 (char 0)\n",
      "\n",
      "1 Failed download:\n",
      "['NFL.AX']: YFTzMissingError('$%ticker%: possibly delisted; no timezone found')\n",
      "Failed to get ticker 'AKN.AX' reason: Expecting value: line 1 column 1 (char 0)\n",
      "\n",
      "1 Failed download:\n",
      "['AKN.AX']: YFTzMissingError('$%ticker%: possibly delisted; no timezone found')\n",
      "Failed to get ticker 'WNR.AX' reason: Expecting value: line 1 column 1 (char 0)\n",
      "\n",
      "1 Failed download:\n",
      "['WNR.AX']: YFTzMissingError('$%ticker%: possibly delisted; no timezone found')\n",
      "Failed to get ticker 'WBT.AX' reason: Expecting value: line 1 column 1 (char 0)\n",
      "\n",
      "1 Failed download:\n",
      "['WBT.AX']: YFTzMissingError('$%ticker%: possibly delisted; no timezone found')\n",
      "Failed to get ticker 'TON.AX' reason: Expecting value: line 1 column 1 (char 0)\n",
      "\n",
      "1 Failed download:\n",
      "['TON.AX']: YFTzMissingError('$%ticker%: possibly delisted; no timezone found')\n",
      "Failed to get ticker 'HCL.AX' reason: Expecting value: line 1 column 1 (char 0)\n",
      "\n",
      "1 Failed download:\n",
      "['HCL.AX']: YFTzMissingError('$%ticker%: possibly delisted; no timezone found')\n",
      "Failed to get ticker 'MKL.AX' reason: Expecting value: line 1 column 1 (char 0)\n",
      "\n",
      "1 Failed download:\n",
      "['MKL.AX']: YFTzMissingError('$%ticker%: possibly delisted; no timezone found')\n",
      "Failed to get ticker 'CTQ.AX' reason: Expecting value: line 1 column 1 (char 0)\n",
      "\n",
      "1 Failed download:\n",
      "['CTQ.AX']: YFTzMissingError('$%ticker%: possibly delisted; no timezone found')\n",
      "Failed to get ticker 'NYM.AX' reason: Expecting value: line 1 column 1 (char 0)\n",
      "\n",
      "1 Failed download:\n",
      "['NYM.AX']: YFTzMissingError('$%ticker%: possibly delisted; no timezone found')\n",
      "Failed to get ticker '1TT.AX' reason: Expecting value: line 1 column 1 (char 0)\n",
      "\n",
      "1 Failed download:\n",
      "['1TT.AX']: YFTzMissingError('$%ticker%: possibly delisted; no timezone found')\n",
      "Failed to get ticker 'MBX.AX' reason: Expecting value: line 1 column 1 (char 0)\n",
      "\n",
      "1 Failed download:\n",
      "['MBX.AX']: YFTzMissingError('$%ticker%: possibly delisted; no timezone found')\n",
      "Failed to get ticker 'MOH.AX' reason: Expecting value: line 1 column 1 (char 0)\n",
      "\n",
      "1 Failed download:\n",
      "['MOH.AX']: YFTzMissingError('$%ticker%: possibly delisted; no timezone found')\n",
      "Failed to get ticker 'MOM.AX' reason: Expecting value: line 1 column 1 (char 0)\n",
      "\n",
      "1 Failed download:\n",
      "['MOM.AX']: YFTzMissingError('$%ticker%: possibly delisted; no timezone found')\n",
      "Failed to get ticker 'OAR.AX' reason: Expecting value: line 1 column 1 (char 0)\n",
      "\n",
      "1 Failed download:\n",
      "['OAR.AX']: YFTzMissingError('$%ticker%: possibly delisted; no timezone found')\n",
      "Failed to get ticker 'RML.AX' reason: Expecting value: line 1 column 1 (char 0)\n",
      "\n",
      "1 Failed download:\n",
      "['RML.AX']: YFTzMissingError('$%ticker%: possibly delisted; no timezone found')\n",
      "Failed to get ticker 'OM1.AX' reason: Expecting value: line 1 column 1 (char 0)\n",
      "\n",
      "1 Failed download:\n",
      "['OM1.AX']: YFTzMissingError('$%ticker%: possibly delisted; no timezone found')\n",
      "Failed to get ticker 'WEC.AX' reason: Expecting value: line 1 column 1 (char 0)\n",
      "\n",
      "1 Failed download:\n",
      "['WEC.AX']: YFTzMissingError('$%ticker%: possibly delisted; no timezone found')\n",
      "Failed to get ticker 'SBR.AX' reason: Expecting value: line 1 column 1 (char 0)\n",
      "\n",
      "1 Failed download:\n",
      "['SBR.AX']: YFTzMissingError('$%ticker%: possibly delisted; no timezone found')\n",
      "Failed to get ticker 'WHK.AX' reason: Expecting value: line 1 column 1 (char 0)\n",
      "\n",
      "1 Failed download:\n",
      "['WHK.AX']: YFTzMissingError('$%ticker%: possibly delisted; no timezone found')\n",
      "Failed to get ticker 'PUR.AX' reason: Expecting value: line 1 column 1 (char 0)\n",
      "\n",
      "1 Failed download:\n",
      "['PUR.AX']: YFTzMissingError('$%ticker%: possibly delisted; no timezone found')\n",
      "Failed to get ticker 'DBO.AX' reason: Expecting value: line 1 column 1 (char 0)\n",
      "\n",
      "1 Failed download:\n",
      "['DBO.AX']: YFTzMissingError('$%ticker%: possibly delisted; no timezone found')\n",
      "Failed to get ticker 'WBE.AX' reason: Expecting value: line 1 column 1 (char 0)\n",
      "\n",
      "1 Failed download:\n",
      "['WBE.AX']: YFTzMissingError('$%ticker%: possibly delisted; no timezone found')\n",
      "Failed to get ticker 'BPH.AX' reason: Expecting value: line 1 column 1 (char 0)\n",
      "\n",
      "1 Failed download:\n",
      "['BPH.AX']: YFTzMissingError('$%ticker%: possibly delisted; no timezone found')\n",
      "Failed to get ticker 'LCL.AX' reason: Expecting value: line 1 column 1 (char 0)\n",
      "\n",
      "1 Failed download:\n",
      "['LCL.AX']: YFTzMissingError('$%ticker%: possibly delisted; no timezone found')\n",
      "Failed to get ticker 'QXR.AX' reason: Expecting value: line 1 column 1 (char 0)\n",
      "\n",
      "1 Failed download:\n",
      "['QXR.AX']: YFTzMissingError('$%ticker%: possibly delisted; no timezone found')\n",
      "Failed to get ticker 'AHN.AX' reason: Expecting value: line 1 column 1 (char 0)\n",
      "\n",
      "1 Failed download:\n",
      "['AHN.AX']: YFTzMissingError('$%ticker%: possibly delisted; no timezone found')\n",
      "Failed to get ticker 'PRX.AX' reason: Expecting value: line 1 column 1 (char 0)\n",
      "\n",
      "1 Failed download:\n",
      "['PRX.AX']: YFTzMissingError('$%ticker%: possibly delisted; no timezone found')\n",
      "Failed to get ticker 'DAL.AX' reason: Expecting value: line 1 column 1 (char 0)\n",
      "\n",
      "1 Failed download:\n",
      "['DAL.AX']: YFTzMissingError('$%ticker%: possibly delisted; no timezone found')\n",
      "Failed to get ticker 'WAK.AX' reason: Expecting value: line 1 column 1 (char 0)\n",
      "\n",
      "1 Failed download:\n",
      "['WAK.AX']: YFTzMissingError('$%ticker%: possibly delisted; no timezone found')\n",
      "Failed to get ticker 'AAJ.AX' reason: Expecting value: line 1 column 1 (char 0)\n",
      "\n",
      "1 Failed download:\n",
      "['AAJ.AX']: YFTzMissingError('$%ticker%: possibly delisted; no timezone found')\n",
      "Failed to get ticker 'LRL.AX' reason: Expecting value: line 1 column 1 (char 0)\n",
      "\n",
      "1 Failed download:\n",
      "['LRL.AX']: YFTzMissingError('$%ticker%: possibly delisted; no timezone found')\n",
      "Failed to get ticker 'FBM.AX' reason: Expecting value: line 1 column 1 (char 0)\n",
      "\n",
      "1 Failed download:\n",
      "['FBM.AX']: YFTzMissingError('$%ticker%: possibly delisted; no timezone found')\n",
      "Failed to get ticker 'ITM.AX' reason: Expecting value: line 1 column 1 (char 0)\n",
      "\n",
      "1 Failed download:\n",
      "['ITM.AX']: YFTzMissingError('$%ticker%: possibly delisted; no timezone found')\n",
      "Failed to get ticker 'CXL.AX' reason: Expecting value: line 1 column 1 (char 0)\n",
      "\n",
      "1 Failed download:\n",
      "['CXL.AX']: YFTzMissingError('$%ticker%: possibly delisted; no timezone found')\n",
      "Failed to get ticker 'NPM.AX' reason: Expecting value: line 1 column 1 (char 0)\n",
      "\n",
      "1 Failed download:\n",
      "['NPM.AX']: YFTzMissingError('$%ticker%: possibly delisted; no timezone found')\n",
      "Failed to get ticker 'BFC.AX' reason: Expecting value: line 1 column 1 (char 0)\n",
      "\n",
      "1 Failed download:\n",
      "['BFC.AX']: YFTzMissingError('$%ticker%: possibly delisted; no timezone found')\n",
      "Failed to get ticker 'LEG.AX' reason: Expecting value: line 1 column 1 (char 0)\n",
      "\n",
      "1 Failed download:\n",
      "['LEG.AX']: YFTzMissingError('$%ticker%: possibly delisted; no timezone found')\n",
      "Failed to get ticker 'SCT.AX' reason: Expecting value: line 1 column 1 (char 0)\n",
      "\n",
      "1 Failed download:\n",
      "['SCT.AX']: YFTzMissingError('$%ticker%: possibly delisted; no timezone found')\n",
      "Failed to get ticker 'FG1.AX' reason: Expecting value: line 1 column 1 (char 0)\n",
      "\n",
      "1 Failed download:\n",
      "['FG1.AX']: YFTzMissingError('$%ticker%: possibly delisted; no timezone found')\n",
      "Failed to get ticker 'EXL.AX' reason: Expecting value: line 1 column 1 (char 0)\n",
      "\n",
      "1 Failed download:\n",
      "['EXL.AX']: YFTzMissingError('$%ticker%: possibly delisted; no timezone found')\n",
      "Failed to get ticker 'INP.AX' reason: Expecting value: line 1 column 1 (char 0)\n",
      "\n",
      "1 Failed download:\n",
      "['INP.AX']: YFTzMissingError('$%ticker%: possibly delisted; no timezone found')\n",
      "Failed to get ticker 'ENL.AX' reason: Expecting value: line 1 column 1 (char 0)\n",
      "\n",
      "1 Failed download:\n",
      "['ENL.AX']: YFTzMissingError('$%ticker%: possibly delisted; no timezone found')\n",
      "Failed to get ticker 'PNM.AX' reason: Expecting value: line 1 column 1 (char 0)\n",
      "\n",
      "1 Failed download:\n",
      "['PNM.AX']: YFTzMissingError('$%ticker%: possibly delisted; no timezone found')\n",
      "Failed to get ticker 'EWC.AX' reason: Expecting value: line 1 column 1 (char 0)\n",
      "\n",
      "1 Failed download:\n",
      "['EWC.AX']: YFTzMissingError('$%ticker%: possibly delisted; no timezone found')\n",
      "Failed to get ticker 'PHL.AX' reason: Expecting value: line 1 column 1 (char 0)\n",
      "\n",
      "1 Failed download:\n",
      "['PHL.AX']: YFTzMissingError('$%ticker%: possibly delisted; no timezone found')\n",
      "Failed to get ticker 'FTL.AX' reason: Expecting value: line 1 column 1 (char 0)\n",
      "\n",
      "1 Failed download:\n",
      "['FTL.AX']: YFTzMissingError('$%ticker%: possibly delisted; no timezone found')\n",
      "Failed to get ticker 'SOM.AX' reason: Expecting value: line 1 column 1 (char 0)\n",
      "\n",
      "1 Failed download:\n",
      "['SOM.AX']: YFTzMissingError('$%ticker%: possibly delisted; no timezone found')\n",
      "Failed to get ticker 'THB.AX' reason: Expecting value: line 1 column 1 (char 0)\n",
      "\n",
      "1 Failed download:\n",
      "['THB.AX']: YFTzMissingError('$%ticker%: possibly delisted; no timezone found')\n",
      "Failed to get ticker 'AGY.AX' reason: Expecting value: line 1 column 1 (char 0)\n",
      "\n",
      "1 Failed download:\n",
      "['AGY.AX']: YFTzMissingError('$%ticker%: possibly delisted; no timezone found')\n",
      "Failed to get ticker 'HRE.AX' reason: Expecting value: line 1 column 1 (char 0)\n",
      "\n",
      "1 Failed download:\n",
      "['HRE.AX']: YFTzMissingError('$%ticker%: possibly delisted; no timezone found')\n",
      "Failed to get ticker 'LIN.AX' reason: Expecting value: line 1 column 1 (char 0)\n",
      "\n",
      "1 Failed download:\n",
      "['LIN.AX']: YFTzMissingError('$%ticker%: possibly delisted; no timezone found')\n",
      "Failed to get ticker 'DLI.AX' reason: Expecting value: line 1 column 1 (char 0)\n",
      "\n",
      "1 Failed download:\n",
      "['DLI.AX']: YFTzMissingError('$%ticker%: possibly delisted; no timezone found')\n",
      "Failed to get ticker 'NC6.AX' reason: Expecting value: line 1 column 1 (char 0)\n",
      "\n",
      "1 Failed download:\n",
      "['NC6.AX']: YFTzMissingError('$%ticker%: possibly delisted; no timezone found')\n",
      "Failed to get ticker 'DCL.AX' reason: Expecting value: line 1 column 1 (char 0)\n",
      "\n",
      "1 Failed download:\n",
      "['DCL.AX']: YFTzMissingError('$%ticker%: possibly delisted; no timezone found')\n",
      "Failed to get ticker 'HVY.AX' reason: Expecting value: line 1 column 1 (char 0)\n",
      "\n",
      "1 Failed download:\n",
      "['HVY.AX']: YFTzMissingError('$%ticker%: possibly delisted; no timezone found')\n",
      "Failed to get ticker 'LYK.AX' reason: Expecting value: line 1 column 1 (char 0)\n",
      "\n",
      "1 Failed download:\n",
      "['LYK.AX']: YFTzMissingError('$%ticker%: possibly delisted; no timezone found')\n",
      "Failed to get ticker 'JLL.AX' reason: Expecting value: line 1 column 1 (char 0)\n",
      "\n",
      "1 Failed download:\n",
      "['JLL.AX']: YFTzMissingError('$%ticker%: possibly delisted; no timezone found')\n",
      "Failed to get ticker 'NC1.AX' reason: Expecting value: line 1 column 1 (char 0)\n",
      "\n",
      "1 Failed download:\n",
      "['NC1.AX']: YFTzMissingError('$%ticker%: possibly delisted; no timezone found')\n",
      "Failed to get ticker 'BNR.AX' reason: Expecting value: line 1 column 1 (char 0)\n",
      "\n",
      "1 Failed download:\n",
      "['BNR.AX']: YFTzMissingError('$%ticker%: possibly delisted; no timezone found')\n",
      "Failed to get ticker 'ODE.AX' reason: Expecting value: line 1 column 1 (char 0)\n",
      "\n",
      "1 Failed download:\n",
      "['ODE.AX']: YFTzMissingError('$%ticker%: possibly delisted; no timezone found')\n",
      "Failed to get ticker 'RIE.AX' reason: Expecting value: line 1 column 1 (char 0)\n",
      "\n",
      "1 Failed download:\n",
      "['RIE.AX']: YFTzMissingError('$%ticker%: possibly delisted; no timezone found')\n",
      "Failed to get ticker 'PTR.AX' reason: Expecting value: line 1 column 1 (char 0)\n",
      "\n",
      "1 Failed download:\n",
      "['PTR.AX']: YFTzMissingError('$%ticker%: possibly delisted; no timezone found')\n",
      "Failed to get ticker 'RAS.AX' reason: Expecting value: line 1 column 1 (char 0)\n",
      "\n",
      "1 Failed download:\n",
      "['RAS.AX']: YFTzMissingError('$%ticker%: possibly delisted; no timezone found')\n",
      "Failed to get ticker 'SHP.AX' reason: Expecting value: line 1 column 1 (char 0)\n",
      "\n",
      "1 Failed download:\n",
      "['SHP.AX']: YFTzMissingError('$%ticker%: possibly delisted; no timezone found')\n",
      "Failed to get ticker 'NET.AX' reason: Expecting value: line 1 column 1 (char 0)\n",
      "\n",
      "1 Failed download:\n",
      "['NET.AX']: YFTzMissingError('$%ticker%: possibly delisted; no timezone found')\n",
      "Failed to get ticker 'PRM.AX' reason: Expecting value: line 1 column 1 (char 0)\n",
      "\n",
      "1 Failed download:\n",
      "['PRM.AX']: YFTzMissingError('$%ticker%: possibly delisted; no timezone found')\n",
      "Failed to get ticker 'TX3.AX' reason: Expecting value: line 1 column 1 (char 0)\n",
      "\n",
      "1 Failed download:\n",
      "['TX3.AX']: YFTzMissingError('$%ticker%: possibly delisted; no timezone found')\n",
      "Failed to get ticker 'TNY.AX' reason: Expecting value: line 1 column 1 (char 0)\n",
      "\n",
      "1 Failed download:\n",
      "['TNY.AX']: YFTzMissingError('$%ticker%: possibly delisted; no timezone found')\n",
      "Failed to get ticker 'DRE.AX' reason: Expecting value: line 1 column 1 (char 0)\n",
      "\n",
      "1 Failed download:\n",
      "['DRE.AX']: YFTzMissingError('$%ticker%: possibly delisted; no timezone found')\n",
      "Failed to get ticker 'YOJ.AX' reason: Expecting value: line 1 column 1 (char 0)\n",
      "\n",
      "1 Failed download:\n",
      "['YOJ.AX']: YFTzMissingError('$%ticker%: possibly delisted; no timezone found')\n",
      "Failed to get ticker 'PAR.AX' reason: Expecting value: line 1 column 1 (char 0)\n",
      "\n",
      "1 Failed download:\n",
      "['PAR.AX']: YFTzMissingError('$%ticker%: possibly delisted; no timezone found')\n",
      "Failed to get ticker 'SRR.AX' reason: Expecting value: line 1 column 1 (char 0)\n",
      "\n",
      "1 Failed download:\n",
      "['SRR.AX']: YFTzMissingError('$%ticker%: possibly delisted; no timezone found')\n",
      "Failed to get ticker 'MIO.AX' reason: Expecting value: line 1 column 1 (char 0)\n",
      "\n",
      "1 Failed download:\n",
      "['MIO.AX']: YFTzMissingError('$%ticker%: possibly delisted; no timezone found')\n",
      "Failed to get ticker 'AUZ.AX' reason: Expecting value: line 1 column 1 (char 0)\n",
      "\n",
      "1 Failed download:\n",
      "['AUZ.AX']: YFTzMissingError('$%ticker%: possibly delisted; no timezone found')\n",
      "Failed to get ticker 'BTH.AX' reason: Expecting value: line 1 column 1 (char 0)\n",
      "\n",
      "1 Failed download:\n",
      "['BTH.AX']: YFTzMissingError('$%ticker%: possibly delisted; no timezone found')\n",
      "Failed to get ticker 'LU7.AX' reason: Expecting value: line 1 column 1 (char 0)\n",
      "\n",
      "1 Failed download:\n",
      "['LU7.AX']: YFTzMissingError('$%ticker%: possibly delisted; no timezone found')\n",
      "Failed to get ticker 'PVW.AX' reason: Expecting value: line 1 column 1 (char 0)\n",
      "\n",
      "1 Failed download:\n",
      "['PVW.AX']: YFTzMissingError('$%ticker%: possibly delisted; no timezone found')\n",
      "Failed to get ticker 'MVP.AX' reason: Expecting value: line 1 column 1 (char 0)\n",
      "\n",
      "1 Failed download:\n",
      "['MVP.AX']: YFTzMissingError('$%ticker%: possibly delisted; no timezone found')\n",
      "Failed to get ticker 'FCT.AX' reason: Expecting value: line 1 column 1 (char 0)\n",
      "\n",
      "1 Failed download:\n",
      "['FCT.AX']: YFTzMissingError('$%ticker%: possibly delisted; no timezone found')\n",
      "Failed to get ticker 'MGU.AX' reason: Expecting value: line 1 column 1 (char 0)\n",
      "\n",
      "1 Failed download:\n",
      "['MGU.AX']: YFTzMissingError('$%ticker%: possibly delisted; no timezone found')\n",
      "Failed to get ticker 'LM8.AX' reason: Expecting value: line 1 column 1 (char 0)\n",
      "\n",
      "1 Failed download:\n",
      "['LM8.AX']: YFTzMissingError('$%ticker%: possibly delisted; no timezone found')\n",
      "Failed to get ticker 'ADR.AX' reason: Expecting value: line 1 column 1 (char 0)\n",
      "\n",
      "1 Failed download:\n",
      "['ADR.AX']: YFTzMissingError('$%ticker%: possibly delisted; no timezone found')\n",
      "Failed to get ticker 'FFG.AX' reason: Expecting value: line 1 column 1 (char 0)\n",
      "\n",
      "1 Failed download:\n",
      "['FFG.AX']: YFTzMissingError('$%ticker%: possibly delisted; no timezone found')\n",
      "Failed to get ticker 'GW1.AX' reason: Expecting value: line 1 column 1 (char 0)\n",
      "\n",
      "1 Failed download:\n",
      "['GW1.AX']: YFTzMissingError('$%ticker%: possibly delisted; no timezone found')\n",
      "Failed to get ticker 'EG1.AX' reason: Expecting value: line 1 column 1 (char 0)\n",
      "\n",
      "1 Failed download:\n",
      "['EG1.AX']: YFTzMissingError('$%ticker%: possibly delisted; no timezone found')\n",
      "Failed to get ticker 'SPL.AX' reason: Expecting value: line 1 column 1 (char 0)\n",
      "\n",
      "1 Failed download:\n",
      "['SPL.AX']: YFTzMissingError('$%ticker%: possibly delisted; no timezone found')\n",
      "Failed to get ticker 'T3D.AX' reason: Expecting value: line 1 column 1 (char 0)\n",
      "\n",
      "1 Failed download:\n",
      "['T3D.AX']: YFTzMissingError('$%ticker%: possibly delisted; no timezone found')\n",
      "Failed to get ticker 'OD6.AX' reason: Expecting value: line 1 column 1 (char 0)\n",
      "\n",
      "1 Failed download:\n",
      "['OD6.AX']: YFTzMissingError('$%ticker%: possibly delisted; no timezone found')\n",
      "Failed to get ticker 'NSM.AX' reason: Expecting value: line 1 column 1 (char 0)\n",
      "\n",
      "1 Failed download:\n",
      "['NSM.AX']: YFTzMissingError('$%ticker%: possibly delisted; no timezone found')\n",
      "Failed to get ticker 'IVZ.AX' reason: Expecting value: line 1 column 1 (char 0)\n",
      "\n",
      "1 Failed download:\n",
      "['IVZ.AX']: YFTzMissingError('$%ticker%: possibly delisted; no timezone found')\n",
      "Failed to get ticker 'AHI.AX' reason: Expecting value: line 1 column 1 (char 0)\n",
      "\n",
      "1 Failed download:\n",
      "['AHI.AX']: YFTzMissingError('$%ticker%: possibly delisted; no timezone found')\n",
      "Failed to get ticker 'MQR.AX' reason: Expecting value: line 1 column 1 (char 0)\n",
      "\n",
      "1 Failed download:\n",
      "['MQR.AX']: YFTzMissingError('$%ticker%: possibly delisted; no timezone found')\n",
      "Failed to get ticker 'GRE.AX' reason: Expecting value: line 1 column 1 (char 0)\n",
      "\n",
      "1 Failed download:\n",
      "['GRE.AX']: YFTzMissingError('$%ticker%: possibly delisted; no timezone found')\n",
      "Failed to get ticker 'RMX.AX' reason: Expecting value: line 1 column 1 (char 0)\n",
      "\n",
      "1 Failed download:\n",
      "['RMX.AX']: YFTzMissingError('$%ticker%: possibly delisted; no timezone found')\n",
      "Failed to get ticker 'G6M.AX' reason: Expecting value: line 1 column 1 (char 0)\n",
      "\n",
      "1 Failed download:\n",
      "['G6M.AX']: YFTzMissingError('$%ticker%: possibly delisted; no timezone found')\n",
      "Failed to get ticker 'PAT.AX' reason: Expecting value: line 1 column 1 (char 0)\n",
      "\n",
      "1 Failed download:\n",
      "['PAT.AX']: YFTzMissingError('$%ticker%: possibly delisted; no timezone found')\n",
      "Failed to get ticker 'MNS.AX' reason: Expecting value: line 1 column 1 (char 0)\n",
      "\n",
      "1 Failed download:\n",
      "['MNS.AX']: YFTzMissingError('$%ticker%: possibly delisted; no timezone found')\n",
      "Failed to get ticker 'PFT.AX' reason: Expecting value: line 1 column 1 (char 0)\n",
      "\n",
      "1 Failed download:\n",
      "['PFT.AX']: YFTzMissingError('$%ticker%: possibly delisted; no timezone found')\n",
      "Failed to get ticker 'OZM.AX' reason: Expecting value: line 1 column 1 (char 0)\n",
      "\n",
      "1 Failed download:\n",
      "['OZM.AX']: YFTzMissingError('$%ticker%: possibly delisted; no timezone found')\n",
      "Failed to get ticker 'BGE.AX' reason: Expecting value: line 1 column 1 (char 0)\n",
      "\n",
      "1 Failed download:\n",
      "['BGE.AX']: YFTzMissingError('$%ticker%: possibly delisted; no timezone found')\n",
      "Failed to get ticker 'SM1.AX' reason: Expecting value: line 1 column 1 (char 0)\n",
      "\n",
      "1 Failed download:\n",
      "['SM1.AX']: YFTzMissingError('$%ticker%: possibly delisted; no timezone found')\n",
      "Failed to get ticker 'ZNO.AX' reason: Expecting value: line 1 column 1 (char 0)\n",
      "\n",
      "1 Failed download:\n",
      "['ZNO.AX']: YFTzMissingError('$%ticker%: possibly delisted; no timezone found')\n",
      "Failed to get ticker 'M24.AX' reason: Expecting value: line 1 column 1 (char 0)\n",
      "\n",
      "1 Failed download:\n",
      "['M24.AX']: YFTzMissingError('$%ticker%: possibly delisted; no timezone found')\n",
      "Failed to get ticker 'KOR.AX' reason: Expecting value: line 1 column 1 (char 0)\n",
      "\n",
      "1 Failed download:\n",
      "['KOR.AX']: YFTzMissingError('$%ticker%: possibly delisted; no timezone found')\n",
      "Failed to get ticker '8IH.AX' reason: Expecting value: line 1 column 1 (char 0)\n",
      "\n",
      "1 Failed download:\n",
      "['8IH.AX']: YFTzMissingError('$%ticker%: possibly delisted; no timezone found')\n",
      "Failed to get ticker 'MHK.AX' reason: Expecting value: line 1 column 1 (char 0)\n",
      "\n",
      "1 Failed download:\n",
      "['MHK.AX']: YFTzMissingError('$%ticker%: possibly delisted; no timezone found')\n",
      "Failed to get ticker 'PIM.AX' reason: Expecting value: line 1 column 1 (char 0)\n",
      "\n",
      "1 Failed download:\n",
      "['PIM.AX']: YFTzMissingError('$%ticker%: possibly delisted; no timezone found')\n",
      "Failed to get ticker 'CHN.AX' reason: Expecting value: line 1 column 1 (char 0)\n",
      "\n",
      "1 Failed download:\n",
      "['CHN.AX']: YFTzMissingError('$%ticker%: possibly delisted; no timezone found')\n",
      "Failed to get ticker 'NAG.AX' reason: Expecting value: line 1 column 1 (char 0)\n",
      "\n",
      "1 Failed download:\n",
      "['NAG.AX']: YFTzMissingError('$%ticker%: possibly delisted; no timezone found')\n",
      "Failed to get ticker 'KNB.AX' reason: Expecting value: line 1 column 1 (char 0)\n",
      "\n",
      "1 Failed download:\n",
      "['KNB.AX']: YFTzMissingError('$%ticker%: possibly delisted; no timezone found')\n",
      "Failed to get ticker 'RAD.AX' reason: Expecting value: line 1 column 1 (char 0)\n",
      "\n",
      "1 Failed download:\n",
      "['RAD.AX']: YFTzMissingError('$%ticker%: possibly delisted; no timezone found')\n",
      "Failed to get ticker 'DUN.AX' reason: Expecting value: line 1 column 1 (char 0)\n",
      "\n",
      "1 Failed download:\n",
      "['DUN.AX']: YFTzMissingError('$%ticker%: possibly delisted; no timezone found')\n",
      "Failed to get ticker 'GLN.AX' reason: Expecting value: line 1 column 1 (char 0)\n",
      "\n",
      "1 Failed download:\n",
      "['GLN.AX']: YFTzMissingError('$%ticker%: possibly delisted; no timezone found')\n",
      "Failed to get ticker 'BTN.AX' reason: Expecting value: line 1 column 1 (char 0)\n",
      "\n",
      "1 Failed download:\n",
      "['BTN.AX']: YFTzMissingError('$%ticker%: possibly delisted; no timezone found')\n",
      "Failed to get ticker 'TMB.AX' reason: Expecting value: line 1 column 1 (char 0)\n",
      "\n",
      "1 Failed download:\n",
      "['TMB.AX']: YFTzMissingError('$%ticker%: possibly delisted; no timezone found')\n",
      "Failed to get ticker 'VRX.AX' reason: Expecting value: line 1 column 1 (char 0)\n",
      "\n",
      "1 Failed download:\n",
      "['VRX.AX']: YFTzMissingError('$%ticker%: possibly delisted; no timezone found')\n",
      "Failed to get ticker 'SLZ.AX' reason: Expecting value: line 1 column 1 (char 0)\n",
      "\n",
      "1 Failed download:\n",
      "['SLZ.AX']: YFTzMissingError('$%ticker%: possibly delisted; no timezone found')\n",
      "Failed to get ticker 'HPC.AX' reason: Expecting value: line 1 column 1 (char 0)\n",
      "\n",
      "1 Failed download:\n",
      "['HPC.AX']: YFTzMissingError('$%ticker%: possibly delisted; no timezone found')\n",
      "Failed to get ticker 'SYA.AX' reason: Expecting value: line 1 column 1 (char 0)\n",
      "\n",
      "1 Failed download:\n",
      "['SYA.AX']: YFTzMissingError('$%ticker%: possibly delisted; no timezone found')\n",
      "Failed to get ticker 'DM1.AX' reason: Expecting value: line 1 column 1 (char 0)\n",
      "\n",
      "1 Failed download:\n",
      "['DM1.AX']: YFTzMissingError('$%ticker%: possibly delisted; no timezone found')\n",
      "Failed to get ticker 'GMN.AX' reason: Expecting value: line 1 column 1 (char 0)\n",
      "\n",
      "1 Failed download:\n",
      "['GMN.AX']: YFTzMissingError('$%ticker%: possibly delisted; no timezone found')\n",
      "Failed to get ticker 'ZLD.AX' reason: Expecting value: line 1 column 1 (char 0)\n",
      "\n",
      "1 Failed download:\n",
      "['ZLD.AX']: YFTzMissingError('$%ticker%: possibly delisted; no timezone found')\n",
      "Failed to get ticker 'LDX.AX' reason: Expecting value: line 1 column 1 (char 0)\n",
      "\n",
      "1 Failed download:\n",
      "['LDX.AX']: YFTzMissingError('$%ticker%: possibly delisted; no timezone found')\n",
      "Failed to get ticker 'NHE.AX' reason: Expecting value: line 1 column 1 (char 0)\n",
      "\n",
      "1 Failed download:\n",
      "['NHE.AX']: YFTzMissingError('$%ticker%: possibly delisted; no timezone found')\n",
      "Failed to get ticker 'SCN.AX' reason: Expecting value: line 1 column 1 (char 0)\n",
      "\n",
      "1 Failed download:\n",
      "['SCN.AX']: YFTzMissingError('$%ticker%: possibly delisted; no timezone found')\n",
      "Failed to get ticker 'RTR.AX' reason: Expecting value: line 1 column 1 (char 0)\n",
      "\n",
      "1 Failed download:\n",
      "['RTR.AX']: YFTzMissingError('$%ticker%: possibly delisted; no timezone found')\n",
      "Failed to get ticker 'TG6.AX' reason: Expecting value: line 1 column 1 (char 0)\n",
      "\n",
      "1 Failed download:\n",
      "['TG6.AX']: YFTzMissingError('$%ticker%: possibly delisted; no timezone found')\n",
      "Failed to get ticker 'KFM.AX' reason: Expecting value: line 1 column 1 (char 0)\n",
      "\n",
      "1 Failed download:\n",
      "['KFM.AX']: YFTzMissingError('$%ticker%: possibly delisted; no timezone found')\n",
      "Failed to get ticker 'MI6.AX' reason: Expecting value: line 1 column 1 (char 0)\n",
      "\n",
      "1 Failed download:\n",
      "['MI6.AX']: YFTzMissingError('$%ticker%: possibly delisted; no timezone found')\n",
      "Failed to get ticker 'BOD.AX' reason: Expecting value: line 1 column 1 (char 0)\n",
      "\n",
      "1 Failed download:\n",
      "['BOD.AX']: YFTzMissingError('$%ticker%: possibly delisted; no timezone found')\n",
      "Failed to get ticker 'BMM.AX' reason: Expecting value: line 1 column 1 (char 0)\n",
      "\n",
      "1 Failed download:\n",
      "['BMM.AX']: YFTzMissingError('$%ticker%: possibly delisted; no timezone found')\n",
      "Failed to get ticker 'TNC.AX' reason: Expecting value: line 1 column 1 (char 0)\n",
      "\n",
      "1 Failed download:\n",
      "['TNC.AX']: YFTzMissingError('$%ticker%: possibly delisted; no timezone found')\n",
      "Failed to get ticker 'G88.AX' reason: Expecting value: line 1 column 1 (char 0)\n",
      "\n",
      "1 Failed download:\n",
      "['G88.AX']: YFTzMissingError('$%ticker%: possibly delisted; no timezone found')\n",
      "Failed to get ticker 'SVG.AX' reason: Expecting value: line 1 column 1 (char 0)\n",
      "\n",
      "1 Failed download:\n",
      "['SVG.AX']: YFTzMissingError('$%ticker%: possibly delisted; no timezone found')\n",
      "Failed to get ticker 'IXU.AX' reason: Expecting value: line 1 column 1 (char 0)\n",
      "\n",
      "1 Failed download:\n",
      "['IXU.AX']: YFTzMissingError('$%ticker%: possibly delisted; no timezone found')\n",
      "Failed to get ticker 'LLI.AX' reason: Expecting value: line 1 column 1 (char 0)\n",
      "\n",
      "1 Failed download:\n",
      "['LLI.AX']: YFTzMissingError('$%ticker%: possibly delisted; no timezone found')\n",
      "Failed to get ticker 'HMD.AX' reason: Expecting value: line 1 column 1 (char 0)\n",
      "\n",
      "1 Failed download:\n",
      "['HMD.AX']: YFTzMissingError('$%ticker%: possibly delisted; no timezone found')\n",
      "Failed to get ticker 'MRZ.AX' reason: Expecting value: line 1 column 1 (char 0)\n",
      "\n",
      "1 Failed download:\n",
      "['MRZ.AX']: YFTzMissingError('$%ticker%: possibly delisted; no timezone found')\n",
      "Failed to get ticker 'RNE.AX' reason: Expecting value: line 1 column 1 (char 0)\n",
      "\n",
      "1 Failed download:\n",
      "['RNE.AX']: YFTzMissingError('$%ticker%: possibly delisted; no timezone found')\n",
      "Failed to get ticker 'SPQ.AX' reason: Expecting value: line 1 column 1 (char 0)\n",
      "\n",
      "1 Failed download:\n",
      "['SPQ.AX']: YFTzMissingError('$%ticker%: possibly delisted; no timezone found')\n",
      "Failed to get ticker 'BP8.AX' reason: Expecting value: line 1 column 1 (char 0)\n",
      "\n",
      "1 Failed download:\n",
      "['BP8.AX']: YFTzMissingError('$%ticker%: possibly delisted; no timezone found')\n",
      "Failed to get ticker 'EEL.AX' reason: Expecting value: line 1 column 1 (char 0)\n",
      "\n",
      "1 Failed download:\n",
      "['EEL.AX']: YFTzMissingError('$%ticker%: possibly delisted; no timezone found')\n",
      "Failed to get ticker 'CPM.AX' reason: Expecting value: line 1 column 1 (char 0)\n",
      "\n",
      "1 Failed download:\n",
      "['CPM.AX']: YFTzMissingError('$%ticker%: possibly delisted; no timezone found')\n",
      "Failed to get ticker 'GLL.AX' reason: Expecting value: line 1 column 1 (char 0)\n",
      "\n",
      "1 Failed download:\n",
      "['GLL.AX']: YFTzMissingError('$%ticker%: possibly delisted; no timezone found')\n",
      "Failed to get ticker 'BLZ.AX' reason: Expecting value: line 1 column 1 (char 0)\n",
      "\n",
      "1 Failed download:\n",
      "['BLZ.AX']: YFTzMissingError('$%ticker%: possibly delisted; no timezone found')\n",
      "Failed to get ticker 'BXN.AX' reason: Expecting value: line 1 column 1 (char 0)\n",
      "\n",
      "1 Failed download:\n",
      "['BXN.AX']: YFTzMissingError('$%ticker%: possibly delisted; no timezone found')\n",
      "Failed to get ticker 'PLL.AX' reason: Expecting value: line 1 column 1 (char 0)\n",
      "\n",
      "1 Failed download:\n",
      "['PLL.AX']: YFTzMissingError('$%ticker%: possibly delisted; no timezone found')\n",
      "Failed to get ticker 'LPM.AX' reason: Expecting value: line 1 column 1 (char 0)\n",
      "\n",
      "1 Failed download:\n",
      "['LPM.AX']: YFTzMissingError('$%ticker%: possibly delisted; no timezone found')\n",
      "Failed to get ticker 'M2R.AX' reason: Expecting value: line 1 column 1 (char 0)\n",
      "\n",
      "1 Failed download:\n",
      "['M2R.AX']: YFTzMissingError('$%ticker%: possibly delisted; no timezone found')\n",
      "Failed to get ticker 'BMO.AX' reason: Expecting value: line 1 column 1 (char 0)\n",
      "\n",
      "1 Failed download:\n",
      "['BMO.AX']: YFTzMissingError('$%ticker%: possibly delisted; no timezone found')\n",
      "Failed to get ticker 'YAR.AX' reason: Expecting value: line 1 column 1 (char 0)\n",
      "\n",
      "1 Failed download:\n",
      "['YAR.AX']: YFTzMissingError('$%ticker%: possibly delisted; no timezone found')\n",
      "Failed to get ticker '3DP.AX' reason: Expecting value: line 1 column 1 (char 0)\n",
      "\n",
      "1 Failed download:\n",
      "['3DP.AX']: YFTzMissingError('$%ticker%: possibly delisted; no timezone found')\n",
      "Failed to get ticker 'GSM.AX' reason: Expecting value: line 1 column 1 (char 0)\n",
      "\n",
      "1 Failed download:\n",
      "['GSM.AX']: YFTzMissingError('$%ticker%: possibly delisted; no timezone found')\n",
      "Failed to get ticker 'GL1.AX' reason: Expecting value: line 1 column 1 (char 0)\n",
      "\n",
      "1 Failed download:\n",
      "['GL1.AX']: YFTzMissingError('$%ticker%: possibly delisted; no timezone found')\n",
      "Failed to get ticker 'EV1.AX' reason: Expecting value: line 1 column 1 (char 0)\n",
      "\n",
      "1 Failed download:\n",
      "['EV1.AX']: YFTzMissingError('$%ticker%: possibly delisted; no timezone found')\n",
      "Failed to get ticker 'TMK.AX' reason: Expecting value: line 1 column 1 (char 0)\n",
      "\n",
      "1 Failed download:\n",
      "['TMK.AX']: YFTzMissingError('$%ticker%: possibly delisted; no timezone found')\n",
      "Failed to get ticker 'TTA.AX' reason: Expecting value: line 1 column 1 (char 0)\n",
      "\n",
      "1 Failed download:\n",
      "['TTA.AX']: YFTzMissingError('$%ticker%: possibly delisted; no timezone found')\n",
      "Failed to get ticker 'LNR.AX' reason: Expecting value: line 1 column 1 (char 0)\n",
      "\n",
      "1 Failed download:\n",
      "['LNR.AX']: YFTzMissingError('$%ticker%: possibly delisted; no timezone found')\n",
      "Failed to get ticker 'NMT.AX' reason: Expecting value: line 1 column 1 (char 0)\n",
      "\n",
      "1 Failed download:\n",
      "['NMT.AX']: YFTzMissingError('$%ticker%: possibly delisted; no timezone found')\n",
      "Failed to get ticker 'CMD.AX' reason: Expecting value: line 1 column 1 (char 0)\n",
      "\n",
      "1 Failed download:\n",
      "['CMD.AX']: YFTzMissingError('$%ticker%: possibly delisted; no timezone found')\n",
      "Failed to get ticker 'LVH.AX' reason: Expecting value: line 1 column 1 (char 0)\n",
      "\n",
      "1 Failed download:\n",
      "['LVH.AX']: YFTzMissingError('$%ticker%: possibly delisted; no timezone found')\n",
      "Failed to get ticker 'MHC.AX' reason: Expecting value: line 1 column 1 (char 0)\n",
      "\n",
      "1 Failed download:\n",
      "['MHC.AX']: YFTzMissingError('$%ticker%: possibly delisted; no timezone found')\n",
      "Failed to get ticker 'CRR.AX' reason: Expecting value: line 1 column 1 (char 0)\n",
      "\n",
      "1 Failed download:\n",
      "['CRR.AX']: YFTzMissingError('$%ticker%: possibly delisted; no timezone found')\n",
      "Failed to get ticker 'FRE.AX' reason: Expecting value: line 1 column 1 (char 0)\n",
      "\n",
      "1 Failed download:\n",
      "['FRE.AX']: YFTzMissingError('$%ticker%: possibly delisted; no timezone found')\n",
      "Failed to get ticker 'JRV.AX' reason: Expecting value: line 1 column 1 (char 0)\n",
      "\n",
      "1 Failed download:\n",
      "['JRV.AX']: YFTzMissingError('$%ticker%: possibly delisted; no timezone found')\n",
      "Failed to get ticker 'AS2.AX' reason: Expecting value: line 1 column 1 (char 0)\n",
      "\n",
      "1 Failed download:\n",
      "['AS2.AX']: YFTzMissingError('$%ticker%: possibly delisted; no timezone found')\n",
      "Failed to get ticker 'ICG.AX' reason: Expecting value: line 1 column 1 (char 0)\n",
      "\n",
      "1 Failed download:\n",
      "['ICG.AX']: YFTzMissingError('$%ticker%: possibly delisted; no timezone found')\n",
      "Failed to get ticker 'COB.AX' reason: Expecting value: line 1 column 1 (char 0)\n",
      "\n",
      "1 Failed download:\n",
      "['COB.AX']: YFTzMissingError('$%ticker%: possibly delisted; no timezone found')\n",
      "Failed to get ticker 'AIV.AX' reason: Expecting value: line 1 column 1 (char 0)\n",
      "\n",
      "1 Failed download:\n",
      "['AIV.AX']: YFTzMissingError('$%ticker%: possibly delisted; no timezone found')\n",
      "Failed to get ticker 'VBS.AX' reason: Expecting value: line 1 column 1 (char 0)\n",
      "\n",
      "1 Failed download:\n",
      "['VBS.AX']: YFTzMissingError('$%ticker%: possibly delisted; no timezone found')\n",
      "Failed to get ticker 'RBX.AX' reason: Expecting value: line 1 column 1 (char 0)\n",
      "\n",
      "1 Failed download:\n",
      "['RBX.AX']: YFTzMissingError('$%ticker%: possibly delisted; no timezone found')\n",
      "Failed to get ticker 'ASO.AX' reason: Expecting value: line 1 column 1 (char 0)\n",
      "\n",
      "1 Failed download:\n",
      "['ASO.AX']: YFTzMissingError('$%ticker%: possibly delisted; no timezone found')\n",
      "Failed to get ticker 'LPD.AX' reason: Expecting value: line 1 column 1 (char 0)\n",
      "\n",
      "1 Failed download:\n",
      "['LPD.AX']: YFTzMissingError('$%ticker%: possibly delisted; no timezone found')\n",
      "Failed to get ticker 'OXT.AX' reason: Expecting value: line 1 column 1 (char 0)\n",
      "\n",
      "1 Failed download:\n",
      "['OXT.AX']: YFTzMissingError('$%ticker%: possibly delisted; no timezone found')\n",
      "Failed to get ticker 'VEN.AX' reason: Expecting value: line 1 column 1 (char 0)\n",
      "\n",
      "1 Failed download:\n",
      "['VEN.AX']: YFTzMissingError('$%ticker%: possibly delisted; no timezone found')\n",
      "Failed to get ticker 'CY5.AX' reason: Expecting value: line 1 column 1 (char 0)\n",
      "\n",
      "1 Failed download:\n",
      "['CY5.AX']: YFTzMissingError('$%ticker%: possibly delisted; no timezone found')\n",
      "Failed to get ticker 'GCM.AX' reason: Expecting value: line 1 column 1 (char 0)\n",
      "\n",
      "1 Failed download:\n",
      "['GCM.AX']: YFTzMissingError('$%ticker%: possibly delisted; no timezone found')\n",
      "Failed to get ticker 'RFT.AX' reason: Expecting value: line 1 column 1 (char 0)\n",
      "\n",
      "1 Failed download:\n",
      "['RFT.AX']: YFTzMissingError('$%ticker%: possibly delisted; no timezone found')\n",
      "Failed to get ticker 'ZEU.AX' reason: Expecting value: line 1 column 1 (char 0)\n",
      "\n",
      "1 Failed download:\n",
      "['ZEU.AX']: YFTzMissingError('$%ticker%: possibly delisted; no timezone found')\n",
      "Failed to get ticker 'IR1.AX' reason: Expecting value: line 1 column 1 (char 0)\n",
      "\n",
      "1 Failed download:\n",
      "['IR1.AX']: YFTzMissingError('$%ticker%: possibly delisted; no timezone found')\n",
      "Failed to get ticker 'IMI.AX' reason: Expecting value: line 1 column 1 (char 0)\n",
      "\n",
      "1 Failed download:\n",
      "['IMI.AX']: YFTzMissingError('$%ticker%: possibly delisted; no timezone found')\n",
      "Failed to get ticker 'VIT.AX' reason: Expecting value: line 1 column 1 (char 0)\n",
      "\n",
      "1 Failed download:\n",
      "['VIT.AX']: YFTzMissingError('$%ticker%: possibly delisted; no timezone found')\n",
      "Failed to get ticker 'CHR.AX' reason: Expecting value: line 1 column 1 (char 0)\n",
      "\n",
      "1 Failed download:\n",
      "['CHR.AX']: YFTzMissingError('$%ticker%: possibly delisted; no timezone found')\n",
      "Failed to get ticker 'IND.AX' reason: Expecting value: line 1 column 1 (char 0)\n",
      "\n",
      "1 Failed download:\n",
      "['IND.AX']: YFTzMissingError('$%ticker%: possibly delisted; no timezone found')\n",
      "Failed to get ticker 'LSR.AX' reason: Expecting value: line 1 column 1 (char 0)\n",
      "\n",
      "1 Failed download:\n",
      "['LSR.AX']: YFTzMissingError('$%ticker%: possibly delisted; no timezone found')\n",
      "Failed to get ticker 'DUB.AX' reason: Expecting value: line 1 column 1 (char 0)\n",
      "\n",
      "1 Failed download:\n",
      "['DUB.AX']: YFTzMissingError('$%ticker%: possibly delisted; no timezone found')\n",
      "Failed to get ticker 'NIS.AX' reason: Expecting value: line 1 column 1 (char 0)\n",
      "\n",
      "1 Failed download:\n",
      "['NIS.AX']: YFTzMissingError('$%ticker%: possibly delisted; no timezone found')\n",
      "Failed to get ticker 'ACM.AX' reason: Expecting value: line 1 column 1 (char 0)\n",
      "\n",
      "1 Failed download:\n",
      "['ACM.AX']: YFTzMissingError('$%ticker%: possibly delisted; no timezone found')\n",
      "Failed to get ticker 'CC9.AX' reason: Expecting value: line 1 column 1 (char 0)\n",
      "\n",
      "1 Failed download:\n",
      "['CC9.AX']: YFTzMissingError('$%ticker%: possibly delisted; no timezone found')\n",
      "Failed to get ticker 'APX.AX' reason: Expecting value: line 1 column 1 (char 0)\n",
      "\n",
      "1 Failed download:\n",
      "['APX.AX']: YFTzMissingError('$%ticker%: possibly delisted; no timezone found')\n",
      "Failed to get ticker 'SLB.AX' reason: Expecting value: line 1 column 1 (char 0)\n",
      "\n",
      "1 Failed download:\n",
      "['SLB.AX']: YFTzMissingError('$%ticker%: possibly delisted; no timezone found')\n",
      "Failed to get ticker 'BCT.AX' reason: Expecting value: line 1 column 1 (char 0)\n",
      "\n",
      "1 Failed download:\n",
      "['BCT.AX']: YFTzMissingError('$%ticker%: possibly delisted; no timezone found')\n",
      "Failed to get ticker 'NIM.AX' reason: Expecting value: line 1 column 1 (char 0)\n",
      "\n",
      "1 Failed download:\n",
      "['NIM.AX']: YFTzMissingError('$%ticker%: possibly delisted; no timezone found')\n",
      "Failed to get ticker 'XPN.AX' reason: Expecting value: line 1 column 1 (char 0)\n",
      "\n",
      "1 Failed download:\n",
      "['XPN.AX']: YFTzMissingError('$%ticker%: possibly delisted; no timezone found')\n",
      "Failed to get ticker 'MM1.AX' reason: Expecting value: line 1 column 1 (char 0)\n",
      "\n",
      "1 Failed download:\n",
      "['MM1.AX']: YFTzMissingError('$%ticker%: possibly delisted; no timezone found')\n",
      "Failed to get ticker 'MEG.AX' reason: Expecting value: line 1 column 1 (char 0)\n",
      "\n",
      "1 Failed download:\n",
      "['MEG.AX']: YFTzMissingError('$%ticker%: possibly delisted; no timezone found')\n",
      "Failed to get ticker 'OLY.AX' reason: Expecting value: line 1 column 1 (char 0)\n",
      "\n",
      "1 Failed download:\n",
      "['OLY.AX']: YFTzMissingError('$%ticker%: possibly delisted; no timezone found')\n",
      "Failed to get ticker 'WIN.AX' reason: Expecting value: line 1 column 1 (char 0)\n",
      "\n",
      "1 Failed download:\n",
      "['WIN.AX']: YFTzMissingError('$%ticker%: possibly delisted; no timezone found')\n",
      "Failed to get ticker '8VI.AX' reason: Expecting value: line 1 column 1 (char 0)\n",
      "\n",
      "1 Failed download:\n",
      "['8VI.AX']: YFTzMissingError('$%ticker%: possibly delisted; no timezone found')\n",
      "Failed to get ticker 'MSG.AX' reason: Expecting value: line 1 column 1 (char 0)\n",
      "\n",
      "1 Failed download:\n",
      "['MSG.AX']: YFTzMissingError('$%ticker%: possibly delisted; no timezone found')\n",
      "Failed to get ticker 'NGS.AX' reason: Expecting value: line 1 column 1 (char 0)\n",
      "\n",
      "1 Failed download:\n",
      "['NGS.AX']: YFTzMissingError('$%ticker%: possibly delisted; no timezone found')\n",
      "Failed to get ticker 'VSR.AX' reason: Expecting value: line 1 column 1 (char 0)\n",
      "\n",
      "1 Failed download:\n",
      "['VSR.AX']: YFTzMissingError('$%ticker%: possibly delisted; no timezone found')\n",
      "Failed to get ticker 'WSR.AX' reason: Expecting value: line 1 column 1 (char 0)\n",
      "\n",
      "1 Failed download:\n",
      "['WSR.AX']: YFTzMissingError('$%ticker%: possibly delisted; no timezone found')\n",
      "Failed to get ticker 'SHO.AX' reason: Expecting value: line 1 column 1 (char 0)\n",
      "\n",
      "1 Failed download:\n",
      "['SHO.AX']: YFTzMissingError('$%ticker%: possibly delisted; no timezone found')\n",
      "Failed to get ticker 'RR1.AX' reason: Expecting value: line 1 column 1 (char 0)\n",
      "\n",
      "1 Failed download:\n",
      "['RR1.AX']: YFTzMissingError('$%ticker%: possibly delisted; no timezone found')\n",
      "Failed to get ticker 'AVM.AX' reason: Expecting value: line 1 column 1 (char 0)\n",
      "\n",
      "1 Failed download:\n",
      "['AVM.AX']: YFTzMissingError('$%ticker%: possibly delisted; no timezone found')\n",
      "Failed to get ticker 'AAU.AX' reason: Expecting value: line 1 column 1 (char 0)\n",
      "\n",
      "1 Failed download:\n",
      "['AAU.AX']: YFTzMissingError('$%ticker%: possibly delisted; no timezone found')\n",
      "Failed to get ticker 'POS.AX' reason: Expecting value: line 1 column 1 (char 0)\n",
      "\n",
      "1 Failed download:\n",
      "['POS.AX']: YFTzMissingError('$%ticker%: possibly delisted; no timezone found')\n",
      "Failed to get ticker 'AUG.AX' reason: Expecting value: line 1 column 1 (char 0)\n",
      "\n",
      "1 Failed download:\n",
      "['AUG.AX']: YFTzMissingError('$%ticker%: possibly delisted; no timezone found')\n",
      "Failed to get ticker 'RHY.AX' reason: Expecting value: line 1 column 1 (char 0)\n",
      "\n",
      "1 Failed download:\n",
      "['RHY.AX']: YFTzMissingError('$%ticker%: possibly delisted; no timezone found')\n",
      "Failed to get ticker 'WYX.AX' reason: Expecting value: line 1 column 1 (char 0)\n",
      "\n",
      "1 Failed download:\n",
      "['WYX.AX']: YFTzMissingError('$%ticker%: possibly delisted; no timezone found')\n",
      "Failed to get ticker 'LM1.AX' reason: Expecting value: line 1 column 1 (char 0)\n",
      "\n",
      "1 Failed download:\n",
      "['LM1.AX']: YFTzMissingError('$%ticker%: possibly delisted; no timezone found')\n",
      "Failed to get ticker 'PBL.AX' reason: Expecting value: line 1 column 1 (char 0)\n",
      "\n",
      "1 Failed download:\n",
      "['PBL.AX']: YFTzMissingError('$%ticker%: possibly delisted; no timezone found')\n",
      "Failed to get ticker 'CNJ.AX' reason: Expecting value: line 1 column 1 (char 0)\n",
      "\n",
      "1 Failed download:\n",
      "['CNJ.AX']: YFTzMissingError('$%ticker%: possibly delisted; no timezone found')\n",
      "Failed to get ticker 'HAS.AX' reason: Expecting value: line 1 column 1 (char 0)\n",
      "\n",
      "1 Failed download:\n",
      "['HAS.AX']: YFTzMissingError('$%ticker%: possibly delisted; no timezone found')\n",
      "Failed to get ticker 'TKL.AX' reason: Expecting value: line 1 column 1 (char 0)\n",
      "\n",
      "1 Failed download:\n",
      "['TKL.AX']: YFTzMissingError('$%ticker%: possibly delisted; no timezone found')\n",
      "Failed to get ticker 'ADD.AX' reason: Expecting value: line 1 column 1 (char 0)\n",
      "\n",
      "1 Failed download:\n",
      "['ADD.AX']: YFTzMissingError('$%ticker%: possibly delisted; no timezone found')\n",
      "Failed to get ticker 'CXO.AX' reason: Expecting value: line 1 column 1 (char 0)\n",
      "\n",
      "1 Failed download:\n",
      "['CXO.AX']: YFTzMissingError('$%ticker%: possibly delisted; no timezone found')\n",
      "Failed to get ticker 'WML.AX' reason: Expecting value: line 1 column 1 (char 0)\n",
      "\n",
      "1 Failed download:\n",
      "['WML.AX']: YFTzMissingError('$%ticker%: possibly delisted; no timezone found')\n",
      "Failed to get ticker 'OCN.AX' reason: Expecting value: line 1 column 1 (char 0)\n",
      "\n",
      "1 Failed download:\n",
      "['OCN.AX']: YFTzMissingError('$%ticker%: possibly delisted; no timezone found')\n",
      "Failed to get ticker 'LKE.AX' reason: Expecting value: line 1 column 1 (char 0)\n",
      "\n",
      "1 Failed download:\n",
      "['LKE.AX']: YFTzMissingError('$%ticker%: possibly delisted; no timezone found')\n",
      "Failed to get ticker 'NXD.AX' reason: Expecting value: line 1 column 1 (char 0)\n",
      "\n",
      "1 Failed download:\n",
      "['NXD.AX']: YFTzMissingError('$%ticker%: possibly delisted; no timezone found')\n",
      "Failed to get ticker 'GT1.AX' reason: Expecting value: line 1 column 1 (char 0)\n",
      "\n",
      "1 Failed download:\n",
      "['GT1.AX']: YFTzMissingError('$%ticker%: possibly delisted; no timezone found')\n",
      "Failed to get ticker 'ABE.AX' reason: Expecting value: line 1 column 1 (char 0)\n",
      "\n",
      "1 Failed download:\n",
      "['ABE.AX']: YFTzMissingError('$%ticker%: possibly delisted; no timezone found')\n",
      "Failed to get ticker 'REC.AX' reason: Expecting value: line 1 column 1 (char 0)\n",
      "\n",
      "1 Failed download:\n",
      "['REC.AX']: YFTzMissingError('$%ticker%: possibly delisted; no timezone found')\n",
      "Failed to get ticker 'APC.AX' reason: Expecting value: line 1 column 1 (char 0)\n",
      "\n",
      "1 Failed download:\n",
      "['APC.AX']: YFTzMissingError('$%ticker%: possibly delisted; no timezone found')\n",
      "Failed to get ticker 'SLM.AX' reason: Expecting value: line 1 column 1 (char 0)\n",
      "\n",
      "1 Failed download:\n",
      "['SLM.AX']: YFTzMissingError('$%ticker%: possibly delisted; no timezone found')\n",
      "Failed to get ticker 'NRZ.AX' reason: Expecting value: line 1 column 1 (char 0)\n",
      "\n",
      "1 Failed download:\n",
      "['NRZ.AX']: YFTzMissingError('$%ticker%: possibly delisted; no timezone found')\n",
      "Failed to get ticker 'JAY.AX' reason: Expecting value: line 1 column 1 (char 0)\n",
      "\n",
      "1 Failed download:\n",
      "['JAY.AX']: YFTzMissingError('$%ticker%: possibly delisted; no timezone found')\n",
      "Failed to get ticker 'C1X.AX' reason: Expecting value: line 1 column 1 (char 0)\n",
      "\n",
      "1 Failed download:\n",
      "['C1X.AX']: YFTzMissingError('$%ticker%: possibly delisted; no timezone found')\n",
      "Failed to get ticker 'IBX.AX' reason: Expecting value: line 1 column 1 (char 0)\n",
      "\n",
      "1 Failed download:\n",
      "['IBX.AX']: YFTzMissingError('$%ticker%: possibly delisted; no timezone found')\n",
      "Failed to get ticker 'WOA.AX' reason: Expecting value: line 1 column 1 (char 0)\n",
      "\n",
      "1 Failed download:\n",
      "['WOA.AX']: YFTzMissingError('$%ticker%: possibly delisted; no timezone found')\n",
      "Failed to get ticker 'CLZ.AX' reason: Expecting value: line 1 column 1 (char 0)\n",
      "\n",
      "1 Failed download:\n",
      "['CLZ.AX']: YFTzMissingError('$%ticker%: possibly delisted; no timezone found')\n",
      "Failed to get ticker 'ICU.AX' reason: Expecting value: line 1 column 1 (char 0)\n",
      "\n",
      "1 Failed download:\n",
      "['ICU.AX']: YFTzMissingError('$%ticker%: possibly delisted; no timezone found')\n",
      "Failed to get ticker 'OSX.AX' reason: Expecting value: line 1 column 1 (char 0)\n",
      "\n",
      "1 Failed download:\n",
      "['OSX.AX']: YFTzMissingError('$%ticker%: possibly delisted; no timezone found')\n",
      "Failed to get ticker 'CYB.AX' reason: Expecting value: line 1 column 1 (char 0)\n",
      "\n",
      "1 Failed download:\n",
      "['CYB.AX']: YFTzMissingError('$%ticker%: possibly delisted; no timezone found')\n"
     ]
    },
    {
     "data": {
      "text/html": [
       "<div>\n",
       "<style scoped>\n",
       "    .dataframe tbody tr th:only-of-type {\n",
       "        vertical-align: middle;\n",
       "    }\n",
       "\n",
       "    .dataframe tbody tr th {\n",
       "        vertical-align: top;\n",
       "    }\n",
       "\n",
       "    .dataframe thead th {\n",
       "        text-align: right;\n",
       "    }\n",
       "</style>\n",
       "<table border=\"1\" class=\"dataframe\">\n",
       "  <thead>\n",
       "    <tr style=\"text-align: right;\">\n",
       "      <th></th>\n",
       "      <th>Stock_Code</th>\n",
       "      <th>Price</th>\n",
       "      <th>End_Price</th>\n",
       "    </tr>\n",
       "  </thead>\n",
       "  <tbody>\n",
       "    <tr>\n",
       "      <th>0</th>\n",
       "      <td>A3D.AX</td>\n",
       "      <td>0.070000</td>\n",
       "      <td>Ticker\n",
       "A3D.AX    0.075\n",
       "Name: 2024-09-30 00:00:...</td>\n",
       "    </tr>\n",
       "    <tr>\n",
       "      <th>1</th>\n",
       "      <td>ACP.AX</td>\n",
       "      <td>0.022000</td>\n",
       "      <td>Ticker\n",
       "ACP.AX    0.018\n",
       "Name: 2024-09-30 00:00:...</td>\n",
       "    </tr>\n",
       "    <tr>\n",
       "      <th>2</th>\n",
       "      <td>ANL.AX</td>\n",
       "      <td>0.001000</td>\n",
       "      <td>Ticker\n",
       "ANL.AX    0.001\n",
       "Name: 2024-09-30 00:00:...</td>\n",
       "    </tr>\n",
       "    <tr>\n",
       "      <th>3</th>\n",
       "      <td>ATR.AX</td>\n",
       "      <td>0.770000</td>\n",
       "      <td>Ticker\n",
       "ATR.AX    0.82\n",
       "Name: 2024-09-30 00:00:0...</td>\n",
       "    </tr>\n",
       "    <tr>\n",
       "      <th>4</th>\n",
       "      <td>ATU.AX</td>\n",
       "      <td>0.004530</td>\n",
       "      <td>Ticker\n",
       "ATU.AX    0.00453\n",
       "Name: 2024-09-30 00:0...</td>\n",
       "    </tr>\n",
       "    <tr>\n",
       "      <th>...</th>\n",
       "      <td>...</td>\n",
       "      <td>...</td>\n",
       "      <td>...</td>\n",
       "    </tr>\n",
       "    <tr>\n",
       "      <th>1023</th>\n",
       "      <td>PTM.AX</td>\n",
       "      <td>0.958549</td>\n",
       "      <td>Ticker\n",
       "PTM.AX    1.17\n",
       "Name: 2024-09-30 00:00:0...</td>\n",
       "    </tr>\n",
       "    <tr>\n",
       "      <th>1024</th>\n",
       "      <td>UVA.AX</td>\n",
       "      <td>0.100000</td>\n",
       "      <td>Ticker\n",
       "UVA.AX    0.076\n",
       "Name: 2024-09-30 00:00:...</td>\n",
       "    </tr>\n",
       "    <tr>\n",
       "      <th>1025</th>\n",
       "      <td>IVXDB.AX</td>\n",
       "      <td>0.500000</td>\n",
       "      <td>Ticker\n",
       "IVXDB.AX    0.3\n",
       "Name: 2024-09-30 00:00:...</td>\n",
       "    </tr>\n",
       "    <tr>\n",
       "      <th>1026</th>\n",
       "      <td>PPS.AX</td>\n",
       "      <td>0.441346</td>\n",
       "      <td>Ticker\n",
       "PPS.AX    0.585\n",
       "Name: 2024-09-30 00:00:...</td>\n",
       "    </tr>\n",
       "    <tr>\n",
       "      <th>1027</th>\n",
       "      <td>CTO.AX</td>\n",
       "      <td>0.005000</td>\n",
       "      <td>Ticker\n",
       "CTO.AX    0.005\n",
       "Name: 2024-09-30 00:00:...</td>\n",
       "    </tr>\n",
       "  </tbody>\n",
       "</table>\n",
       "<p>1026 rows × 3 columns</p>\n",
       "</div>"
      ],
      "text/plain": [
       "     Stock_Code     Price                                          End_Price\n",
       "0        A3D.AX  0.070000  Ticker\n",
       "A3D.AX    0.075\n",
       "Name: 2024-09-30 00:00:...\n",
       "1        ACP.AX  0.022000  Ticker\n",
       "ACP.AX    0.018\n",
       "Name: 2024-09-30 00:00:...\n",
       "2        ANL.AX  0.001000  Ticker\n",
       "ANL.AX    0.001\n",
       "Name: 2024-09-30 00:00:...\n",
       "3        ATR.AX  0.770000  Ticker\n",
       "ATR.AX    0.82\n",
       "Name: 2024-09-30 00:00:0...\n",
       "4        ATU.AX  0.004530  Ticker\n",
       "ATU.AX    0.00453\n",
       "Name: 2024-09-30 00:0...\n",
       "...         ...       ...                                                ...\n",
       "1023     PTM.AX  0.958549  Ticker\n",
       "PTM.AX    1.17\n",
       "Name: 2024-09-30 00:00:0...\n",
       "1024     UVA.AX  0.100000  Ticker\n",
       "UVA.AX    0.076\n",
       "Name: 2024-09-30 00:00:...\n",
       "1025   IVXDB.AX  0.500000  Ticker\n",
       "IVXDB.AX    0.3\n",
       "Name: 2024-09-30 00:00:...\n",
       "1026     PPS.AX  0.441346  Ticker\n",
       "PPS.AX    0.585\n",
       "Name: 2024-09-30 00:00:...\n",
       "1027     CTO.AX  0.005000  Ticker\n",
       "CTO.AX    0.005\n",
       "Name: 2024-09-30 00:00:...\n",
       "\n",
       "[1026 rows x 3 columns]"
      ]
     },
     "execution_count": 7,
     "metadata": {},
     "output_type": "execute_result"
    }
   ],
   "source": [
    "import pandas as pd\n",
    "import yfinance as yf\n",
    "\n",
    "# Step 1: Load ASX_Cleaned.xlsx and extract specific columns\n",
    "def extract_start_price(input_file, output_csv):\n",
    "    \"\"\"从Excel中提取Stock_Code和Price列并保存为CSV\"\"\"\n",
    "    asx_data = pd.read_excel(input_file, usecols=[\"Stock_Code\", \"Price\"])\n",
    "    asx_data.to_csv(output_csv, index=False)\n",
    "\n",
    "# Step 2: Fetch End Prices from Yahoo Finance\n",
    "def fetch_end_prices(input_csv, output_csv, output_excel, target_date=\"2024-09-30\"):\n",
    "    \"\"\"从Yahoo Finance爬取股票在目标日期的收盘价，保存为CSV和Excel\"\"\"\n",
    "    # Load start price data\n",
    "    start_price_data = pd.read_csv(input_csv)\n",
    "    stock_codes = start_price_data[\"Stock_Code\"]\n",
    "    \n",
    "    # Initialize a list to store end prices\n",
    "    end_prices = []\n",
    "    \n",
    "    for stock_code in stock_codes:\n",
    "        try:\n",
    "            # Fetch data for the target date\n",
    "            data = yf.download(stock_code, start=target_date, end=\"2024-10-01\", progress=False)\n",
    "            close_price = data[\"Close\"].iloc[0] if not data.empty else None\n",
    "            end_prices.append(close_price)\n",
    "        except Exception as e:\n",
    "            print(f\"Error fetching data for {stock_code}: {e}\")\n",
    "            end_prices.append(None)\n",
    "    \n",
    "    # Add end prices to the DataFrame\n",
    "    start_price_data[\"End_Price\"] = end_prices\n",
    "    \n",
    "    # Remove rows where End_Price is NaN\n",
    "    filtered_data = start_price_data.dropna(subset=[\"End_Price\"])\n",
    "    \n",
    "    # Save to CSV\n",
    "    filtered_data.to_csv(output_csv, index=False)\n",
    "    \n",
    "    # Save to Excel\n",
    "    filtered_data.to_excel(output_excel, index=False)\n",
    "    return filtered_data\n",
    "\n",
    "# Input and output file paths\n",
    "input_excel = \"ASX_all_stocks.xlsx\"\n",
    "start_price_csv = \"all_Start_Price.csv\"\n",
    "end_price_csv = \"all_Start_End_Price.csv\"\n",
    "end_price_excel = \"all_Start_End_Price.xlsx\"\n",
    "\n",
    "# Execute steps\n",
    "extract_start_price(input_excel, start_price_csv)\n",
    "fetch_end_prices(start_price_csv, end_price_csv, end_price_excel)\n"
   ]
  },
  {
   "cell_type": "markdown",
   "metadata": {},
   "source": [
    "### Change the table headers."
   ]
  },
  {
   "cell_type": "code",
   "execution_count": null,
   "metadata": {},
   "outputs": [],
   "source": [
    "import pandas as pd\n",
    "\n",
    "# Load the CSV file\n",
    "input_csv = \"200_Start_End_Price.csv\"\n",
    "data = pd.read_csv(input_csv)\n",
    "\n",
    "# Rename the column 'Price' to 'End_Price'\n",
    "data.rename(columns={\"Price\": \"Start_Price\"}, inplace=True)\n",
    "\n",
    "# Save the updated file\n",
    "data.to_csv(input_csv, index=False)\n",
    "\n",
    "print(f\"Column renamed successfully. Updated file saved as {input_csv}.\")\n"
   ]
  },
  {
   "cell_type": "markdown",
   "metadata": {},
   "source": [
    "### Calculate simple return and log return."
   ]
  },
  {
   "cell_type": "code",
   "execution_count": null,
   "metadata": {},
   "outputs": [],
   "source": [
    "import pandas as pd\n",
    "import numpy as np\n",
    "\n",
    "# Step 1: Load 200_Start_End_Price.csv\n",
    "input_csv = \"200_Start_End_Price.csv\"\n",
    "data = pd.read_csv(input_csv)\n",
    "\n",
    "# Step 2: Calculate Simple Return and Log Return\n",
    "data[\"Simple_Return\"] = (data[\"End_Price\"] - data[\"Start_Price\"]) / data[\"Start_Price\"]\n",
    "data[\"Log_Return\"] = np.log(data[\"End_Price\"] / data[\"Start_Price\"])\n",
    "\n",
    "# Step 3: Save the results to CSV and Excel\n",
    "output_csv = \"200_simple_log_return.csv\"\n",
    "output_excel = \"200_simple_log_return.xlsx\"\n",
    "\n",
    "# Save to CSV\n",
    "data.to_csv(output_csv, index=False)\n",
    "\n",
    "# Save to Excel\n",
    "data.to_excel(output_excel, index=False)\n"
   ]
  },
  {
   "cell_type": "markdown",
   "metadata": {},
   "source": [
    "### Perform a one-sided t-test."
   ]
  },
  {
   "cell_type": "code",
   "execution_count": null,
   "metadata": {},
   "outputs": [],
   "source": [
    "import pandas as pd\n",
    "import numpy as np\n",
    "import yfinance as yf\n",
    "from scipy.stats import ttest_1samp\n",
    "\n",
    "# Step 1: Load stock data\n",
    "stock_data_file = \"200_simple_log_return.csv\"\n",
    "stock_data = pd.read_csv(stock_data_file)\n",
    "\n",
    "# Step 2: Fetch market data (^AORD) from Yahoo Finance\n",
    "def fetch_market_data(ticker, start_date, end_date):\n",
    "    \"\"\"Fetch market data from Yahoo Finance and ensure Close prices are used\"\"\"\n",
    "    data = yf.download(ticker, start=start_date, end=end_date, progress=False)\n",
    "    if \"Close\" not in data.columns:\n",
    "        raise ValueError(\"Close prices are not available in the downloaded data.\")\n",
    "    return data\n",
    "\n",
    "# Fetch ^AORD data\n",
    "market_ticker = \"^AORD\"\n",
    "market_start_date = \"2024-06-06\"\n",
    "market_end_date = \"2024-10-01\"  # Include 2024-09-30 data\n",
    "\n",
    "market_data = fetch_market_data(market_ticker, market_start_date, market_end_date)\n",
    "\n",
    "# Ensure Close prices are extracted for specific dates\n",
    "def get_close_price(data, target_date):\n",
    "    \"\"\"Get the Close price on the target date or the nearest available trading day before it\"\"\"\n",
    "    target_date = pd.Timestamp(target_date)\n",
    "    if target_date in data.index:\n",
    "        return data.loc[target_date, \"Close\"]\n",
    "    else:\n",
    "        available_dates = data.index[data.index <= target_date]\n",
    "        if not available_dates.empty:\n",
    "            closest_date = available_dates[-1]\n",
    "            return data.loc[closest_date, \"Close\"]\n",
    "        else:\n",
    "            raise ValueError(f\"No Close price data available for or before {target_date}.\")\n",
    "\n",
    "# Get start and end Close prices\n",
    "market_start_price = get_close_price(market_data, market_start_date)\n",
    "market_end_price = get_close_price(market_data, market_end_date)\n",
    "\n",
    "# Step 3: Calculate market Simple Return and Log Return\n",
    "market_simple_return = (market_end_price - market_start_price) / market_start_price\n",
    "market_log_return = np.log(market_end_price / market_start_price)\n",
    "\n",
    "# Step 4: Perform one-sample t-test (One-Tailed)\n",
    "# Test for Simple Returns\n",
    "t_stat_simple, p_value_simple = ttest_1samp(stock_data[\"Simple_Return\"], market_simple_return)\n",
    "one_tailed_p_value_simple = p_value_simple / 2 if t_stat_simple > 0 else 1 - (p_value_simple / 2)\n",
    "\n",
    "# Test for Log Returns\n",
    "t_stat_log, p_value_log = ttest_1samp(stock_data[\"Log_Return\"], market_log_return)\n",
    "one_tailed_p_value_log = p_value_log / 2 if t_stat_log > 0 else 1 - (p_value_log / 2)\n",
    "\n",
    "# Step 5: Output results\n",
    "print(\"Market Start Price (2024-06-06):\", market_start_price)\n",
    "print(\"Market End Price (2024-09-30):\", market_end_price)\n",
    "print(\"Market Simple Return:\", market_simple_return)\n",
    "print(\"Market Log Return:\", market_log_return)\n",
    "print(\"\\nOne-Tailed T-Test Results:\")\n",
    "print(f\"Simple Return T-Statistic: {t_stat_simple}, One-Tailed P-Value: {one_tailed_p_value_simple}\")\n",
    "print(f\"Log Return T-Statistic: {t_stat_log}, One-Tailed P-Value: {one_tailed_p_value_log}\")\n",
    "\n",
    "# Interpret results\n",
    "alpha\n"
   ]
  }
 ],
 "metadata": {
  "kernelspec": {
   "display_name": "base",
   "language": "python",
   "name": "python3"
  },
  "language_info": {
   "codemirror_mode": {
    "name": "ipython",
    "version": 3
   },
   "file_extension": ".py",
   "mimetype": "text/x-python",
   "name": "python",
   "nbconvert_exporter": "python",
   "pygments_lexer": "ipython3",
   "version": "3.11.5"
  }
 },
 "nbformat": 4,
 "nbformat_minor": 2
}
